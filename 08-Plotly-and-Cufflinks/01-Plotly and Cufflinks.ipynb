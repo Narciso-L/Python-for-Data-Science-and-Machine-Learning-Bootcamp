{
 "cells": [
  {
   "cell_type": "markdown",
   "metadata": {},
   "source": [
    "___\n",
    "\n",
    "<a href='http://www.pieriandata.com'> <img src='../Pierian_Data_Logo.png' /></a>\n",
    "___\n",
    "# Plotly and Cufflinks"
   ]
  },
  {
   "cell_type": "markdown",
   "metadata": {},
   "source": [
    "Plotly is a library that allows you to create interactive plots that you can use in dashboards or websites (you can save them as html files or static images).\n",
    "\n",
    "## Installation\n",
    "\n",
    "In order for this all to work, you'll need to install plotly and cufflinks to call plots directly off of a pandas dataframe. These libraries are not currently available through **conda** but are available through **pip**. Install the libraries at your command line/terminal using:\n",
    "\n",
    "    pip install plotly\n",
    "    pip install cufflinks\n",
    "\n",
    "** NOTE: Make sure you only have one installation of Python on your computer when you do this, otherwise the installation may not work. **\n",
    "\n",
    "## Imports and Set-up"
   ]
  },
  {
   "cell_type": "code",
   "execution_count": 1,
   "metadata": {},
   "outputs": [],
   "source": [
    "import pandas as pd\n",
    "import numpy as np\n",
    "%matplotlib inline"
   ]
  },
  {
   "cell_type": "code",
   "execution_count": 2,
   "metadata": {},
   "outputs": [
    {
     "name": "stdout",
     "output_type": "stream",
     "text": [
      "4.14.1\n"
     ]
    }
   ],
   "source": [
    "from plotly import __version__\n",
    "from plotly.offline import download_plotlyjs, init_notebook_mode, plot, iplot\n",
    "\n",
    "print(__version__) # requires version >= 1.9.0"
   ]
  },
  {
   "cell_type": "code",
   "execution_count": 4,
   "metadata": {},
   "outputs": [
    {
     "name": "stdout",
     "output_type": "stream",
     "text": [
      "Collecting cufflinks\n",
      "  Downloading cufflinks-0.17.3.tar.gz (81 kB)\n",
      "Requirement already satisfied: numpy>=1.9.2 in c:\\users\\lopez\\anaconda3\\lib\\site-packages (from cufflinks) (1.19.2)\n",
      "Requirement already satisfied: pandas>=0.19.2 in c:\\users\\lopez\\anaconda3\\lib\\site-packages (from cufflinks) (1.2.0)\n",
      "Requirement already satisfied: plotly>=4.1.1 in c:\\users\\lopez\\anaconda3\\lib\\site-packages (from cufflinks) (4.14.1)\n",
      "Requirement already satisfied: six>=1.9.0 in c:\\users\\lopez\\anaconda3\\lib\\site-packages (from cufflinks) (1.15.0)\n",
      "Requirement already satisfied: setuptools>=34.4.1 in c:\\users\\lopez\\anaconda3\\lib\\site-packages (from cufflinks) (51.1.2.post20210110)\n",
      "Requirement already satisfied: ipython>=5.3.0 in c:\\users\\lopez\\anaconda3\\lib\\site-packages (from cufflinks) (7.19.0)\n",
      "Requirement already satisfied: ipywidgets>=7.0.0 in c:\\users\\lopez\\anaconda3\\lib\\site-packages (from cufflinks) (7.6.3)\n",
      "Collecting colorlover>=0.2.1\n",
      "  Downloading colorlover-0.3.0-py3-none-any.whl (8.9 kB)\n",
      "Requirement already satisfied: jedi>=0.10 in c:\\users\\lopez\\anaconda3\\lib\\site-packages (from ipython>=5.3.0->cufflinks) (0.17.2)\n",
      "Requirement already satisfied: pygments in c:\\users\\lopez\\anaconda3\\lib\\site-packages (from ipython>=5.3.0->cufflinks) (2.7.3)\n",
      "Requirement already satisfied: backcall in c:\\users\\lopez\\anaconda3\\lib\\site-packages (from ipython>=5.3.0->cufflinks) (0.2.0)\n",
      "Requirement already satisfied: pickleshare in c:\\users\\lopez\\anaconda3\\lib\\site-packages (from ipython>=5.3.0->cufflinks) (0.7.5)\n",
      "Requirement already satisfied: traitlets>=4.2 in c:\\users\\lopez\\anaconda3\\lib\\site-packages (from ipython>=5.3.0->cufflinks) (5.0.5)\n",
      "Requirement already satisfied: decorator in c:\\users\\lopez\\anaconda3\\lib\\site-packages (from ipython>=5.3.0->cufflinks) (4.4.2)\n",
      "Requirement already satisfied: colorama in c:\\users\\lopez\\anaconda3\\lib\\site-packages (from ipython>=5.3.0->cufflinks) (0.4.4)\n",
      "Requirement already satisfied: prompt-toolkit!=3.0.0,!=3.0.1,<3.1.0,>=2.0.0 in c:\\users\\lopez\\anaconda3\\lib\\site-packages (from ipython>=5.3.0->cufflinks) (3.0.8)\n",
      "Requirement already satisfied: widgetsnbextension~=3.5.0 in c:\\users\\lopez\\anaconda3\\lib\\site-packages (from ipywidgets>=7.0.0->cufflinks) (3.5.1)\n",
      "Requirement already satisfied: jupyterlab-widgets>=1.0.0 in c:\\users\\lopez\\anaconda3\\lib\\site-packages (from ipywidgets>=7.0.0->cufflinks) (1.0.0)\n",
      "Requirement already satisfied: ipykernel>=4.5.1 in c:\\users\\lopez\\anaconda3\\lib\\site-packages (from ipywidgets>=7.0.0->cufflinks) (5.3.4)\n",
      "Requirement already satisfied: nbformat>=4.2.0 in c:\\users\\lopez\\anaconda3\\lib\\site-packages (from ipywidgets>=7.0.0->cufflinks) (5.0.8)\n",
      "Requirement already satisfied: tornado>=4.2 in c:\\users\\lopez\\anaconda3\\lib\\site-packages (from ipykernel>=4.5.1->ipywidgets>=7.0.0->cufflinks) (6.1)\n",
      "Requirement already satisfied: jupyter-client in c:\\users\\lopez\\anaconda3\\lib\\site-packages (from ipykernel>=4.5.1->ipywidgets>=7.0.0->cufflinks) (6.1.7)\n",
      "Requirement already satisfied: parso<0.8.0,>=0.7.0 in c:\\users\\lopez\\anaconda3\\lib\\site-packages (from jedi>=0.10->ipython>=5.3.0->cufflinks) (0.7.0)\n",
      "Requirement already satisfied: jsonschema!=2.5.0,>=2.4 in c:\\users\\lopez\\anaconda3\\lib\\site-packages (from nbformat>=4.2.0->ipywidgets>=7.0.0->cufflinks) (3.2.0)\n",
      "Requirement already satisfied: jupyter-core in c:\\users\\lopez\\anaconda3\\lib\\site-packages (from nbformat>=4.2.0->ipywidgets>=7.0.0->cufflinks) (4.7.0)\n",
      "Requirement already satisfied: ipython-genutils in c:\\users\\lopez\\anaconda3\\lib\\site-packages (from nbformat>=4.2.0->ipywidgets>=7.0.0->cufflinks) (0.2.0)\n",
      "Requirement already satisfied: pyrsistent>=0.14.0 in c:\\users\\lopez\\anaconda3\\lib\\site-packages (from jsonschema!=2.5.0,>=2.4->nbformat>=4.2.0->ipywidgets>=7.0.0->cufflinks) (0.17.3)\n",
      "Requirement already satisfied: attrs>=17.4.0 in c:\\users\\lopez\\anaconda3\\lib\\site-packages (from jsonschema!=2.5.0,>=2.4->nbformat>=4.2.0->ipywidgets>=7.0.0->cufflinks) (20.3.0)\n",
      "Requirement already satisfied: pytz>=2017.3 in c:\\users\\lopez\\anaconda3\\lib\\site-packages (from pandas>=0.19.2->cufflinks) (2020.5)\n",
      "Requirement already satisfied: python-dateutil>=2.7.3 in c:\\users\\lopez\\anaconda3\\lib\\site-packages (from pandas>=0.19.2->cufflinks) (2.8.1)\n",
      "Requirement already satisfied: retrying>=1.3.3 in c:\\users\\lopez\\anaconda3\\lib\\site-packages (from plotly>=4.1.1->cufflinks) (1.3.3)\n",
      "Requirement already satisfied: wcwidth in c:\\users\\lopez\\anaconda3\\lib\\site-packages (from prompt-toolkit!=3.0.0,!=3.0.1,<3.1.0,>=2.0.0->ipython>=5.3.0->cufflinks) (0.2.5)\n",
      "Requirement already satisfied: notebook>=4.4.1 in c:\\users\\lopez\\anaconda3\\lib\\site-packages (from widgetsnbextension~=3.5.0->ipywidgets>=7.0.0->cufflinks) (6.1.6)\n",
      "Requirement already satisfied: Send2Trash in c:\\users\\lopez\\anaconda3\\lib\\site-packages (from notebook>=4.4.1->widgetsnbextension~=3.5.0->ipywidgets>=7.0.0->cufflinks) (1.5.0)\n",
      "Requirement already satisfied: argon2-cffi in c:\\users\\lopez\\anaconda3\\lib\\site-packages (from notebook>=4.4.1->widgetsnbextension~=3.5.0->ipywidgets>=7.0.0->cufflinks) (20.1.0)\n",
      "Requirement already satisfied: terminado>=0.8.3 in c:\\users\\lopez\\anaconda3\\lib\\site-packages (from notebook>=4.4.1->widgetsnbextension~=3.5.0->ipywidgets>=7.0.0->cufflinks) (0.9.2)\n",
      "Requirement already satisfied: nbconvert in c:\\users\\lopez\\anaconda3\\lib\\site-packages (from notebook>=4.4.1->widgetsnbextension~=3.5.0->ipywidgets>=7.0.0->cufflinks) (6.0.7)\n",
      "Requirement already satisfied: pyzmq>=17 in c:\\users\\lopez\\anaconda3\\lib\\site-packages (from notebook>=4.4.1->widgetsnbextension~=3.5.0->ipywidgets>=7.0.0->cufflinks) (20.0.0)\n",
      "Requirement already satisfied: prometheus-client in c:\\users\\lopez\\anaconda3\\lib\\site-packages (from notebook>=4.4.1->widgetsnbextension~=3.5.0->ipywidgets>=7.0.0->cufflinks) (0.9.0)\n",
      "Requirement already satisfied: jinja2 in c:\\users\\lopez\\anaconda3\\lib\\site-packages (from notebook>=4.4.1->widgetsnbextension~=3.5.0->ipywidgets>=7.0.0->cufflinks) (2.11.2)\n",
      "Requirement already satisfied: pywin32>=1.0 in c:\\users\\lopez\\anaconda3\\lib\\site-packages (from jupyter-core->nbformat>=4.2.0->ipywidgets>=7.0.0->cufflinks) (227)\n",
      "Requirement already satisfied: pywinpty>=0.5 in c:\\users\\lopez\\anaconda3\\lib\\site-packages (from terminado>=0.8.3->notebook>=4.4.1->widgetsnbextension~=3.5.0->ipywidgets>=7.0.0->cufflinks) (0.5.7)\n",
      "Requirement already satisfied: cffi>=1.0.0 in c:\\users\\lopez\\anaconda3\\lib\\site-packages (from argon2-cffi->notebook>=4.4.1->widgetsnbextension~=3.5.0->ipywidgets>=7.0.0->cufflinks) (1.14.4)\n",
      "Requirement already satisfied: pycparser in c:\\users\\lopez\\anaconda3\\lib\\site-packages (from cffi>=1.0.0->argon2-cffi->notebook>=4.4.1->widgetsnbextension~=3.5.0->ipywidgets>=7.0.0->cufflinks) (2.20)\n",
      "Requirement already satisfied: MarkupSafe>=0.23 in c:\\users\\lopez\\anaconda3\\lib\\site-packages (from jinja2->notebook>=4.4.1->widgetsnbextension~=3.5.0->ipywidgets>=7.0.0->cufflinks) (1.1.1)\n",
      "Requirement already satisfied: mistune<2,>=0.8.1 in c:\\users\\lopez\\anaconda3\\lib\\site-packages (from nbconvert->notebook>=4.4.1->widgetsnbextension~=3.5.0->ipywidgets>=7.0.0->cufflinks) (0.8.4)\n",
      "Requirement already satisfied: testpath in c:\\users\\lopez\\anaconda3\\lib\\site-packages (from nbconvert->notebook>=4.4.1->widgetsnbextension~=3.5.0->ipywidgets>=7.0.0->cufflinks) (0.4.4)\n",
      "Requirement already satisfied: jupyterlab-pygments in c:\\users\\lopez\\anaconda3\\lib\\site-packages (from nbconvert->notebook>=4.4.1->widgetsnbextension~=3.5.0->ipywidgets>=7.0.0->cufflinks) (0.1.2)\n",
      "Requirement already satisfied: pandocfilters>=1.4.1 in c:\\users\\lopez\\anaconda3\\lib\\site-packages (from nbconvert->notebook>=4.4.1->widgetsnbextension~=3.5.0->ipywidgets>=7.0.0->cufflinks) (1.4.3)\n",
      "Requirement already satisfied: entrypoints>=0.2.2 in c:\\users\\lopez\\anaconda3\\lib\\site-packages (from nbconvert->notebook>=4.4.1->widgetsnbextension~=3.5.0->ipywidgets>=7.0.0->cufflinks) (0.3)\n",
      "Requirement already satisfied: defusedxml in c:\\users\\lopez\\anaconda3\\lib\\site-packages (from nbconvert->notebook>=4.4.1->widgetsnbextension~=3.5.0->ipywidgets>=7.0.0->cufflinks) (0.6.0)\n",
      "Requirement already satisfied: nbclient<0.6.0,>=0.5.0 in c:\\users\\lopez\\anaconda3\\lib\\site-packages (from nbconvert->notebook>=4.4.1->widgetsnbextension~=3.5.0->ipywidgets>=7.0.0->cufflinks) (0.5.1)\n",
      "Requirement already satisfied: bleach in c:\\users\\lopez\\anaconda3\\lib\\site-packages (from nbconvert->notebook>=4.4.1->widgetsnbextension~=3.5.0->ipywidgets>=7.0.0->cufflinks) (3.2.1)\n",
      "Requirement already satisfied: nest-asyncio in c:\\users\\lopez\\anaconda3\\lib\\site-packages (from nbclient<0.6.0,>=0.5.0->nbconvert->notebook>=4.4.1->widgetsnbextension~=3.5.0->ipywidgets>=7.0.0->cufflinks) (1.4.3)\n",
      "Requirement already satisfied: async-generator in c:\\users\\lopez\\anaconda3\\lib\\site-packages (from nbclient<0.6.0,>=0.5.0->nbconvert->notebook>=4.4.1->widgetsnbextension~=3.5.0->ipywidgets>=7.0.0->cufflinks) (1.10)\n",
      "Requirement already satisfied: webencodings in c:\\users\\lopez\\anaconda3\\lib\\site-packages (from bleach->nbconvert->notebook>=4.4.1->widgetsnbextension~=3.5.0->ipywidgets>=7.0.0->cufflinks) (0.5.1)\n",
      "Requirement already satisfied: packaging in c:\\users\\lopez\\anaconda3\\lib\\site-packages (from bleach->nbconvert->notebook>=4.4.1->widgetsnbextension~=3.5.0->ipywidgets>=7.0.0->cufflinks) (20.8)\n",
      "Requirement already satisfied: pyparsing>=2.0.2 in c:\\users\\lopez\\anaconda3\\lib\\site-packages (from packaging->bleach->nbconvert->notebook>=4.4.1->widgetsnbextension~=3.5.0->ipywidgets>=7.0.0->cufflinks) (2.4.7)\n",
      "Building wheels for collected packages: cufflinks\n",
      "  Building wheel for cufflinks (setup.py): started\n",
      "  Building wheel for cufflinks (setup.py): finished with status 'done'\n",
      "  Created wheel for cufflinks: filename=cufflinks-0.17.3-py3-none-any.whl size=68724 sha256=20242d8dd96787e8673fff7cbc59364fe390c3b9f1ce4b4ac7771c53be4096d1\n",
      "  Stored in directory: c:\\users\\lopez\\appdata\\local\\pip\\cache\\wheels\\6b\\76\\62\\6da97734911ffcbdd559fd1a3f28526321f0ae699182a23866\n",
      "Successfully built cufflinks\n",
      "Installing collected packages: colorlover, cufflinks\n",
      "Successfully installed colorlover-0.3.0 cufflinks-0.17.3\n",
      "Note: you may need to restart the kernel to use updated packages.\n"
     ]
    }
   ],
   "source": [
    "pip install cufflinks"
   ]
  },
  {
   "cell_type": "code",
   "execution_count": 5,
   "metadata": {},
   "outputs": [],
   "source": [
    "import cufflinks as cf"
   ]
  },
  {
   "cell_type": "code",
   "execution_count": 6,
   "metadata": {},
   "outputs": [
    {
     "data": {
      "text/html": [
       "        <script type=\"text/javascript\">\n",
       "        window.PlotlyConfig = {MathJaxConfig: 'local'};\n",
       "        if (window.MathJax) {MathJax.Hub.Config({SVG: {font: \"STIX-Web\"}});}\n",
       "        if (typeof require !== 'undefined') {\n",
       "        require.undef(\"plotly\");\n",
       "        requirejs.config({\n",
       "            paths: {\n",
       "                'plotly': ['https://cdn.plot.ly/plotly-latest.min']\n",
       "            }\n",
       "        });\n",
       "        require(['plotly'], function(Plotly) {\n",
       "            window._Plotly = Plotly;\n",
       "        });\n",
       "        }\n",
       "        </script>\n",
       "        "
      ]
     },
     "metadata": {},
     "output_type": "display_data"
    }
   ],
   "source": [
    "# For Notebooks\n",
    "init_notebook_mode(connected=True)"
   ]
  },
  {
   "cell_type": "code",
   "execution_count": 7,
   "metadata": {},
   "outputs": [
    {
     "data": {
      "text/html": [
       "        <script type=\"text/javascript\">\n",
       "        window.PlotlyConfig = {MathJaxConfig: 'local'};\n",
       "        if (window.MathJax) {MathJax.Hub.Config({SVG: {font: \"STIX-Web\"}});}\n",
       "        if (typeof require !== 'undefined') {\n",
       "        require.undef(\"plotly\");\n",
       "        requirejs.config({\n",
       "            paths: {\n",
       "                'plotly': ['https://cdn.plot.ly/plotly-latest.min']\n",
       "            }\n",
       "        });\n",
       "        require(['plotly'], function(Plotly) {\n",
       "            window._Plotly = Plotly;\n",
       "        });\n",
       "        }\n",
       "        </script>\n",
       "        "
      ]
     },
     "metadata": {},
     "output_type": "display_data"
    }
   ],
   "source": [
    "# For offline use\n",
    "cf.go_offline()"
   ]
  },
  {
   "cell_type": "markdown",
   "metadata": {},
   "source": [
    "### Fake Data"
   ]
  },
  {
   "cell_type": "code",
   "execution_count": 8,
   "metadata": {},
   "outputs": [],
   "source": [
    "df = pd.DataFrame(np.random.randn(100,4),columns='A B C D'.split())"
   ]
  },
  {
   "cell_type": "code",
   "execution_count": 9,
   "metadata": {},
   "outputs": [
    {
     "data": {
      "text/html": [
       "<div>\n",
       "<style scoped>\n",
       "    .dataframe tbody tr th:only-of-type {\n",
       "        vertical-align: middle;\n",
       "    }\n",
       "\n",
       "    .dataframe tbody tr th {\n",
       "        vertical-align: top;\n",
       "    }\n",
       "\n",
       "    .dataframe thead th {\n",
       "        text-align: right;\n",
       "    }\n",
       "</style>\n",
       "<table border=\"1\" class=\"dataframe\">\n",
       "  <thead>\n",
       "    <tr style=\"text-align: right;\">\n",
       "      <th></th>\n",
       "      <th>A</th>\n",
       "      <th>B</th>\n",
       "      <th>C</th>\n",
       "      <th>D</th>\n",
       "    </tr>\n",
       "  </thead>\n",
       "  <tbody>\n",
       "    <tr>\n",
       "      <th>0</th>\n",
       "      <td>0.554378</td>\n",
       "      <td>0.657342</td>\n",
       "      <td>0.724430</td>\n",
       "      <td>1.337240</td>\n",
       "    </tr>\n",
       "    <tr>\n",
       "      <th>1</th>\n",
       "      <td>1.305478</td>\n",
       "      <td>0.109275</td>\n",
       "      <td>-1.533984</td>\n",
       "      <td>-0.423959</td>\n",
       "    </tr>\n",
       "    <tr>\n",
       "      <th>2</th>\n",
       "      <td>-0.024430</td>\n",
       "      <td>-1.169396</td>\n",
       "      <td>-0.855197</td>\n",
       "      <td>-0.045667</td>\n",
       "    </tr>\n",
       "    <tr>\n",
       "      <th>3</th>\n",
       "      <td>-2.215780</td>\n",
       "      <td>0.270383</td>\n",
       "      <td>-0.218424</td>\n",
       "      <td>-0.633862</td>\n",
       "    </tr>\n",
       "    <tr>\n",
       "      <th>4</th>\n",
       "      <td>2.031160</td>\n",
       "      <td>-0.633443</td>\n",
       "      <td>-0.853253</td>\n",
       "      <td>1.105987</td>\n",
       "    </tr>\n",
       "  </tbody>\n",
       "</table>\n",
       "</div>"
      ],
      "text/plain": [
       "          A         B         C         D\n",
       "0  0.554378  0.657342  0.724430  1.337240\n",
       "1  1.305478  0.109275 -1.533984 -0.423959\n",
       "2 -0.024430 -1.169396 -0.855197 -0.045667\n",
       "3 -2.215780  0.270383 -0.218424 -0.633862\n",
       "4  2.031160 -0.633443 -0.853253  1.105987"
      ]
     },
     "execution_count": 9,
     "metadata": {},
     "output_type": "execute_result"
    }
   ],
   "source": [
    "df.head()"
   ]
  },
  {
   "cell_type": "code",
   "execution_count": 10,
   "metadata": {},
   "outputs": [],
   "source": [
    "df2 = pd.DataFrame({'Category':['A','B','C'],'Values':[32,43,50]})"
   ]
  },
  {
   "cell_type": "code",
   "execution_count": 11,
   "metadata": {},
   "outputs": [
    {
     "data": {
      "text/html": [
       "<div>\n",
       "<style scoped>\n",
       "    .dataframe tbody tr th:only-of-type {\n",
       "        vertical-align: middle;\n",
       "    }\n",
       "\n",
       "    .dataframe tbody tr th {\n",
       "        vertical-align: top;\n",
       "    }\n",
       "\n",
       "    .dataframe thead th {\n",
       "        text-align: right;\n",
       "    }\n",
       "</style>\n",
       "<table border=\"1\" class=\"dataframe\">\n",
       "  <thead>\n",
       "    <tr style=\"text-align: right;\">\n",
       "      <th></th>\n",
       "      <th>Category</th>\n",
       "      <th>Values</th>\n",
       "    </tr>\n",
       "  </thead>\n",
       "  <tbody>\n",
       "    <tr>\n",
       "      <th>0</th>\n",
       "      <td>A</td>\n",
       "      <td>32</td>\n",
       "    </tr>\n",
       "    <tr>\n",
       "      <th>1</th>\n",
       "      <td>B</td>\n",
       "      <td>43</td>\n",
       "    </tr>\n",
       "    <tr>\n",
       "      <th>2</th>\n",
       "      <td>C</td>\n",
       "      <td>50</td>\n",
       "    </tr>\n",
       "  </tbody>\n",
       "</table>\n",
       "</div>"
      ],
      "text/plain": [
       "  Category  Values\n",
       "0        A      32\n",
       "1        B      43\n",
       "2        C      50"
      ]
     },
     "execution_count": 11,
     "metadata": {},
     "output_type": "execute_result"
    }
   ],
   "source": [
    "df2.head()"
   ]
  },
  {
   "cell_type": "markdown",
   "metadata": {},
   "source": [
    "## Using Cufflinks and iplot()\n",
    "\n",
    "* scatter\n",
    "* bar\n",
    "* box\n",
    "* spread\n",
    "* ratio\n",
    "* heatmap\n",
    "* surface\n",
    "* histogram\n",
    "* bubble"
   ]
  },
  {
   "cell_type": "markdown",
   "metadata": {},
   "source": [
    "## Scatter"
   ]
  },
  {
   "cell_type": "code",
   "execution_count": 12,
   "metadata": {},
   "outputs": [
    {
     "data": {
      "application/vnd.plotly.v1+json": {
       "config": {
        "linkText": "Export to plot.ly",
        "plotlyServerURL": "https://plot.ly",
        "showLink": true
       },
       "data": [
        {
         "line": {
          "color": "rgba(255, 153, 51, 1.0)",
          "dash": "solid",
          "shape": "linear",
          "width": 1.3
         },
         "marker": {
          "size": 10,
          "symbol": "circle"
         },
         "mode": "markers",
         "name": "B",
         "text": "",
         "type": "scatter",
         "x": [
          0.5543778778007974,
          1.305477680709373,
          -0.024430440104519096,
          -2.215780260803809,
          2.0311597958353804,
          -0.4640646961126891,
          0.8170695248510517,
          -0.7028901071685868,
          -1.3491332354884638,
          -0.6161054436764591,
          -0.9280833246496767,
          -0.202066973522514,
          -0.21977179427645022,
          -1.0499809344704083,
          -0.5538206199663367,
          0.2265782866540906,
          -1.281844393909573,
          1.2908776366987078,
          0.18933031627514868,
          1.3223490944050604,
          -0.6917365578725994,
          -0.5431131287020351,
          -0.2909553413115204,
          1.0750396385991803,
          0.7429454183000217,
          0.22129435093050254,
          -0.8614967063028686,
          -1.1268504523534668,
          0.7849954275435155,
          -2.0462048630969756,
          -0.008315388606309645,
          -0.18690885675627897,
          -0.7438181606657309,
          0.15288541099547315,
          0.014475441184176124,
          0.14950478033843956,
          -0.8196188460104581,
          0.6817811904730309,
          -1.2529214477062713,
          0.9734419093151444,
          0.46920101432825234,
          -1.8738939153410312,
          -1.0442171806553078,
          -0.38907289675682377,
          0.3414085214985565,
          -0.12856373579884875,
          0.7687266580761056,
          -1.054510339601767,
          -1.3749782443374008,
          0.08569403027435128,
          -0.5857738419042354,
          -1.7400601235515123,
          -0.03888180835654369,
          1.5662535457997817,
          -1.135373142936974,
          -1.1788653754026897,
          0.9584474836768704,
          0.8452506568614417,
          1.4097083184823593,
          1.380708985476826,
          -1.3203287612461103,
          -0.38364821453678444,
          -0.9971480233412237,
          0.3380732888858674,
          0.16534288637466557,
          -1.8140009513685151,
          0.9591220114764414,
          -0.7781011149097469,
          -0.9474226100958619,
          1.2943556874594229,
          0.1767544740810032,
          0.16052773335204457,
          -0.015433744952918096,
          -0.396594278243572,
          0.0392082424630884,
          -0.27494729328742556,
          0.8543890775430171,
          -0.17733028237964166,
          -1.0041492512236738,
          -0.3683532174905001,
          -0.4573037611863631,
          0.40586150069244475,
          0.7486343120609291,
          -1.009040149912704,
          -1.0528459653868723,
          -0.7337506006203001,
          0.8784811637364917,
          -1.2029475450319733,
          0.5139496552971384,
          0.016740108317212347,
          1.504783869463037,
          0.26307969919951585,
          0.732239718818574,
          0.12788599762890387,
          0.28310262019622595,
          0.37445293983738454,
          -0.802281753308722,
          -0.3215480974218836,
          0.030026716197300258,
          0.8956302931209041
         ],
         "y": [
          0.6573420948764968,
          0.10927452064301324,
          -1.1693955571656995,
          0.27038277765157015,
          -0.6334428219861441,
          -0.7310049423608668,
          -0.9061497273341353,
          -0.17952398194820196,
          0.5290628366347644,
          -0.3277282850274606,
          0.4805066939717914,
          0.4305331075124773,
          1.5367349716397587,
          0.9288429958501185,
          -0.13154094045274825,
          -0.008054556044534996,
          -0.3549430884093958,
          -0.5518746001809784,
          -0.3744331900872491,
          -1.1466740102851765,
          0.42116918545774723,
          -1.2433821954666222,
          0.5342388046341497,
          -1.2576208065547367,
          -0.22244895651178917,
          1.3712309698798104,
          -0.5502388311820707,
          -1.5928047353411585,
          0.13055640769860827,
          0.9981990385975217,
          -0.7336616425525483,
          0.4351102368339564,
          -0.32225790472622995,
          0.7413449967439579,
          0.3721174073425647,
          0.512721239719747,
          -0.740110741950452,
          0.6957972672159145,
          0.830729579395018,
          0.3887161572657043,
          0.6150346953707452,
          -0.5082427724892878,
          -0.49489182061779347,
          -0.01716986251555328,
          2.3602710200722505,
          -0.8218874927980011,
          0.22427309131500953,
          -0.29005880893778097,
          1.1779260056622485,
          -0.11748454801166518,
          0.3402397024055858,
          -0.35552836385523023,
          -0.16451996357588944,
          0.7034108409217701,
          0.477435014841578,
          1.1923449016301306,
          0.2965107406624185,
          0.46063736138339956,
          -1.0508179558055617,
          0.9783239970892182,
          -0.6237161393238063,
          -0.9411186378701619,
          0.8606564080610469,
          -0.8956632154241032,
          -0.0014160494534910955,
          -2.7962656734900455,
          -1.11910796542192,
          -1.2596609578746518,
          -0.1491127134080697,
          -1.824555021548616,
          -0.4624946856160559,
          -0.36554135435135815,
          1.2474035413162488,
          0.5151989771478599,
          -0.48799114484926626,
          0.9900683597616949,
          -0.32106797524051484,
          -0.9560897765749078,
          1.0444631985284405,
          0.1693601699087248,
          -0.1770841413625548,
          0.7422150630812716,
          0.0691231084306441,
          1.6744750921176692,
          -0.49391613899722053,
          -1.1450714835966944,
          1.8517986856387725,
          -0.3470835160544637,
          0.017777108580660606,
          0.6695030039630508,
          0.9362583269580034,
          -0.007334188774526295,
          -2.110221712510784,
          0.22241278040537338,
          0.07030621148623364,
          -0.9278741288272946,
          -0.5190491244263271,
          0.49593328011174986,
          -1.5689689364140202,
          1.638871879947243
         ]
        }
       ],
       "layout": {
        "legend": {
         "bgcolor": "#F5F6F9",
         "font": {
          "color": "#4D5663"
         }
        },
        "paper_bgcolor": "#F5F6F9",
        "plot_bgcolor": "#F5F6F9",
        "template": {
         "data": {
          "bar": [
           {
            "error_x": {
             "color": "#2a3f5f"
            },
            "error_y": {
             "color": "#2a3f5f"
            },
            "marker": {
             "line": {
              "color": "#E5ECF6",
              "width": 0.5
             }
            },
            "type": "bar"
           }
          ],
          "barpolar": [
           {
            "marker": {
             "line": {
              "color": "#E5ECF6",
              "width": 0.5
             }
            },
            "type": "barpolar"
           }
          ],
          "carpet": [
           {
            "aaxis": {
             "endlinecolor": "#2a3f5f",
             "gridcolor": "white",
             "linecolor": "white",
             "minorgridcolor": "white",
             "startlinecolor": "#2a3f5f"
            },
            "baxis": {
             "endlinecolor": "#2a3f5f",
             "gridcolor": "white",
             "linecolor": "white",
             "minorgridcolor": "white",
             "startlinecolor": "#2a3f5f"
            },
            "type": "carpet"
           }
          ],
          "choropleth": [
           {
            "colorbar": {
             "outlinewidth": 0,
             "ticks": ""
            },
            "type": "choropleth"
           }
          ],
          "contour": [
           {
            "colorbar": {
             "outlinewidth": 0,
             "ticks": ""
            },
            "colorscale": [
             [
              0,
              "#0d0887"
             ],
             [
              0.1111111111111111,
              "#46039f"
             ],
             [
              0.2222222222222222,
              "#7201a8"
             ],
             [
              0.3333333333333333,
              "#9c179e"
             ],
             [
              0.4444444444444444,
              "#bd3786"
             ],
             [
              0.5555555555555556,
              "#d8576b"
             ],
             [
              0.6666666666666666,
              "#ed7953"
             ],
             [
              0.7777777777777778,
              "#fb9f3a"
             ],
             [
              0.8888888888888888,
              "#fdca26"
             ],
             [
              1,
              "#f0f921"
             ]
            ],
            "type": "contour"
           }
          ],
          "contourcarpet": [
           {
            "colorbar": {
             "outlinewidth": 0,
             "ticks": ""
            },
            "type": "contourcarpet"
           }
          ],
          "heatmap": [
           {
            "colorbar": {
             "outlinewidth": 0,
             "ticks": ""
            },
            "colorscale": [
             [
              0,
              "#0d0887"
             ],
             [
              0.1111111111111111,
              "#46039f"
             ],
             [
              0.2222222222222222,
              "#7201a8"
             ],
             [
              0.3333333333333333,
              "#9c179e"
             ],
             [
              0.4444444444444444,
              "#bd3786"
             ],
             [
              0.5555555555555556,
              "#d8576b"
             ],
             [
              0.6666666666666666,
              "#ed7953"
             ],
             [
              0.7777777777777778,
              "#fb9f3a"
             ],
             [
              0.8888888888888888,
              "#fdca26"
             ],
             [
              1,
              "#f0f921"
             ]
            ],
            "type": "heatmap"
           }
          ],
          "heatmapgl": [
           {
            "colorbar": {
             "outlinewidth": 0,
             "ticks": ""
            },
            "colorscale": [
             [
              0,
              "#0d0887"
             ],
             [
              0.1111111111111111,
              "#46039f"
             ],
             [
              0.2222222222222222,
              "#7201a8"
             ],
             [
              0.3333333333333333,
              "#9c179e"
             ],
             [
              0.4444444444444444,
              "#bd3786"
             ],
             [
              0.5555555555555556,
              "#d8576b"
             ],
             [
              0.6666666666666666,
              "#ed7953"
             ],
             [
              0.7777777777777778,
              "#fb9f3a"
             ],
             [
              0.8888888888888888,
              "#fdca26"
             ],
             [
              1,
              "#f0f921"
             ]
            ],
            "type": "heatmapgl"
           }
          ],
          "histogram": [
           {
            "marker": {
             "colorbar": {
              "outlinewidth": 0,
              "ticks": ""
             }
            },
            "type": "histogram"
           }
          ],
          "histogram2d": [
           {
            "colorbar": {
             "outlinewidth": 0,
             "ticks": ""
            },
            "colorscale": [
             [
              0,
              "#0d0887"
             ],
             [
              0.1111111111111111,
              "#46039f"
             ],
             [
              0.2222222222222222,
              "#7201a8"
             ],
             [
              0.3333333333333333,
              "#9c179e"
             ],
             [
              0.4444444444444444,
              "#bd3786"
             ],
             [
              0.5555555555555556,
              "#d8576b"
             ],
             [
              0.6666666666666666,
              "#ed7953"
             ],
             [
              0.7777777777777778,
              "#fb9f3a"
             ],
             [
              0.8888888888888888,
              "#fdca26"
             ],
             [
              1,
              "#f0f921"
             ]
            ],
            "type": "histogram2d"
           }
          ],
          "histogram2dcontour": [
           {
            "colorbar": {
             "outlinewidth": 0,
             "ticks": ""
            },
            "colorscale": [
             [
              0,
              "#0d0887"
             ],
             [
              0.1111111111111111,
              "#46039f"
             ],
             [
              0.2222222222222222,
              "#7201a8"
             ],
             [
              0.3333333333333333,
              "#9c179e"
             ],
             [
              0.4444444444444444,
              "#bd3786"
             ],
             [
              0.5555555555555556,
              "#d8576b"
             ],
             [
              0.6666666666666666,
              "#ed7953"
             ],
             [
              0.7777777777777778,
              "#fb9f3a"
             ],
             [
              0.8888888888888888,
              "#fdca26"
             ],
             [
              1,
              "#f0f921"
             ]
            ],
            "type": "histogram2dcontour"
           }
          ],
          "mesh3d": [
           {
            "colorbar": {
             "outlinewidth": 0,
             "ticks": ""
            },
            "type": "mesh3d"
           }
          ],
          "parcoords": [
           {
            "line": {
             "colorbar": {
              "outlinewidth": 0,
              "ticks": ""
             }
            },
            "type": "parcoords"
           }
          ],
          "pie": [
           {
            "automargin": true,
            "type": "pie"
           }
          ],
          "scatter": [
           {
            "marker": {
             "colorbar": {
              "outlinewidth": 0,
              "ticks": ""
             }
            },
            "type": "scatter"
           }
          ],
          "scatter3d": [
           {
            "line": {
             "colorbar": {
              "outlinewidth": 0,
              "ticks": ""
             }
            },
            "marker": {
             "colorbar": {
              "outlinewidth": 0,
              "ticks": ""
             }
            },
            "type": "scatter3d"
           }
          ],
          "scattercarpet": [
           {
            "marker": {
             "colorbar": {
              "outlinewidth": 0,
              "ticks": ""
             }
            },
            "type": "scattercarpet"
           }
          ],
          "scattergeo": [
           {
            "marker": {
             "colorbar": {
              "outlinewidth": 0,
              "ticks": ""
             }
            },
            "type": "scattergeo"
           }
          ],
          "scattergl": [
           {
            "marker": {
             "colorbar": {
              "outlinewidth": 0,
              "ticks": ""
             }
            },
            "type": "scattergl"
           }
          ],
          "scattermapbox": [
           {
            "marker": {
             "colorbar": {
              "outlinewidth": 0,
              "ticks": ""
             }
            },
            "type": "scattermapbox"
           }
          ],
          "scatterpolar": [
           {
            "marker": {
             "colorbar": {
              "outlinewidth": 0,
              "ticks": ""
             }
            },
            "type": "scatterpolar"
           }
          ],
          "scatterpolargl": [
           {
            "marker": {
             "colorbar": {
              "outlinewidth": 0,
              "ticks": ""
             }
            },
            "type": "scatterpolargl"
           }
          ],
          "scatterternary": [
           {
            "marker": {
             "colorbar": {
              "outlinewidth": 0,
              "ticks": ""
             }
            },
            "type": "scatterternary"
           }
          ],
          "surface": [
           {
            "colorbar": {
             "outlinewidth": 0,
             "ticks": ""
            },
            "colorscale": [
             [
              0,
              "#0d0887"
             ],
             [
              0.1111111111111111,
              "#46039f"
             ],
             [
              0.2222222222222222,
              "#7201a8"
             ],
             [
              0.3333333333333333,
              "#9c179e"
             ],
             [
              0.4444444444444444,
              "#bd3786"
             ],
             [
              0.5555555555555556,
              "#d8576b"
             ],
             [
              0.6666666666666666,
              "#ed7953"
             ],
             [
              0.7777777777777778,
              "#fb9f3a"
             ],
             [
              0.8888888888888888,
              "#fdca26"
             ],
             [
              1,
              "#f0f921"
             ]
            ],
            "type": "surface"
           }
          ],
          "table": [
           {
            "cells": {
             "fill": {
              "color": "#EBF0F8"
             },
             "line": {
              "color": "white"
             }
            },
            "header": {
             "fill": {
              "color": "#C8D4E3"
             },
             "line": {
              "color": "white"
             }
            },
            "type": "table"
           }
          ]
         },
         "layout": {
          "annotationdefaults": {
           "arrowcolor": "#2a3f5f",
           "arrowhead": 0,
           "arrowwidth": 1
          },
          "autotypenumbers": "strict",
          "coloraxis": {
           "colorbar": {
            "outlinewidth": 0,
            "ticks": ""
           }
          },
          "colorscale": {
           "diverging": [
            [
             0,
             "#8e0152"
            ],
            [
             0.1,
             "#c51b7d"
            ],
            [
             0.2,
             "#de77ae"
            ],
            [
             0.3,
             "#f1b6da"
            ],
            [
             0.4,
             "#fde0ef"
            ],
            [
             0.5,
             "#f7f7f7"
            ],
            [
             0.6,
             "#e6f5d0"
            ],
            [
             0.7,
             "#b8e186"
            ],
            [
             0.8,
             "#7fbc41"
            ],
            [
             0.9,
             "#4d9221"
            ],
            [
             1,
             "#276419"
            ]
           ],
           "sequential": [
            [
             0,
             "#0d0887"
            ],
            [
             0.1111111111111111,
             "#46039f"
            ],
            [
             0.2222222222222222,
             "#7201a8"
            ],
            [
             0.3333333333333333,
             "#9c179e"
            ],
            [
             0.4444444444444444,
             "#bd3786"
            ],
            [
             0.5555555555555556,
             "#d8576b"
            ],
            [
             0.6666666666666666,
             "#ed7953"
            ],
            [
             0.7777777777777778,
             "#fb9f3a"
            ],
            [
             0.8888888888888888,
             "#fdca26"
            ],
            [
             1,
             "#f0f921"
            ]
           ],
           "sequentialminus": [
            [
             0,
             "#0d0887"
            ],
            [
             0.1111111111111111,
             "#46039f"
            ],
            [
             0.2222222222222222,
             "#7201a8"
            ],
            [
             0.3333333333333333,
             "#9c179e"
            ],
            [
             0.4444444444444444,
             "#bd3786"
            ],
            [
             0.5555555555555556,
             "#d8576b"
            ],
            [
             0.6666666666666666,
             "#ed7953"
            ],
            [
             0.7777777777777778,
             "#fb9f3a"
            ],
            [
             0.8888888888888888,
             "#fdca26"
            ],
            [
             1,
             "#f0f921"
            ]
           ]
          },
          "colorway": [
           "#636efa",
           "#EF553B",
           "#00cc96",
           "#ab63fa",
           "#FFA15A",
           "#19d3f3",
           "#FF6692",
           "#B6E880",
           "#FF97FF",
           "#FECB52"
          ],
          "font": {
           "color": "#2a3f5f"
          },
          "geo": {
           "bgcolor": "white",
           "lakecolor": "white",
           "landcolor": "#E5ECF6",
           "showlakes": true,
           "showland": true,
           "subunitcolor": "white"
          },
          "hoverlabel": {
           "align": "left"
          },
          "hovermode": "closest",
          "mapbox": {
           "style": "light"
          },
          "paper_bgcolor": "white",
          "plot_bgcolor": "#E5ECF6",
          "polar": {
           "angularaxis": {
            "gridcolor": "white",
            "linecolor": "white",
            "ticks": ""
           },
           "bgcolor": "#E5ECF6",
           "radialaxis": {
            "gridcolor": "white",
            "linecolor": "white",
            "ticks": ""
           }
          },
          "scene": {
           "xaxis": {
            "backgroundcolor": "#E5ECF6",
            "gridcolor": "white",
            "gridwidth": 2,
            "linecolor": "white",
            "showbackground": true,
            "ticks": "",
            "zerolinecolor": "white"
           },
           "yaxis": {
            "backgroundcolor": "#E5ECF6",
            "gridcolor": "white",
            "gridwidth": 2,
            "linecolor": "white",
            "showbackground": true,
            "ticks": "",
            "zerolinecolor": "white"
           },
           "zaxis": {
            "backgroundcolor": "#E5ECF6",
            "gridcolor": "white",
            "gridwidth": 2,
            "linecolor": "white",
            "showbackground": true,
            "ticks": "",
            "zerolinecolor": "white"
           }
          },
          "shapedefaults": {
           "line": {
            "color": "#2a3f5f"
           }
          },
          "ternary": {
           "aaxis": {
            "gridcolor": "white",
            "linecolor": "white",
            "ticks": ""
           },
           "baxis": {
            "gridcolor": "white",
            "linecolor": "white",
            "ticks": ""
           },
           "bgcolor": "#E5ECF6",
           "caxis": {
            "gridcolor": "white",
            "linecolor": "white",
            "ticks": ""
           }
          },
          "title": {
           "x": 0.05
          },
          "xaxis": {
           "automargin": true,
           "gridcolor": "white",
           "linecolor": "white",
           "ticks": "",
           "title": {
            "standoff": 15
           },
           "zerolinecolor": "white",
           "zerolinewidth": 2
          },
          "yaxis": {
           "automargin": true,
           "gridcolor": "white",
           "linecolor": "white",
           "ticks": "",
           "title": {
            "standoff": 15
           },
           "zerolinecolor": "white",
           "zerolinewidth": 2
          }
         }
        },
        "title": {
         "font": {
          "color": "#4D5663"
         }
        },
        "xaxis": {
         "gridcolor": "#E1E5ED",
         "showgrid": true,
         "tickfont": {
          "color": "#4D5663"
         },
         "title": {
          "font": {
           "color": "#4D5663"
          },
          "text": ""
         },
         "zerolinecolor": "#E1E5ED"
        },
        "yaxis": {
         "gridcolor": "#E1E5ED",
         "showgrid": true,
         "tickfont": {
          "color": "#4D5663"
         },
         "title": {
          "font": {
           "color": "#4D5663"
          },
          "text": ""
         },
         "zerolinecolor": "#E1E5ED"
        }
       }
      },
      "text/html": [
       "<div>                            <div id=\"7d800fc5-4743-4ba3-9618-99213245b80e\" class=\"plotly-graph-div\" style=\"height:525px; width:100%;\"></div>            <script type=\"text/javascript\">                require([\"plotly\"], function(Plotly) {                    window.PLOTLYENV=window.PLOTLYENV || {};\n",
       "                    window.PLOTLYENV.BASE_URL='https://plot.ly';                                    if (document.getElementById(\"7d800fc5-4743-4ba3-9618-99213245b80e\")) {                    Plotly.newPlot(                        \"7d800fc5-4743-4ba3-9618-99213245b80e\",                        [{\"line\": {\"color\": \"rgba(255, 153, 51, 1.0)\", \"dash\": \"solid\", \"shape\": \"linear\", \"width\": 1.3}, \"marker\": {\"size\": 10, \"symbol\": \"circle\"}, \"mode\": \"markers\", \"name\": \"B\", \"text\": \"\", \"type\": \"scatter\", \"x\": [0.5543778778007974, 1.305477680709373, -0.024430440104519096, -2.215780260803809, 2.0311597958353804, -0.4640646961126891, 0.8170695248510517, -0.7028901071685868, -1.3491332354884638, -0.6161054436764591, -0.9280833246496767, -0.202066973522514, -0.21977179427645022, -1.0499809344704083, -0.5538206199663367, 0.2265782866540906, -1.281844393909573, 1.2908776366987078, 0.18933031627514868, 1.3223490944050604, -0.6917365578725994, -0.5431131287020351, -0.2909553413115204, 1.0750396385991803, 0.7429454183000217, 0.22129435093050254, -0.8614967063028686, -1.1268504523534668, 0.7849954275435155, -2.0462048630969756, -0.008315388606309645, -0.18690885675627897, -0.7438181606657309, 0.15288541099547315, 0.014475441184176124, 0.14950478033843956, -0.8196188460104581, 0.6817811904730309, -1.2529214477062713, 0.9734419093151444, 0.46920101432825234, -1.8738939153410312, -1.0442171806553078, -0.38907289675682377, 0.3414085214985565, -0.12856373579884875, 0.7687266580761056, -1.054510339601767, -1.3749782443374008, 0.08569403027435128, -0.5857738419042354, -1.7400601235515123, -0.03888180835654369, 1.5662535457997817, -1.135373142936974, -1.1788653754026897, 0.9584474836768704, 0.8452506568614417, 1.4097083184823593, 1.380708985476826, -1.3203287612461103, -0.38364821453678444, -0.9971480233412237, 0.3380732888858674, 0.16534288637466557, -1.8140009513685151, 0.9591220114764414, -0.7781011149097469, -0.9474226100958619, 1.2943556874594229, 0.1767544740810032, 0.16052773335204457, -0.015433744952918096, -0.396594278243572, 0.0392082424630884, -0.27494729328742556, 0.8543890775430171, -0.17733028237964166, -1.0041492512236738, -0.3683532174905001, -0.4573037611863631, 0.40586150069244475, 0.7486343120609291, -1.009040149912704, -1.0528459653868723, -0.7337506006203001, 0.8784811637364917, -1.2029475450319733, 0.5139496552971384, 0.016740108317212347, 1.504783869463037, 0.26307969919951585, 0.732239718818574, 0.12788599762890387, 0.28310262019622595, 0.37445293983738454, -0.802281753308722, -0.3215480974218836, 0.030026716197300258, 0.8956302931209041], \"y\": [0.6573420948764968, 0.10927452064301324, -1.1693955571656995, 0.27038277765157015, -0.6334428219861441, -0.7310049423608668, -0.9061497273341353, -0.17952398194820196, 0.5290628366347644, -0.3277282850274606, 0.4805066939717914, 0.4305331075124773, 1.5367349716397587, 0.9288429958501185, -0.13154094045274825, -0.008054556044534996, -0.3549430884093958, -0.5518746001809784, -0.3744331900872491, -1.1466740102851765, 0.42116918545774723, -1.2433821954666222, 0.5342388046341497, -1.2576208065547367, -0.22244895651178917, 1.3712309698798104, -0.5502388311820707, -1.5928047353411585, 0.13055640769860827, 0.9981990385975217, -0.7336616425525483, 0.4351102368339564, -0.32225790472622995, 0.7413449967439579, 0.3721174073425647, 0.512721239719747, -0.740110741950452, 0.6957972672159145, 0.830729579395018, 0.3887161572657043, 0.6150346953707452, -0.5082427724892878, -0.49489182061779347, -0.01716986251555328, 2.3602710200722505, -0.8218874927980011, 0.22427309131500953, -0.29005880893778097, 1.1779260056622485, -0.11748454801166518, 0.3402397024055858, -0.35552836385523023, -0.16451996357588944, 0.7034108409217701, 0.477435014841578, 1.1923449016301306, 0.2965107406624185, 0.46063736138339956, -1.0508179558055617, 0.9783239970892182, -0.6237161393238063, -0.9411186378701619, 0.8606564080610469, -0.8956632154241032, -0.0014160494534910955, -2.7962656734900455, -1.11910796542192, -1.2596609578746518, -0.1491127134080697, -1.824555021548616, -0.4624946856160559, -0.36554135435135815, 1.2474035413162488, 0.5151989771478599, -0.48799114484926626, 0.9900683597616949, -0.32106797524051484, -0.9560897765749078, 1.0444631985284405, 0.1693601699087248, -0.1770841413625548, 0.7422150630812716, 0.0691231084306441, 1.6744750921176692, -0.49391613899722053, -1.1450714835966944, 1.8517986856387725, -0.3470835160544637, 0.017777108580660606, 0.6695030039630508, 0.9362583269580034, -0.007334188774526295, -2.110221712510784, 0.22241278040537338, 0.07030621148623364, -0.9278741288272946, -0.5190491244263271, 0.49593328011174986, -1.5689689364140202, 1.638871879947243]}],                        {\"legend\": {\"bgcolor\": \"#F5F6F9\", \"font\": {\"color\": \"#4D5663\"}}, \"paper_bgcolor\": \"#F5F6F9\", \"plot_bgcolor\": \"#F5F6F9\", \"template\": {\"data\": {\"bar\": [{\"error_x\": {\"color\": \"#2a3f5f\"}, \"error_y\": {\"color\": \"#2a3f5f\"}, \"marker\": {\"line\": {\"color\": \"#E5ECF6\", \"width\": 0.5}}, \"type\": \"bar\"}], \"barpolar\": [{\"marker\": {\"line\": {\"color\": \"#E5ECF6\", \"width\": 0.5}}, \"type\": \"barpolar\"}], \"carpet\": [{\"aaxis\": {\"endlinecolor\": \"#2a3f5f\", \"gridcolor\": \"white\", \"linecolor\": \"white\", \"minorgridcolor\": \"white\", \"startlinecolor\": \"#2a3f5f\"}, \"baxis\": {\"endlinecolor\": \"#2a3f5f\", \"gridcolor\": \"white\", \"linecolor\": \"white\", \"minorgridcolor\": \"white\", \"startlinecolor\": \"#2a3f5f\"}, \"type\": \"carpet\"}], \"choropleth\": [{\"colorbar\": {\"outlinewidth\": 0, \"ticks\": \"\"}, \"type\": \"choropleth\"}], \"contour\": [{\"colorbar\": {\"outlinewidth\": 0, \"ticks\": \"\"}, \"colorscale\": [[0.0, \"#0d0887\"], [0.1111111111111111, \"#46039f\"], [0.2222222222222222, \"#7201a8\"], [0.3333333333333333, \"#9c179e\"], [0.4444444444444444, \"#bd3786\"], [0.5555555555555556, \"#d8576b\"], [0.6666666666666666, \"#ed7953\"], [0.7777777777777778, \"#fb9f3a\"], [0.8888888888888888, \"#fdca26\"], [1.0, \"#f0f921\"]], \"type\": \"contour\"}], \"contourcarpet\": [{\"colorbar\": {\"outlinewidth\": 0, \"ticks\": \"\"}, \"type\": \"contourcarpet\"}], \"heatmap\": [{\"colorbar\": {\"outlinewidth\": 0, \"ticks\": \"\"}, \"colorscale\": [[0.0, \"#0d0887\"], [0.1111111111111111, \"#46039f\"], [0.2222222222222222, \"#7201a8\"], [0.3333333333333333, \"#9c179e\"], [0.4444444444444444, \"#bd3786\"], [0.5555555555555556, \"#d8576b\"], [0.6666666666666666, \"#ed7953\"], [0.7777777777777778, \"#fb9f3a\"], [0.8888888888888888, \"#fdca26\"], [1.0, \"#f0f921\"]], \"type\": \"heatmap\"}], \"heatmapgl\": [{\"colorbar\": {\"outlinewidth\": 0, \"ticks\": \"\"}, \"colorscale\": [[0.0, \"#0d0887\"], [0.1111111111111111, \"#46039f\"], [0.2222222222222222, \"#7201a8\"], [0.3333333333333333, \"#9c179e\"], [0.4444444444444444, \"#bd3786\"], [0.5555555555555556, \"#d8576b\"], [0.6666666666666666, \"#ed7953\"], [0.7777777777777778, \"#fb9f3a\"], [0.8888888888888888, \"#fdca26\"], [1.0, \"#f0f921\"]], \"type\": \"heatmapgl\"}], \"histogram\": [{\"marker\": {\"colorbar\": {\"outlinewidth\": 0, \"ticks\": \"\"}}, \"type\": \"histogram\"}], \"histogram2d\": [{\"colorbar\": {\"outlinewidth\": 0, \"ticks\": \"\"}, \"colorscale\": [[0.0, \"#0d0887\"], [0.1111111111111111, \"#46039f\"], [0.2222222222222222, \"#7201a8\"], [0.3333333333333333, \"#9c179e\"], [0.4444444444444444, \"#bd3786\"], [0.5555555555555556, \"#d8576b\"], [0.6666666666666666, \"#ed7953\"], [0.7777777777777778, \"#fb9f3a\"], [0.8888888888888888, \"#fdca26\"], [1.0, \"#f0f921\"]], \"type\": \"histogram2d\"}], \"histogram2dcontour\": [{\"colorbar\": {\"outlinewidth\": 0, \"ticks\": \"\"}, \"colorscale\": [[0.0, \"#0d0887\"], [0.1111111111111111, \"#46039f\"], [0.2222222222222222, \"#7201a8\"], [0.3333333333333333, \"#9c179e\"], [0.4444444444444444, \"#bd3786\"], [0.5555555555555556, \"#d8576b\"], [0.6666666666666666, \"#ed7953\"], [0.7777777777777778, \"#fb9f3a\"], [0.8888888888888888, \"#fdca26\"], [1.0, \"#f0f921\"]], \"type\": \"histogram2dcontour\"}], \"mesh3d\": [{\"colorbar\": {\"outlinewidth\": 0, \"ticks\": \"\"}, \"type\": \"mesh3d\"}], \"parcoords\": [{\"line\": {\"colorbar\": {\"outlinewidth\": 0, \"ticks\": \"\"}}, \"type\": \"parcoords\"}], \"pie\": [{\"automargin\": true, \"type\": \"pie\"}], \"scatter\": [{\"marker\": {\"colorbar\": {\"outlinewidth\": 0, \"ticks\": \"\"}}, \"type\": \"scatter\"}], \"scatter3d\": [{\"line\": {\"colorbar\": {\"outlinewidth\": 0, \"ticks\": \"\"}}, \"marker\": {\"colorbar\": {\"outlinewidth\": 0, \"ticks\": \"\"}}, \"type\": \"scatter3d\"}], \"scattercarpet\": [{\"marker\": {\"colorbar\": {\"outlinewidth\": 0, \"ticks\": \"\"}}, \"type\": \"scattercarpet\"}], \"scattergeo\": [{\"marker\": {\"colorbar\": {\"outlinewidth\": 0, \"ticks\": \"\"}}, \"type\": \"scattergeo\"}], \"scattergl\": [{\"marker\": {\"colorbar\": {\"outlinewidth\": 0, \"ticks\": \"\"}}, \"type\": \"scattergl\"}], \"scattermapbox\": [{\"marker\": {\"colorbar\": {\"outlinewidth\": 0, \"ticks\": \"\"}}, \"type\": \"scattermapbox\"}], \"scatterpolar\": [{\"marker\": {\"colorbar\": {\"outlinewidth\": 0, \"ticks\": \"\"}}, \"type\": \"scatterpolar\"}], \"scatterpolargl\": [{\"marker\": {\"colorbar\": {\"outlinewidth\": 0, \"ticks\": \"\"}}, \"type\": \"scatterpolargl\"}], \"scatterternary\": [{\"marker\": {\"colorbar\": {\"outlinewidth\": 0, \"ticks\": \"\"}}, \"type\": \"scatterternary\"}], \"surface\": [{\"colorbar\": {\"outlinewidth\": 0, \"ticks\": \"\"}, \"colorscale\": [[0.0, \"#0d0887\"], [0.1111111111111111, \"#46039f\"], [0.2222222222222222, \"#7201a8\"], [0.3333333333333333, \"#9c179e\"], [0.4444444444444444, \"#bd3786\"], [0.5555555555555556, \"#d8576b\"], [0.6666666666666666, \"#ed7953\"], [0.7777777777777778, \"#fb9f3a\"], [0.8888888888888888, \"#fdca26\"], [1.0, \"#f0f921\"]], \"type\": \"surface\"}], \"table\": [{\"cells\": {\"fill\": {\"color\": \"#EBF0F8\"}, \"line\": {\"color\": \"white\"}}, \"header\": {\"fill\": {\"color\": \"#C8D4E3\"}, \"line\": {\"color\": \"white\"}}, \"type\": \"table\"}]}, \"layout\": {\"annotationdefaults\": {\"arrowcolor\": \"#2a3f5f\", \"arrowhead\": 0, \"arrowwidth\": 1}, \"autotypenumbers\": \"strict\", \"coloraxis\": {\"colorbar\": {\"outlinewidth\": 0, \"ticks\": \"\"}}, \"colorscale\": {\"diverging\": [[0, \"#8e0152\"], [0.1, \"#c51b7d\"], [0.2, \"#de77ae\"], [0.3, \"#f1b6da\"], [0.4, \"#fde0ef\"], [0.5, \"#f7f7f7\"], [0.6, \"#e6f5d0\"], [0.7, \"#b8e186\"], [0.8, \"#7fbc41\"], [0.9, \"#4d9221\"], [1, \"#276419\"]], \"sequential\": [[0.0, \"#0d0887\"], [0.1111111111111111, \"#46039f\"], [0.2222222222222222, \"#7201a8\"], [0.3333333333333333, \"#9c179e\"], [0.4444444444444444, \"#bd3786\"], [0.5555555555555556, \"#d8576b\"], [0.6666666666666666, \"#ed7953\"], [0.7777777777777778, \"#fb9f3a\"], [0.8888888888888888, \"#fdca26\"], [1.0, \"#f0f921\"]], \"sequentialminus\": [[0.0, \"#0d0887\"], [0.1111111111111111, \"#46039f\"], [0.2222222222222222, \"#7201a8\"], [0.3333333333333333, \"#9c179e\"], [0.4444444444444444, \"#bd3786\"], [0.5555555555555556, \"#d8576b\"], [0.6666666666666666, \"#ed7953\"], [0.7777777777777778, \"#fb9f3a\"], [0.8888888888888888, \"#fdca26\"], [1.0, \"#f0f921\"]]}, \"colorway\": [\"#636efa\", \"#EF553B\", \"#00cc96\", \"#ab63fa\", \"#FFA15A\", \"#19d3f3\", \"#FF6692\", \"#B6E880\", \"#FF97FF\", \"#FECB52\"], \"font\": {\"color\": \"#2a3f5f\"}, \"geo\": {\"bgcolor\": \"white\", \"lakecolor\": \"white\", \"landcolor\": \"#E5ECF6\", \"showlakes\": true, \"showland\": true, \"subunitcolor\": \"white\"}, \"hoverlabel\": {\"align\": \"left\"}, \"hovermode\": \"closest\", \"mapbox\": {\"style\": \"light\"}, \"paper_bgcolor\": \"white\", \"plot_bgcolor\": \"#E5ECF6\", \"polar\": {\"angularaxis\": {\"gridcolor\": \"white\", \"linecolor\": \"white\", \"ticks\": \"\"}, \"bgcolor\": \"#E5ECF6\", \"radialaxis\": {\"gridcolor\": \"white\", \"linecolor\": \"white\", \"ticks\": \"\"}}, \"scene\": {\"xaxis\": {\"backgroundcolor\": \"#E5ECF6\", \"gridcolor\": \"white\", \"gridwidth\": 2, \"linecolor\": \"white\", \"showbackground\": true, \"ticks\": \"\", \"zerolinecolor\": \"white\"}, \"yaxis\": {\"backgroundcolor\": \"#E5ECF6\", \"gridcolor\": \"white\", \"gridwidth\": 2, \"linecolor\": \"white\", \"showbackground\": true, \"ticks\": \"\", \"zerolinecolor\": \"white\"}, \"zaxis\": {\"backgroundcolor\": \"#E5ECF6\", \"gridcolor\": \"white\", \"gridwidth\": 2, \"linecolor\": \"white\", \"showbackground\": true, \"ticks\": \"\", \"zerolinecolor\": \"white\"}}, \"shapedefaults\": {\"line\": {\"color\": \"#2a3f5f\"}}, \"ternary\": {\"aaxis\": {\"gridcolor\": \"white\", \"linecolor\": \"white\", \"ticks\": \"\"}, \"baxis\": {\"gridcolor\": \"white\", \"linecolor\": \"white\", \"ticks\": \"\"}, \"bgcolor\": \"#E5ECF6\", \"caxis\": {\"gridcolor\": \"white\", \"linecolor\": \"white\", \"ticks\": \"\"}}, \"title\": {\"x\": 0.05}, \"xaxis\": {\"automargin\": true, \"gridcolor\": \"white\", \"linecolor\": \"white\", \"ticks\": \"\", \"title\": {\"standoff\": 15}, \"zerolinecolor\": \"white\", \"zerolinewidth\": 2}, \"yaxis\": {\"automargin\": true, \"gridcolor\": \"white\", \"linecolor\": \"white\", \"ticks\": \"\", \"title\": {\"standoff\": 15}, \"zerolinecolor\": \"white\", \"zerolinewidth\": 2}}}, \"title\": {\"font\": {\"color\": \"#4D5663\"}}, \"xaxis\": {\"gridcolor\": \"#E1E5ED\", \"showgrid\": true, \"tickfont\": {\"color\": \"#4D5663\"}, \"title\": {\"font\": {\"color\": \"#4D5663\"}, \"text\": \"\"}, \"zerolinecolor\": \"#E1E5ED\"}, \"yaxis\": {\"gridcolor\": \"#E1E5ED\", \"showgrid\": true, \"tickfont\": {\"color\": \"#4D5663\"}, \"title\": {\"font\": {\"color\": \"#4D5663\"}, \"text\": \"\"}, \"zerolinecolor\": \"#E1E5ED\"}},                        {\"showLink\": true, \"linkText\": \"Export to plot.ly\", \"plotlyServerURL\": \"https://plot.ly\", \"responsive\": true}                    ).then(function(){\n",
       "                            \n",
       "var gd = document.getElementById('7d800fc5-4743-4ba3-9618-99213245b80e');\n",
       "var x = new MutationObserver(function (mutations, observer) {{\n",
       "        var display = window.getComputedStyle(gd).display;\n",
       "        if (!display || display === 'none') {{\n",
       "            console.log([gd, 'removed!']);\n",
       "            Plotly.purge(gd);\n",
       "            observer.disconnect();\n",
       "        }}\n",
       "}});\n",
       "\n",
       "// Listen for the removal of the full notebook cells\n",
       "var notebookContainer = gd.closest('#notebook-container');\n",
       "if (notebookContainer) {{\n",
       "    x.observe(notebookContainer, {childList: true});\n",
       "}}\n",
       "\n",
       "// Listen for the clearing of the current output cell\n",
       "var outputEl = gd.closest('.output');\n",
       "if (outputEl) {{\n",
       "    x.observe(outputEl, {childList: true});\n",
       "}}\n",
       "\n",
       "                        })                };                });            </script>        </div>"
      ]
     },
     "metadata": {},
     "output_type": "display_data"
    }
   ],
   "source": [
    "df.iplot(kind='scatter',x='A',y='B',mode='markers',size=10)"
   ]
  },
  {
   "cell_type": "markdown",
   "metadata": {},
   "source": [
    "## Bar Plots"
   ]
  },
  {
   "cell_type": "code",
   "execution_count": 13,
   "metadata": {},
   "outputs": [
    {
     "data": {
      "application/vnd.plotly.v1+json": {
       "config": {
        "linkText": "Export to plot.ly",
        "plotlyServerURL": "https://plot.ly",
        "showLink": true
       },
       "data": [
        {
         "marker": {
          "color": "rgba(255, 153, 51, 0.6)",
          "line": {
           "color": "rgba(255, 153, 51, 1.0)",
           "width": 1
          }
         },
         "name": "Values",
         "orientation": "v",
         "text": "",
         "type": "bar",
         "x": [
          "A",
          "B",
          "C"
         ],
         "y": [
          32,
          43,
          50
         ]
        }
       ],
       "layout": {
        "legend": {
         "bgcolor": "#F5F6F9",
         "font": {
          "color": "#4D5663"
         }
        },
        "paper_bgcolor": "#F5F6F9",
        "plot_bgcolor": "#F5F6F9",
        "template": {
         "data": {
          "bar": [
           {
            "error_x": {
             "color": "#2a3f5f"
            },
            "error_y": {
             "color": "#2a3f5f"
            },
            "marker": {
             "line": {
              "color": "#E5ECF6",
              "width": 0.5
             }
            },
            "type": "bar"
           }
          ],
          "barpolar": [
           {
            "marker": {
             "line": {
              "color": "#E5ECF6",
              "width": 0.5
             }
            },
            "type": "barpolar"
           }
          ],
          "carpet": [
           {
            "aaxis": {
             "endlinecolor": "#2a3f5f",
             "gridcolor": "white",
             "linecolor": "white",
             "minorgridcolor": "white",
             "startlinecolor": "#2a3f5f"
            },
            "baxis": {
             "endlinecolor": "#2a3f5f",
             "gridcolor": "white",
             "linecolor": "white",
             "minorgridcolor": "white",
             "startlinecolor": "#2a3f5f"
            },
            "type": "carpet"
           }
          ],
          "choropleth": [
           {
            "colorbar": {
             "outlinewidth": 0,
             "ticks": ""
            },
            "type": "choropleth"
           }
          ],
          "contour": [
           {
            "colorbar": {
             "outlinewidth": 0,
             "ticks": ""
            },
            "colorscale": [
             [
              0,
              "#0d0887"
             ],
             [
              0.1111111111111111,
              "#46039f"
             ],
             [
              0.2222222222222222,
              "#7201a8"
             ],
             [
              0.3333333333333333,
              "#9c179e"
             ],
             [
              0.4444444444444444,
              "#bd3786"
             ],
             [
              0.5555555555555556,
              "#d8576b"
             ],
             [
              0.6666666666666666,
              "#ed7953"
             ],
             [
              0.7777777777777778,
              "#fb9f3a"
             ],
             [
              0.8888888888888888,
              "#fdca26"
             ],
             [
              1,
              "#f0f921"
             ]
            ],
            "type": "contour"
           }
          ],
          "contourcarpet": [
           {
            "colorbar": {
             "outlinewidth": 0,
             "ticks": ""
            },
            "type": "contourcarpet"
           }
          ],
          "heatmap": [
           {
            "colorbar": {
             "outlinewidth": 0,
             "ticks": ""
            },
            "colorscale": [
             [
              0,
              "#0d0887"
             ],
             [
              0.1111111111111111,
              "#46039f"
             ],
             [
              0.2222222222222222,
              "#7201a8"
             ],
             [
              0.3333333333333333,
              "#9c179e"
             ],
             [
              0.4444444444444444,
              "#bd3786"
             ],
             [
              0.5555555555555556,
              "#d8576b"
             ],
             [
              0.6666666666666666,
              "#ed7953"
             ],
             [
              0.7777777777777778,
              "#fb9f3a"
             ],
             [
              0.8888888888888888,
              "#fdca26"
             ],
             [
              1,
              "#f0f921"
             ]
            ],
            "type": "heatmap"
           }
          ],
          "heatmapgl": [
           {
            "colorbar": {
             "outlinewidth": 0,
             "ticks": ""
            },
            "colorscale": [
             [
              0,
              "#0d0887"
             ],
             [
              0.1111111111111111,
              "#46039f"
             ],
             [
              0.2222222222222222,
              "#7201a8"
             ],
             [
              0.3333333333333333,
              "#9c179e"
             ],
             [
              0.4444444444444444,
              "#bd3786"
             ],
             [
              0.5555555555555556,
              "#d8576b"
             ],
             [
              0.6666666666666666,
              "#ed7953"
             ],
             [
              0.7777777777777778,
              "#fb9f3a"
             ],
             [
              0.8888888888888888,
              "#fdca26"
             ],
             [
              1,
              "#f0f921"
             ]
            ],
            "type": "heatmapgl"
           }
          ],
          "histogram": [
           {
            "marker": {
             "colorbar": {
              "outlinewidth": 0,
              "ticks": ""
             }
            },
            "type": "histogram"
           }
          ],
          "histogram2d": [
           {
            "colorbar": {
             "outlinewidth": 0,
             "ticks": ""
            },
            "colorscale": [
             [
              0,
              "#0d0887"
             ],
             [
              0.1111111111111111,
              "#46039f"
             ],
             [
              0.2222222222222222,
              "#7201a8"
             ],
             [
              0.3333333333333333,
              "#9c179e"
             ],
             [
              0.4444444444444444,
              "#bd3786"
             ],
             [
              0.5555555555555556,
              "#d8576b"
             ],
             [
              0.6666666666666666,
              "#ed7953"
             ],
             [
              0.7777777777777778,
              "#fb9f3a"
             ],
             [
              0.8888888888888888,
              "#fdca26"
             ],
             [
              1,
              "#f0f921"
             ]
            ],
            "type": "histogram2d"
           }
          ],
          "histogram2dcontour": [
           {
            "colorbar": {
             "outlinewidth": 0,
             "ticks": ""
            },
            "colorscale": [
             [
              0,
              "#0d0887"
             ],
             [
              0.1111111111111111,
              "#46039f"
             ],
             [
              0.2222222222222222,
              "#7201a8"
             ],
             [
              0.3333333333333333,
              "#9c179e"
             ],
             [
              0.4444444444444444,
              "#bd3786"
             ],
             [
              0.5555555555555556,
              "#d8576b"
             ],
             [
              0.6666666666666666,
              "#ed7953"
             ],
             [
              0.7777777777777778,
              "#fb9f3a"
             ],
             [
              0.8888888888888888,
              "#fdca26"
             ],
             [
              1,
              "#f0f921"
             ]
            ],
            "type": "histogram2dcontour"
           }
          ],
          "mesh3d": [
           {
            "colorbar": {
             "outlinewidth": 0,
             "ticks": ""
            },
            "type": "mesh3d"
           }
          ],
          "parcoords": [
           {
            "line": {
             "colorbar": {
              "outlinewidth": 0,
              "ticks": ""
             }
            },
            "type": "parcoords"
           }
          ],
          "pie": [
           {
            "automargin": true,
            "type": "pie"
           }
          ],
          "scatter": [
           {
            "marker": {
             "colorbar": {
              "outlinewidth": 0,
              "ticks": ""
             }
            },
            "type": "scatter"
           }
          ],
          "scatter3d": [
           {
            "line": {
             "colorbar": {
              "outlinewidth": 0,
              "ticks": ""
             }
            },
            "marker": {
             "colorbar": {
              "outlinewidth": 0,
              "ticks": ""
             }
            },
            "type": "scatter3d"
           }
          ],
          "scattercarpet": [
           {
            "marker": {
             "colorbar": {
              "outlinewidth": 0,
              "ticks": ""
             }
            },
            "type": "scattercarpet"
           }
          ],
          "scattergeo": [
           {
            "marker": {
             "colorbar": {
              "outlinewidth": 0,
              "ticks": ""
             }
            },
            "type": "scattergeo"
           }
          ],
          "scattergl": [
           {
            "marker": {
             "colorbar": {
              "outlinewidth": 0,
              "ticks": ""
             }
            },
            "type": "scattergl"
           }
          ],
          "scattermapbox": [
           {
            "marker": {
             "colorbar": {
              "outlinewidth": 0,
              "ticks": ""
             }
            },
            "type": "scattermapbox"
           }
          ],
          "scatterpolar": [
           {
            "marker": {
             "colorbar": {
              "outlinewidth": 0,
              "ticks": ""
             }
            },
            "type": "scatterpolar"
           }
          ],
          "scatterpolargl": [
           {
            "marker": {
             "colorbar": {
              "outlinewidth": 0,
              "ticks": ""
             }
            },
            "type": "scatterpolargl"
           }
          ],
          "scatterternary": [
           {
            "marker": {
             "colorbar": {
              "outlinewidth": 0,
              "ticks": ""
             }
            },
            "type": "scatterternary"
           }
          ],
          "surface": [
           {
            "colorbar": {
             "outlinewidth": 0,
             "ticks": ""
            },
            "colorscale": [
             [
              0,
              "#0d0887"
             ],
             [
              0.1111111111111111,
              "#46039f"
             ],
             [
              0.2222222222222222,
              "#7201a8"
             ],
             [
              0.3333333333333333,
              "#9c179e"
             ],
             [
              0.4444444444444444,
              "#bd3786"
             ],
             [
              0.5555555555555556,
              "#d8576b"
             ],
             [
              0.6666666666666666,
              "#ed7953"
             ],
             [
              0.7777777777777778,
              "#fb9f3a"
             ],
             [
              0.8888888888888888,
              "#fdca26"
             ],
             [
              1,
              "#f0f921"
             ]
            ],
            "type": "surface"
           }
          ],
          "table": [
           {
            "cells": {
             "fill": {
              "color": "#EBF0F8"
             },
             "line": {
              "color": "white"
             }
            },
            "header": {
             "fill": {
              "color": "#C8D4E3"
             },
             "line": {
              "color": "white"
             }
            },
            "type": "table"
           }
          ]
         },
         "layout": {
          "annotationdefaults": {
           "arrowcolor": "#2a3f5f",
           "arrowhead": 0,
           "arrowwidth": 1
          },
          "autotypenumbers": "strict",
          "coloraxis": {
           "colorbar": {
            "outlinewidth": 0,
            "ticks": ""
           }
          },
          "colorscale": {
           "diverging": [
            [
             0,
             "#8e0152"
            ],
            [
             0.1,
             "#c51b7d"
            ],
            [
             0.2,
             "#de77ae"
            ],
            [
             0.3,
             "#f1b6da"
            ],
            [
             0.4,
             "#fde0ef"
            ],
            [
             0.5,
             "#f7f7f7"
            ],
            [
             0.6,
             "#e6f5d0"
            ],
            [
             0.7,
             "#b8e186"
            ],
            [
             0.8,
             "#7fbc41"
            ],
            [
             0.9,
             "#4d9221"
            ],
            [
             1,
             "#276419"
            ]
           ],
           "sequential": [
            [
             0,
             "#0d0887"
            ],
            [
             0.1111111111111111,
             "#46039f"
            ],
            [
             0.2222222222222222,
             "#7201a8"
            ],
            [
             0.3333333333333333,
             "#9c179e"
            ],
            [
             0.4444444444444444,
             "#bd3786"
            ],
            [
             0.5555555555555556,
             "#d8576b"
            ],
            [
             0.6666666666666666,
             "#ed7953"
            ],
            [
             0.7777777777777778,
             "#fb9f3a"
            ],
            [
             0.8888888888888888,
             "#fdca26"
            ],
            [
             1,
             "#f0f921"
            ]
           ],
           "sequentialminus": [
            [
             0,
             "#0d0887"
            ],
            [
             0.1111111111111111,
             "#46039f"
            ],
            [
             0.2222222222222222,
             "#7201a8"
            ],
            [
             0.3333333333333333,
             "#9c179e"
            ],
            [
             0.4444444444444444,
             "#bd3786"
            ],
            [
             0.5555555555555556,
             "#d8576b"
            ],
            [
             0.6666666666666666,
             "#ed7953"
            ],
            [
             0.7777777777777778,
             "#fb9f3a"
            ],
            [
             0.8888888888888888,
             "#fdca26"
            ],
            [
             1,
             "#f0f921"
            ]
           ]
          },
          "colorway": [
           "#636efa",
           "#EF553B",
           "#00cc96",
           "#ab63fa",
           "#FFA15A",
           "#19d3f3",
           "#FF6692",
           "#B6E880",
           "#FF97FF",
           "#FECB52"
          ],
          "font": {
           "color": "#2a3f5f"
          },
          "geo": {
           "bgcolor": "white",
           "lakecolor": "white",
           "landcolor": "#E5ECF6",
           "showlakes": true,
           "showland": true,
           "subunitcolor": "white"
          },
          "hoverlabel": {
           "align": "left"
          },
          "hovermode": "closest",
          "mapbox": {
           "style": "light"
          },
          "paper_bgcolor": "white",
          "plot_bgcolor": "#E5ECF6",
          "polar": {
           "angularaxis": {
            "gridcolor": "white",
            "linecolor": "white",
            "ticks": ""
           },
           "bgcolor": "#E5ECF6",
           "radialaxis": {
            "gridcolor": "white",
            "linecolor": "white",
            "ticks": ""
           }
          },
          "scene": {
           "xaxis": {
            "backgroundcolor": "#E5ECF6",
            "gridcolor": "white",
            "gridwidth": 2,
            "linecolor": "white",
            "showbackground": true,
            "ticks": "",
            "zerolinecolor": "white"
           },
           "yaxis": {
            "backgroundcolor": "#E5ECF6",
            "gridcolor": "white",
            "gridwidth": 2,
            "linecolor": "white",
            "showbackground": true,
            "ticks": "",
            "zerolinecolor": "white"
           },
           "zaxis": {
            "backgroundcolor": "#E5ECF6",
            "gridcolor": "white",
            "gridwidth": 2,
            "linecolor": "white",
            "showbackground": true,
            "ticks": "",
            "zerolinecolor": "white"
           }
          },
          "shapedefaults": {
           "line": {
            "color": "#2a3f5f"
           }
          },
          "ternary": {
           "aaxis": {
            "gridcolor": "white",
            "linecolor": "white",
            "ticks": ""
           },
           "baxis": {
            "gridcolor": "white",
            "linecolor": "white",
            "ticks": ""
           },
           "bgcolor": "#E5ECF6",
           "caxis": {
            "gridcolor": "white",
            "linecolor": "white",
            "ticks": ""
           }
          },
          "title": {
           "x": 0.05
          },
          "xaxis": {
           "automargin": true,
           "gridcolor": "white",
           "linecolor": "white",
           "ticks": "",
           "title": {
            "standoff": 15
           },
           "zerolinecolor": "white",
           "zerolinewidth": 2
          },
          "yaxis": {
           "automargin": true,
           "gridcolor": "white",
           "linecolor": "white",
           "ticks": "",
           "title": {
            "standoff": 15
           },
           "zerolinecolor": "white",
           "zerolinewidth": 2
          }
         }
        },
        "title": {
         "font": {
          "color": "#4D5663"
         }
        },
        "xaxis": {
         "gridcolor": "#E1E5ED",
         "showgrid": true,
         "tickfont": {
          "color": "#4D5663"
         },
         "title": {
          "font": {
           "color": "#4D5663"
          },
          "text": ""
         },
         "zerolinecolor": "#E1E5ED"
        },
        "yaxis": {
         "gridcolor": "#E1E5ED",
         "showgrid": true,
         "tickfont": {
          "color": "#4D5663"
         },
         "title": {
          "font": {
           "color": "#4D5663"
          },
          "text": ""
         },
         "zerolinecolor": "#E1E5ED"
        }
       }
      },
      "text/html": [
       "<div>                            <div id=\"a228712f-2894-487e-9354-ba300e1db2e4\" class=\"plotly-graph-div\" style=\"height:525px; width:100%;\"></div>            <script type=\"text/javascript\">                require([\"plotly\"], function(Plotly) {                    window.PLOTLYENV=window.PLOTLYENV || {};\n",
       "                    window.PLOTLYENV.BASE_URL='https://plot.ly';                                    if (document.getElementById(\"a228712f-2894-487e-9354-ba300e1db2e4\")) {                    Plotly.newPlot(                        \"a228712f-2894-487e-9354-ba300e1db2e4\",                        [{\"marker\": {\"color\": \"rgba(255, 153, 51, 0.6)\", \"line\": {\"color\": \"rgba(255, 153, 51, 1.0)\", \"width\": 1}}, \"name\": \"Values\", \"orientation\": \"v\", \"text\": \"\", \"type\": \"bar\", \"x\": [\"A\", \"B\", \"C\"], \"y\": [32, 43, 50]}],                        {\"legend\": {\"bgcolor\": \"#F5F6F9\", \"font\": {\"color\": \"#4D5663\"}}, \"paper_bgcolor\": \"#F5F6F9\", \"plot_bgcolor\": \"#F5F6F9\", \"template\": {\"data\": {\"bar\": [{\"error_x\": {\"color\": \"#2a3f5f\"}, \"error_y\": {\"color\": \"#2a3f5f\"}, \"marker\": {\"line\": {\"color\": \"#E5ECF6\", \"width\": 0.5}}, \"type\": \"bar\"}], \"barpolar\": [{\"marker\": {\"line\": {\"color\": \"#E5ECF6\", \"width\": 0.5}}, \"type\": \"barpolar\"}], \"carpet\": [{\"aaxis\": {\"endlinecolor\": \"#2a3f5f\", \"gridcolor\": \"white\", \"linecolor\": \"white\", \"minorgridcolor\": \"white\", \"startlinecolor\": \"#2a3f5f\"}, \"baxis\": {\"endlinecolor\": \"#2a3f5f\", \"gridcolor\": \"white\", \"linecolor\": \"white\", \"minorgridcolor\": \"white\", \"startlinecolor\": \"#2a3f5f\"}, \"type\": \"carpet\"}], \"choropleth\": [{\"colorbar\": {\"outlinewidth\": 0, \"ticks\": \"\"}, \"type\": \"choropleth\"}], \"contour\": [{\"colorbar\": {\"outlinewidth\": 0, \"ticks\": \"\"}, \"colorscale\": [[0.0, \"#0d0887\"], [0.1111111111111111, \"#46039f\"], [0.2222222222222222, \"#7201a8\"], [0.3333333333333333, \"#9c179e\"], [0.4444444444444444, \"#bd3786\"], [0.5555555555555556, \"#d8576b\"], [0.6666666666666666, \"#ed7953\"], [0.7777777777777778, \"#fb9f3a\"], [0.8888888888888888, \"#fdca26\"], [1.0, \"#f0f921\"]], \"type\": \"contour\"}], \"contourcarpet\": [{\"colorbar\": {\"outlinewidth\": 0, \"ticks\": \"\"}, \"type\": \"contourcarpet\"}], \"heatmap\": [{\"colorbar\": {\"outlinewidth\": 0, \"ticks\": \"\"}, \"colorscale\": [[0.0, \"#0d0887\"], [0.1111111111111111, \"#46039f\"], [0.2222222222222222, \"#7201a8\"], [0.3333333333333333, \"#9c179e\"], [0.4444444444444444, \"#bd3786\"], [0.5555555555555556, \"#d8576b\"], [0.6666666666666666, \"#ed7953\"], [0.7777777777777778, \"#fb9f3a\"], [0.8888888888888888, \"#fdca26\"], [1.0, \"#f0f921\"]], \"type\": \"heatmap\"}], \"heatmapgl\": [{\"colorbar\": {\"outlinewidth\": 0, \"ticks\": \"\"}, \"colorscale\": [[0.0, \"#0d0887\"], [0.1111111111111111, \"#46039f\"], [0.2222222222222222, \"#7201a8\"], [0.3333333333333333, \"#9c179e\"], [0.4444444444444444, \"#bd3786\"], [0.5555555555555556, \"#d8576b\"], [0.6666666666666666, \"#ed7953\"], [0.7777777777777778, \"#fb9f3a\"], [0.8888888888888888, \"#fdca26\"], [1.0, \"#f0f921\"]], \"type\": \"heatmapgl\"}], \"histogram\": [{\"marker\": {\"colorbar\": {\"outlinewidth\": 0, \"ticks\": \"\"}}, \"type\": \"histogram\"}], \"histogram2d\": [{\"colorbar\": {\"outlinewidth\": 0, \"ticks\": \"\"}, \"colorscale\": [[0.0, \"#0d0887\"], [0.1111111111111111, \"#46039f\"], [0.2222222222222222, \"#7201a8\"], [0.3333333333333333, \"#9c179e\"], [0.4444444444444444, \"#bd3786\"], [0.5555555555555556, \"#d8576b\"], [0.6666666666666666, \"#ed7953\"], [0.7777777777777778, \"#fb9f3a\"], [0.8888888888888888, \"#fdca26\"], [1.0, \"#f0f921\"]], \"type\": \"histogram2d\"}], \"histogram2dcontour\": [{\"colorbar\": {\"outlinewidth\": 0, \"ticks\": \"\"}, \"colorscale\": [[0.0, \"#0d0887\"], [0.1111111111111111, \"#46039f\"], [0.2222222222222222, \"#7201a8\"], [0.3333333333333333, \"#9c179e\"], [0.4444444444444444, \"#bd3786\"], [0.5555555555555556, \"#d8576b\"], [0.6666666666666666, \"#ed7953\"], [0.7777777777777778, \"#fb9f3a\"], [0.8888888888888888, \"#fdca26\"], [1.0, \"#f0f921\"]], \"type\": \"histogram2dcontour\"}], \"mesh3d\": [{\"colorbar\": {\"outlinewidth\": 0, \"ticks\": \"\"}, \"type\": \"mesh3d\"}], \"parcoords\": [{\"line\": {\"colorbar\": {\"outlinewidth\": 0, \"ticks\": \"\"}}, \"type\": \"parcoords\"}], \"pie\": [{\"automargin\": true, \"type\": \"pie\"}], \"scatter\": [{\"marker\": {\"colorbar\": {\"outlinewidth\": 0, \"ticks\": \"\"}}, \"type\": \"scatter\"}], \"scatter3d\": [{\"line\": {\"colorbar\": {\"outlinewidth\": 0, \"ticks\": \"\"}}, \"marker\": {\"colorbar\": {\"outlinewidth\": 0, \"ticks\": \"\"}}, \"type\": \"scatter3d\"}], \"scattercarpet\": [{\"marker\": {\"colorbar\": {\"outlinewidth\": 0, \"ticks\": \"\"}}, \"type\": \"scattercarpet\"}], \"scattergeo\": [{\"marker\": {\"colorbar\": {\"outlinewidth\": 0, \"ticks\": \"\"}}, \"type\": \"scattergeo\"}], \"scattergl\": [{\"marker\": {\"colorbar\": {\"outlinewidth\": 0, \"ticks\": \"\"}}, \"type\": \"scattergl\"}], \"scattermapbox\": [{\"marker\": {\"colorbar\": {\"outlinewidth\": 0, \"ticks\": \"\"}}, \"type\": \"scattermapbox\"}], \"scatterpolar\": [{\"marker\": {\"colorbar\": {\"outlinewidth\": 0, \"ticks\": \"\"}}, \"type\": \"scatterpolar\"}], \"scatterpolargl\": [{\"marker\": {\"colorbar\": {\"outlinewidth\": 0, \"ticks\": \"\"}}, \"type\": \"scatterpolargl\"}], \"scatterternary\": [{\"marker\": {\"colorbar\": {\"outlinewidth\": 0, \"ticks\": \"\"}}, \"type\": \"scatterternary\"}], \"surface\": [{\"colorbar\": {\"outlinewidth\": 0, \"ticks\": \"\"}, \"colorscale\": [[0.0, \"#0d0887\"], [0.1111111111111111, \"#46039f\"], [0.2222222222222222, \"#7201a8\"], [0.3333333333333333, \"#9c179e\"], [0.4444444444444444, \"#bd3786\"], [0.5555555555555556, \"#d8576b\"], [0.6666666666666666, \"#ed7953\"], [0.7777777777777778, \"#fb9f3a\"], [0.8888888888888888, \"#fdca26\"], [1.0, \"#f0f921\"]], \"type\": \"surface\"}], \"table\": [{\"cells\": {\"fill\": {\"color\": \"#EBF0F8\"}, \"line\": {\"color\": \"white\"}}, \"header\": {\"fill\": {\"color\": \"#C8D4E3\"}, \"line\": {\"color\": \"white\"}}, \"type\": \"table\"}]}, \"layout\": {\"annotationdefaults\": {\"arrowcolor\": \"#2a3f5f\", \"arrowhead\": 0, \"arrowwidth\": 1}, \"autotypenumbers\": \"strict\", \"coloraxis\": {\"colorbar\": {\"outlinewidth\": 0, \"ticks\": \"\"}}, \"colorscale\": {\"diverging\": [[0, \"#8e0152\"], [0.1, \"#c51b7d\"], [0.2, \"#de77ae\"], [0.3, \"#f1b6da\"], [0.4, \"#fde0ef\"], [0.5, \"#f7f7f7\"], [0.6, \"#e6f5d0\"], [0.7, \"#b8e186\"], [0.8, \"#7fbc41\"], [0.9, \"#4d9221\"], [1, \"#276419\"]], \"sequential\": [[0.0, \"#0d0887\"], [0.1111111111111111, \"#46039f\"], [0.2222222222222222, \"#7201a8\"], [0.3333333333333333, \"#9c179e\"], [0.4444444444444444, \"#bd3786\"], [0.5555555555555556, \"#d8576b\"], [0.6666666666666666, \"#ed7953\"], [0.7777777777777778, \"#fb9f3a\"], [0.8888888888888888, \"#fdca26\"], [1.0, \"#f0f921\"]], \"sequentialminus\": [[0.0, \"#0d0887\"], [0.1111111111111111, \"#46039f\"], [0.2222222222222222, \"#7201a8\"], [0.3333333333333333, \"#9c179e\"], [0.4444444444444444, \"#bd3786\"], [0.5555555555555556, \"#d8576b\"], [0.6666666666666666, \"#ed7953\"], [0.7777777777777778, \"#fb9f3a\"], [0.8888888888888888, \"#fdca26\"], [1.0, \"#f0f921\"]]}, \"colorway\": [\"#636efa\", \"#EF553B\", \"#00cc96\", \"#ab63fa\", \"#FFA15A\", \"#19d3f3\", \"#FF6692\", \"#B6E880\", \"#FF97FF\", \"#FECB52\"], \"font\": {\"color\": \"#2a3f5f\"}, \"geo\": {\"bgcolor\": \"white\", \"lakecolor\": \"white\", \"landcolor\": \"#E5ECF6\", \"showlakes\": true, \"showland\": true, \"subunitcolor\": \"white\"}, \"hoverlabel\": {\"align\": \"left\"}, \"hovermode\": \"closest\", \"mapbox\": {\"style\": \"light\"}, \"paper_bgcolor\": \"white\", \"plot_bgcolor\": \"#E5ECF6\", \"polar\": {\"angularaxis\": {\"gridcolor\": \"white\", \"linecolor\": \"white\", \"ticks\": \"\"}, \"bgcolor\": \"#E5ECF6\", \"radialaxis\": {\"gridcolor\": \"white\", \"linecolor\": \"white\", \"ticks\": \"\"}}, \"scene\": {\"xaxis\": {\"backgroundcolor\": \"#E5ECF6\", \"gridcolor\": \"white\", \"gridwidth\": 2, \"linecolor\": \"white\", \"showbackground\": true, \"ticks\": \"\", \"zerolinecolor\": \"white\"}, \"yaxis\": {\"backgroundcolor\": \"#E5ECF6\", \"gridcolor\": \"white\", \"gridwidth\": 2, \"linecolor\": \"white\", \"showbackground\": true, \"ticks\": \"\", \"zerolinecolor\": \"white\"}, \"zaxis\": {\"backgroundcolor\": \"#E5ECF6\", \"gridcolor\": \"white\", \"gridwidth\": 2, \"linecolor\": \"white\", \"showbackground\": true, \"ticks\": \"\", \"zerolinecolor\": \"white\"}}, \"shapedefaults\": {\"line\": {\"color\": \"#2a3f5f\"}}, \"ternary\": {\"aaxis\": {\"gridcolor\": \"white\", \"linecolor\": \"white\", \"ticks\": \"\"}, \"baxis\": {\"gridcolor\": \"white\", \"linecolor\": \"white\", \"ticks\": \"\"}, \"bgcolor\": \"#E5ECF6\", \"caxis\": {\"gridcolor\": \"white\", \"linecolor\": \"white\", \"ticks\": \"\"}}, \"title\": {\"x\": 0.05}, \"xaxis\": {\"automargin\": true, \"gridcolor\": \"white\", \"linecolor\": \"white\", \"ticks\": \"\", \"title\": {\"standoff\": 15}, \"zerolinecolor\": \"white\", \"zerolinewidth\": 2}, \"yaxis\": {\"automargin\": true, \"gridcolor\": \"white\", \"linecolor\": \"white\", \"ticks\": \"\", \"title\": {\"standoff\": 15}, \"zerolinecolor\": \"white\", \"zerolinewidth\": 2}}}, \"title\": {\"font\": {\"color\": \"#4D5663\"}}, \"xaxis\": {\"gridcolor\": \"#E1E5ED\", \"showgrid\": true, \"tickfont\": {\"color\": \"#4D5663\"}, \"title\": {\"font\": {\"color\": \"#4D5663\"}, \"text\": \"\"}, \"zerolinecolor\": \"#E1E5ED\"}, \"yaxis\": {\"gridcolor\": \"#E1E5ED\", \"showgrid\": true, \"tickfont\": {\"color\": \"#4D5663\"}, \"title\": {\"font\": {\"color\": \"#4D5663\"}, \"text\": \"\"}, \"zerolinecolor\": \"#E1E5ED\"}},                        {\"showLink\": true, \"linkText\": \"Export to plot.ly\", \"plotlyServerURL\": \"https://plot.ly\", \"responsive\": true}                    ).then(function(){\n",
       "                            \n",
       "var gd = document.getElementById('a228712f-2894-487e-9354-ba300e1db2e4');\n",
       "var x = new MutationObserver(function (mutations, observer) {{\n",
       "        var display = window.getComputedStyle(gd).display;\n",
       "        if (!display || display === 'none') {{\n",
       "            console.log([gd, 'removed!']);\n",
       "            Plotly.purge(gd);\n",
       "            observer.disconnect();\n",
       "        }}\n",
       "}});\n",
       "\n",
       "// Listen for the removal of the full notebook cells\n",
       "var notebookContainer = gd.closest('#notebook-container');\n",
       "if (notebookContainer) {{\n",
       "    x.observe(notebookContainer, {childList: true});\n",
       "}}\n",
       "\n",
       "// Listen for the clearing of the current output cell\n",
       "var outputEl = gd.closest('.output');\n",
       "if (outputEl) {{\n",
       "    x.observe(outputEl, {childList: true});\n",
       "}}\n",
       "\n",
       "                        })                };                });            </script>        </div>"
      ]
     },
     "metadata": {},
     "output_type": "display_data"
    }
   ],
   "source": [
    "df2.iplot(kind='bar',x='Category',y='Values')"
   ]
  },
  {
   "cell_type": "code",
   "execution_count": 14,
   "metadata": {
    "scrolled": true
   },
   "outputs": [
    {
     "data": {
      "application/vnd.plotly.v1+json": {
       "config": {
        "linkText": "Export to plot.ly",
        "plotlyServerURL": "https://plot.ly",
        "showLink": true
       },
       "data": [
        {
         "marker": {
          "color": "rgba(255, 153, 51, 0.6)",
          "line": {
           "color": "rgba(255, 153, 51, 1.0)",
           "width": 1
          }
         },
         "name": "None",
         "orientation": "v",
         "text": "",
         "type": "bar",
         "x": [
          "A",
          "B",
          "C",
          "D"
         ],
         "y": [
          100,
          100,
          100,
          100
         ]
        }
       ],
       "layout": {
        "legend": {
         "bgcolor": "#F5F6F9",
         "font": {
          "color": "#4D5663"
         }
        },
        "paper_bgcolor": "#F5F6F9",
        "plot_bgcolor": "#F5F6F9",
        "template": {
         "data": {
          "bar": [
           {
            "error_x": {
             "color": "#2a3f5f"
            },
            "error_y": {
             "color": "#2a3f5f"
            },
            "marker": {
             "line": {
              "color": "#E5ECF6",
              "width": 0.5
             }
            },
            "type": "bar"
           }
          ],
          "barpolar": [
           {
            "marker": {
             "line": {
              "color": "#E5ECF6",
              "width": 0.5
             }
            },
            "type": "barpolar"
           }
          ],
          "carpet": [
           {
            "aaxis": {
             "endlinecolor": "#2a3f5f",
             "gridcolor": "white",
             "linecolor": "white",
             "minorgridcolor": "white",
             "startlinecolor": "#2a3f5f"
            },
            "baxis": {
             "endlinecolor": "#2a3f5f",
             "gridcolor": "white",
             "linecolor": "white",
             "minorgridcolor": "white",
             "startlinecolor": "#2a3f5f"
            },
            "type": "carpet"
           }
          ],
          "choropleth": [
           {
            "colorbar": {
             "outlinewidth": 0,
             "ticks": ""
            },
            "type": "choropleth"
           }
          ],
          "contour": [
           {
            "colorbar": {
             "outlinewidth": 0,
             "ticks": ""
            },
            "colorscale": [
             [
              0,
              "#0d0887"
             ],
             [
              0.1111111111111111,
              "#46039f"
             ],
             [
              0.2222222222222222,
              "#7201a8"
             ],
             [
              0.3333333333333333,
              "#9c179e"
             ],
             [
              0.4444444444444444,
              "#bd3786"
             ],
             [
              0.5555555555555556,
              "#d8576b"
             ],
             [
              0.6666666666666666,
              "#ed7953"
             ],
             [
              0.7777777777777778,
              "#fb9f3a"
             ],
             [
              0.8888888888888888,
              "#fdca26"
             ],
             [
              1,
              "#f0f921"
             ]
            ],
            "type": "contour"
           }
          ],
          "contourcarpet": [
           {
            "colorbar": {
             "outlinewidth": 0,
             "ticks": ""
            },
            "type": "contourcarpet"
           }
          ],
          "heatmap": [
           {
            "colorbar": {
             "outlinewidth": 0,
             "ticks": ""
            },
            "colorscale": [
             [
              0,
              "#0d0887"
             ],
             [
              0.1111111111111111,
              "#46039f"
             ],
             [
              0.2222222222222222,
              "#7201a8"
             ],
             [
              0.3333333333333333,
              "#9c179e"
             ],
             [
              0.4444444444444444,
              "#bd3786"
             ],
             [
              0.5555555555555556,
              "#d8576b"
             ],
             [
              0.6666666666666666,
              "#ed7953"
             ],
             [
              0.7777777777777778,
              "#fb9f3a"
             ],
             [
              0.8888888888888888,
              "#fdca26"
             ],
             [
              1,
              "#f0f921"
             ]
            ],
            "type": "heatmap"
           }
          ],
          "heatmapgl": [
           {
            "colorbar": {
             "outlinewidth": 0,
             "ticks": ""
            },
            "colorscale": [
             [
              0,
              "#0d0887"
             ],
             [
              0.1111111111111111,
              "#46039f"
             ],
             [
              0.2222222222222222,
              "#7201a8"
             ],
             [
              0.3333333333333333,
              "#9c179e"
             ],
             [
              0.4444444444444444,
              "#bd3786"
             ],
             [
              0.5555555555555556,
              "#d8576b"
             ],
             [
              0.6666666666666666,
              "#ed7953"
             ],
             [
              0.7777777777777778,
              "#fb9f3a"
             ],
             [
              0.8888888888888888,
              "#fdca26"
             ],
             [
              1,
              "#f0f921"
             ]
            ],
            "type": "heatmapgl"
           }
          ],
          "histogram": [
           {
            "marker": {
             "colorbar": {
              "outlinewidth": 0,
              "ticks": ""
             }
            },
            "type": "histogram"
           }
          ],
          "histogram2d": [
           {
            "colorbar": {
             "outlinewidth": 0,
             "ticks": ""
            },
            "colorscale": [
             [
              0,
              "#0d0887"
             ],
             [
              0.1111111111111111,
              "#46039f"
             ],
             [
              0.2222222222222222,
              "#7201a8"
             ],
             [
              0.3333333333333333,
              "#9c179e"
             ],
             [
              0.4444444444444444,
              "#bd3786"
             ],
             [
              0.5555555555555556,
              "#d8576b"
             ],
             [
              0.6666666666666666,
              "#ed7953"
             ],
             [
              0.7777777777777778,
              "#fb9f3a"
             ],
             [
              0.8888888888888888,
              "#fdca26"
             ],
             [
              1,
              "#f0f921"
             ]
            ],
            "type": "histogram2d"
           }
          ],
          "histogram2dcontour": [
           {
            "colorbar": {
             "outlinewidth": 0,
             "ticks": ""
            },
            "colorscale": [
             [
              0,
              "#0d0887"
             ],
             [
              0.1111111111111111,
              "#46039f"
             ],
             [
              0.2222222222222222,
              "#7201a8"
             ],
             [
              0.3333333333333333,
              "#9c179e"
             ],
             [
              0.4444444444444444,
              "#bd3786"
             ],
             [
              0.5555555555555556,
              "#d8576b"
             ],
             [
              0.6666666666666666,
              "#ed7953"
             ],
             [
              0.7777777777777778,
              "#fb9f3a"
             ],
             [
              0.8888888888888888,
              "#fdca26"
             ],
             [
              1,
              "#f0f921"
             ]
            ],
            "type": "histogram2dcontour"
           }
          ],
          "mesh3d": [
           {
            "colorbar": {
             "outlinewidth": 0,
             "ticks": ""
            },
            "type": "mesh3d"
           }
          ],
          "parcoords": [
           {
            "line": {
             "colorbar": {
              "outlinewidth": 0,
              "ticks": ""
             }
            },
            "type": "parcoords"
           }
          ],
          "pie": [
           {
            "automargin": true,
            "type": "pie"
           }
          ],
          "scatter": [
           {
            "marker": {
             "colorbar": {
              "outlinewidth": 0,
              "ticks": ""
             }
            },
            "type": "scatter"
           }
          ],
          "scatter3d": [
           {
            "line": {
             "colorbar": {
              "outlinewidth": 0,
              "ticks": ""
             }
            },
            "marker": {
             "colorbar": {
              "outlinewidth": 0,
              "ticks": ""
             }
            },
            "type": "scatter3d"
           }
          ],
          "scattercarpet": [
           {
            "marker": {
             "colorbar": {
              "outlinewidth": 0,
              "ticks": ""
             }
            },
            "type": "scattercarpet"
           }
          ],
          "scattergeo": [
           {
            "marker": {
             "colorbar": {
              "outlinewidth": 0,
              "ticks": ""
             }
            },
            "type": "scattergeo"
           }
          ],
          "scattergl": [
           {
            "marker": {
             "colorbar": {
              "outlinewidth": 0,
              "ticks": ""
             }
            },
            "type": "scattergl"
           }
          ],
          "scattermapbox": [
           {
            "marker": {
             "colorbar": {
              "outlinewidth": 0,
              "ticks": ""
             }
            },
            "type": "scattermapbox"
           }
          ],
          "scatterpolar": [
           {
            "marker": {
             "colorbar": {
              "outlinewidth": 0,
              "ticks": ""
             }
            },
            "type": "scatterpolar"
           }
          ],
          "scatterpolargl": [
           {
            "marker": {
             "colorbar": {
              "outlinewidth": 0,
              "ticks": ""
             }
            },
            "type": "scatterpolargl"
           }
          ],
          "scatterternary": [
           {
            "marker": {
             "colorbar": {
              "outlinewidth": 0,
              "ticks": ""
             }
            },
            "type": "scatterternary"
           }
          ],
          "surface": [
           {
            "colorbar": {
             "outlinewidth": 0,
             "ticks": ""
            },
            "colorscale": [
             [
              0,
              "#0d0887"
             ],
             [
              0.1111111111111111,
              "#46039f"
             ],
             [
              0.2222222222222222,
              "#7201a8"
             ],
             [
              0.3333333333333333,
              "#9c179e"
             ],
             [
              0.4444444444444444,
              "#bd3786"
             ],
             [
              0.5555555555555556,
              "#d8576b"
             ],
             [
              0.6666666666666666,
              "#ed7953"
             ],
             [
              0.7777777777777778,
              "#fb9f3a"
             ],
             [
              0.8888888888888888,
              "#fdca26"
             ],
             [
              1,
              "#f0f921"
             ]
            ],
            "type": "surface"
           }
          ],
          "table": [
           {
            "cells": {
             "fill": {
              "color": "#EBF0F8"
             },
             "line": {
              "color": "white"
             }
            },
            "header": {
             "fill": {
              "color": "#C8D4E3"
             },
             "line": {
              "color": "white"
             }
            },
            "type": "table"
           }
          ]
         },
         "layout": {
          "annotationdefaults": {
           "arrowcolor": "#2a3f5f",
           "arrowhead": 0,
           "arrowwidth": 1
          },
          "autotypenumbers": "strict",
          "coloraxis": {
           "colorbar": {
            "outlinewidth": 0,
            "ticks": ""
           }
          },
          "colorscale": {
           "diverging": [
            [
             0,
             "#8e0152"
            ],
            [
             0.1,
             "#c51b7d"
            ],
            [
             0.2,
             "#de77ae"
            ],
            [
             0.3,
             "#f1b6da"
            ],
            [
             0.4,
             "#fde0ef"
            ],
            [
             0.5,
             "#f7f7f7"
            ],
            [
             0.6,
             "#e6f5d0"
            ],
            [
             0.7,
             "#b8e186"
            ],
            [
             0.8,
             "#7fbc41"
            ],
            [
             0.9,
             "#4d9221"
            ],
            [
             1,
             "#276419"
            ]
           ],
           "sequential": [
            [
             0,
             "#0d0887"
            ],
            [
             0.1111111111111111,
             "#46039f"
            ],
            [
             0.2222222222222222,
             "#7201a8"
            ],
            [
             0.3333333333333333,
             "#9c179e"
            ],
            [
             0.4444444444444444,
             "#bd3786"
            ],
            [
             0.5555555555555556,
             "#d8576b"
            ],
            [
             0.6666666666666666,
             "#ed7953"
            ],
            [
             0.7777777777777778,
             "#fb9f3a"
            ],
            [
             0.8888888888888888,
             "#fdca26"
            ],
            [
             1,
             "#f0f921"
            ]
           ],
           "sequentialminus": [
            [
             0,
             "#0d0887"
            ],
            [
             0.1111111111111111,
             "#46039f"
            ],
            [
             0.2222222222222222,
             "#7201a8"
            ],
            [
             0.3333333333333333,
             "#9c179e"
            ],
            [
             0.4444444444444444,
             "#bd3786"
            ],
            [
             0.5555555555555556,
             "#d8576b"
            ],
            [
             0.6666666666666666,
             "#ed7953"
            ],
            [
             0.7777777777777778,
             "#fb9f3a"
            ],
            [
             0.8888888888888888,
             "#fdca26"
            ],
            [
             1,
             "#f0f921"
            ]
           ]
          },
          "colorway": [
           "#636efa",
           "#EF553B",
           "#00cc96",
           "#ab63fa",
           "#FFA15A",
           "#19d3f3",
           "#FF6692",
           "#B6E880",
           "#FF97FF",
           "#FECB52"
          ],
          "font": {
           "color": "#2a3f5f"
          },
          "geo": {
           "bgcolor": "white",
           "lakecolor": "white",
           "landcolor": "#E5ECF6",
           "showlakes": true,
           "showland": true,
           "subunitcolor": "white"
          },
          "hoverlabel": {
           "align": "left"
          },
          "hovermode": "closest",
          "mapbox": {
           "style": "light"
          },
          "paper_bgcolor": "white",
          "plot_bgcolor": "#E5ECF6",
          "polar": {
           "angularaxis": {
            "gridcolor": "white",
            "linecolor": "white",
            "ticks": ""
           },
           "bgcolor": "#E5ECF6",
           "radialaxis": {
            "gridcolor": "white",
            "linecolor": "white",
            "ticks": ""
           }
          },
          "scene": {
           "xaxis": {
            "backgroundcolor": "#E5ECF6",
            "gridcolor": "white",
            "gridwidth": 2,
            "linecolor": "white",
            "showbackground": true,
            "ticks": "",
            "zerolinecolor": "white"
           },
           "yaxis": {
            "backgroundcolor": "#E5ECF6",
            "gridcolor": "white",
            "gridwidth": 2,
            "linecolor": "white",
            "showbackground": true,
            "ticks": "",
            "zerolinecolor": "white"
           },
           "zaxis": {
            "backgroundcolor": "#E5ECF6",
            "gridcolor": "white",
            "gridwidth": 2,
            "linecolor": "white",
            "showbackground": true,
            "ticks": "",
            "zerolinecolor": "white"
           }
          },
          "shapedefaults": {
           "line": {
            "color": "#2a3f5f"
           }
          },
          "ternary": {
           "aaxis": {
            "gridcolor": "white",
            "linecolor": "white",
            "ticks": ""
           },
           "baxis": {
            "gridcolor": "white",
            "linecolor": "white",
            "ticks": ""
           },
           "bgcolor": "#E5ECF6",
           "caxis": {
            "gridcolor": "white",
            "linecolor": "white",
            "ticks": ""
           }
          },
          "title": {
           "x": 0.05
          },
          "xaxis": {
           "automargin": true,
           "gridcolor": "white",
           "linecolor": "white",
           "ticks": "",
           "title": {
            "standoff": 15
           },
           "zerolinecolor": "white",
           "zerolinewidth": 2
          },
          "yaxis": {
           "automargin": true,
           "gridcolor": "white",
           "linecolor": "white",
           "ticks": "",
           "title": {
            "standoff": 15
           },
           "zerolinecolor": "white",
           "zerolinewidth": 2
          }
         }
        },
        "title": {
         "font": {
          "color": "#4D5663"
         }
        },
        "xaxis": {
         "gridcolor": "#E1E5ED",
         "showgrid": true,
         "tickfont": {
          "color": "#4D5663"
         },
         "title": {
          "font": {
           "color": "#4D5663"
          },
          "text": ""
         },
         "zerolinecolor": "#E1E5ED"
        },
        "yaxis": {
         "gridcolor": "#E1E5ED",
         "showgrid": true,
         "tickfont": {
          "color": "#4D5663"
         },
         "title": {
          "font": {
           "color": "#4D5663"
          },
          "text": ""
         },
         "zerolinecolor": "#E1E5ED"
        }
       }
      },
      "text/html": [
       "<div>                            <div id=\"dc555fca-99be-46df-ae9f-695dfc4a4c2f\" class=\"plotly-graph-div\" style=\"height:525px; width:100%;\"></div>            <script type=\"text/javascript\">                require([\"plotly\"], function(Plotly) {                    window.PLOTLYENV=window.PLOTLYENV || {};\n",
       "                    window.PLOTLYENV.BASE_URL='https://plot.ly';                                    if (document.getElementById(\"dc555fca-99be-46df-ae9f-695dfc4a4c2f\")) {                    Plotly.newPlot(                        \"dc555fca-99be-46df-ae9f-695dfc4a4c2f\",                        [{\"marker\": {\"color\": \"rgba(255, 153, 51, 0.6)\", \"line\": {\"color\": \"rgba(255, 153, 51, 1.0)\", \"width\": 1}}, \"name\": \"None\", \"orientation\": \"v\", \"text\": \"\", \"type\": \"bar\", \"x\": [\"A\", \"B\", \"C\", \"D\"], \"y\": [100, 100, 100, 100]}],                        {\"legend\": {\"bgcolor\": \"#F5F6F9\", \"font\": {\"color\": \"#4D5663\"}}, \"paper_bgcolor\": \"#F5F6F9\", \"plot_bgcolor\": \"#F5F6F9\", \"template\": {\"data\": {\"bar\": [{\"error_x\": {\"color\": \"#2a3f5f\"}, \"error_y\": {\"color\": \"#2a3f5f\"}, \"marker\": {\"line\": {\"color\": \"#E5ECF6\", \"width\": 0.5}}, \"type\": \"bar\"}], \"barpolar\": [{\"marker\": {\"line\": {\"color\": \"#E5ECF6\", \"width\": 0.5}}, \"type\": \"barpolar\"}], \"carpet\": [{\"aaxis\": {\"endlinecolor\": \"#2a3f5f\", \"gridcolor\": \"white\", \"linecolor\": \"white\", \"minorgridcolor\": \"white\", \"startlinecolor\": \"#2a3f5f\"}, \"baxis\": {\"endlinecolor\": \"#2a3f5f\", \"gridcolor\": \"white\", \"linecolor\": \"white\", \"minorgridcolor\": \"white\", \"startlinecolor\": \"#2a3f5f\"}, \"type\": \"carpet\"}], \"choropleth\": [{\"colorbar\": {\"outlinewidth\": 0, \"ticks\": \"\"}, \"type\": \"choropleth\"}], \"contour\": [{\"colorbar\": {\"outlinewidth\": 0, \"ticks\": \"\"}, \"colorscale\": [[0.0, \"#0d0887\"], [0.1111111111111111, \"#46039f\"], [0.2222222222222222, \"#7201a8\"], [0.3333333333333333, \"#9c179e\"], [0.4444444444444444, \"#bd3786\"], [0.5555555555555556, \"#d8576b\"], [0.6666666666666666, \"#ed7953\"], [0.7777777777777778, \"#fb9f3a\"], [0.8888888888888888, \"#fdca26\"], [1.0, \"#f0f921\"]], \"type\": \"contour\"}], \"contourcarpet\": [{\"colorbar\": {\"outlinewidth\": 0, \"ticks\": \"\"}, \"type\": \"contourcarpet\"}], \"heatmap\": [{\"colorbar\": {\"outlinewidth\": 0, \"ticks\": \"\"}, \"colorscale\": [[0.0, \"#0d0887\"], [0.1111111111111111, \"#46039f\"], [0.2222222222222222, \"#7201a8\"], [0.3333333333333333, \"#9c179e\"], [0.4444444444444444, \"#bd3786\"], [0.5555555555555556, \"#d8576b\"], [0.6666666666666666, \"#ed7953\"], [0.7777777777777778, \"#fb9f3a\"], [0.8888888888888888, \"#fdca26\"], [1.0, \"#f0f921\"]], \"type\": \"heatmap\"}], \"heatmapgl\": [{\"colorbar\": {\"outlinewidth\": 0, \"ticks\": \"\"}, \"colorscale\": [[0.0, \"#0d0887\"], [0.1111111111111111, \"#46039f\"], [0.2222222222222222, \"#7201a8\"], [0.3333333333333333, \"#9c179e\"], [0.4444444444444444, \"#bd3786\"], [0.5555555555555556, \"#d8576b\"], [0.6666666666666666, \"#ed7953\"], [0.7777777777777778, \"#fb9f3a\"], [0.8888888888888888, \"#fdca26\"], [1.0, \"#f0f921\"]], \"type\": \"heatmapgl\"}], \"histogram\": [{\"marker\": {\"colorbar\": {\"outlinewidth\": 0, \"ticks\": \"\"}}, \"type\": \"histogram\"}], \"histogram2d\": [{\"colorbar\": {\"outlinewidth\": 0, \"ticks\": \"\"}, \"colorscale\": [[0.0, \"#0d0887\"], [0.1111111111111111, \"#46039f\"], [0.2222222222222222, \"#7201a8\"], [0.3333333333333333, \"#9c179e\"], [0.4444444444444444, \"#bd3786\"], [0.5555555555555556, \"#d8576b\"], [0.6666666666666666, \"#ed7953\"], [0.7777777777777778, \"#fb9f3a\"], [0.8888888888888888, \"#fdca26\"], [1.0, \"#f0f921\"]], \"type\": \"histogram2d\"}], \"histogram2dcontour\": [{\"colorbar\": {\"outlinewidth\": 0, \"ticks\": \"\"}, \"colorscale\": [[0.0, \"#0d0887\"], [0.1111111111111111, \"#46039f\"], [0.2222222222222222, \"#7201a8\"], [0.3333333333333333, \"#9c179e\"], [0.4444444444444444, \"#bd3786\"], [0.5555555555555556, \"#d8576b\"], [0.6666666666666666, \"#ed7953\"], [0.7777777777777778, \"#fb9f3a\"], [0.8888888888888888, \"#fdca26\"], [1.0, \"#f0f921\"]], \"type\": \"histogram2dcontour\"}], \"mesh3d\": [{\"colorbar\": {\"outlinewidth\": 0, \"ticks\": \"\"}, \"type\": \"mesh3d\"}], \"parcoords\": [{\"line\": {\"colorbar\": {\"outlinewidth\": 0, \"ticks\": \"\"}}, \"type\": \"parcoords\"}], \"pie\": [{\"automargin\": true, \"type\": \"pie\"}], \"scatter\": [{\"marker\": {\"colorbar\": {\"outlinewidth\": 0, \"ticks\": \"\"}}, \"type\": \"scatter\"}], \"scatter3d\": [{\"line\": {\"colorbar\": {\"outlinewidth\": 0, \"ticks\": \"\"}}, \"marker\": {\"colorbar\": {\"outlinewidth\": 0, \"ticks\": \"\"}}, \"type\": \"scatter3d\"}], \"scattercarpet\": [{\"marker\": {\"colorbar\": {\"outlinewidth\": 0, \"ticks\": \"\"}}, \"type\": \"scattercarpet\"}], \"scattergeo\": [{\"marker\": {\"colorbar\": {\"outlinewidth\": 0, \"ticks\": \"\"}}, \"type\": \"scattergeo\"}], \"scattergl\": [{\"marker\": {\"colorbar\": {\"outlinewidth\": 0, \"ticks\": \"\"}}, \"type\": \"scattergl\"}], \"scattermapbox\": [{\"marker\": {\"colorbar\": {\"outlinewidth\": 0, \"ticks\": \"\"}}, \"type\": \"scattermapbox\"}], \"scatterpolar\": [{\"marker\": {\"colorbar\": {\"outlinewidth\": 0, \"ticks\": \"\"}}, \"type\": \"scatterpolar\"}], \"scatterpolargl\": [{\"marker\": {\"colorbar\": {\"outlinewidth\": 0, \"ticks\": \"\"}}, \"type\": \"scatterpolargl\"}], \"scatterternary\": [{\"marker\": {\"colorbar\": {\"outlinewidth\": 0, \"ticks\": \"\"}}, \"type\": \"scatterternary\"}], \"surface\": [{\"colorbar\": {\"outlinewidth\": 0, \"ticks\": \"\"}, \"colorscale\": [[0.0, \"#0d0887\"], [0.1111111111111111, \"#46039f\"], [0.2222222222222222, \"#7201a8\"], [0.3333333333333333, \"#9c179e\"], [0.4444444444444444, \"#bd3786\"], [0.5555555555555556, \"#d8576b\"], [0.6666666666666666, \"#ed7953\"], [0.7777777777777778, \"#fb9f3a\"], [0.8888888888888888, \"#fdca26\"], [1.0, \"#f0f921\"]], \"type\": \"surface\"}], \"table\": [{\"cells\": {\"fill\": {\"color\": \"#EBF0F8\"}, \"line\": {\"color\": \"white\"}}, \"header\": {\"fill\": {\"color\": \"#C8D4E3\"}, \"line\": {\"color\": \"white\"}}, \"type\": \"table\"}]}, \"layout\": {\"annotationdefaults\": {\"arrowcolor\": \"#2a3f5f\", \"arrowhead\": 0, \"arrowwidth\": 1}, \"autotypenumbers\": \"strict\", \"coloraxis\": {\"colorbar\": {\"outlinewidth\": 0, \"ticks\": \"\"}}, \"colorscale\": {\"diverging\": [[0, \"#8e0152\"], [0.1, \"#c51b7d\"], [0.2, \"#de77ae\"], [0.3, \"#f1b6da\"], [0.4, \"#fde0ef\"], [0.5, \"#f7f7f7\"], [0.6, \"#e6f5d0\"], [0.7, \"#b8e186\"], [0.8, \"#7fbc41\"], [0.9, \"#4d9221\"], [1, \"#276419\"]], \"sequential\": [[0.0, \"#0d0887\"], [0.1111111111111111, \"#46039f\"], [0.2222222222222222, \"#7201a8\"], [0.3333333333333333, \"#9c179e\"], [0.4444444444444444, \"#bd3786\"], [0.5555555555555556, \"#d8576b\"], [0.6666666666666666, \"#ed7953\"], [0.7777777777777778, \"#fb9f3a\"], [0.8888888888888888, \"#fdca26\"], [1.0, \"#f0f921\"]], \"sequentialminus\": [[0.0, \"#0d0887\"], [0.1111111111111111, \"#46039f\"], [0.2222222222222222, \"#7201a8\"], [0.3333333333333333, \"#9c179e\"], [0.4444444444444444, \"#bd3786\"], [0.5555555555555556, \"#d8576b\"], [0.6666666666666666, \"#ed7953\"], [0.7777777777777778, \"#fb9f3a\"], [0.8888888888888888, \"#fdca26\"], [1.0, \"#f0f921\"]]}, \"colorway\": [\"#636efa\", \"#EF553B\", \"#00cc96\", \"#ab63fa\", \"#FFA15A\", \"#19d3f3\", \"#FF6692\", \"#B6E880\", \"#FF97FF\", \"#FECB52\"], \"font\": {\"color\": \"#2a3f5f\"}, \"geo\": {\"bgcolor\": \"white\", \"lakecolor\": \"white\", \"landcolor\": \"#E5ECF6\", \"showlakes\": true, \"showland\": true, \"subunitcolor\": \"white\"}, \"hoverlabel\": {\"align\": \"left\"}, \"hovermode\": \"closest\", \"mapbox\": {\"style\": \"light\"}, \"paper_bgcolor\": \"white\", \"plot_bgcolor\": \"#E5ECF6\", \"polar\": {\"angularaxis\": {\"gridcolor\": \"white\", \"linecolor\": \"white\", \"ticks\": \"\"}, \"bgcolor\": \"#E5ECF6\", \"radialaxis\": {\"gridcolor\": \"white\", \"linecolor\": \"white\", \"ticks\": \"\"}}, \"scene\": {\"xaxis\": {\"backgroundcolor\": \"#E5ECF6\", \"gridcolor\": \"white\", \"gridwidth\": 2, \"linecolor\": \"white\", \"showbackground\": true, \"ticks\": \"\", \"zerolinecolor\": \"white\"}, \"yaxis\": {\"backgroundcolor\": \"#E5ECF6\", \"gridcolor\": \"white\", \"gridwidth\": 2, \"linecolor\": \"white\", \"showbackground\": true, \"ticks\": \"\", \"zerolinecolor\": \"white\"}, \"zaxis\": {\"backgroundcolor\": \"#E5ECF6\", \"gridcolor\": \"white\", \"gridwidth\": 2, \"linecolor\": \"white\", \"showbackground\": true, \"ticks\": \"\", \"zerolinecolor\": \"white\"}}, \"shapedefaults\": {\"line\": {\"color\": \"#2a3f5f\"}}, \"ternary\": {\"aaxis\": {\"gridcolor\": \"white\", \"linecolor\": \"white\", \"ticks\": \"\"}, \"baxis\": {\"gridcolor\": \"white\", \"linecolor\": \"white\", \"ticks\": \"\"}, \"bgcolor\": \"#E5ECF6\", \"caxis\": {\"gridcolor\": \"white\", \"linecolor\": \"white\", \"ticks\": \"\"}}, \"title\": {\"x\": 0.05}, \"xaxis\": {\"automargin\": true, \"gridcolor\": \"white\", \"linecolor\": \"white\", \"ticks\": \"\", \"title\": {\"standoff\": 15}, \"zerolinecolor\": \"white\", \"zerolinewidth\": 2}, \"yaxis\": {\"automargin\": true, \"gridcolor\": \"white\", \"linecolor\": \"white\", \"ticks\": \"\", \"title\": {\"standoff\": 15}, \"zerolinecolor\": \"white\", \"zerolinewidth\": 2}}}, \"title\": {\"font\": {\"color\": \"#4D5663\"}}, \"xaxis\": {\"gridcolor\": \"#E1E5ED\", \"showgrid\": true, \"tickfont\": {\"color\": \"#4D5663\"}, \"title\": {\"font\": {\"color\": \"#4D5663\"}, \"text\": \"\"}, \"zerolinecolor\": \"#E1E5ED\"}, \"yaxis\": {\"gridcolor\": \"#E1E5ED\", \"showgrid\": true, \"tickfont\": {\"color\": \"#4D5663\"}, \"title\": {\"font\": {\"color\": \"#4D5663\"}, \"text\": \"\"}, \"zerolinecolor\": \"#E1E5ED\"}},                        {\"showLink\": true, \"linkText\": \"Export to plot.ly\", \"plotlyServerURL\": \"https://plot.ly\", \"responsive\": true}                    ).then(function(){\n",
       "                            \n",
       "var gd = document.getElementById('dc555fca-99be-46df-ae9f-695dfc4a4c2f');\n",
       "var x = new MutationObserver(function (mutations, observer) {{\n",
       "        var display = window.getComputedStyle(gd).display;\n",
       "        if (!display || display === 'none') {{\n",
       "            console.log([gd, 'removed!']);\n",
       "            Plotly.purge(gd);\n",
       "            observer.disconnect();\n",
       "        }}\n",
       "}});\n",
       "\n",
       "// Listen for the removal of the full notebook cells\n",
       "var notebookContainer = gd.closest('#notebook-container');\n",
       "if (notebookContainer) {{\n",
       "    x.observe(notebookContainer, {childList: true});\n",
       "}}\n",
       "\n",
       "// Listen for the clearing of the current output cell\n",
       "var outputEl = gd.closest('.output');\n",
       "if (outputEl) {{\n",
       "    x.observe(outputEl, {childList: true});\n",
       "}}\n",
       "\n",
       "                        })                };                });            </script>        </div>"
      ]
     },
     "metadata": {},
     "output_type": "display_data"
    }
   ],
   "source": [
    "df.count().iplot(kind='bar')"
   ]
  },
  {
   "cell_type": "markdown",
   "metadata": {},
   "source": [
    "## Boxplots"
   ]
  },
  {
   "cell_type": "code",
   "execution_count": 15,
   "metadata": {},
   "outputs": [
    {
     "data": {
      "application/vnd.plotly.v1+json": {
       "config": {
        "linkText": "Export to plot.ly",
        "plotlyServerURL": "https://plot.ly",
        "showLink": true
       },
       "data": [
        {
         "boxpoints": false,
         "line": {
          "width": 1.3
         },
         "marker": {
          "color": "rgba(255, 153, 51, 1.0)"
         },
         "name": "A",
         "orientation": "v",
         "type": "box",
         "y": [
          0.5543778778007974,
          1.305477680709373,
          -0.024430440104519096,
          -2.215780260803809,
          2.0311597958353804,
          -0.4640646961126891,
          0.8170695248510517,
          -0.7028901071685868,
          -1.3491332354884638,
          -0.6161054436764591,
          -0.9280833246496767,
          -0.202066973522514,
          -0.21977179427645022,
          -1.0499809344704083,
          -0.5538206199663367,
          0.2265782866540906,
          -1.281844393909573,
          1.2908776366987078,
          0.18933031627514868,
          1.3223490944050604,
          -0.6917365578725994,
          -0.5431131287020351,
          -0.2909553413115204,
          1.0750396385991803,
          0.7429454183000217,
          0.22129435093050254,
          -0.8614967063028686,
          -1.1268504523534668,
          0.7849954275435155,
          -2.0462048630969756,
          -0.008315388606309645,
          -0.18690885675627897,
          -0.7438181606657309,
          0.15288541099547315,
          0.014475441184176124,
          0.14950478033843956,
          -0.8196188460104581,
          0.6817811904730309,
          -1.2529214477062713,
          0.9734419093151444,
          0.46920101432825234,
          -1.8738939153410312,
          -1.0442171806553078,
          -0.38907289675682377,
          0.3414085214985565,
          -0.12856373579884875,
          0.7687266580761056,
          -1.054510339601767,
          -1.3749782443374008,
          0.08569403027435128,
          -0.5857738419042354,
          -1.7400601235515123,
          -0.03888180835654369,
          1.5662535457997817,
          -1.135373142936974,
          -1.1788653754026897,
          0.9584474836768704,
          0.8452506568614417,
          1.4097083184823593,
          1.380708985476826,
          -1.3203287612461103,
          -0.38364821453678444,
          -0.9971480233412237,
          0.3380732888858674,
          0.16534288637466557,
          -1.8140009513685151,
          0.9591220114764414,
          -0.7781011149097469,
          -0.9474226100958619,
          1.2943556874594229,
          0.1767544740810032,
          0.16052773335204457,
          -0.015433744952918096,
          -0.396594278243572,
          0.0392082424630884,
          -0.27494729328742556,
          0.8543890775430171,
          -0.17733028237964166,
          -1.0041492512236738,
          -0.3683532174905001,
          -0.4573037611863631,
          0.40586150069244475,
          0.7486343120609291,
          -1.009040149912704,
          -1.0528459653868723,
          -0.7337506006203001,
          0.8784811637364917,
          -1.2029475450319733,
          0.5139496552971384,
          0.016740108317212347,
          1.504783869463037,
          0.26307969919951585,
          0.732239718818574,
          0.12788599762890387,
          0.28310262019622595,
          0.37445293983738454,
          -0.802281753308722,
          -0.3215480974218836,
          0.030026716197300258,
          0.8956302931209041
         ]
        },
        {
         "boxpoints": false,
         "line": {
          "width": 1.3
         },
         "marker": {
          "color": "rgba(55, 128, 191, 1.0)"
         },
         "name": "B",
         "orientation": "v",
         "type": "box",
         "y": [
          0.6573420948764968,
          0.10927452064301324,
          -1.1693955571656995,
          0.27038277765157015,
          -0.6334428219861441,
          -0.7310049423608668,
          -0.9061497273341353,
          -0.17952398194820196,
          0.5290628366347644,
          -0.3277282850274606,
          0.4805066939717914,
          0.4305331075124773,
          1.5367349716397587,
          0.9288429958501185,
          -0.13154094045274825,
          -0.008054556044534996,
          -0.3549430884093958,
          -0.5518746001809784,
          -0.3744331900872491,
          -1.1466740102851765,
          0.42116918545774723,
          -1.2433821954666222,
          0.5342388046341497,
          -1.2576208065547367,
          -0.22244895651178917,
          1.3712309698798104,
          -0.5502388311820707,
          -1.5928047353411585,
          0.13055640769860827,
          0.9981990385975217,
          -0.7336616425525483,
          0.4351102368339564,
          -0.32225790472622995,
          0.7413449967439579,
          0.3721174073425647,
          0.512721239719747,
          -0.740110741950452,
          0.6957972672159145,
          0.830729579395018,
          0.3887161572657043,
          0.6150346953707452,
          -0.5082427724892878,
          -0.49489182061779347,
          -0.01716986251555328,
          2.3602710200722505,
          -0.8218874927980011,
          0.22427309131500953,
          -0.29005880893778097,
          1.1779260056622485,
          -0.11748454801166518,
          0.3402397024055858,
          -0.35552836385523023,
          -0.16451996357588944,
          0.7034108409217701,
          0.477435014841578,
          1.1923449016301306,
          0.2965107406624185,
          0.46063736138339956,
          -1.0508179558055617,
          0.9783239970892182,
          -0.6237161393238063,
          -0.9411186378701619,
          0.8606564080610469,
          -0.8956632154241032,
          -0.0014160494534910955,
          -2.7962656734900455,
          -1.11910796542192,
          -1.2596609578746518,
          -0.1491127134080697,
          -1.824555021548616,
          -0.4624946856160559,
          -0.36554135435135815,
          1.2474035413162488,
          0.5151989771478599,
          -0.48799114484926626,
          0.9900683597616949,
          -0.32106797524051484,
          -0.9560897765749078,
          1.0444631985284405,
          0.1693601699087248,
          -0.1770841413625548,
          0.7422150630812716,
          0.0691231084306441,
          1.6744750921176692,
          -0.49391613899722053,
          -1.1450714835966944,
          1.8517986856387725,
          -0.3470835160544637,
          0.017777108580660606,
          0.6695030039630508,
          0.9362583269580034,
          -0.007334188774526295,
          -2.110221712510784,
          0.22241278040537338,
          0.07030621148623364,
          -0.9278741288272946,
          -0.5190491244263271,
          0.49593328011174986,
          -1.5689689364140202,
          1.638871879947243
         ]
        },
        {
         "boxpoints": false,
         "line": {
          "width": 1.3
         },
         "marker": {
          "color": "rgba(50, 171, 96, 1.0)"
         },
         "name": "C",
         "orientation": "v",
         "type": "box",
         "y": [
          0.7244304689755025,
          -1.533983970442844,
          -0.8551965324693319,
          -0.21842396186050003,
          -0.8532533117021437,
          -0.41166768307331203,
          0.7899538959392478,
          0.7390443968383061,
          -0.1650409867083505,
          2.3192654117931517,
          0.19235720643663545,
          -0.3527494759354997,
          0.5379148935264183,
          1.151835522011878,
          0.410395706493336,
          -0.11322677357340596,
          -1.46052207468903,
          -2.1648591394336982,
          -0.6525447916866529,
          -0.9100413446513409,
          -0.747466205750414,
          1.1475769101042284,
          -0.49641937662382046,
          0.7076411173739081,
          0.6912206026375171,
          0.11950304092223074,
          1.370187530388152,
          0.11643952252661999,
          -1.2336454589240649,
          -0.11690834690009214,
          2.3758572522107984,
          1.1843058184002344,
          0.3765039550324145,
          0.7198036996826873,
          0.9785538917325063,
          -2.016234657312846,
          0.10617672351885425,
          2.0123560844756794,
          0.9153310454913948,
          -0.18378483417770797,
          0.23969376760187158,
          0.6791877201714943,
          0.9573132623988388,
          -1.0464448050501058,
          -0.3449411634488827,
          -0.3926197060978508,
          -0.9426043186309948,
          0.09939814360656844,
          -1.954695379723464,
          0.14046890726213504,
          -0.8921357411717747,
          -1.9039040898333706,
          0.695723707567566,
          -0.10598952610412118,
          0.4169694256325223,
          0.635967656503169,
          0.4789638471760461,
          1.2734421046589668,
          0.7186745083012429,
          1.2563299081568011,
          -0.33214823963395507,
          -0.9656841776341377,
          2.289413173500102,
          1.3092990926850652,
          -0.892576509571412,
          0.20724766002262104,
          0.7764749480109313,
          -1.248379330337918,
          -0.5032037675966533,
          -1.5039078981565954,
          -0.4207475623140223,
          1.6036727162295665,
          -0.37639518481106476,
          1.239601224875782,
          0.6741355989888205,
          0.08936993933782973,
          0.10123310095520902,
          0.768381792319711,
          -0.9686989011246583,
          1.7946005838742298,
          3.0969375898602385,
          -1.4711474979283572,
          -1.0202609189901672,
          0.7648994507480035,
          -1.0125010975608562,
          0.9283353995832332,
          -0.03823273735705004,
          1.009838122694425,
          -1.1170490909926611,
          0.798685997086948,
          -0.49173757424374465,
          -0.7952774759570184,
          -0.7987505975547264,
          0.5358047436783937,
          -0.18837515610341052,
          -0.5430887201824659,
          -0.294189176186617,
          -2.24606624069467,
          -1.508441107667698,
          -0.5262834046440897
         ]
        },
        {
         "boxpoints": false,
         "line": {
          "width": 1.3
         },
         "marker": {
          "color": "rgba(128, 0, 128, 1.0)"
         },
         "name": "D",
         "orientation": "v",
         "type": "box",
         "y": [
          1.3372397297971201,
          -0.4239591565658293,
          -0.04566719693012255,
          -0.6338615398074309,
          1.1059869163631222,
          1.8042419566854349,
          -0.24881889324433362,
          0.2607699178118119,
          0.02341678852797691,
          -2.159594375405308,
          2.0797364103026155,
          -1.6157114222770763,
          0.6098428782924017,
          0.5431891448450611,
          -0.10894230792445356,
          1.784299612239051,
          0.678682894159494,
          -0.398063553637055,
          0.43304685945250826,
          0.712177085232851,
          -1.893397794540836,
          0.2926069391483394,
          2.709939056186151,
          -0.8496608247163772,
          0.12646113627954034,
          -0.5997649116260788,
          -1.4117130705440308,
          -0.702625003571693,
          0.6757784449777456,
          1.0448164740450137,
          1.155383021285753,
          1.1111111902223914,
          0.24668935610102122,
          -1.7836251190447499,
          0.07330848506865163,
          0.4273459843453372,
          0.2516215632532902,
          -0.16793153037302008,
          -0.2000992425317462,
          -0.7850705490039983,
          0.46437895752502273,
          -0.3288488640935351,
          0.8962441284165542,
          -0.8336462068189796,
          0.7827381799073114,
          -0.08882544028654762,
          -0.5216291721770336,
          0.46088055365299213,
          0.7418478067740597,
          -0.2606875309478886,
          -0.5708560445284009,
          0.846139874600263,
          0.43890639741737797,
          -0.9034997729015851,
          -1.4106766674539206,
          1.0362046866218027,
          0.5116404533941629,
          -0.13689059577645113,
          -0.7987242743683536,
          -0.5015358701748261,
          -0.09854051256516917,
          0.8210305538185133,
          -0.5903394526588178,
          -0.2338492678262089,
          0.6433892315972654,
          -0.9566945702143193,
          0.7228124520441599,
          0.5212823204776359,
          -0.4894967549680151,
          -0.5061085403869342,
          0.8827859704308412,
          2.181521214758214,
          -0.22250483103476248,
          -1.9421970407362354,
          0.14512083275490079,
          0.6014447674404136,
          0.6316564277278254,
          0.4863855977607956,
          0.6449654222902111,
          0.720886499996344,
          0.46705598497826933,
          -0.012490643623810055,
          0.5959626629484281,
          0.0301433968987179,
          -1.4804705709374957,
          0.08518040652594563,
          1.1387552565936325,
          0.8996644682564086,
          -0.6720457439718555,
          0.5333882648621263,
          0.673055497441797,
          2.0372985174545204,
          1.2247631980944775,
          -1.0900822923249098,
          1.3031183441348042,
          -2.3977857657732726,
          0.2604034295760553,
          0.0036178012856307694,
          -0.5409273384744031,
          -0.7529943354725642
         ]
        }
       ],
       "layout": {
        "legend": {
         "bgcolor": "#F5F6F9",
         "font": {
          "color": "#4D5663"
         }
        },
        "paper_bgcolor": "#F5F6F9",
        "plot_bgcolor": "#F5F6F9",
        "template": {
         "data": {
          "bar": [
           {
            "error_x": {
             "color": "#2a3f5f"
            },
            "error_y": {
             "color": "#2a3f5f"
            },
            "marker": {
             "line": {
              "color": "#E5ECF6",
              "width": 0.5
             }
            },
            "type": "bar"
           }
          ],
          "barpolar": [
           {
            "marker": {
             "line": {
              "color": "#E5ECF6",
              "width": 0.5
             }
            },
            "type": "barpolar"
           }
          ],
          "carpet": [
           {
            "aaxis": {
             "endlinecolor": "#2a3f5f",
             "gridcolor": "white",
             "linecolor": "white",
             "minorgridcolor": "white",
             "startlinecolor": "#2a3f5f"
            },
            "baxis": {
             "endlinecolor": "#2a3f5f",
             "gridcolor": "white",
             "linecolor": "white",
             "minorgridcolor": "white",
             "startlinecolor": "#2a3f5f"
            },
            "type": "carpet"
           }
          ],
          "choropleth": [
           {
            "colorbar": {
             "outlinewidth": 0,
             "ticks": ""
            },
            "type": "choropleth"
           }
          ],
          "contour": [
           {
            "colorbar": {
             "outlinewidth": 0,
             "ticks": ""
            },
            "colorscale": [
             [
              0,
              "#0d0887"
             ],
             [
              0.1111111111111111,
              "#46039f"
             ],
             [
              0.2222222222222222,
              "#7201a8"
             ],
             [
              0.3333333333333333,
              "#9c179e"
             ],
             [
              0.4444444444444444,
              "#bd3786"
             ],
             [
              0.5555555555555556,
              "#d8576b"
             ],
             [
              0.6666666666666666,
              "#ed7953"
             ],
             [
              0.7777777777777778,
              "#fb9f3a"
             ],
             [
              0.8888888888888888,
              "#fdca26"
             ],
             [
              1,
              "#f0f921"
             ]
            ],
            "type": "contour"
           }
          ],
          "contourcarpet": [
           {
            "colorbar": {
             "outlinewidth": 0,
             "ticks": ""
            },
            "type": "contourcarpet"
           }
          ],
          "heatmap": [
           {
            "colorbar": {
             "outlinewidth": 0,
             "ticks": ""
            },
            "colorscale": [
             [
              0,
              "#0d0887"
             ],
             [
              0.1111111111111111,
              "#46039f"
             ],
             [
              0.2222222222222222,
              "#7201a8"
             ],
             [
              0.3333333333333333,
              "#9c179e"
             ],
             [
              0.4444444444444444,
              "#bd3786"
             ],
             [
              0.5555555555555556,
              "#d8576b"
             ],
             [
              0.6666666666666666,
              "#ed7953"
             ],
             [
              0.7777777777777778,
              "#fb9f3a"
             ],
             [
              0.8888888888888888,
              "#fdca26"
             ],
             [
              1,
              "#f0f921"
             ]
            ],
            "type": "heatmap"
           }
          ],
          "heatmapgl": [
           {
            "colorbar": {
             "outlinewidth": 0,
             "ticks": ""
            },
            "colorscale": [
             [
              0,
              "#0d0887"
             ],
             [
              0.1111111111111111,
              "#46039f"
             ],
             [
              0.2222222222222222,
              "#7201a8"
             ],
             [
              0.3333333333333333,
              "#9c179e"
             ],
             [
              0.4444444444444444,
              "#bd3786"
             ],
             [
              0.5555555555555556,
              "#d8576b"
             ],
             [
              0.6666666666666666,
              "#ed7953"
             ],
             [
              0.7777777777777778,
              "#fb9f3a"
             ],
             [
              0.8888888888888888,
              "#fdca26"
             ],
             [
              1,
              "#f0f921"
             ]
            ],
            "type": "heatmapgl"
           }
          ],
          "histogram": [
           {
            "marker": {
             "colorbar": {
              "outlinewidth": 0,
              "ticks": ""
             }
            },
            "type": "histogram"
           }
          ],
          "histogram2d": [
           {
            "colorbar": {
             "outlinewidth": 0,
             "ticks": ""
            },
            "colorscale": [
             [
              0,
              "#0d0887"
             ],
             [
              0.1111111111111111,
              "#46039f"
             ],
             [
              0.2222222222222222,
              "#7201a8"
             ],
             [
              0.3333333333333333,
              "#9c179e"
             ],
             [
              0.4444444444444444,
              "#bd3786"
             ],
             [
              0.5555555555555556,
              "#d8576b"
             ],
             [
              0.6666666666666666,
              "#ed7953"
             ],
             [
              0.7777777777777778,
              "#fb9f3a"
             ],
             [
              0.8888888888888888,
              "#fdca26"
             ],
             [
              1,
              "#f0f921"
             ]
            ],
            "type": "histogram2d"
           }
          ],
          "histogram2dcontour": [
           {
            "colorbar": {
             "outlinewidth": 0,
             "ticks": ""
            },
            "colorscale": [
             [
              0,
              "#0d0887"
             ],
             [
              0.1111111111111111,
              "#46039f"
             ],
             [
              0.2222222222222222,
              "#7201a8"
             ],
             [
              0.3333333333333333,
              "#9c179e"
             ],
             [
              0.4444444444444444,
              "#bd3786"
             ],
             [
              0.5555555555555556,
              "#d8576b"
             ],
             [
              0.6666666666666666,
              "#ed7953"
             ],
             [
              0.7777777777777778,
              "#fb9f3a"
             ],
             [
              0.8888888888888888,
              "#fdca26"
             ],
             [
              1,
              "#f0f921"
             ]
            ],
            "type": "histogram2dcontour"
           }
          ],
          "mesh3d": [
           {
            "colorbar": {
             "outlinewidth": 0,
             "ticks": ""
            },
            "type": "mesh3d"
           }
          ],
          "parcoords": [
           {
            "line": {
             "colorbar": {
              "outlinewidth": 0,
              "ticks": ""
             }
            },
            "type": "parcoords"
           }
          ],
          "pie": [
           {
            "automargin": true,
            "type": "pie"
           }
          ],
          "scatter": [
           {
            "marker": {
             "colorbar": {
              "outlinewidth": 0,
              "ticks": ""
             }
            },
            "type": "scatter"
           }
          ],
          "scatter3d": [
           {
            "line": {
             "colorbar": {
              "outlinewidth": 0,
              "ticks": ""
             }
            },
            "marker": {
             "colorbar": {
              "outlinewidth": 0,
              "ticks": ""
             }
            },
            "type": "scatter3d"
           }
          ],
          "scattercarpet": [
           {
            "marker": {
             "colorbar": {
              "outlinewidth": 0,
              "ticks": ""
             }
            },
            "type": "scattercarpet"
           }
          ],
          "scattergeo": [
           {
            "marker": {
             "colorbar": {
              "outlinewidth": 0,
              "ticks": ""
             }
            },
            "type": "scattergeo"
           }
          ],
          "scattergl": [
           {
            "marker": {
             "colorbar": {
              "outlinewidth": 0,
              "ticks": ""
             }
            },
            "type": "scattergl"
           }
          ],
          "scattermapbox": [
           {
            "marker": {
             "colorbar": {
              "outlinewidth": 0,
              "ticks": ""
             }
            },
            "type": "scattermapbox"
           }
          ],
          "scatterpolar": [
           {
            "marker": {
             "colorbar": {
              "outlinewidth": 0,
              "ticks": ""
             }
            },
            "type": "scatterpolar"
           }
          ],
          "scatterpolargl": [
           {
            "marker": {
             "colorbar": {
              "outlinewidth": 0,
              "ticks": ""
             }
            },
            "type": "scatterpolargl"
           }
          ],
          "scatterternary": [
           {
            "marker": {
             "colorbar": {
              "outlinewidth": 0,
              "ticks": ""
             }
            },
            "type": "scatterternary"
           }
          ],
          "surface": [
           {
            "colorbar": {
             "outlinewidth": 0,
             "ticks": ""
            },
            "colorscale": [
             [
              0,
              "#0d0887"
             ],
             [
              0.1111111111111111,
              "#46039f"
             ],
             [
              0.2222222222222222,
              "#7201a8"
             ],
             [
              0.3333333333333333,
              "#9c179e"
             ],
             [
              0.4444444444444444,
              "#bd3786"
             ],
             [
              0.5555555555555556,
              "#d8576b"
             ],
             [
              0.6666666666666666,
              "#ed7953"
             ],
             [
              0.7777777777777778,
              "#fb9f3a"
             ],
             [
              0.8888888888888888,
              "#fdca26"
             ],
             [
              1,
              "#f0f921"
             ]
            ],
            "type": "surface"
           }
          ],
          "table": [
           {
            "cells": {
             "fill": {
              "color": "#EBF0F8"
             },
             "line": {
              "color": "white"
             }
            },
            "header": {
             "fill": {
              "color": "#C8D4E3"
             },
             "line": {
              "color": "white"
             }
            },
            "type": "table"
           }
          ]
         },
         "layout": {
          "annotationdefaults": {
           "arrowcolor": "#2a3f5f",
           "arrowhead": 0,
           "arrowwidth": 1
          },
          "autotypenumbers": "strict",
          "coloraxis": {
           "colorbar": {
            "outlinewidth": 0,
            "ticks": ""
           }
          },
          "colorscale": {
           "diverging": [
            [
             0,
             "#8e0152"
            ],
            [
             0.1,
             "#c51b7d"
            ],
            [
             0.2,
             "#de77ae"
            ],
            [
             0.3,
             "#f1b6da"
            ],
            [
             0.4,
             "#fde0ef"
            ],
            [
             0.5,
             "#f7f7f7"
            ],
            [
             0.6,
             "#e6f5d0"
            ],
            [
             0.7,
             "#b8e186"
            ],
            [
             0.8,
             "#7fbc41"
            ],
            [
             0.9,
             "#4d9221"
            ],
            [
             1,
             "#276419"
            ]
           ],
           "sequential": [
            [
             0,
             "#0d0887"
            ],
            [
             0.1111111111111111,
             "#46039f"
            ],
            [
             0.2222222222222222,
             "#7201a8"
            ],
            [
             0.3333333333333333,
             "#9c179e"
            ],
            [
             0.4444444444444444,
             "#bd3786"
            ],
            [
             0.5555555555555556,
             "#d8576b"
            ],
            [
             0.6666666666666666,
             "#ed7953"
            ],
            [
             0.7777777777777778,
             "#fb9f3a"
            ],
            [
             0.8888888888888888,
             "#fdca26"
            ],
            [
             1,
             "#f0f921"
            ]
           ],
           "sequentialminus": [
            [
             0,
             "#0d0887"
            ],
            [
             0.1111111111111111,
             "#46039f"
            ],
            [
             0.2222222222222222,
             "#7201a8"
            ],
            [
             0.3333333333333333,
             "#9c179e"
            ],
            [
             0.4444444444444444,
             "#bd3786"
            ],
            [
             0.5555555555555556,
             "#d8576b"
            ],
            [
             0.6666666666666666,
             "#ed7953"
            ],
            [
             0.7777777777777778,
             "#fb9f3a"
            ],
            [
             0.8888888888888888,
             "#fdca26"
            ],
            [
             1,
             "#f0f921"
            ]
           ]
          },
          "colorway": [
           "#636efa",
           "#EF553B",
           "#00cc96",
           "#ab63fa",
           "#FFA15A",
           "#19d3f3",
           "#FF6692",
           "#B6E880",
           "#FF97FF",
           "#FECB52"
          ],
          "font": {
           "color": "#2a3f5f"
          },
          "geo": {
           "bgcolor": "white",
           "lakecolor": "white",
           "landcolor": "#E5ECF6",
           "showlakes": true,
           "showland": true,
           "subunitcolor": "white"
          },
          "hoverlabel": {
           "align": "left"
          },
          "hovermode": "closest",
          "mapbox": {
           "style": "light"
          },
          "paper_bgcolor": "white",
          "plot_bgcolor": "#E5ECF6",
          "polar": {
           "angularaxis": {
            "gridcolor": "white",
            "linecolor": "white",
            "ticks": ""
           },
           "bgcolor": "#E5ECF6",
           "radialaxis": {
            "gridcolor": "white",
            "linecolor": "white",
            "ticks": ""
           }
          },
          "scene": {
           "xaxis": {
            "backgroundcolor": "#E5ECF6",
            "gridcolor": "white",
            "gridwidth": 2,
            "linecolor": "white",
            "showbackground": true,
            "ticks": "",
            "zerolinecolor": "white"
           },
           "yaxis": {
            "backgroundcolor": "#E5ECF6",
            "gridcolor": "white",
            "gridwidth": 2,
            "linecolor": "white",
            "showbackground": true,
            "ticks": "",
            "zerolinecolor": "white"
           },
           "zaxis": {
            "backgroundcolor": "#E5ECF6",
            "gridcolor": "white",
            "gridwidth": 2,
            "linecolor": "white",
            "showbackground": true,
            "ticks": "",
            "zerolinecolor": "white"
           }
          },
          "shapedefaults": {
           "line": {
            "color": "#2a3f5f"
           }
          },
          "ternary": {
           "aaxis": {
            "gridcolor": "white",
            "linecolor": "white",
            "ticks": ""
           },
           "baxis": {
            "gridcolor": "white",
            "linecolor": "white",
            "ticks": ""
           },
           "bgcolor": "#E5ECF6",
           "caxis": {
            "gridcolor": "white",
            "linecolor": "white",
            "ticks": ""
           }
          },
          "title": {
           "x": 0.05
          },
          "xaxis": {
           "automargin": true,
           "gridcolor": "white",
           "linecolor": "white",
           "ticks": "",
           "title": {
            "standoff": 15
           },
           "zerolinecolor": "white",
           "zerolinewidth": 2
          },
          "yaxis": {
           "automargin": true,
           "gridcolor": "white",
           "linecolor": "white",
           "ticks": "",
           "title": {
            "standoff": 15
           },
           "zerolinecolor": "white",
           "zerolinewidth": 2
          }
         }
        },
        "title": {
         "font": {
          "color": "#4D5663"
         }
        },
        "xaxis": {
         "gridcolor": "#E1E5ED",
         "showgrid": true,
         "tickfont": {
          "color": "#4D5663"
         },
         "title": {
          "font": {
           "color": "#4D5663"
          },
          "text": ""
         },
         "zerolinecolor": "#E1E5ED"
        },
        "yaxis": {
         "gridcolor": "#E1E5ED",
         "showgrid": true,
         "tickfont": {
          "color": "#4D5663"
         },
         "title": {
          "font": {
           "color": "#4D5663"
          },
          "text": ""
         },
         "zerolinecolor": "#E1E5ED"
        }
       }
      },
      "text/html": [
       "<div>                            <div id=\"0478c937-6844-441d-86bd-5e72f7d19f33\" class=\"plotly-graph-div\" style=\"height:525px; width:100%;\"></div>            <script type=\"text/javascript\">                require([\"plotly\"], function(Plotly) {                    window.PLOTLYENV=window.PLOTLYENV || {};\n",
       "                    window.PLOTLYENV.BASE_URL='https://plot.ly';                                    if (document.getElementById(\"0478c937-6844-441d-86bd-5e72f7d19f33\")) {                    Plotly.newPlot(                        \"0478c937-6844-441d-86bd-5e72f7d19f33\",                        [{\"boxpoints\": false, \"line\": {\"width\": 1.3}, \"marker\": {\"color\": \"rgba(255, 153, 51, 1.0)\"}, \"name\": \"A\", \"orientation\": \"v\", \"type\": \"box\", \"y\": [0.5543778778007974, 1.305477680709373, -0.024430440104519096, -2.215780260803809, 2.0311597958353804, -0.4640646961126891, 0.8170695248510517, -0.7028901071685868, -1.3491332354884638, -0.6161054436764591, -0.9280833246496767, -0.202066973522514, -0.21977179427645022, -1.0499809344704083, -0.5538206199663367, 0.2265782866540906, -1.281844393909573, 1.2908776366987078, 0.18933031627514868, 1.3223490944050604, -0.6917365578725994, -0.5431131287020351, -0.2909553413115204, 1.0750396385991803, 0.7429454183000217, 0.22129435093050254, -0.8614967063028686, -1.1268504523534668, 0.7849954275435155, -2.0462048630969756, -0.008315388606309645, -0.18690885675627897, -0.7438181606657309, 0.15288541099547315, 0.014475441184176124, 0.14950478033843956, -0.8196188460104581, 0.6817811904730309, -1.2529214477062713, 0.9734419093151444, 0.46920101432825234, -1.8738939153410312, -1.0442171806553078, -0.38907289675682377, 0.3414085214985565, -0.12856373579884875, 0.7687266580761056, -1.054510339601767, -1.3749782443374008, 0.08569403027435128, -0.5857738419042354, -1.7400601235515123, -0.03888180835654369, 1.5662535457997817, -1.135373142936974, -1.1788653754026897, 0.9584474836768704, 0.8452506568614417, 1.4097083184823593, 1.380708985476826, -1.3203287612461103, -0.38364821453678444, -0.9971480233412237, 0.3380732888858674, 0.16534288637466557, -1.8140009513685151, 0.9591220114764414, -0.7781011149097469, -0.9474226100958619, 1.2943556874594229, 0.1767544740810032, 0.16052773335204457, -0.015433744952918096, -0.396594278243572, 0.0392082424630884, -0.27494729328742556, 0.8543890775430171, -0.17733028237964166, -1.0041492512236738, -0.3683532174905001, -0.4573037611863631, 0.40586150069244475, 0.7486343120609291, -1.009040149912704, -1.0528459653868723, -0.7337506006203001, 0.8784811637364917, -1.2029475450319733, 0.5139496552971384, 0.016740108317212347, 1.504783869463037, 0.26307969919951585, 0.732239718818574, 0.12788599762890387, 0.28310262019622595, 0.37445293983738454, -0.802281753308722, -0.3215480974218836, 0.030026716197300258, 0.8956302931209041]}, {\"boxpoints\": false, \"line\": {\"width\": 1.3}, \"marker\": {\"color\": \"rgba(55, 128, 191, 1.0)\"}, \"name\": \"B\", \"orientation\": \"v\", \"type\": \"box\", \"y\": [0.6573420948764968, 0.10927452064301324, -1.1693955571656995, 0.27038277765157015, -0.6334428219861441, -0.7310049423608668, -0.9061497273341353, -0.17952398194820196, 0.5290628366347644, -0.3277282850274606, 0.4805066939717914, 0.4305331075124773, 1.5367349716397587, 0.9288429958501185, -0.13154094045274825, -0.008054556044534996, -0.3549430884093958, -0.5518746001809784, -0.3744331900872491, -1.1466740102851765, 0.42116918545774723, -1.2433821954666222, 0.5342388046341497, -1.2576208065547367, -0.22244895651178917, 1.3712309698798104, -0.5502388311820707, -1.5928047353411585, 0.13055640769860827, 0.9981990385975217, -0.7336616425525483, 0.4351102368339564, -0.32225790472622995, 0.7413449967439579, 0.3721174073425647, 0.512721239719747, -0.740110741950452, 0.6957972672159145, 0.830729579395018, 0.3887161572657043, 0.6150346953707452, -0.5082427724892878, -0.49489182061779347, -0.01716986251555328, 2.3602710200722505, -0.8218874927980011, 0.22427309131500953, -0.29005880893778097, 1.1779260056622485, -0.11748454801166518, 0.3402397024055858, -0.35552836385523023, -0.16451996357588944, 0.7034108409217701, 0.477435014841578, 1.1923449016301306, 0.2965107406624185, 0.46063736138339956, -1.0508179558055617, 0.9783239970892182, -0.6237161393238063, -0.9411186378701619, 0.8606564080610469, -0.8956632154241032, -0.0014160494534910955, -2.7962656734900455, -1.11910796542192, -1.2596609578746518, -0.1491127134080697, -1.824555021548616, -0.4624946856160559, -0.36554135435135815, 1.2474035413162488, 0.5151989771478599, -0.48799114484926626, 0.9900683597616949, -0.32106797524051484, -0.9560897765749078, 1.0444631985284405, 0.1693601699087248, -0.1770841413625548, 0.7422150630812716, 0.0691231084306441, 1.6744750921176692, -0.49391613899722053, -1.1450714835966944, 1.8517986856387725, -0.3470835160544637, 0.017777108580660606, 0.6695030039630508, 0.9362583269580034, -0.007334188774526295, -2.110221712510784, 0.22241278040537338, 0.07030621148623364, -0.9278741288272946, -0.5190491244263271, 0.49593328011174986, -1.5689689364140202, 1.638871879947243]}, {\"boxpoints\": false, \"line\": {\"width\": 1.3}, \"marker\": {\"color\": \"rgba(50, 171, 96, 1.0)\"}, \"name\": \"C\", \"orientation\": \"v\", \"type\": \"box\", \"y\": [0.7244304689755025, -1.533983970442844, -0.8551965324693319, -0.21842396186050003, -0.8532533117021437, -0.41166768307331203, 0.7899538959392478, 0.7390443968383061, -0.1650409867083505, 2.3192654117931517, 0.19235720643663545, -0.3527494759354997, 0.5379148935264183, 1.151835522011878, 0.410395706493336, -0.11322677357340596, -1.46052207468903, -2.1648591394336982, -0.6525447916866529, -0.9100413446513409, -0.747466205750414, 1.1475769101042284, -0.49641937662382046, 0.7076411173739081, 0.6912206026375171, 0.11950304092223074, 1.370187530388152, 0.11643952252661999, -1.2336454589240649, -0.11690834690009214, 2.3758572522107984, 1.1843058184002344, 0.3765039550324145, 0.7198036996826873, 0.9785538917325063, -2.016234657312846, 0.10617672351885425, 2.0123560844756794, 0.9153310454913948, -0.18378483417770797, 0.23969376760187158, 0.6791877201714943, 0.9573132623988388, -1.0464448050501058, -0.3449411634488827, -0.3926197060978508, -0.9426043186309948, 0.09939814360656844, -1.954695379723464, 0.14046890726213504, -0.8921357411717747, -1.9039040898333706, 0.695723707567566, -0.10598952610412118, 0.4169694256325223, 0.635967656503169, 0.4789638471760461, 1.2734421046589668, 0.7186745083012429, 1.2563299081568011, -0.33214823963395507, -0.9656841776341377, 2.289413173500102, 1.3092990926850652, -0.892576509571412, 0.20724766002262104, 0.7764749480109313, -1.248379330337918, -0.5032037675966533, -1.5039078981565954, -0.4207475623140223, 1.6036727162295665, -0.37639518481106476, 1.239601224875782, 0.6741355989888205, 0.08936993933782973, 0.10123310095520902, 0.768381792319711, -0.9686989011246583, 1.7946005838742298, 3.0969375898602385, -1.4711474979283572, -1.0202609189901672, 0.7648994507480035, -1.0125010975608562, 0.9283353995832332, -0.03823273735705004, 1.009838122694425, -1.1170490909926611, 0.798685997086948, -0.49173757424374465, -0.7952774759570184, -0.7987505975547264, 0.5358047436783937, -0.18837515610341052, -0.5430887201824659, -0.294189176186617, -2.24606624069467, -1.508441107667698, -0.5262834046440897]}, {\"boxpoints\": false, \"line\": {\"width\": 1.3}, \"marker\": {\"color\": \"rgba(128, 0, 128, 1.0)\"}, \"name\": \"D\", \"orientation\": \"v\", \"type\": \"box\", \"y\": [1.3372397297971201, -0.4239591565658293, -0.04566719693012255, -0.6338615398074309, 1.1059869163631222, 1.8042419566854349, -0.24881889324433362, 0.2607699178118119, 0.02341678852797691, -2.159594375405308, 2.0797364103026155, -1.6157114222770763, 0.6098428782924017, 0.5431891448450611, -0.10894230792445356, 1.784299612239051, 0.678682894159494, -0.398063553637055, 0.43304685945250826, 0.712177085232851, -1.893397794540836, 0.2926069391483394, 2.709939056186151, -0.8496608247163772, 0.12646113627954034, -0.5997649116260788, -1.4117130705440308, -0.702625003571693, 0.6757784449777456, 1.0448164740450137, 1.155383021285753, 1.1111111902223914, 0.24668935610102122, -1.7836251190447499, 0.07330848506865163, 0.4273459843453372, 0.2516215632532902, -0.16793153037302008, -0.2000992425317462, -0.7850705490039983, 0.46437895752502273, -0.3288488640935351, 0.8962441284165542, -0.8336462068189796, 0.7827381799073114, -0.08882544028654762, -0.5216291721770336, 0.46088055365299213, 0.7418478067740597, -0.2606875309478886, -0.5708560445284009, 0.846139874600263, 0.43890639741737797, -0.9034997729015851, -1.4106766674539206, 1.0362046866218027, 0.5116404533941629, -0.13689059577645113, -0.7987242743683536, -0.5015358701748261, -0.09854051256516917, 0.8210305538185133, -0.5903394526588178, -0.2338492678262089, 0.6433892315972654, -0.9566945702143193, 0.7228124520441599, 0.5212823204776359, -0.4894967549680151, -0.5061085403869342, 0.8827859704308412, 2.181521214758214, -0.22250483103476248, -1.9421970407362354, 0.14512083275490079, 0.6014447674404136, 0.6316564277278254, 0.4863855977607956, 0.6449654222902111, 0.720886499996344, 0.46705598497826933, -0.012490643623810055, 0.5959626629484281, 0.0301433968987179, -1.4804705709374957, 0.08518040652594563, 1.1387552565936325, 0.8996644682564086, -0.6720457439718555, 0.5333882648621263, 0.673055497441797, 2.0372985174545204, 1.2247631980944775, -1.0900822923249098, 1.3031183441348042, -2.3977857657732726, 0.2604034295760553, 0.0036178012856307694, -0.5409273384744031, -0.7529943354725642]}],                        {\"legend\": {\"bgcolor\": \"#F5F6F9\", \"font\": {\"color\": \"#4D5663\"}}, \"paper_bgcolor\": \"#F5F6F9\", \"plot_bgcolor\": \"#F5F6F9\", \"template\": {\"data\": {\"bar\": [{\"error_x\": {\"color\": \"#2a3f5f\"}, \"error_y\": {\"color\": \"#2a3f5f\"}, \"marker\": {\"line\": {\"color\": \"#E5ECF6\", \"width\": 0.5}}, \"type\": \"bar\"}], \"barpolar\": [{\"marker\": {\"line\": {\"color\": \"#E5ECF6\", \"width\": 0.5}}, \"type\": \"barpolar\"}], \"carpet\": [{\"aaxis\": {\"endlinecolor\": \"#2a3f5f\", \"gridcolor\": \"white\", \"linecolor\": \"white\", \"minorgridcolor\": \"white\", \"startlinecolor\": \"#2a3f5f\"}, \"baxis\": {\"endlinecolor\": \"#2a3f5f\", \"gridcolor\": \"white\", \"linecolor\": \"white\", \"minorgridcolor\": \"white\", \"startlinecolor\": \"#2a3f5f\"}, \"type\": \"carpet\"}], \"choropleth\": [{\"colorbar\": {\"outlinewidth\": 0, \"ticks\": \"\"}, \"type\": \"choropleth\"}], \"contour\": [{\"colorbar\": {\"outlinewidth\": 0, \"ticks\": \"\"}, \"colorscale\": [[0.0, \"#0d0887\"], [0.1111111111111111, \"#46039f\"], [0.2222222222222222, \"#7201a8\"], [0.3333333333333333, \"#9c179e\"], [0.4444444444444444, \"#bd3786\"], [0.5555555555555556, \"#d8576b\"], [0.6666666666666666, \"#ed7953\"], [0.7777777777777778, \"#fb9f3a\"], [0.8888888888888888, \"#fdca26\"], [1.0, \"#f0f921\"]], \"type\": \"contour\"}], \"contourcarpet\": [{\"colorbar\": {\"outlinewidth\": 0, \"ticks\": \"\"}, \"type\": \"contourcarpet\"}], \"heatmap\": [{\"colorbar\": {\"outlinewidth\": 0, \"ticks\": \"\"}, \"colorscale\": [[0.0, \"#0d0887\"], [0.1111111111111111, \"#46039f\"], [0.2222222222222222, \"#7201a8\"], [0.3333333333333333, \"#9c179e\"], [0.4444444444444444, \"#bd3786\"], [0.5555555555555556, \"#d8576b\"], [0.6666666666666666, \"#ed7953\"], [0.7777777777777778, \"#fb9f3a\"], [0.8888888888888888, \"#fdca26\"], [1.0, \"#f0f921\"]], \"type\": \"heatmap\"}], \"heatmapgl\": [{\"colorbar\": {\"outlinewidth\": 0, \"ticks\": \"\"}, \"colorscale\": [[0.0, \"#0d0887\"], [0.1111111111111111, \"#46039f\"], [0.2222222222222222, \"#7201a8\"], [0.3333333333333333, \"#9c179e\"], [0.4444444444444444, \"#bd3786\"], [0.5555555555555556, \"#d8576b\"], [0.6666666666666666, \"#ed7953\"], [0.7777777777777778, \"#fb9f3a\"], [0.8888888888888888, \"#fdca26\"], [1.0, \"#f0f921\"]], \"type\": \"heatmapgl\"}], \"histogram\": [{\"marker\": {\"colorbar\": {\"outlinewidth\": 0, \"ticks\": \"\"}}, \"type\": \"histogram\"}], \"histogram2d\": [{\"colorbar\": {\"outlinewidth\": 0, \"ticks\": \"\"}, \"colorscale\": [[0.0, \"#0d0887\"], [0.1111111111111111, \"#46039f\"], [0.2222222222222222, \"#7201a8\"], [0.3333333333333333, \"#9c179e\"], [0.4444444444444444, \"#bd3786\"], [0.5555555555555556, \"#d8576b\"], [0.6666666666666666, \"#ed7953\"], [0.7777777777777778, \"#fb9f3a\"], [0.8888888888888888, \"#fdca26\"], [1.0, \"#f0f921\"]], \"type\": \"histogram2d\"}], \"histogram2dcontour\": [{\"colorbar\": {\"outlinewidth\": 0, \"ticks\": \"\"}, \"colorscale\": [[0.0, \"#0d0887\"], [0.1111111111111111, \"#46039f\"], [0.2222222222222222, \"#7201a8\"], [0.3333333333333333, \"#9c179e\"], [0.4444444444444444, \"#bd3786\"], [0.5555555555555556, \"#d8576b\"], [0.6666666666666666, \"#ed7953\"], [0.7777777777777778, \"#fb9f3a\"], [0.8888888888888888, \"#fdca26\"], [1.0, \"#f0f921\"]], \"type\": \"histogram2dcontour\"}], \"mesh3d\": [{\"colorbar\": {\"outlinewidth\": 0, \"ticks\": \"\"}, \"type\": \"mesh3d\"}], \"parcoords\": [{\"line\": {\"colorbar\": {\"outlinewidth\": 0, \"ticks\": \"\"}}, \"type\": \"parcoords\"}], \"pie\": [{\"automargin\": true, \"type\": \"pie\"}], \"scatter\": [{\"marker\": {\"colorbar\": {\"outlinewidth\": 0, \"ticks\": \"\"}}, \"type\": \"scatter\"}], \"scatter3d\": [{\"line\": {\"colorbar\": {\"outlinewidth\": 0, \"ticks\": \"\"}}, \"marker\": {\"colorbar\": {\"outlinewidth\": 0, \"ticks\": \"\"}}, \"type\": \"scatter3d\"}], \"scattercarpet\": [{\"marker\": {\"colorbar\": {\"outlinewidth\": 0, \"ticks\": \"\"}}, \"type\": \"scattercarpet\"}], \"scattergeo\": [{\"marker\": {\"colorbar\": {\"outlinewidth\": 0, \"ticks\": \"\"}}, \"type\": \"scattergeo\"}], \"scattergl\": [{\"marker\": {\"colorbar\": {\"outlinewidth\": 0, \"ticks\": \"\"}}, \"type\": \"scattergl\"}], \"scattermapbox\": [{\"marker\": {\"colorbar\": {\"outlinewidth\": 0, \"ticks\": \"\"}}, \"type\": \"scattermapbox\"}], \"scatterpolar\": [{\"marker\": {\"colorbar\": {\"outlinewidth\": 0, \"ticks\": \"\"}}, \"type\": \"scatterpolar\"}], \"scatterpolargl\": [{\"marker\": {\"colorbar\": {\"outlinewidth\": 0, \"ticks\": \"\"}}, \"type\": \"scatterpolargl\"}], \"scatterternary\": [{\"marker\": {\"colorbar\": {\"outlinewidth\": 0, \"ticks\": \"\"}}, \"type\": \"scatterternary\"}], \"surface\": [{\"colorbar\": {\"outlinewidth\": 0, \"ticks\": \"\"}, \"colorscale\": [[0.0, \"#0d0887\"], [0.1111111111111111, \"#46039f\"], [0.2222222222222222, \"#7201a8\"], [0.3333333333333333, \"#9c179e\"], [0.4444444444444444, \"#bd3786\"], [0.5555555555555556, \"#d8576b\"], [0.6666666666666666, \"#ed7953\"], [0.7777777777777778, \"#fb9f3a\"], [0.8888888888888888, \"#fdca26\"], [1.0, \"#f0f921\"]], \"type\": \"surface\"}], \"table\": [{\"cells\": {\"fill\": {\"color\": \"#EBF0F8\"}, \"line\": {\"color\": \"white\"}}, \"header\": {\"fill\": {\"color\": \"#C8D4E3\"}, \"line\": {\"color\": \"white\"}}, \"type\": \"table\"}]}, \"layout\": {\"annotationdefaults\": {\"arrowcolor\": \"#2a3f5f\", \"arrowhead\": 0, \"arrowwidth\": 1}, \"autotypenumbers\": \"strict\", \"coloraxis\": {\"colorbar\": {\"outlinewidth\": 0, \"ticks\": \"\"}}, \"colorscale\": {\"diverging\": [[0, \"#8e0152\"], [0.1, \"#c51b7d\"], [0.2, \"#de77ae\"], [0.3, \"#f1b6da\"], [0.4, \"#fde0ef\"], [0.5, \"#f7f7f7\"], [0.6, \"#e6f5d0\"], [0.7, \"#b8e186\"], [0.8, \"#7fbc41\"], [0.9, \"#4d9221\"], [1, \"#276419\"]], \"sequential\": [[0.0, \"#0d0887\"], [0.1111111111111111, \"#46039f\"], [0.2222222222222222, \"#7201a8\"], [0.3333333333333333, \"#9c179e\"], [0.4444444444444444, \"#bd3786\"], [0.5555555555555556, \"#d8576b\"], [0.6666666666666666, \"#ed7953\"], [0.7777777777777778, \"#fb9f3a\"], [0.8888888888888888, \"#fdca26\"], [1.0, \"#f0f921\"]], \"sequentialminus\": [[0.0, \"#0d0887\"], [0.1111111111111111, \"#46039f\"], [0.2222222222222222, \"#7201a8\"], [0.3333333333333333, \"#9c179e\"], [0.4444444444444444, \"#bd3786\"], [0.5555555555555556, \"#d8576b\"], [0.6666666666666666, \"#ed7953\"], [0.7777777777777778, \"#fb9f3a\"], [0.8888888888888888, \"#fdca26\"], [1.0, \"#f0f921\"]]}, \"colorway\": [\"#636efa\", \"#EF553B\", \"#00cc96\", \"#ab63fa\", \"#FFA15A\", \"#19d3f3\", \"#FF6692\", \"#B6E880\", \"#FF97FF\", \"#FECB52\"], \"font\": {\"color\": \"#2a3f5f\"}, \"geo\": {\"bgcolor\": \"white\", \"lakecolor\": \"white\", \"landcolor\": \"#E5ECF6\", \"showlakes\": true, \"showland\": true, \"subunitcolor\": \"white\"}, \"hoverlabel\": {\"align\": \"left\"}, \"hovermode\": \"closest\", \"mapbox\": {\"style\": \"light\"}, \"paper_bgcolor\": \"white\", \"plot_bgcolor\": \"#E5ECF6\", \"polar\": {\"angularaxis\": {\"gridcolor\": \"white\", \"linecolor\": \"white\", \"ticks\": \"\"}, \"bgcolor\": \"#E5ECF6\", \"radialaxis\": {\"gridcolor\": \"white\", \"linecolor\": \"white\", \"ticks\": \"\"}}, \"scene\": {\"xaxis\": {\"backgroundcolor\": \"#E5ECF6\", \"gridcolor\": \"white\", \"gridwidth\": 2, \"linecolor\": \"white\", \"showbackground\": true, \"ticks\": \"\", \"zerolinecolor\": \"white\"}, \"yaxis\": {\"backgroundcolor\": \"#E5ECF6\", \"gridcolor\": \"white\", \"gridwidth\": 2, \"linecolor\": \"white\", \"showbackground\": true, \"ticks\": \"\", \"zerolinecolor\": \"white\"}, \"zaxis\": {\"backgroundcolor\": \"#E5ECF6\", \"gridcolor\": \"white\", \"gridwidth\": 2, \"linecolor\": \"white\", \"showbackground\": true, \"ticks\": \"\", \"zerolinecolor\": \"white\"}}, \"shapedefaults\": {\"line\": {\"color\": \"#2a3f5f\"}}, \"ternary\": {\"aaxis\": {\"gridcolor\": \"white\", \"linecolor\": \"white\", \"ticks\": \"\"}, \"baxis\": {\"gridcolor\": \"white\", \"linecolor\": \"white\", \"ticks\": \"\"}, \"bgcolor\": \"#E5ECF6\", \"caxis\": {\"gridcolor\": \"white\", \"linecolor\": \"white\", \"ticks\": \"\"}}, \"title\": {\"x\": 0.05}, \"xaxis\": {\"automargin\": true, \"gridcolor\": \"white\", \"linecolor\": \"white\", \"ticks\": \"\", \"title\": {\"standoff\": 15}, \"zerolinecolor\": \"white\", \"zerolinewidth\": 2}, \"yaxis\": {\"automargin\": true, \"gridcolor\": \"white\", \"linecolor\": \"white\", \"ticks\": \"\", \"title\": {\"standoff\": 15}, \"zerolinecolor\": \"white\", \"zerolinewidth\": 2}}}, \"title\": {\"font\": {\"color\": \"#4D5663\"}}, \"xaxis\": {\"gridcolor\": \"#E1E5ED\", \"showgrid\": true, \"tickfont\": {\"color\": \"#4D5663\"}, \"title\": {\"font\": {\"color\": \"#4D5663\"}, \"text\": \"\"}, \"zerolinecolor\": \"#E1E5ED\"}, \"yaxis\": {\"gridcolor\": \"#E1E5ED\", \"showgrid\": true, \"tickfont\": {\"color\": \"#4D5663\"}, \"title\": {\"font\": {\"color\": \"#4D5663\"}, \"text\": \"\"}, \"zerolinecolor\": \"#E1E5ED\"}},                        {\"showLink\": true, \"linkText\": \"Export to plot.ly\", \"plotlyServerURL\": \"https://plot.ly\", \"responsive\": true}                    ).then(function(){\n",
       "                            \n",
       "var gd = document.getElementById('0478c937-6844-441d-86bd-5e72f7d19f33');\n",
       "var x = new MutationObserver(function (mutations, observer) {{\n",
       "        var display = window.getComputedStyle(gd).display;\n",
       "        if (!display || display === 'none') {{\n",
       "            console.log([gd, 'removed!']);\n",
       "            Plotly.purge(gd);\n",
       "            observer.disconnect();\n",
       "        }}\n",
       "}});\n",
       "\n",
       "// Listen for the removal of the full notebook cells\n",
       "var notebookContainer = gd.closest('#notebook-container');\n",
       "if (notebookContainer) {{\n",
       "    x.observe(notebookContainer, {childList: true});\n",
       "}}\n",
       "\n",
       "// Listen for the clearing of the current output cell\n",
       "var outputEl = gd.closest('.output');\n",
       "if (outputEl) {{\n",
       "    x.observe(outputEl, {childList: true});\n",
       "}}\n",
       "\n",
       "                        })                };                });            </script>        </div>"
      ]
     },
     "metadata": {},
     "output_type": "display_data"
    }
   ],
   "source": [
    "df.iplot(kind='box')"
   ]
  },
  {
   "cell_type": "markdown",
   "metadata": {},
   "source": [
    "## 3d Surface"
   ]
  },
  {
   "cell_type": "code",
   "execution_count": 16,
   "metadata": {},
   "outputs": [
    {
     "data": {
      "application/vnd.plotly.v1+json": {
       "config": {
        "linkText": "Export to plot.ly",
        "plotlyServerURL": "https://plot.ly",
        "showLink": true
       },
       "data": [
        {
         "colorscale": [
          [
           0,
           "rgb(165,0,38)"
          ],
          [
           0.1,
           "rgb(215,48,39)"
          ],
          [
           0.2,
           "rgb(244,109,67)"
          ],
          [
           0.3,
           "rgb(253,174,97)"
          ],
          [
           0.4,
           "rgb(254,224,144)"
          ],
          [
           0.5,
           "rgb(255,255,191)"
          ],
          [
           0.6,
           "rgb(224,243,248)"
          ],
          [
           0.7,
           "rgb(171,217,233)"
          ],
          [
           0.8,
           "rgb(116,173,209)"
          ],
          [
           0.9,
           "rgb(69,117,180)"
          ],
          [
           1,
           "rgb(49,54,149)"
          ]
         ],
         "type": "surface",
         "x": [
          0,
          1,
          2,
          3,
          4
         ],
         "y": [
          "x",
          "y",
          "z"
         ],
         "z": [
          [
           1,
           2,
           3,
           4,
           5
          ],
          [
           10,
           20,
           30,
           20,
           10
          ],
          [
           5,
           4,
           3,
           2,
           1
          ]
         ]
        }
       ],
       "layout": {
        "legend": {
         "bgcolor": "#F5F6F9",
         "font": {
          "color": "#4D5663"
         }
        },
        "paper_bgcolor": "#F5F6F9",
        "plot_bgcolor": "#F5F6F9",
        "template": {
         "data": {
          "bar": [
           {
            "error_x": {
             "color": "#2a3f5f"
            },
            "error_y": {
             "color": "#2a3f5f"
            },
            "marker": {
             "line": {
              "color": "#E5ECF6",
              "width": 0.5
             }
            },
            "type": "bar"
           }
          ],
          "barpolar": [
           {
            "marker": {
             "line": {
              "color": "#E5ECF6",
              "width": 0.5
             }
            },
            "type": "barpolar"
           }
          ],
          "carpet": [
           {
            "aaxis": {
             "endlinecolor": "#2a3f5f",
             "gridcolor": "white",
             "linecolor": "white",
             "minorgridcolor": "white",
             "startlinecolor": "#2a3f5f"
            },
            "baxis": {
             "endlinecolor": "#2a3f5f",
             "gridcolor": "white",
             "linecolor": "white",
             "minorgridcolor": "white",
             "startlinecolor": "#2a3f5f"
            },
            "type": "carpet"
           }
          ],
          "choropleth": [
           {
            "colorbar": {
             "outlinewidth": 0,
             "ticks": ""
            },
            "type": "choropleth"
           }
          ],
          "contour": [
           {
            "colorbar": {
             "outlinewidth": 0,
             "ticks": ""
            },
            "colorscale": [
             [
              0,
              "#0d0887"
             ],
             [
              0.1111111111111111,
              "#46039f"
             ],
             [
              0.2222222222222222,
              "#7201a8"
             ],
             [
              0.3333333333333333,
              "#9c179e"
             ],
             [
              0.4444444444444444,
              "#bd3786"
             ],
             [
              0.5555555555555556,
              "#d8576b"
             ],
             [
              0.6666666666666666,
              "#ed7953"
             ],
             [
              0.7777777777777778,
              "#fb9f3a"
             ],
             [
              0.8888888888888888,
              "#fdca26"
             ],
             [
              1,
              "#f0f921"
             ]
            ],
            "type": "contour"
           }
          ],
          "contourcarpet": [
           {
            "colorbar": {
             "outlinewidth": 0,
             "ticks": ""
            },
            "type": "contourcarpet"
           }
          ],
          "heatmap": [
           {
            "colorbar": {
             "outlinewidth": 0,
             "ticks": ""
            },
            "colorscale": [
             [
              0,
              "#0d0887"
             ],
             [
              0.1111111111111111,
              "#46039f"
             ],
             [
              0.2222222222222222,
              "#7201a8"
             ],
             [
              0.3333333333333333,
              "#9c179e"
             ],
             [
              0.4444444444444444,
              "#bd3786"
             ],
             [
              0.5555555555555556,
              "#d8576b"
             ],
             [
              0.6666666666666666,
              "#ed7953"
             ],
             [
              0.7777777777777778,
              "#fb9f3a"
             ],
             [
              0.8888888888888888,
              "#fdca26"
             ],
             [
              1,
              "#f0f921"
             ]
            ],
            "type": "heatmap"
           }
          ],
          "heatmapgl": [
           {
            "colorbar": {
             "outlinewidth": 0,
             "ticks": ""
            },
            "colorscale": [
             [
              0,
              "#0d0887"
             ],
             [
              0.1111111111111111,
              "#46039f"
             ],
             [
              0.2222222222222222,
              "#7201a8"
             ],
             [
              0.3333333333333333,
              "#9c179e"
             ],
             [
              0.4444444444444444,
              "#bd3786"
             ],
             [
              0.5555555555555556,
              "#d8576b"
             ],
             [
              0.6666666666666666,
              "#ed7953"
             ],
             [
              0.7777777777777778,
              "#fb9f3a"
             ],
             [
              0.8888888888888888,
              "#fdca26"
             ],
             [
              1,
              "#f0f921"
             ]
            ],
            "type": "heatmapgl"
           }
          ],
          "histogram": [
           {
            "marker": {
             "colorbar": {
              "outlinewidth": 0,
              "ticks": ""
             }
            },
            "type": "histogram"
           }
          ],
          "histogram2d": [
           {
            "colorbar": {
             "outlinewidth": 0,
             "ticks": ""
            },
            "colorscale": [
             [
              0,
              "#0d0887"
             ],
             [
              0.1111111111111111,
              "#46039f"
             ],
             [
              0.2222222222222222,
              "#7201a8"
             ],
             [
              0.3333333333333333,
              "#9c179e"
             ],
             [
              0.4444444444444444,
              "#bd3786"
             ],
             [
              0.5555555555555556,
              "#d8576b"
             ],
             [
              0.6666666666666666,
              "#ed7953"
             ],
             [
              0.7777777777777778,
              "#fb9f3a"
             ],
             [
              0.8888888888888888,
              "#fdca26"
             ],
             [
              1,
              "#f0f921"
             ]
            ],
            "type": "histogram2d"
           }
          ],
          "histogram2dcontour": [
           {
            "colorbar": {
             "outlinewidth": 0,
             "ticks": ""
            },
            "colorscale": [
             [
              0,
              "#0d0887"
             ],
             [
              0.1111111111111111,
              "#46039f"
             ],
             [
              0.2222222222222222,
              "#7201a8"
             ],
             [
              0.3333333333333333,
              "#9c179e"
             ],
             [
              0.4444444444444444,
              "#bd3786"
             ],
             [
              0.5555555555555556,
              "#d8576b"
             ],
             [
              0.6666666666666666,
              "#ed7953"
             ],
             [
              0.7777777777777778,
              "#fb9f3a"
             ],
             [
              0.8888888888888888,
              "#fdca26"
             ],
             [
              1,
              "#f0f921"
             ]
            ],
            "type": "histogram2dcontour"
           }
          ],
          "mesh3d": [
           {
            "colorbar": {
             "outlinewidth": 0,
             "ticks": ""
            },
            "type": "mesh3d"
           }
          ],
          "parcoords": [
           {
            "line": {
             "colorbar": {
              "outlinewidth": 0,
              "ticks": ""
             }
            },
            "type": "parcoords"
           }
          ],
          "pie": [
           {
            "automargin": true,
            "type": "pie"
           }
          ],
          "scatter": [
           {
            "marker": {
             "colorbar": {
              "outlinewidth": 0,
              "ticks": ""
             }
            },
            "type": "scatter"
           }
          ],
          "scatter3d": [
           {
            "line": {
             "colorbar": {
              "outlinewidth": 0,
              "ticks": ""
             }
            },
            "marker": {
             "colorbar": {
              "outlinewidth": 0,
              "ticks": ""
             }
            },
            "type": "scatter3d"
           }
          ],
          "scattercarpet": [
           {
            "marker": {
             "colorbar": {
              "outlinewidth": 0,
              "ticks": ""
             }
            },
            "type": "scattercarpet"
           }
          ],
          "scattergeo": [
           {
            "marker": {
             "colorbar": {
              "outlinewidth": 0,
              "ticks": ""
             }
            },
            "type": "scattergeo"
           }
          ],
          "scattergl": [
           {
            "marker": {
             "colorbar": {
              "outlinewidth": 0,
              "ticks": ""
             }
            },
            "type": "scattergl"
           }
          ],
          "scattermapbox": [
           {
            "marker": {
             "colorbar": {
              "outlinewidth": 0,
              "ticks": ""
             }
            },
            "type": "scattermapbox"
           }
          ],
          "scatterpolar": [
           {
            "marker": {
             "colorbar": {
              "outlinewidth": 0,
              "ticks": ""
             }
            },
            "type": "scatterpolar"
           }
          ],
          "scatterpolargl": [
           {
            "marker": {
             "colorbar": {
              "outlinewidth": 0,
              "ticks": ""
             }
            },
            "type": "scatterpolargl"
           }
          ],
          "scatterternary": [
           {
            "marker": {
             "colorbar": {
              "outlinewidth": 0,
              "ticks": ""
             }
            },
            "type": "scatterternary"
           }
          ],
          "surface": [
           {
            "colorbar": {
             "outlinewidth": 0,
             "ticks": ""
            },
            "colorscale": [
             [
              0,
              "#0d0887"
             ],
             [
              0.1111111111111111,
              "#46039f"
             ],
             [
              0.2222222222222222,
              "#7201a8"
             ],
             [
              0.3333333333333333,
              "#9c179e"
             ],
             [
              0.4444444444444444,
              "#bd3786"
             ],
             [
              0.5555555555555556,
              "#d8576b"
             ],
             [
              0.6666666666666666,
              "#ed7953"
             ],
             [
              0.7777777777777778,
              "#fb9f3a"
             ],
             [
              0.8888888888888888,
              "#fdca26"
             ],
             [
              1,
              "#f0f921"
             ]
            ],
            "type": "surface"
           }
          ],
          "table": [
           {
            "cells": {
             "fill": {
              "color": "#EBF0F8"
             },
             "line": {
              "color": "white"
             }
            },
            "header": {
             "fill": {
              "color": "#C8D4E3"
             },
             "line": {
              "color": "white"
             }
            },
            "type": "table"
           }
          ]
         },
         "layout": {
          "annotationdefaults": {
           "arrowcolor": "#2a3f5f",
           "arrowhead": 0,
           "arrowwidth": 1
          },
          "autotypenumbers": "strict",
          "coloraxis": {
           "colorbar": {
            "outlinewidth": 0,
            "ticks": ""
           }
          },
          "colorscale": {
           "diverging": [
            [
             0,
             "#8e0152"
            ],
            [
             0.1,
             "#c51b7d"
            ],
            [
             0.2,
             "#de77ae"
            ],
            [
             0.3,
             "#f1b6da"
            ],
            [
             0.4,
             "#fde0ef"
            ],
            [
             0.5,
             "#f7f7f7"
            ],
            [
             0.6,
             "#e6f5d0"
            ],
            [
             0.7,
             "#b8e186"
            ],
            [
             0.8,
             "#7fbc41"
            ],
            [
             0.9,
             "#4d9221"
            ],
            [
             1,
             "#276419"
            ]
           ],
           "sequential": [
            [
             0,
             "#0d0887"
            ],
            [
             0.1111111111111111,
             "#46039f"
            ],
            [
             0.2222222222222222,
             "#7201a8"
            ],
            [
             0.3333333333333333,
             "#9c179e"
            ],
            [
             0.4444444444444444,
             "#bd3786"
            ],
            [
             0.5555555555555556,
             "#d8576b"
            ],
            [
             0.6666666666666666,
             "#ed7953"
            ],
            [
             0.7777777777777778,
             "#fb9f3a"
            ],
            [
             0.8888888888888888,
             "#fdca26"
            ],
            [
             1,
             "#f0f921"
            ]
           ],
           "sequentialminus": [
            [
             0,
             "#0d0887"
            ],
            [
             0.1111111111111111,
             "#46039f"
            ],
            [
             0.2222222222222222,
             "#7201a8"
            ],
            [
             0.3333333333333333,
             "#9c179e"
            ],
            [
             0.4444444444444444,
             "#bd3786"
            ],
            [
             0.5555555555555556,
             "#d8576b"
            ],
            [
             0.6666666666666666,
             "#ed7953"
            ],
            [
             0.7777777777777778,
             "#fb9f3a"
            ],
            [
             0.8888888888888888,
             "#fdca26"
            ],
            [
             1,
             "#f0f921"
            ]
           ]
          },
          "colorway": [
           "#636efa",
           "#EF553B",
           "#00cc96",
           "#ab63fa",
           "#FFA15A",
           "#19d3f3",
           "#FF6692",
           "#B6E880",
           "#FF97FF",
           "#FECB52"
          ],
          "font": {
           "color": "#2a3f5f"
          },
          "geo": {
           "bgcolor": "white",
           "lakecolor": "white",
           "landcolor": "#E5ECF6",
           "showlakes": true,
           "showland": true,
           "subunitcolor": "white"
          },
          "hoverlabel": {
           "align": "left"
          },
          "hovermode": "closest",
          "mapbox": {
           "style": "light"
          },
          "paper_bgcolor": "white",
          "plot_bgcolor": "#E5ECF6",
          "polar": {
           "angularaxis": {
            "gridcolor": "white",
            "linecolor": "white",
            "ticks": ""
           },
           "bgcolor": "#E5ECF6",
           "radialaxis": {
            "gridcolor": "white",
            "linecolor": "white",
            "ticks": ""
           }
          },
          "scene": {
           "xaxis": {
            "backgroundcolor": "#E5ECF6",
            "gridcolor": "white",
            "gridwidth": 2,
            "linecolor": "white",
            "showbackground": true,
            "ticks": "",
            "zerolinecolor": "white"
           },
           "yaxis": {
            "backgroundcolor": "#E5ECF6",
            "gridcolor": "white",
            "gridwidth": 2,
            "linecolor": "white",
            "showbackground": true,
            "ticks": "",
            "zerolinecolor": "white"
           },
           "zaxis": {
            "backgroundcolor": "#E5ECF6",
            "gridcolor": "white",
            "gridwidth": 2,
            "linecolor": "white",
            "showbackground": true,
            "ticks": "",
            "zerolinecolor": "white"
           }
          },
          "shapedefaults": {
           "line": {
            "color": "#2a3f5f"
           }
          },
          "ternary": {
           "aaxis": {
            "gridcolor": "white",
            "linecolor": "white",
            "ticks": ""
           },
           "baxis": {
            "gridcolor": "white",
            "linecolor": "white",
            "ticks": ""
           },
           "bgcolor": "#E5ECF6",
           "caxis": {
            "gridcolor": "white",
            "linecolor": "white",
            "ticks": ""
           }
          },
          "title": {
           "x": 0.05
          },
          "xaxis": {
           "automargin": true,
           "gridcolor": "white",
           "linecolor": "white",
           "ticks": "",
           "title": {
            "standoff": 15
           },
           "zerolinecolor": "white",
           "zerolinewidth": 2
          },
          "yaxis": {
           "automargin": true,
           "gridcolor": "white",
           "linecolor": "white",
           "ticks": "",
           "title": {
            "standoff": 15
           },
           "zerolinecolor": "white",
           "zerolinewidth": 2
          }
         }
        },
        "title": {
         "font": {
          "color": "#4D5663"
         }
        },
        "xaxis": {
         "gridcolor": "#E1E5ED",
         "showgrid": true,
         "tickfont": {
          "color": "#4D5663"
         },
         "title": {
          "font": {
           "color": "#4D5663"
          },
          "text": ""
         },
         "zerolinecolor": "#E1E5ED"
        },
        "yaxis": {
         "gridcolor": "#E1E5ED",
         "showgrid": true,
         "tickfont": {
          "color": "#4D5663"
         },
         "title": {
          "font": {
           "color": "#4D5663"
          },
          "text": ""
         },
         "zerolinecolor": "#E1E5ED"
        }
       }
      },
      "text/html": [
       "<div>                            <div id=\"e4c42161-5347-4119-946f-3a6a4a8b55f6\" class=\"plotly-graph-div\" style=\"height:525px; width:100%;\"></div>            <script type=\"text/javascript\">                require([\"plotly\"], function(Plotly) {                    window.PLOTLYENV=window.PLOTLYENV || {};\n",
       "                    window.PLOTLYENV.BASE_URL='https://plot.ly';                                    if (document.getElementById(\"e4c42161-5347-4119-946f-3a6a4a8b55f6\")) {                    Plotly.newPlot(                        \"e4c42161-5347-4119-946f-3a6a4a8b55f6\",                        [{\"colorscale\": [[0.0, \"rgb(165,0,38)\"], [0.1, \"rgb(215,48,39)\"], [0.2, \"rgb(244,109,67)\"], [0.3, \"rgb(253,174,97)\"], [0.4, \"rgb(254,224,144)\"], [0.5, \"rgb(255,255,191)\"], [0.6, \"rgb(224,243,248)\"], [0.7, \"rgb(171,217,233)\"], [0.8, \"rgb(116,173,209)\"], [0.9, \"rgb(69,117,180)\"], [1.0, \"rgb(49,54,149)\"]], \"type\": \"surface\", \"x\": [0, 1, 2, 3, 4], \"y\": [\"x\", \"y\", \"z\"], \"z\": [[1, 2, 3, 4, 5], [10, 20, 30, 20, 10], [5, 4, 3, 2, 1]]}],                        {\"legend\": {\"bgcolor\": \"#F5F6F9\", \"font\": {\"color\": \"#4D5663\"}}, \"paper_bgcolor\": \"#F5F6F9\", \"plot_bgcolor\": \"#F5F6F9\", \"template\": {\"data\": {\"bar\": [{\"error_x\": {\"color\": \"#2a3f5f\"}, \"error_y\": {\"color\": \"#2a3f5f\"}, \"marker\": {\"line\": {\"color\": \"#E5ECF6\", \"width\": 0.5}}, \"type\": \"bar\"}], \"barpolar\": [{\"marker\": {\"line\": {\"color\": \"#E5ECF6\", \"width\": 0.5}}, \"type\": \"barpolar\"}], \"carpet\": [{\"aaxis\": {\"endlinecolor\": \"#2a3f5f\", \"gridcolor\": \"white\", \"linecolor\": \"white\", \"minorgridcolor\": \"white\", \"startlinecolor\": \"#2a3f5f\"}, \"baxis\": {\"endlinecolor\": \"#2a3f5f\", \"gridcolor\": \"white\", \"linecolor\": \"white\", \"minorgridcolor\": \"white\", \"startlinecolor\": \"#2a3f5f\"}, \"type\": \"carpet\"}], \"choropleth\": [{\"colorbar\": {\"outlinewidth\": 0, \"ticks\": \"\"}, \"type\": \"choropleth\"}], \"contour\": [{\"colorbar\": {\"outlinewidth\": 0, \"ticks\": \"\"}, \"colorscale\": [[0.0, \"#0d0887\"], [0.1111111111111111, \"#46039f\"], [0.2222222222222222, \"#7201a8\"], [0.3333333333333333, \"#9c179e\"], [0.4444444444444444, \"#bd3786\"], [0.5555555555555556, \"#d8576b\"], [0.6666666666666666, \"#ed7953\"], [0.7777777777777778, \"#fb9f3a\"], [0.8888888888888888, \"#fdca26\"], [1.0, \"#f0f921\"]], \"type\": \"contour\"}], \"contourcarpet\": [{\"colorbar\": {\"outlinewidth\": 0, \"ticks\": \"\"}, \"type\": \"contourcarpet\"}], \"heatmap\": [{\"colorbar\": {\"outlinewidth\": 0, \"ticks\": \"\"}, \"colorscale\": [[0.0, \"#0d0887\"], [0.1111111111111111, \"#46039f\"], [0.2222222222222222, \"#7201a8\"], [0.3333333333333333, \"#9c179e\"], [0.4444444444444444, \"#bd3786\"], [0.5555555555555556, \"#d8576b\"], [0.6666666666666666, \"#ed7953\"], [0.7777777777777778, \"#fb9f3a\"], [0.8888888888888888, \"#fdca26\"], [1.0, \"#f0f921\"]], \"type\": \"heatmap\"}], \"heatmapgl\": [{\"colorbar\": {\"outlinewidth\": 0, \"ticks\": \"\"}, \"colorscale\": [[0.0, \"#0d0887\"], [0.1111111111111111, \"#46039f\"], [0.2222222222222222, \"#7201a8\"], [0.3333333333333333, \"#9c179e\"], [0.4444444444444444, \"#bd3786\"], [0.5555555555555556, \"#d8576b\"], [0.6666666666666666, \"#ed7953\"], [0.7777777777777778, \"#fb9f3a\"], [0.8888888888888888, \"#fdca26\"], [1.0, \"#f0f921\"]], \"type\": \"heatmapgl\"}], \"histogram\": [{\"marker\": {\"colorbar\": {\"outlinewidth\": 0, \"ticks\": \"\"}}, \"type\": \"histogram\"}], \"histogram2d\": [{\"colorbar\": {\"outlinewidth\": 0, \"ticks\": \"\"}, \"colorscale\": [[0.0, \"#0d0887\"], [0.1111111111111111, \"#46039f\"], [0.2222222222222222, \"#7201a8\"], [0.3333333333333333, \"#9c179e\"], [0.4444444444444444, \"#bd3786\"], [0.5555555555555556, \"#d8576b\"], [0.6666666666666666, \"#ed7953\"], [0.7777777777777778, \"#fb9f3a\"], [0.8888888888888888, \"#fdca26\"], [1.0, \"#f0f921\"]], \"type\": \"histogram2d\"}], \"histogram2dcontour\": [{\"colorbar\": {\"outlinewidth\": 0, \"ticks\": \"\"}, \"colorscale\": [[0.0, \"#0d0887\"], [0.1111111111111111, \"#46039f\"], [0.2222222222222222, \"#7201a8\"], [0.3333333333333333, \"#9c179e\"], [0.4444444444444444, \"#bd3786\"], [0.5555555555555556, \"#d8576b\"], [0.6666666666666666, \"#ed7953\"], [0.7777777777777778, \"#fb9f3a\"], [0.8888888888888888, \"#fdca26\"], [1.0, \"#f0f921\"]], \"type\": \"histogram2dcontour\"}], \"mesh3d\": [{\"colorbar\": {\"outlinewidth\": 0, \"ticks\": \"\"}, \"type\": \"mesh3d\"}], \"parcoords\": [{\"line\": {\"colorbar\": {\"outlinewidth\": 0, \"ticks\": \"\"}}, \"type\": \"parcoords\"}], \"pie\": [{\"automargin\": true, \"type\": \"pie\"}], \"scatter\": [{\"marker\": {\"colorbar\": {\"outlinewidth\": 0, \"ticks\": \"\"}}, \"type\": \"scatter\"}], \"scatter3d\": [{\"line\": {\"colorbar\": {\"outlinewidth\": 0, \"ticks\": \"\"}}, \"marker\": {\"colorbar\": {\"outlinewidth\": 0, \"ticks\": \"\"}}, \"type\": \"scatter3d\"}], \"scattercarpet\": [{\"marker\": {\"colorbar\": {\"outlinewidth\": 0, \"ticks\": \"\"}}, \"type\": \"scattercarpet\"}], \"scattergeo\": [{\"marker\": {\"colorbar\": {\"outlinewidth\": 0, \"ticks\": \"\"}}, \"type\": \"scattergeo\"}], \"scattergl\": [{\"marker\": {\"colorbar\": {\"outlinewidth\": 0, \"ticks\": \"\"}}, \"type\": \"scattergl\"}], \"scattermapbox\": [{\"marker\": {\"colorbar\": {\"outlinewidth\": 0, \"ticks\": \"\"}}, \"type\": \"scattermapbox\"}], \"scatterpolar\": [{\"marker\": {\"colorbar\": {\"outlinewidth\": 0, \"ticks\": \"\"}}, \"type\": \"scatterpolar\"}], \"scatterpolargl\": [{\"marker\": {\"colorbar\": {\"outlinewidth\": 0, \"ticks\": \"\"}}, \"type\": \"scatterpolargl\"}], \"scatterternary\": [{\"marker\": {\"colorbar\": {\"outlinewidth\": 0, \"ticks\": \"\"}}, \"type\": \"scatterternary\"}], \"surface\": [{\"colorbar\": {\"outlinewidth\": 0, \"ticks\": \"\"}, \"colorscale\": [[0.0, \"#0d0887\"], [0.1111111111111111, \"#46039f\"], [0.2222222222222222, \"#7201a8\"], [0.3333333333333333, \"#9c179e\"], [0.4444444444444444, \"#bd3786\"], [0.5555555555555556, \"#d8576b\"], [0.6666666666666666, \"#ed7953\"], [0.7777777777777778, \"#fb9f3a\"], [0.8888888888888888, \"#fdca26\"], [1.0, \"#f0f921\"]], \"type\": \"surface\"}], \"table\": [{\"cells\": {\"fill\": {\"color\": \"#EBF0F8\"}, \"line\": {\"color\": \"white\"}}, \"header\": {\"fill\": {\"color\": \"#C8D4E3\"}, \"line\": {\"color\": \"white\"}}, \"type\": \"table\"}]}, \"layout\": {\"annotationdefaults\": {\"arrowcolor\": \"#2a3f5f\", \"arrowhead\": 0, \"arrowwidth\": 1}, \"autotypenumbers\": \"strict\", \"coloraxis\": {\"colorbar\": {\"outlinewidth\": 0, \"ticks\": \"\"}}, \"colorscale\": {\"diverging\": [[0, \"#8e0152\"], [0.1, \"#c51b7d\"], [0.2, \"#de77ae\"], [0.3, \"#f1b6da\"], [0.4, \"#fde0ef\"], [0.5, \"#f7f7f7\"], [0.6, \"#e6f5d0\"], [0.7, \"#b8e186\"], [0.8, \"#7fbc41\"], [0.9, \"#4d9221\"], [1, \"#276419\"]], \"sequential\": [[0.0, \"#0d0887\"], [0.1111111111111111, \"#46039f\"], [0.2222222222222222, \"#7201a8\"], [0.3333333333333333, \"#9c179e\"], [0.4444444444444444, \"#bd3786\"], [0.5555555555555556, \"#d8576b\"], [0.6666666666666666, \"#ed7953\"], [0.7777777777777778, \"#fb9f3a\"], [0.8888888888888888, \"#fdca26\"], [1.0, \"#f0f921\"]], \"sequentialminus\": [[0.0, \"#0d0887\"], [0.1111111111111111, \"#46039f\"], [0.2222222222222222, \"#7201a8\"], [0.3333333333333333, \"#9c179e\"], [0.4444444444444444, \"#bd3786\"], [0.5555555555555556, \"#d8576b\"], [0.6666666666666666, \"#ed7953\"], [0.7777777777777778, \"#fb9f3a\"], [0.8888888888888888, \"#fdca26\"], [1.0, \"#f0f921\"]]}, \"colorway\": [\"#636efa\", \"#EF553B\", \"#00cc96\", \"#ab63fa\", \"#FFA15A\", \"#19d3f3\", \"#FF6692\", \"#B6E880\", \"#FF97FF\", \"#FECB52\"], \"font\": {\"color\": \"#2a3f5f\"}, \"geo\": {\"bgcolor\": \"white\", \"lakecolor\": \"white\", \"landcolor\": \"#E5ECF6\", \"showlakes\": true, \"showland\": true, \"subunitcolor\": \"white\"}, \"hoverlabel\": {\"align\": \"left\"}, \"hovermode\": \"closest\", \"mapbox\": {\"style\": \"light\"}, \"paper_bgcolor\": \"white\", \"plot_bgcolor\": \"#E5ECF6\", \"polar\": {\"angularaxis\": {\"gridcolor\": \"white\", \"linecolor\": \"white\", \"ticks\": \"\"}, \"bgcolor\": \"#E5ECF6\", \"radialaxis\": {\"gridcolor\": \"white\", \"linecolor\": \"white\", \"ticks\": \"\"}}, \"scene\": {\"xaxis\": {\"backgroundcolor\": \"#E5ECF6\", \"gridcolor\": \"white\", \"gridwidth\": 2, \"linecolor\": \"white\", \"showbackground\": true, \"ticks\": \"\", \"zerolinecolor\": \"white\"}, \"yaxis\": {\"backgroundcolor\": \"#E5ECF6\", \"gridcolor\": \"white\", \"gridwidth\": 2, \"linecolor\": \"white\", \"showbackground\": true, \"ticks\": \"\", \"zerolinecolor\": \"white\"}, \"zaxis\": {\"backgroundcolor\": \"#E5ECF6\", \"gridcolor\": \"white\", \"gridwidth\": 2, \"linecolor\": \"white\", \"showbackground\": true, \"ticks\": \"\", \"zerolinecolor\": \"white\"}}, \"shapedefaults\": {\"line\": {\"color\": \"#2a3f5f\"}}, \"ternary\": {\"aaxis\": {\"gridcolor\": \"white\", \"linecolor\": \"white\", \"ticks\": \"\"}, \"baxis\": {\"gridcolor\": \"white\", \"linecolor\": \"white\", \"ticks\": \"\"}, \"bgcolor\": \"#E5ECF6\", \"caxis\": {\"gridcolor\": \"white\", \"linecolor\": \"white\", \"ticks\": \"\"}}, \"title\": {\"x\": 0.05}, \"xaxis\": {\"automargin\": true, \"gridcolor\": \"white\", \"linecolor\": \"white\", \"ticks\": \"\", \"title\": {\"standoff\": 15}, \"zerolinecolor\": \"white\", \"zerolinewidth\": 2}, \"yaxis\": {\"automargin\": true, \"gridcolor\": \"white\", \"linecolor\": \"white\", \"ticks\": \"\", \"title\": {\"standoff\": 15}, \"zerolinecolor\": \"white\", \"zerolinewidth\": 2}}}, \"title\": {\"font\": {\"color\": \"#4D5663\"}}, \"xaxis\": {\"gridcolor\": \"#E1E5ED\", \"showgrid\": true, \"tickfont\": {\"color\": \"#4D5663\"}, \"title\": {\"font\": {\"color\": \"#4D5663\"}, \"text\": \"\"}, \"zerolinecolor\": \"#E1E5ED\"}, \"yaxis\": {\"gridcolor\": \"#E1E5ED\", \"showgrid\": true, \"tickfont\": {\"color\": \"#4D5663\"}, \"title\": {\"font\": {\"color\": \"#4D5663\"}, \"text\": \"\"}, \"zerolinecolor\": \"#E1E5ED\"}},                        {\"showLink\": true, \"linkText\": \"Export to plot.ly\", \"plotlyServerURL\": \"https://plot.ly\", \"responsive\": true}                    ).then(function(){\n",
       "                            \n",
       "var gd = document.getElementById('e4c42161-5347-4119-946f-3a6a4a8b55f6');\n",
       "var x = new MutationObserver(function (mutations, observer) {{\n",
       "        var display = window.getComputedStyle(gd).display;\n",
       "        if (!display || display === 'none') {{\n",
       "            console.log([gd, 'removed!']);\n",
       "            Plotly.purge(gd);\n",
       "            observer.disconnect();\n",
       "        }}\n",
       "}});\n",
       "\n",
       "// Listen for the removal of the full notebook cells\n",
       "var notebookContainer = gd.closest('#notebook-container');\n",
       "if (notebookContainer) {{\n",
       "    x.observe(notebookContainer, {childList: true});\n",
       "}}\n",
       "\n",
       "// Listen for the clearing of the current output cell\n",
       "var outputEl = gd.closest('.output');\n",
       "if (outputEl) {{\n",
       "    x.observe(outputEl, {childList: true});\n",
       "}}\n",
       "\n",
       "                        })                };                });            </script>        </div>"
      ]
     },
     "metadata": {},
     "output_type": "display_data"
    }
   ],
   "source": [
    "df3 = pd.DataFrame({'x':[1,2,3,4,5],'y':[10,20,30,20,10],'z':[5,4,3,2,1]})\n",
    "df3.iplot(kind='surface',colorscale='rdylbu')"
   ]
  },
  {
   "cell_type": "markdown",
   "metadata": {},
   "source": [
    "## Spread"
   ]
  },
  {
   "cell_type": "code",
   "execution_count": 17,
   "metadata": {},
   "outputs": [
    {
     "name": "stderr",
     "output_type": "stream",
     "text": [
      "C:\\Users\\lopez\\anaconda3\\lib\\site-packages\\cufflinks\\plotlytools.py:849: FutureWarning:\n",
      "\n",
      "The pandas.np module is deprecated and will be removed from pandas in a future version. Import numpy directly instead\n",
      "\n",
      "C:\\Users\\lopez\\anaconda3\\lib\\site-packages\\cufflinks\\plotlytools.py:850: FutureWarning:\n",
      "\n",
      "The pandas.np module is deprecated and will be removed from pandas in a future version. Import numpy directly instead\n",
      "\n"
     ]
    },
    {
     "data": {
      "application/vnd.plotly.v1+json": {
       "config": {
        "linkText": "Export to plot.ly",
        "plotlyServerURL": "https://plot.ly",
        "showLink": true
       },
       "data": [
        {
         "line": {
          "color": "rgba(255, 153, 51, 1.0)",
          "dash": "solid",
          "shape": "linear",
          "width": 1.3
         },
         "mode": "lines",
         "name": "A",
         "text": "",
         "type": "scatter",
         "x": [
          0,
          1,
          2,
          3,
          4,
          5,
          6,
          7,
          8,
          9,
          10,
          11,
          12,
          13,
          14,
          15,
          16,
          17,
          18,
          19,
          20,
          21,
          22,
          23,
          24,
          25,
          26,
          27,
          28,
          29,
          30,
          31,
          32,
          33,
          34,
          35,
          36,
          37,
          38,
          39,
          40,
          41,
          42,
          43,
          44,
          45,
          46,
          47,
          48,
          49,
          50,
          51,
          52,
          53,
          54,
          55,
          56,
          57,
          58,
          59,
          60,
          61,
          62,
          63,
          64,
          65,
          66,
          67,
          68,
          69,
          70,
          71,
          72,
          73,
          74,
          75,
          76,
          77,
          78,
          79,
          80,
          81,
          82,
          83,
          84,
          85,
          86,
          87,
          88,
          89,
          90,
          91,
          92,
          93,
          94,
          95,
          96,
          97,
          98,
          99
         ],
         "y": [
          0.5543778778007974,
          1.305477680709373,
          -0.024430440104519096,
          -2.215780260803809,
          2.0311597958353804,
          -0.4640646961126891,
          0.8170695248510517,
          -0.7028901071685868,
          -1.3491332354884638,
          -0.6161054436764591,
          -0.9280833246496767,
          -0.202066973522514,
          -0.21977179427645022,
          -1.0499809344704083,
          -0.5538206199663367,
          0.2265782866540906,
          -1.281844393909573,
          1.2908776366987078,
          0.18933031627514868,
          1.3223490944050604,
          -0.6917365578725994,
          -0.5431131287020351,
          -0.2909553413115204,
          1.0750396385991803,
          0.7429454183000217,
          0.22129435093050254,
          -0.8614967063028686,
          -1.1268504523534668,
          0.7849954275435155,
          -2.0462048630969756,
          -0.008315388606309645,
          -0.18690885675627897,
          -0.7438181606657309,
          0.15288541099547315,
          0.014475441184176124,
          0.14950478033843956,
          -0.8196188460104581,
          0.6817811904730309,
          -1.2529214477062713,
          0.9734419093151444,
          0.46920101432825234,
          -1.8738939153410312,
          -1.0442171806553078,
          -0.38907289675682377,
          0.3414085214985565,
          -0.12856373579884875,
          0.7687266580761056,
          -1.054510339601767,
          -1.3749782443374008,
          0.08569403027435128,
          -0.5857738419042354,
          -1.7400601235515123,
          -0.03888180835654369,
          1.5662535457997817,
          -1.135373142936974,
          -1.1788653754026897,
          0.9584474836768704,
          0.8452506568614417,
          1.4097083184823593,
          1.380708985476826,
          -1.3203287612461103,
          -0.38364821453678444,
          -0.9971480233412237,
          0.3380732888858674,
          0.16534288637466557,
          -1.8140009513685151,
          0.9591220114764414,
          -0.7781011149097469,
          -0.9474226100958619,
          1.2943556874594229,
          0.1767544740810032,
          0.16052773335204457,
          -0.015433744952918096,
          -0.396594278243572,
          0.0392082424630884,
          -0.27494729328742556,
          0.8543890775430171,
          -0.17733028237964166,
          -1.0041492512236738,
          -0.3683532174905001,
          -0.4573037611863631,
          0.40586150069244475,
          0.7486343120609291,
          -1.009040149912704,
          -1.0528459653868723,
          -0.7337506006203001,
          0.8784811637364917,
          -1.2029475450319733,
          0.5139496552971384,
          0.016740108317212347,
          1.504783869463037,
          0.26307969919951585,
          0.732239718818574,
          0.12788599762890387,
          0.28310262019622595,
          0.37445293983738454,
          -0.802281753308722,
          -0.3215480974218836,
          0.030026716197300258,
          0.8956302931209041
         ]
        },
        {
         "line": {
          "color": "rgba(55, 128, 191, 1.0)",
          "dash": "solid",
          "shape": "linear",
          "width": 1.3
         },
         "mode": "lines",
         "name": "B",
         "text": "",
         "type": "scatter",
         "x": [
          0,
          1,
          2,
          3,
          4,
          5,
          6,
          7,
          8,
          9,
          10,
          11,
          12,
          13,
          14,
          15,
          16,
          17,
          18,
          19,
          20,
          21,
          22,
          23,
          24,
          25,
          26,
          27,
          28,
          29,
          30,
          31,
          32,
          33,
          34,
          35,
          36,
          37,
          38,
          39,
          40,
          41,
          42,
          43,
          44,
          45,
          46,
          47,
          48,
          49,
          50,
          51,
          52,
          53,
          54,
          55,
          56,
          57,
          58,
          59,
          60,
          61,
          62,
          63,
          64,
          65,
          66,
          67,
          68,
          69,
          70,
          71,
          72,
          73,
          74,
          75,
          76,
          77,
          78,
          79,
          80,
          81,
          82,
          83,
          84,
          85,
          86,
          87,
          88,
          89,
          90,
          91,
          92,
          93,
          94,
          95,
          96,
          97,
          98,
          99
         ],
         "y": [
          0.6573420948764968,
          0.10927452064301324,
          -1.1693955571656995,
          0.27038277765157015,
          -0.6334428219861441,
          -0.7310049423608668,
          -0.9061497273341353,
          -0.17952398194820196,
          0.5290628366347644,
          -0.3277282850274606,
          0.4805066939717914,
          0.4305331075124773,
          1.5367349716397587,
          0.9288429958501185,
          -0.13154094045274825,
          -0.008054556044534996,
          -0.3549430884093958,
          -0.5518746001809784,
          -0.3744331900872491,
          -1.1466740102851765,
          0.42116918545774723,
          -1.2433821954666222,
          0.5342388046341497,
          -1.2576208065547367,
          -0.22244895651178917,
          1.3712309698798104,
          -0.5502388311820707,
          -1.5928047353411585,
          0.13055640769860827,
          0.9981990385975217,
          -0.7336616425525483,
          0.4351102368339564,
          -0.32225790472622995,
          0.7413449967439579,
          0.3721174073425647,
          0.512721239719747,
          -0.740110741950452,
          0.6957972672159145,
          0.830729579395018,
          0.3887161572657043,
          0.6150346953707452,
          -0.5082427724892878,
          -0.49489182061779347,
          -0.01716986251555328,
          2.3602710200722505,
          -0.8218874927980011,
          0.22427309131500953,
          -0.29005880893778097,
          1.1779260056622485,
          -0.11748454801166518,
          0.3402397024055858,
          -0.35552836385523023,
          -0.16451996357588944,
          0.7034108409217701,
          0.477435014841578,
          1.1923449016301306,
          0.2965107406624185,
          0.46063736138339956,
          -1.0508179558055617,
          0.9783239970892182,
          -0.6237161393238063,
          -0.9411186378701619,
          0.8606564080610469,
          -0.8956632154241032,
          -0.0014160494534910955,
          -2.7962656734900455,
          -1.11910796542192,
          -1.2596609578746518,
          -0.1491127134080697,
          -1.824555021548616,
          -0.4624946856160559,
          -0.36554135435135815,
          1.2474035413162488,
          0.5151989771478599,
          -0.48799114484926626,
          0.9900683597616949,
          -0.32106797524051484,
          -0.9560897765749078,
          1.0444631985284405,
          0.1693601699087248,
          -0.1770841413625548,
          0.7422150630812716,
          0.0691231084306441,
          1.6744750921176692,
          -0.49391613899722053,
          -1.1450714835966944,
          1.8517986856387725,
          -0.3470835160544637,
          0.017777108580660606,
          0.6695030039630508,
          0.9362583269580034,
          -0.007334188774526295,
          -2.110221712510784,
          0.22241278040537338,
          0.07030621148623364,
          -0.9278741288272946,
          -0.5190491244263271,
          0.49593328011174986,
          -1.5689689364140202,
          1.638871879947243
         ]
        },
        {
         "connectgaps": false,
         "fill": "tozeroy",
         "line": {
          "color": "green",
          "dash": "solid",
          "shape": "linear",
          "width": 0.5
         },
         "mode": "lines",
         "name": "Spread",
         "showlegend": false,
         "type": "scatter",
         "x": [
          0,
          1,
          2,
          3,
          4,
          5,
          6,
          7,
          8,
          9,
          10,
          11,
          12,
          13,
          14,
          15,
          16,
          17,
          18,
          19,
          20,
          21,
          22,
          23,
          24,
          25,
          26,
          27,
          28,
          29,
          30,
          31,
          32,
          33,
          34,
          35,
          36,
          37,
          38,
          39,
          40,
          41,
          42,
          43,
          44,
          45,
          46,
          47,
          48,
          49,
          50,
          51,
          52,
          53,
          54,
          55,
          56,
          57,
          58,
          59,
          60,
          61,
          62,
          63,
          64,
          65,
          66,
          67,
          68,
          69,
          70,
          71,
          72,
          73,
          74,
          75,
          76,
          77,
          78,
          79,
          80,
          81,
          82,
          83,
          84,
          85,
          86,
          87,
          88,
          89,
          90,
          91,
          92,
          93,
          94,
          95,
          96,
          97,
          98,
          99
         ],
         "xaxis": "x2",
         "y": [
          "",
          1.1962031600663598,
          1.1449651170611805,
          "",
          2.6646026178215245,
          0.2669402462481777,
          1.723219252185187,
          "",
          "",
          "",
          "",
          "",
          "",
          "",
          "",
          0.2346328426986256,
          "",
          1.8427522368796863,
          0.5637635063623978,
          2.469023104690237,
          "",
          0.7002690667645871,
          "",
          2.332660445153917,
          0.9653943748118109,
          "",
          "",
          0.4659542829876917,
          0.6544390198449073,
          "",
          0.7253462539462386,
          "",
          "",
          "",
          "",
          "",
          "",
          "",
          "",
          0.5847257520494401,
          "",
          "",
          "",
          "",
          "",
          0.6933237569991524,
          0.5444535667610961,
          "",
          "",
          0.20317857828601646,
          "",
          "",
          0.12563815521934574,
          0.8628427048780116,
          "",
          "",
          0.6619367430144518,
          0.3846132954780422,
          2.460526274287921,
          0.4023849883876077,
          "",
          0.5574704233333775,
          "",
          1.2337365043099706,
          0.16675893582815668,
          0.9822647221215304,
          2.0782299768983616,
          0.48155984296490495,
          "",
          3.1189107090080386,
          0.6392491596970591,
          0.5260690877034027,
          "",
          "",
          0.5271993873123546,
          "",
          1.175457052783532,
          0.7787594941952661,
          "",
          "",
          "",
          "",
          0.679511203630285,
          "",
          "",
          0.41132088297639435,
          "",
          "",
          0.4961725467164778,
          "",
          0.5685255425050337,
          0.27041388797404214,
          2.8424614313293577,
          "",
          0.2127964087099923,
          1.302327068664679,
          "",
          "",
          1.5989956526113205,
          ""
         ],
         "yaxis": "y2"
        },
        {
         "connectgaps": false,
         "fill": "tozeroy",
         "line": {
          "color": "red",
          "dash": "solid",
          "shape": "linear",
          "width": 0.5
         },
         "mode": "lines",
         "name": "Spread",
         "showlegend": false,
         "type": "scatter",
         "x": [
          0,
          1,
          2,
          3,
          4,
          5,
          6,
          7,
          8,
          9,
          10,
          11,
          12,
          13,
          14,
          15,
          16,
          17,
          18,
          19,
          20,
          21,
          22,
          23,
          24,
          25,
          26,
          27,
          28,
          29,
          30,
          31,
          32,
          33,
          34,
          35,
          36,
          37,
          38,
          39,
          40,
          41,
          42,
          43,
          44,
          45,
          46,
          47,
          48,
          49,
          50,
          51,
          52,
          53,
          54,
          55,
          56,
          57,
          58,
          59,
          60,
          61,
          62,
          63,
          64,
          65,
          66,
          67,
          68,
          69,
          70,
          71,
          72,
          73,
          74,
          75,
          76,
          77,
          78,
          79,
          80,
          81,
          82,
          83,
          84,
          85,
          86,
          87,
          88,
          89,
          90,
          91,
          92,
          93,
          94,
          95,
          96,
          97,
          98,
          99
         ],
         "xaxis": "x2",
         "y": [
          -0.10296421707569936,
          "",
          "",
          -2.486163038455379,
          "",
          "",
          "",
          -0.5233661252203848,
          -1.8781960721232283,
          -0.28837715864899854,
          -1.4085900186214682,
          -0.6326000810349913,
          -1.756506765916209,
          -1.9788239303205268,
          -0.42227967951358847,
          "",
          -0.9269013055001771,
          "",
          "",
          "",
          -1.1129057433303466,
          "",
          -0.8251941459456702,
          "",
          "",
          -1.1499366189493079,
          -0.31125787512079783,
          "",
          "",
          -3.0444039016944973,
          "",
          -0.6220190935902353,
          -0.42156025593950097,
          -0.5884595857484848,
          -0.3576419661583886,
          -0.3632164593813075,
          -0.07950810406000608,
          -0.014016076742883632,
          -2.0836510271012894,
          "",
          -0.14583368104249284,
          -1.3656511428517435,
          -0.5493253600375143,
          -0.37190303424127047,
          -2.018862498573694,
          "",
          "",
          -0.7644515306639861,
          -2.5529042499996493,
          "",
          -0.9260135443098212,
          -1.384531759696282,
          "",
          "",
          -1.612808157778552,
          -2.3712102770328203,
          "",
          "",
          "",
          "",
          -0.696612621922304,
          "",
          -1.8578044314022706,
          "",
          "",
          "",
          "",
          "",
          -0.7983098966877922,
          "",
          "",
          "",
          -1.2628372862691668,
          -0.9117932553914319,
          "",
          -1.2650156530491206,
          "",
          "",
          -2.048612449752114,
          -0.5377133873992249,
          -0.28021961982380833,
          -0.33635356238882685,
          "",
          -2.6835152420303734,
          -0.5589298263896517,
          "",
          -0.9733175219022808,
          -0.8558640289775097,
          "",
          -0.6527628956458384,
          "",
          "",
          "",
          -0.0945267827764695,
          "",
          "",
          -0.28323262888239487,
          -0.8174813775336335,
          "",
          -0.7432415868263389
         ],
         "yaxis": "y2"
        }
       ],
       "layout": {
        "hovermode": "x",
        "legend": {
         "bgcolor": "#F5F6F9",
         "font": {
          "color": "#4D5663"
         }
        },
        "paper_bgcolor": "#F5F6F9",
        "plot_bgcolor": "#F5F6F9",
        "template": {
         "data": {
          "bar": [
           {
            "error_x": {
             "color": "#2a3f5f"
            },
            "error_y": {
             "color": "#2a3f5f"
            },
            "marker": {
             "line": {
              "color": "#E5ECF6",
              "width": 0.5
             }
            },
            "type": "bar"
           }
          ],
          "barpolar": [
           {
            "marker": {
             "line": {
              "color": "#E5ECF6",
              "width": 0.5
             }
            },
            "type": "barpolar"
           }
          ],
          "carpet": [
           {
            "aaxis": {
             "endlinecolor": "#2a3f5f",
             "gridcolor": "white",
             "linecolor": "white",
             "minorgridcolor": "white",
             "startlinecolor": "#2a3f5f"
            },
            "baxis": {
             "endlinecolor": "#2a3f5f",
             "gridcolor": "white",
             "linecolor": "white",
             "minorgridcolor": "white",
             "startlinecolor": "#2a3f5f"
            },
            "type": "carpet"
           }
          ],
          "choropleth": [
           {
            "colorbar": {
             "outlinewidth": 0,
             "ticks": ""
            },
            "type": "choropleth"
           }
          ],
          "contour": [
           {
            "colorbar": {
             "outlinewidth": 0,
             "ticks": ""
            },
            "colorscale": [
             [
              0,
              "#0d0887"
             ],
             [
              0.1111111111111111,
              "#46039f"
             ],
             [
              0.2222222222222222,
              "#7201a8"
             ],
             [
              0.3333333333333333,
              "#9c179e"
             ],
             [
              0.4444444444444444,
              "#bd3786"
             ],
             [
              0.5555555555555556,
              "#d8576b"
             ],
             [
              0.6666666666666666,
              "#ed7953"
             ],
             [
              0.7777777777777778,
              "#fb9f3a"
             ],
             [
              0.8888888888888888,
              "#fdca26"
             ],
             [
              1,
              "#f0f921"
             ]
            ],
            "type": "contour"
           }
          ],
          "contourcarpet": [
           {
            "colorbar": {
             "outlinewidth": 0,
             "ticks": ""
            },
            "type": "contourcarpet"
           }
          ],
          "heatmap": [
           {
            "colorbar": {
             "outlinewidth": 0,
             "ticks": ""
            },
            "colorscale": [
             [
              0,
              "#0d0887"
             ],
             [
              0.1111111111111111,
              "#46039f"
             ],
             [
              0.2222222222222222,
              "#7201a8"
             ],
             [
              0.3333333333333333,
              "#9c179e"
             ],
             [
              0.4444444444444444,
              "#bd3786"
             ],
             [
              0.5555555555555556,
              "#d8576b"
             ],
             [
              0.6666666666666666,
              "#ed7953"
             ],
             [
              0.7777777777777778,
              "#fb9f3a"
             ],
             [
              0.8888888888888888,
              "#fdca26"
             ],
             [
              1,
              "#f0f921"
             ]
            ],
            "type": "heatmap"
           }
          ],
          "heatmapgl": [
           {
            "colorbar": {
             "outlinewidth": 0,
             "ticks": ""
            },
            "colorscale": [
             [
              0,
              "#0d0887"
             ],
             [
              0.1111111111111111,
              "#46039f"
             ],
             [
              0.2222222222222222,
              "#7201a8"
             ],
             [
              0.3333333333333333,
              "#9c179e"
             ],
             [
              0.4444444444444444,
              "#bd3786"
             ],
             [
              0.5555555555555556,
              "#d8576b"
             ],
             [
              0.6666666666666666,
              "#ed7953"
             ],
             [
              0.7777777777777778,
              "#fb9f3a"
             ],
             [
              0.8888888888888888,
              "#fdca26"
             ],
             [
              1,
              "#f0f921"
             ]
            ],
            "type": "heatmapgl"
           }
          ],
          "histogram": [
           {
            "marker": {
             "colorbar": {
              "outlinewidth": 0,
              "ticks": ""
             }
            },
            "type": "histogram"
           }
          ],
          "histogram2d": [
           {
            "colorbar": {
             "outlinewidth": 0,
             "ticks": ""
            },
            "colorscale": [
             [
              0,
              "#0d0887"
             ],
             [
              0.1111111111111111,
              "#46039f"
             ],
             [
              0.2222222222222222,
              "#7201a8"
             ],
             [
              0.3333333333333333,
              "#9c179e"
             ],
             [
              0.4444444444444444,
              "#bd3786"
             ],
             [
              0.5555555555555556,
              "#d8576b"
             ],
             [
              0.6666666666666666,
              "#ed7953"
             ],
             [
              0.7777777777777778,
              "#fb9f3a"
             ],
             [
              0.8888888888888888,
              "#fdca26"
             ],
             [
              1,
              "#f0f921"
             ]
            ],
            "type": "histogram2d"
           }
          ],
          "histogram2dcontour": [
           {
            "colorbar": {
             "outlinewidth": 0,
             "ticks": ""
            },
            "colorscale": [
             [
              0,
              "#0d0887"
             ],
             [
              0.1111111111111111,
              "#46039f"
             ],
             [
              0.2222222222222222,
              "#7201a8"
             ],
             [
              0.3333333333333333,
              "#9c179e"
             ],
             [
              0.4444444444444444,
              "#bd3786"
             ],
             [
              0.5555555555555556,
              "#d8576b"
             ],
             [
              0.6666666666666666,
              "#ed7953"
             ],
             [
              0.7777777777777778,
              "#fb9f3a"
             ],
             [
              0.8888888888888888,
              "#fdca26"
             ],
             [
              1,
              "#f0f921"
             ]
            ],
            "type": "histogram2dcontour"
           }
          ],
          "mesh3d": [
           {
            "colorbar": {
             "outlinewidth": 0,
             "ticks": ""
            },
            "type": "mesh3d"
           }
          ],
          "parcoords": [
           {
            "line": {
             "colorbar": {
              "outlinewidth": 0,
              "ticks": ""
             }
            },
            "type": "parcoords"
           }
          ],
          "pie": [
           {
            "automargin": true,
            "type": "pie"
           }
          ],
          "scatter": [
           {
            "marker": {
             "colorbar": {
              "outlinewidth": 0,
              "ticks": ""
             }
            },
            "type": "scatter"
           }
          ],
          "scatter3d": [
           {
            "line": {
             "colorbar": {
              "outlinewidth": 0,
              "ticks": ""
             }
            },
            "marker": {
             "colorbar": {
              "outlinewidth": 0,
              "ticks": ""
             }
            },
            "type": "scatter3d"
           }
          ],
          "scattercarpet": [
           {
            "marker": {
             "colorbar": {
              "outlinewidth": 0,
              "ticks": ""
             }
            },
            "type": "scattercarpet"
           }
          ],
          "scattergeo": [
           {
            "marker": {
             "colorbar": {
              "outlinewidth": 0,
              "ticks": ""
             }
            },
            "type": "scattergeo"
           }
          ],
          "scattergl": [
           {
            "marker": {
             "colorbar": {
              "outlinewidth": 0,
              "ticks": ""
             }
            },
            "type": "scattergl"
           }
          ],
          "scattermapbox": [
           {
            "marker": {
             "colorbar": {
              "outlinewidth": 0,
              "ticks": ""
             }
            },
            "type": "scattermapbox"
           }
          ],
          "scatterpolar": [
           {
            "marker": {
             "colorbar": {
              "outlinewidth": 0,
              "ticks": ""
             }
            },
            "type": "scatterpolar"
           }
          ],
          "scatterpolargl": [
           {
            "marker": {
             "colorbar": {
              "outlinewidth": 0,
              "ticks": ""
             }
            },
            "type": "scatterpolargl"
           }
          ],
          "scatterternary": [
           {
            "marker": {
             "colorbar": {
              "outlinewidth": 0,
              "ticks": ""
             }
            },
            "type": "scatterternary"
           }
          ],
          "surface": [
           {
            "colorbar": {
             "outlinewidth": 0,
             "ticks": ""
            },
            "colorscale": [
             [
              0,
              "#0d0887"
             ],
             [
              0.1111111111111111,
              "#46039f"
             ],
             [
              0.2222222222222222,
              "#7201a8"
             ],
             [
              0.3333333333333333,
              "#9c179e"
             ],
             [
              0.4444444444444444,
              "#bd3786"
             ],
             [
              0.5555555555555556,
              "#d8576b"
             ],
             [
              0.6666666666666666,
              "#ed7953"
             ],
             [
              0.7777777777777778,
              "#fb9f3a"
             ],
             [
              0.8888888888888888,
              "#fdca26"
             ],
             [
              1,
              "#f0f921"
             ]
            ],
            "type": "surface"
           }
          ],
          "table": [
           {
            "cells": {
             "fill": {
              "color": "#EBF0F8"
             },
             "line": {
              "color": "white"
             }
            },
            "header": {
             "fill": {
              "color": "#C8D4E3"
             },
             "line": {
              "color": "white"
             }
            },
            "type": "table"
           }
          ]
         },
         "layout": {
          "annotationdefaults": {
           "arrowcolor": "#2a3f5f",
           "arrowhead": 0,
           "arrowwidth": 1
          },
          "autotypenumbers": "strict",
          "coloraxis": {
           "colorbar": {
            "outlinewidth": 0,
            "ticks": ""
           }
          },
          "colorscale": {
           "diverging": [
            [
             0,
             "#8e0152"
            ],
            [
             0.1,
             "#c51b7d"
            ],
            [
             0.2,
             "#de77ae"
            ],
            [
             0.3,
             "#f1b6da"
            ],
            [
             0.4,
             "#fde0ef"
            ],
            [
             0.5,
             "#f7f7f7"
            ],
            [
             0.6,
             "#e6f5d0"
            ],
            [
             0.7,
             "#b8e186"
            ],
            [
             0.8,
             "#7fbc41"
            ],
            [
             0.9,
             "#4d9221"
            ],
            [
             1,
             "#276419"
            ]
           ],
           "sequential": [
            [
             0,
             "#0d0887"
            ],
            [
             0.1111111111111111,
             "#46039f"
            ],
            [
             0.2222222222222222,
             "#7201a8"
            ],
            [
             0.3333333333333333,
             "#9c179e"
            ],
            [
             0.4444444444444444,
             "#bd3786"
            ],
            [
             0.5555555555555556,
             "#d8576b"
            ],
            [
             0.6666666666666666,
             "#ed7953"
            ],
            [
             0.7777777777777778,
             "#fb9f3a"
            ],
            [
             0.8888888888888888,
             "#fdca26"
            ],
            [
             1,
             "#f0f921"
            ]
           ],
           "sequentialminus": [
            [
             0,
             "#0d0887"
            ],
            [
             0.1111111111111111,
             "#46039f"
            ],
            [
             0.2222222222222222,
             "#7201a8"
            ],
            [
             0.3333333333333333,
             "#9c179e"
            ],
            [
             0.4444444444444444,
             "#bd3786"
            ],
            [
             0.5555555555555556,
             "#d8576b"
            ],
            [
             0.6666666666666666,
             "#ed7953"
            ],
            [
             0.7777777777777778,
             "#fb9f3a"
            ],
            [
             0.8888888888888888,
             "#fdca26"
            ],
            [
             1,
             "#f0f921"
            ]
           ]
          },
          "colorway": [
           "#636efa",
           "#EF553B",
           "#00cc96",
           "#ab63fa",
           "#FFA15A",
           "#19d3f3",
           "#FF6692",
           "#B6E880",
           "#FF97FF",
           "#FECB52"
          ],
          "font": {
           "color": "#2a3f5f"
          },
          "geo": {
           "bgcolor": "white",
           "lakecolor": "white",
           "landcolor": "#E5ECF6",
           "showlakes": true,
           "showland": true,
           "subunitcolor": "white"
          },
          "hoverlabel": {
           "align": "left"
          },
          "hovermode": "closest",
          "mapbox": {
           "style": "light"
          },
          "paper_bgcolor": "white",
          "plot_bgcolor": "#E5ECF6",
          "polar": {
           "angularaxis": {
            "gridcolor": "white",
            "linecolor": "white",
            "ticks": ""
           },
           "bgcolor": "#E5ECF6",
           "radialaxis": {
            "gridcolor": "white",
            "linecolor": "white",
            "ticks": ""
           }
          },
          "scene": {
           "xaxis": {
            "backgroundcolor": "#E5ECF6",
            "gridcolor": "white",
            "gridwidth": 2,
            "linecolor": "white",
            "showbackground": true,
            "ticks": "",
            "zerolinecolor": "white"
           },
           "yaxis": {
            "backgroundcolor": "#E5ECF6",
            "gridcolor": "white",
            "gridwidth": 2,
            "linecolor": "white",
            "showbackground": true,
            "ticks": "",
            "zerolinecolor": "white"
           },
           "zaxis": {
            "backgroundcolor": "#E5ECF6",
            "gridcolor": "white",
            "gridwidth": 2,
            "linecolor": "white",
            "showbackground": true,
            "ticks": "",
            "zerolinecolor": "white"
           }
          },
          "shapedefaults": {
           "line": {
            "color": "#2a3f5f"
           }
          },
          "ternary": {
           "aaxis": {
            "gridcolor": "white",
            "linecolor": "white",
            "ticks": ""
           },
           "baxis": {
            "gridcolor": "white",
            "linecolor": "white",
            "ticks": ""
           },
           "bgcolor": "#E5ECF6",
           "caxis": {
            "gridcolor": "white",
            "linecolor": "white",
            "ticks": ""
           }
          },
          "title": {
           "x": 0.05
          },
          "xaxis": {
           "automargin": true,
           "gridcolor": "white",
           "linecolor": "white",
           "ticks": "",
           "title": {
            "standoff": 15
           },
           "zerolinecolor": "white",
           "zerolinewidth": 2
          },
          "yaxis": {
           "automargin": true,
           "gridcolor": "white",
           "linecolor": "white",
           "ticks": "",
           "title": {
            "standoff": 15
           },
           "zerolinecolor": "white",
           "zerolinewidth": 2
          }
         }
        },
        "title": {
         "font": {
          "color": "#4D5663"
         }
        },
        "xaxis": {
         "gridcolor": "#E1E5ED",
         "showgrid": true,
         "tickfont": {
          "color": "#4D5663"
         },
         "title": {
          "font": {
           "color": "#4D5663"
          },
          "text": ""
         },
         "zerolinecolor": "#E1E5ED"
        },
        "xaxis2": {
         "anchor": "y2",
         "gridcolor": "#E1E5ED",
         "showgrid": true,
         "showticklabels": false,
         "tickfont": {
          "color": "#4D5663"
         },
         "title": {
          "font": {
           "color": "#4D5663"
          },
          "text": ""
         },
         "zerolinecolor": "#E1E5ED"
        },
        "yaxis": {
         "domain": [
          0.3,
          1
         ],
         "gridcolor": "#E1E5ED",
         "showgrid": true,
         "tickfont": {
          "color": "#4D5663"
         },
         "title": {
          "font": {
           "color": "#4D5663"
          },
          "text": ""
         },
         "zerolinecolor": "#E1E5ED"
        },
        "yaxis2": {
         "domain": [
          0,
          0.25
         ],
         "gridcolor": "#E1E5ED",
         "showgrid": true,
         "tickfont": {
          "color": "#4D5663"
         },
         "title": {
          "font": {
           "color": "#4D5663"
          },
          "text": "Spread"
         },
         "zerolinecolor": "#E1E5ED"
        }
       }
      },
      "text/html": [
       "<div>                            <div id=\"d045cef3-3cf7-4c92-8ab0-32fe8bb568f0\" class=\"plotly-graph-div\" style=\"height:525px; width:100%;\"></div>            <script type=\"text/javascript\">                require([\"plotly\"], function(Plotly) {                    window.PLOTLYENV=window.PLOTLYENV || {};\n",
       "                    window.PLOTLYENV.BASE_URL='https://plot.ly';                                    if (document.getElementById(\"d045cef3-3cf7-4c92-8ab0-32fe8bb568f0\")) {                    Plotly.newPlot(                        \"d045cef3-3cf7-4c92-8ab0-32fe8bb568f0\",                        [{\"line\": {\"color\": \"rgba(255, 153, 51, 1.0)\", \"dash\": \"solid\", \"shape\": \"linear\", \"width\": 1.3}, \"mode\": \"lines\", \"name\": \"A\", \"text\": \"\", \"type\": \"scatter\", \"x\": [0, 1, 2, 3, 4, 5, 6, 7, 8, 9, 10, 11, 12, 13, 14, 15, 16, 17, 18, 19, 20, 21, 22, 23, 24, 25, 26, 27, 28, 29, 30, 31, 32, 33, 34, 35, 36, 37, 38, 39, 40, 41, 42, 43, 44, 45, 46, 47, 48, 49, 50, 51, 52, 53, 54, 55, 56, 57, 58, 59, 60, 61, 62, 63, 64, 65, 66, 67, 68, 69, 70, 71, 72, 73, 74, 75, 76, 77, 78, 79, 80, 81, 82, 83, 84, 85, 86, 87, 88, 89, 90, 91, 92, 93, 94, 95, 96, 97, 98, 99], \"y\": [0.5543778778007974, 1.305477680709373, -0.024430440104519096, -2.215780260803809, 2.0311597958353804, -0.4640646961126891, 0.8170695248510517, -0.7028901071685868, -1.3491332354884638, -0.6161054436764591, -0.9280833246496767, -0.202066973522514, -0.21977179427645022, -1.0499809344704083, -0.5538206199663367, 0.2265782866540906, -1.281844393909573, 1.2908776366987078, 0.18933031627514868, 1.3223490944050604, -0.6917365578725994, -0.5431131287020351, -0.2909553413115204, 1.0750396385991803, 0.7429454183000217, 0.22129435093050254, -0.8614967063028686, -1.1268504523534668, 0.7849954275435155, -2.0462048630969756, -0.008315388606309645, -0.18690885675627897, -0.7438181606657309, 0.15288541099547315, 0.014475441184176124, 0.14950478033843956, -0.8196188460104581, 0.6817811904730309, -1.2529214477062713, 0.9734419093151444, 0.46920101432825234, -1.8738939153410312, -1.0442171806553078, -0.38907289675682377, 0.3414085214985565, -0.12856373579884875, 0.7687266580761056, -1.054510339601767, -1.3749782443374008, 0.08569403027435128, -0.5857738419042354, -1.7400601235515123, -0.03888180835654369, 1.5662535457997817, -1.135373142936974, -1.1788653754026897, 0.9584474836768704, 0.8452506568614417, 1.4097083184823593, 1.380708985476826, -1.3203287612461103, -0.38364821453678444, -0.9971480233412237, 0.3380732888858674, 0.16534288637466557, -1.8140009513685151, 0.9591220114764414, -0.7781011149097469, -0.9474226100958619, 1.2943556874594229, 0.1767544740810032, 0.16052773335204457, -0.015433744952918096, -0.396594278243572, 0.0392082424630884, -0.27494729328742556, 0.8543890775430171, -0.17733028237964166, -1.0041492512236738, -0.3683532174905001, -0.4573037611863631, 0.40586150069244475, 0.7486343120609291, -1.009040149912704, -1.0528459653868723, -0.7337506006203001, 0.8784811637364917, -1.2029475450319733, 0.5139496552971384, 0.016740108317212347, 1.504783869463037, 0.26307969919951585, 0.732239718818574, 0.12788599762890387, 0.28310262019622595, 0.37445293983738454, -0.802281753308722, -0.3215480974218836, 0.030026716197300258, 0.8956302931209041]}, {\"line\": {\"color\": \"rgba(55, 128, 191, 1.0)\", \"dash\": \"solid\", \"shape\": \"linear\", \"width\": 1.3}, \"mode\": \"lines\", \"name\": \"B\", \"text\": \"\", \"type\": \"scatter\", \"x\": [0, 1, 2, 3, 4, 5, 6, 7, 8, 9, 10, 11, 12, 13, 14, 15, 16, 17, 18, 19, 20, 21, 22, 23, 24, 25, 26, 27, 28, 29, 30, 31, 32, 33, 34, 35, 36, 37, 38, 39, 40, 41, 42, 43, 44, 45, 46, 47, 48, 49, 50, 51, 52, 53, 54, 55, 56, 57, 58, 59, 60, 61, 62, 63, 64, 65, 66, 67, 68, 69, 70, 71, 72, 73, 74, 75, 76, 77, 78, 79, 80, 81, 82, 83, 84, 85, 86, 87, 88, 89, 90, 91, 92, 93, 94, 95, 96, 97, 98, 99], \"y\": [0.6573420948764968, 0.10927452064301324, -1.1693955571656995, 0.27038277765157015, -0.6334428219861441, -0.7310049423608668, -0.9061497273341353, -0.17952398194820196, 0.5290628366347644, -0.3277282850274606, 0.4805066939717914, 0.4305331075124773, 1.5367349716397587, 0.9288429958501185, -0.13154094045274825, -0.008054556044534996, -0.3549430884093958, -0.5518746001809784, -0.3744331900872491, -1.1466740102851765, 0.42116918545774723, -1.2433821954666222, 0.5342388046341497, -1.2576208065547367, -0.22244895651178917, 1.3712309698798104, -0.5502388311820707, -1.5928047353411585, 0.13055640769860827, 0.9981990385975217, -0.7336616425525483, 0.4351102368339564, -0.32225790472622995, 0.7413449967439579, 0.3721174073425647, 0.512721239719747, -0.740110741950452, 0.6957972672159145, 0.830729579395018, 0.3887161572657043, 0.6150346953707452, -0.5082427724892878, -0.49489182061779347, -0.01716986251555328, 2.3602710200722505, -0.8218874927980011, 0.22427309131500953, -0.29005880893778097, 1.1779260056622485, -0.11748454801166518, 0.3402397024055858, -0.35552836385523023, -0.16451996357588944, 0.7034108409217701, 0.477435014841578, 1.1923449016301306, 0.2965107406624185, 0.46063736138339956, -1.0508179558055617, 0.9783239970892182, -0.6237161393238063, -0.9411186378701619, 0.8606564080610469, -0.8956632154241032, -0.0014160494534910955, -2.7962656734900455, -1.11910796542192, -1.2596609578746518, -0.1491127134080697, -1.824555021548616, -0.4624946856160559, -0.36554135435135815, 1.2474035413162488, 0.5151989771478599, -0.48799114484926626, 0.9900683597616949, -0.32106797524051484, -0.9560897765749078, 1.0444631985284405, 0.1693601699087248, -0.1770841413625548, 0.7422150630812716, 0.0691231084306441, 1.6744750921176692, -0.49391613899722053, -1.1450714835966944, 1.8517986856387725, -0.3470835160544637, 0.017777108580660606, 0.6695030039630508, 0.9362583269580034, -0.007334188774526295, -2.110221712510784, 0.22241278040537338, 0.07030621148623364, -0.9278741288272946, -0.5190491244263271, 0.49593328011174986, -1.5689689364140202, 1.638871879947243]}, {\"connectgaps\": false, \"fill\": \"tozeroy\", \"line\": {\"color\": \"green\", \"dash\": \"solid\", \"shape\": \"linear\", \"width\": 0.5}, \"mode\": \"lines\", \"name\": \"Spread\", \"showlegend\": false, \"type\": \"scatter\", \"x\": [0, 1, 2, 3, 4, 5, 6, 7, 8, 9, 10, 11, 12, 13, 14, 15, 16, 17, 18, 19, 20, 21, 22, 23, 24, 25, 26, 27, 28, 29, 30, 31, 32, 33, 34, 35, 36, 37, 38, 39, 40, 41, 42, 43, 44, 45, 46, 47, 48, 49, 50, 51, 52, 53, 54, 55, 56, 57, 58, 59, 60, 61, 62, 63, 64, 65, 66, 67, 68, 69, 70, 71, 72, 73, 74, 75, 76, 77, 78, 79, 80, 81, 82, 83, 84, 85, 86, 87, 88, 89, 90, 91, 92, 93, 94, 95, 96, 97, 98, 99], \"xaxis\": \"x2\", \"y\": [\"\", 1.1962031600663598, 1.1449651170611805, \"\", 2.6646026178215245, 0.2669402462481777, 1.723219252185187, \"\", \"\", \"\", \"\", \"\", \"\", \"\", \"\", 0.2346328426986256, \"\", 1.8427522368796863, 0.5637635063623978, 2.469023104690237, \"\", 0.7002690667645871, \"\", 2.332660445153917, 0.9653943748118109, \"\", \"\", 0.4659542829876917, 0.6544390198449073, \"\", 0.7253462539462386, \"\", \"\", \"\", \"\", \"\", \"\", \"\", \"\", 0.5847257520494401, \"\", \"\", \"\", \"\", \"\", 0.6933237569991524, 0.5444535667610961, \"\", \"\", 0.20317857828601646, \"\", \"\", 0.12563815521934574, 0.8628427048780116, \"\", \"\", 0.6619367430144518, 0.3846132954780422, 2.460526274287921, 0.4023849883876077, \"\", 0.5574704233333775, \"\", 1.2337365043099706, 0.16675893582815668, 0.9822647221215304, 2.0782299768983616, 0.48155984296490495, \"\", 3.1189107090080386, 0.6392491596970591, 0.5260690877034027, \"\", \"\", 0.5271993873123546, \"\", 1.175457052783532, 0.7787594941952661, \"\", \"\", \"\", \"\", 0.679511203630285, \"\", \"\", 0.41132088297639435, \"\", \"\", 0.4961725467164778, \"\", 0.5685255425050337, 0.27041388797404214, 2.8424614313293577, \"\", 0.2127964087099923, 1.302327068664679, \"\", \"\", 1.5989956526113205, \"\"], \"yaxis\": \"y2\"}, {\"connectgaps\": false, \"fill\": \"tozeroy\", \"line\": {\"color\": \"red\", \"dash\": \"solid\", \"shape\": \"linear\", \"width\": 0.5}, \"mode\": \"lines\", \"name\": \"Spread\", \"showlegend\": false, \"type\": \"scatter\", \"x\": [0, 1, 2, 3, 4, 5, 6, 7, 8, 9, 10, 11, 12, 13, 14, 15, 16, 17, 18, 19, 20, 21, 22, 23, 24, 25, 26, 27, 28, 29, 30, 31, 32, 33, 34, 35, 36, 37, 38, 39, 40, 41, 42, 43, 44, 45, 46, 47, 48, 49, 50, 51, 52, 53, 54, 55, 56, 57, 58, 59, 60, 61, 62, 63, 64, 65, 66, 67, 68, 69, 70, 71, 72, 73, 74, 75, 76, 77, 78, 79, 80, 81, 82, 83, 84, 85, 86, 87, 88, 89, 90, 91, 92, 93, 94, 95, 96, 97, 98, 99], \"xaxis\": \"x2\", \"y\": [-0.10296421707569936, \"\", \"\", -2.486163038455379, \"\", \"\", \"\", -0.5233661252203848, -1.8781960721232283, -0.28837715864899854, -1.4085900186214682, -0.6326000810349913, -1.756506765916209, -1.9788239303205268, -0.42227967951358847, \"\", -0.9269013055001771, \"\", \"\", \"\", -1.1129057433303466, \"\", -0.8251941459456702, \"\", \"\", -1.1499366189493079, -0.31125787512079783, \"\", \"\", -3.0444039016944973, \"\", -0.6220190935902353, -0.42156025593950097, -0.5884595857484848, -0.3576419661583886, -0.3632164593813075, -0.07950810406000608, -0.014016076742883632, -2.0836510271012894, \"\", -0.14583368104249284, -1.3656511428517435, -0.5493253600375143, -0.37190303424127047, -2.018862498573694, \"\", \"\", -0.7644515306639861, -2.5529042499996493, \"\", -0.9260135443098212, -1.384531759696282, \"\", \"\", -1.612808157778552, -2.3712102770328203, \"\", \"\", \"\", \"\", -0.696612621922304, \"\", -1.8578044314022706, \"\", \"\", \"\", \"\", \"\", -0.7983098966877922, \"\", \"\", \"\", -1.2628372862691668, -0.9117932553914319, \"\", -1.2650156530491206, \"\", \"\", -2.048612449752114, -0.5377133873992249, -0.28021961982380833, -0.33635356238882685, \"\", -2.6835152420303734, -0.5589298263896517, \"\", -0.9733175219022808, -0.8558640289775097, \"\", -0.6527628956458384, \"\", \"\", \"\", -0.0945267827764695, \"\", \"\", -0.28323262888239487, -0.8174813775336335, \"\", -0.7432415868263389], \"yaxis\": \"y2\"}],                        {\"hovermode\": \"x\", \"legend\": {\"bgcolor\": \"#F5F6F9\", \"font\": {\"color\": \"#4D5663\"}}, \"paper_bgcolor\": \"#F5F6F9\", \"plot_bgcolor\": \"#F5F6F9\", \"template\": {\"data\": {\"bar\": [{\"error_x\": {\"color\": \"#2a3f5f\"}, \"error_y\": {\"color\": \"#2a3f5f\"}, \"marker\": {\"line\": {\"color\": \"#E5ECF6\", \"width\": 0.5}}, \"type\": \"bar\"}], \"barpolar\": [{\"marker\": {\"line\": {\"color\": \"#E5ECF6\", \"width\": 0.5}}, \"type\": \"barpolar\"}], \"carpet\": [{\"aaxis\": {\"endlinecolor\": \"#2a3f5f\", \"gridcolor\": \"white\", \"linecolor\": \"white\", \"minorgridcolor\": \"white\", \"startlinecolor\": \"#2a3f5f\"}, \"baxis\": {\"endlinecolor\": \"#2a3f5f\", \"gridcolor\": \"white\", \"linecolor\": \"white\", \"minorgridcolor\": \"white\", \"startlinecolor\": \"#2a3f5f\"}, \"type\": \"carpet\"}], \"choropleth\": [{\"colorbar\": {\"outlinewidth\": 0, \"ticks\": \"\"}, \"type\": \"choropleth\"}], \"contour\": [{\"colorbar\": {\"outlinewidth\": 0, \"ticks\": \"\"}, \"colorscale\": [[0.0, \"#0d0887\"], [0.1111111111111111, \"#46039f\"], [0.2222222222222222, \"#7201a8\"], [0.3333333333333333, \"#9c179e\"], [0.4444444444444444, \"#bd3786\"], [0.5555555555555556, \"#d8576b\"], [0.6666666666666666, \"#ed7953\"], [0.7777777777777778, \"#fb9f3a\"], [0.8888888888888888, \"#fdca26\"], [1.0, \"#f0f921\"]], \"type\": \"contour\"}], \"contourcarpet\": [{\"colorbar\": {\"outlinewidth\": 0, \"ticks\": \"\"}, \"type\": \"contourcarpet\"}], \"heatmap\": [{\"colorbar\": {\"outlinewidth\": 0, \"ticks\": \"\"}, \"colorscale\": [[0.0, \"#0d0887\"], [0.1111111111111111, \"#46039f\"], [0.2222222222222222, \"#7201a8\"], [0.3333333333333333, \"#9c179e\"], [0.4444444444444444, \"#bd3786\"], [0.5555555555555556, \"#d8576b\"], [0.6666666666666666, \"#ed7953\"], [0.7777777777777778, \"#fb9f3a\"], [0.8888888888888888, \"#fdca26\"], [1.0, \"#f0f921\"]], \"type\": \"heatmap\"}], \"heatmapgl\": [{\"colorbar\": {\"outlinewidth\": 0, \"ticks\": \"\"}, \"colorscale\": [[0.0, \"#0d0887\"], [0.1111111111111111, \"#46039f\"], [0.2222222222222222, \"#7201a8\"], [0.3333333333333333, \"#9c179e\"], [0.4444444444444444, \"#bd3786\"], [0.5555555555555556, \"#d8576b\"], [0.6666666666666666, \"#ed7953\"], [0.7777777777777778, \"#fb9f3a\"], [0.8888888888888888, \"#fdca26\"], [1.0, \"#f0f921\"]], \"type\": \"heatmapgl\"}], \"histogram\": [{\"marker\": {\"colorbar\": {\"outlinewidth\": 0, \"ticks\": \"\"}}, \"type\": \"histogram\"}], \"histogram2d\": [{\"colorbar\": {\"outlinewidth\": 0, \"ticks\": \"\"}, \"colorscale\": [[0.0, \"#0d0887\"], [0.1111111111111111, \"#46039f\"], [0.2222222222222222, \"#7201a8\"], [0.3333333333333333, \"#9c179e\"], [0.4444444444444444, \"#bd3786\"], [0.5555555555555556, \"#d8576b\"], [0.6666666666666666, \"#ed7953\"], [0.7777777777777778, \"#fb9f3a\"], [0.8888888888888888, \"#fdca26\"], [1.0, \"#f0f921\"]], \"type\": \"histogram2d\"}], \"histogram2dcontour\": [{\"colorbar\": {\"outlinewidth\": 0, \"ticks\": \"\"}, \"colorscale\": [[0.0, \"#0d0887\"], [0.1111111111111111, \"#46039f\"], [0.2222222222222222, \"#7201a8\"], [0.3333333333333333, \"#9c179e\"], [0.4444444444444444, \"#bd3786\"], [0.5555555555555556, \"#d8576b\"], [0.6666666666666666, \"#ed7953\"], [0.7777777777777778, \"#fb9f3a\"], [0.8888888888888888, \"#fdca26\"], [1.0, \"#f0f921\"]], \"type\": \"histogram2dcontour\"}], \"mesh3d\": [{\"colorbar\": {\"outlinewidth\": 0, \"ticks\": \"\"}, \"type\": \"mesh3d\"}], \"parcoords\": [{\"line\": {\"colorbar\": {\"outlinewidth\": 0, \"ticks\": \"\"}}, \"type\": \"parcoords\"}], \"pie\": [{\"automargin\": true, \"type\": \"pie\"}], \"scatter\": [{\"marker\": {\"colorbar\": {\"outlinewidth\": 0, \"ticks\": \"\"}}, \"type\": \"scatter\"}], \"scatter3d\": [{\"line\": {\"colorbar\": {\"outlinewidth\": 0, \"ticks\": \"\"}}, \"marker\": {\"colorbar\": {\"outlinewidth\": 0, \"ticks\": \"\"}}, \"type\": \"scatter3d\"}], \"scattercarpet\": [{\"marker\": {\"colorbar\": {\"outlinewidth\": 0, \"ticks\": \"\"}}, \"type\": \"scattercarpet\"}], \"scattergeo\": [{\"marker\": {\"colorbar\": {\"outlinewidth\": 0, \"ticks\": \"\"}}, \"type\": \"scattergeo\"}], \"scattergl\": [{\"marker\": {\"colorbar\": {\"outlinewidth\": 0, \"ticks\": \"\"}}, \"type\": \"scattergl\"}], \"scattermapbox\": [{\"marker\": {\"colorbar\": {\"outlinewidth\": 0, \"ticks\": \"\"}}, \"type\": \"scattermapbox\"}], \"scatterpolar\": [{\"marker\": {\"colorbar\": {\"outlinewidth\": 0, \"ticks\": \"\"}}, \"type\": \"scatterpolar\"}], \"scatterpolargl\": [{\"marker\": {\"colorbar\": {\"outlinewidth\": 0, \"ticks\": \"\"}}, \"type\": \"scatterpolargl\"}], \"scatterternary\": [{\"marker\": {\"colorbar\": {\"outlinewidth\": 0, \"ticks\": \"\"}}, \"type\": \"scatterternary\"}], \"surface\": [{\"colorbar\": {\"outlinewidth\": 0, \"ticks\": \"\"}, \"colorscale\": [[0.0, \"#0d0887\"], [0.1111111111111111, \"#46039f\"], [0.2222222222222222, \"#7201a8\"], [0.3333333333333333, \"#9c179e\"], [0.4444444444444444, \"#bd3786\"], [0.5555555555555556, \"#d8576b\"], [0.6666666666666666, \"#ed7953\"], [0.7777777777777778, \"#fb9f3a\"], [0.8888888888888888, \"#fdca26\"], [1.0, \"#f0f921\"]], \"type\": \"surface\"}], \"table\": [{\"cells\": {\"fill\": {\"color\": \"#EBF0F8\"}, \"line\": {\"color\": \"white\"}}, \"header\": {\"fill\": {\"color\": \"#C8D4E3\"}, \"line\": {\"color\": \"white\"}}, \"type\": \"table\"}]}, \"layout\": {\"annotationdefaults\": {\"arrowcolor\": \"#2a3f5f\", \"arrowhead\": 0, \"arrowwidth\": 1}, \"autotypenumbers\": \"strict\", \"coloraxis\": {\"colorbar\": {\"outlinewidth\": 0, \"ticks\": \"\"}}, \"colorscale\": {\"diverging\": [[0, \"#8e0152\"], [0.1, \"#c51b7d\"], [0.2, \"#de77ae\"], [0.3, \"#f1b6da\"], [0.4, \"#fde0ef\"], [0.5, \"#f7f7f7\"], [0.6, \"#e6f5d0\"], [0.7, \"#b8e186\"], [0.8, \"#7fbc41\"], [0.9, \"#4d9221\"], [1, \"#276419\"]], \"sequential\": [[0.0, \"#0d0887\"], [0.1111111111111111, \"#46039f\"], [0.2222222222222222, \"#7201a8\"], [0.3333333333333333, \"#9c179e\"], [0.4444444444444444, \"#bd3786\"], [0.5555555555555556, \"#d8576b\"], [0.6666666666666666, \"#ed7953\"], [0.7777777777777778, \"#fb9f3a\"], [0.8888888888888888, \"#fdca26\"], [1.0, \"#f0f921\"]], \"sequentialminus\": [[0.0, \"#0d0887\"], [0.1111111111111111, \"#46039f\"], [0.2222222222222222, \"#7201a8\"], [0.3333333333333333, \"#9c179e\"], [0.4444444444444444, \"#bd3786\"], [0.5555555555555556, \"#d8576b\"], [0.6666666666666666, \"#ed7953\"], [0.7777777777777778, \"#fb9f3a\"], [0.8888888888888888, \"#fdca26\"], [1.0, \"#f0f921\"]]}, \"colorway\": [\"#636efa\", \"#EF553B\", \"#00cc96\", \"#ab63fa\", \"#FFA15A\", \"#19d3f3\", \"#FF6692\", \"#B6E880\", \"#FF97FF\", \"#FECB52\"], \"font\": {\"color\": \"#2a3f5f\"}, \"geo\": {\"bgcolor\": \"white\", \"lakecolor\": \"white\", \"landcolor\": \"#E5ECF6\", \"showlakes\": true, \"showland\": true, \"subunitcolor\": \"white\"}, \"hoverlabel\": {\"align\": \"left\"}, \"hovermode\": \"closest\", \"mapbox\": {\"style\": \"light\"}, \"paper_bgcolor\": \"white\", \"plot_bgcolor\": \"#E5ECF6\", \"polar\": {\"angularaxis\": {\"gridcolor\": \"white\", \"linecolor\": \"white\", \"ticks\": \"\"}, \"bgcolor\": \"#E5ECF6\", \"radialaxis\": {\"gridcolor\": \"white\", \"linecolor\": \"white\", \"ticks\": \"\"}}, \"scene\": {\"xaxis\": {\"backgroundcolor\": \"#E5ECF6\", \"gridcolor\": \"white\", \"gridwidth\": 2, \"linecolor\": \"white\", \"showbackground\": true, \"ticks\": \"\", \"zerolinecolor\": \"white\"}, \"yaxis\": {\"backgroundcolor\": \"#E5ECF6\", \"gridcolor\": \"white\", \"gridwidth\": 2, \"linecolor\": \"white\", \"showbackground\": true, \"ticks\": \"\", \"zerolinecolor\": \"white\"}, \"zaxis\": {\"backgroundcolor\": \"#E5ECF6\", \"gridcolor\": \"white\", \"gridwidth\": 2, \"linecolor\": \"white\", \"showbackground\": true, \"ticks\": \"\", \"zerolinecolor\": \"white\"}}, \"shapedefaults\": {\"line\": {\"color\": \"#2a3f5f\"}}, \"ternary\": {\"aaxis\": {\"gridcolor\": \"white\", \"linecolor\": \"white\", \"ticks\": \"\"}, \"baxis\": {\"gridcolor\": \"white\", \"linecolor\": \"white\", \"ticks\": \"\"}, \"bgcolor\": \"#E5ECF6\", \"caxis\": {\"gridcolor\": \"white\", \"linecolor\": \"white\", \"ticks\": \"\"}}, \"title\": {\"x\": 0.05}, \"xaxis\": {\"automargin\": true, \"gridcolor\": \"white\", \"linecolor\": \"white\", \"ticks\": \"\", \"title\": {\"standoff\": 15}, \"zerolinecolor\": \"white\", \"zerolinewidth\": 2}, \"yaxis\": {\"automargin\": true, \"gridcolor\": \"white\", \"linecolor\": \"white\", \"ticks\": \"\", \"title\": {\"standoff\": 15}, \"zerolinecolor\": \"white\", \"zerolinewidth\": 2}}}, \"title\": {\"font\": {\"color\": \"#4D5663\"}}, \"xaxis\": {\"gridcolor\": \"#E1E5ED\", \"showgrid\": true, \"tickfont\": {\"color\": \"#4D5663\"}, \"title\": {\"font\": {\"color\": \"#4D5663\"}, \"text\": \"\"}, \"zerolinecolor\": \"#E1E5ED\"}, \"xaxis2\": {\"anchor\": \"y2\", \"gridcolor\": \"#E1E5ED\", \"showgrid\": true, \"showticklabels\": false, \"tickfont\": {\"color\": \"#4D5663\"}, \"title\": {\"font\": {\"color\": \"#4D5663\"}, \"text\": \"\"}, \"zerolinecolor\": \"#E1E5ED\"}, \"yaxis\": {\"domain\": [0.3, 1], \"gridcolor\": \"#E1E5ED\", \"showgrid\": true, \"tickfont\": {\"color\": \"#4D5663\"}, \"title\": {\"font\": {\"color\": \"#4D5663\"}, \"text\": \"\"}, \"zerolinecolor\": \"#E1E5ED\"}, \"yaxis2\": {\"domain\": [0, 0.25], \"gridcolor\": \"#E1E5ED\", \"showgrid\": true, \"tickfont\": {\"color\": \"#4D5663\"}, \"title\": {\"font\": {\"color\": \"#4D5663\"}, \"text\": \"Spread\"}, \"zerolinecolor\": \"#E1E5ED\"}},                        {\"showLink\": true, \"linkText\": \"Export to plot.ly\", \"plotlyServerURL\": \"https://plot.ly\", \"responsive\": true}                    ).then(function(){\n",
       "                            \n",
       "var gd = document.getElementById('d045cef3-3cf7-4c92-8ab0-32fe8bb568f0');\n",
       "var x = new MutationObserver(function (mutations, observer) {{\n",
       "        var display = window.getComputedStyle(gd).display;\n",
       "        if (!display || display === 'none') {{\n",
       "            console.log([gd, 'removed!']);\n",
       "            Plotly.purge(gd);\n",
       "            observer.disconnect();\n",
       "        }}\n",
       "}});\n",
       "\n",
       "// Listen for the removal of the full notebook cells\n",
       "var notebookContainer = gd.closest('#notebook-container');\n",
       "if (notebookContainer) {{\n",
       "    x.observe(notebookContainer, {childList: true});\n",
       "}}\n",
       "\n",
       "// Listen for the clearing of the current output cell\n",
       "var outputEl = gd.closest('.output');\n",
       "if (outputEl) {{\n",
       "    x.observe(outputEl, {childList: true});\n",
       "}}\n",
       "\n",
       "                        })                };                });            </script>        </div>"
      ]
     },
     "metadata": {},
     "output_type": "display_data"
    }
   ],
   "source": [
    "df[['A','B']].iplot(kind='spread')"
   ]
  },
  {
   "cell_type": "markdown",
   "metadata": {},
   "source": [
    "## histogram"
   ]
  },
  {
   "cell_type": "code",
   "execution_count": 18,
   "metadata": {},
   "outputs": [
    {
     "data": {
      "application/vnd.plotly.v1+json": {
       "config": {
        "linkText": "Export to plot.ly",
        "plotlyServerURL": "https://plot.ly",
        "showLink": true
       },
       "data": [
        {
         "histfunc": "count",
         "histnorm": "",
         "marker": {
          "color": "rgba(255, 153, 51, 1.0)",
          "line": {
           "color": "#4D5663",
           "width": 1.3
          }
         },
         "name": "A",
         "nbinsx": 25,
         "opacity": 0.8,
         "orientation": "v",
         "type": "histogram",
         "x": [
          0.5543778778007974,
          1.305477680709373,
          -0.024430440104519096,
          -2.215780260803809,
          2.0311597958353804,
          -0.4640646961126891,
          0.8170695248510517,
          -0.7028901071685868,
          -1.3491332354884638,
          -0.6161054436764591,
          -0.9280833246496767,
          -0.202066973522514,
          -0.21977179427645022,
          -1.0499809344704083,
          -0.5538206199663367,
          0.2265782866540906,
          -1.281844393909573,
          1.2908776366987078,
          0.18933031627514868,
          1.3223490944050604,
          -0.6917365578725994,
          -0.5431131287020351,
          -0.2909553413115204,
          1.0750396385991803,
          0.7429454183000217,
          0.22129435093050254,
          -0.8614967063028686,
          -1.1268504523534668,
          0.7849954275435155,
          -2.0462048630969756,
          -0.008315388606309645,
          -0.18690885675627897,
          -0.7438181606657309,
          0.15288541099547315,
          0.014475441184176124,
          0.14950478033843956,
          -0.8196188460104581,
          0.6817811904730309,
          -1.2529214477062713,
          0.9734419093151444,
          0.46920101432825234,
          -1.8738939153410312,
          -1.0442171806553078,
          -0.38907289675682377,
          0.3414085214985565,
          -0.12856373579884875,
          0.7687266580761056,
          -1.054510339601767,
          -1.3749782443374008,
          0.08569403027435128,
          -0.5857738419042354,
          -1.7400601235515123,
          -0.03888180835654369,
          1.5662535457997817,
          -1.135373142936974,
          -1.1788653754026897,
          0.9584474836768704,
          0.8452506568614417,
          1.4097083184823593,
          1.380708985476826,
          -1.3203287612461103,
          -0.38364821453678444,
          -0.9971480233412237,
          0.3380732888858674,
          0.16534288637466557,
          -1.8140009513685151,
          0.9591220114764414,
          -0.7781011149097469,
          -0.9474226100958619,
          1.2943556874594229,
          0.1767544740810032,
          0.16052773335204457,
          -0.015433744952918096,
          -0.396594278243572,
          0.0392082424630884,
          -0.27494729328742556,
          0.8543890775430171,
          -0.17733028237964166,
          -1.0041492512236738,
          -0.3683532174905001,
          -0.4573037611863631,
          0.40586150069244475,
          0.7486343120609291,
          -1.009040149912704,
          -1.0528459653868723,
          -0.7337506006203001,
          0.8784811637364917,
          -1.2029475450319733,
          0.5139496552971384,
          0.016740108317212347,
          1.504783869463037,
          0.26307969919951585,
          0.732239718818574,
          0.12788599762890387,
          0.28310262019622595,
          0.37445293983738454,
          -0.802281753308722,
          -0.3215480974218836,
          0.030026716197300258,
          0.8956302931209041
         ]
        }
       ],
       "layout": {
        "barmode": "overlay",
        "legend": {
         "bgcolor": "#F5F6F9",
         "font": {
          "color": "#4D5663"
         }
        },
        "paper_bgcolor": "#F5F6F9",
        "plot_bgcolor": "#F5F6F9",
        "template": {
         "data": {
          "bar": [
           {
            "error_x": {
             "color": "#2a3f5f"
            },
            "error_y": {
             "color": "#2a3f5f"
            },
            "marker": {
             "line": {
              "color": "#E5ECF6",
              "width": 0.5
             }
            },
            "type": "bar"
           }
          ],
          "barpolar": [
           {
            "marker": {
             "line": {
              "color": "#E5ECF6",
              "width": 0.5
             }
            },
            "type": "barpolar"
           }
          ],
          "carpet": [
           {
            "aaxis": {
             "endlinecolor": "#2a3f5f",
             "gridcolor": "white",
             "linecolor": "white",
             "minorgridcolor": "white",
             "startlinecolor": "#2a3f5f"
            },
            "baxis": {
             "endlinecolor": "#2a3f5f",
             "gridcolor": "white",
             "linecolor": "white",
             "minorgridcolor": "white",
             "startlinecolor": "#2a3f5f"
            },
            "type": "carpet"
           }
          ],
          "choropleth": [
           {
            "colorbar": {
             "outlinewidth": 0,
             "ticks": ""
            },
            "type": "choropleth"
           }
          ],
          "contour": [
           {
            "colorbar": {
             "outlinewidth": 0,
             "ticks": ""
            },
            "colorscale": [
             [
              0,
              "#0d0887"
             ],
             [
              0.1111111111111111,
              "#46039f"
             ],
             [
              0.2222222222222222,
              "#7201a8"
             ],
             [
              0.3333333333333333,
              "#9c179e"
             ],
             [
              0.4444444444444444,
              "#bd3786"
             ],
             [
              0.5555555555555556,
              "#d8576b"
             ],
             [
              0.6666666666666666,
              "#ed7953"
             ],
             [
              0.7777777777777778,
              "#fb9f3a"
             ],
             [
              0.8888888888888888,
              "#fdca26"
             ],
             [
              1,
              "#f0f921"
             ]
            ],
            "type": "contour"
           }
          ],
          "contourcarpet": [
           {
            "colorbar": {
             "outlinewidth": 0,
             "ticks": ""
            },
            "type": "contourcarpet"
           }
          ],
          "heatmap": [
           {
            "colorbar": {
             "outlinewidth": 0,
             "ticks": ""
            },
            "colorscale": [
             [
              0,
              "#0d0887"
             ],
             [
              0.1111111111111111,
              "#46039f"
             ],
             [
              0.2222222222222222,
              "#7201a8"
             ],
             [
              0.3333333333333333,
              "#9c179e"
             ],
             [
              0.4444444444444444,
              "#bd3786"
             ],
             [
              0.5555555555555556,
              "#d8576b"
             ],
             [
              0.6666666666666666,
              "#ed7953"
             ],
             [
              0.7777777777777778,
              "#fb9f3a"
             ],
             [
              0.8888888888888888,
              "#fdca26"
             ],
             [
              1,
              "#f0f921"
             ]
            ],
            "type": "heatmap"
           }
          ],
          "heatmapgl": [
           {
            "colorbar": {
             "outlinewidth": 0,
             "ticks": ""
            },
            "colorscale": [
             [
              0,
              "#0d0887"
             ],
             [
              0.1111111111111111,
              "#46039f"
             ],
             [
              0.2222222222222222,
              "#7201a8"
             ],
             [
              0.3333333333333333,
              "#9c179e"
             ],
             [
              0.4444444444444444,
              "#bd3786"
             ],
             [
              0.5555555555555556,
              "#d8576b"
             ],
             [
              0.6666666666666666,
              "#ed7953"
             ],
             [
              0.7777777777777778,
              "#fb9f3a"
             ],
             [
              0.8888888888888888,
              "#fdca26"
             ],
             [
              1,
              "#f0f921"
             ]
            ],
            "type": "heatmapgl"
           }
          ],
          "histogram": [
           {
            "marker": {
             "colorbar": {
              "outlinewidth": 0,
              "ticks": ""
             }
            },
            "type": "histogram"
           }
          ],
          "histogram2d": [
           {
            "colorbar": {
             "outlinewidth": 0,
             "ticks": ""
            },
            "colorscale": [
             [
              0,
              "#0d0887"
             ],
             [
              0.1111111111111111,
              "#46039f"
             ],
             [
              0.2222222222222222,
              "#7201a8"
             ],
             [
              0.3333333333333333,
              "#9c179e"
             ],
             [
              0.4444444444444444,
              "#bd3786"
             ],
             [
              0.5555555555555556,
              "#d8576b"
             ],
             [
              0.6666666666666666,
              "#ed7953"
             ],
             [
              0.7777777777777778,
              "#fb9f3a"
             ],
             [
              0.8888888888888888,
              "#fdca26"
             ],
             [
              1,
              "#f0f921"
             ]
            ],
            "type": "histogram2d"
           }
          ],
          "histogram2dcontour": [
           {
            "colorbar": {
             "outlinewidth": 0,
             "ticks": ""
            },
            "colorscale": [
             [
              0,
              "#0d0887"
             ],
             [
              0.1111111111111111,
              "#46039f"
             ],
             [
              0.2222222222222222,
              "#7201a8"
             ],
             [
              0.3333333333333333,
              "#9c179e"
             ],
             [
              0.4444444444444444,
              "#bd3786"
             ],
             [
              0.5555555555555556,
              "#d8576b"
             ],
             [
              0.6666666666666666,
              "#ed7953"
             ],
             [
              0.7777777777777778,
              "#fb9f3a"
             ],
             [
              0.8888888888888888,
              "#fdca26"
             ],
             [
              1,
              "#f0f921"
             ]
            ],
            "type": "histogram2dcontour"
           }
          ],
          "mesh3d": [
           {
            "colorbar": {
             "outlinewidth": 0,
             "ticks": ""
            },
            "type": "mesh3d"
           }
          ],
          "parcoords": [
           {
            "line": {
             "colorbar": {
              "outlinewidth": 0,
              "ticks": ""
             }
            },
            "type": "parcoords"
           }
          ],
          "pie": [
           {
            "automargin": true,
            "type": "pie"
           }
          ],
          "scatter": [
           {
            "marker": {
             "colorbar": {
              "outlinewidth": 0,
              "ticks": ""
             }
            },
            "type": "scatter"
           }
          ],
          "scatter3d": [
           {
            "line": {
             "colorbar": {
              "outlinewidth": 0,
              "ticks": ""
             }
            },
            "marker": {
             "colorbar": {
              "outlinewidth": 0,
              "ticks": ""
             }
            },
            "type": "scatter3d"
           }
          ],
          "scattercarpet": [
           {
            "marker": {
             "colorbar": {
              "outlinewidth": 0,
              "ticks": ""
             }
            },
            "type": "scattercarpet"
           }
          ],
          "scattergeo": [
           {
            "marker": {
             "colorbar": {
              "outlinewidth": 0,
              "ticks": ""
             }
            },
            "type": "scattergeo"
           }
          ],
          "scattergl": [
           {
            "marker": {
             "colorbar": {
              "outlinewidth": 0,
              "ticks": ""
             }
            },
            "type": "scattergl"
           }
          ],
          "scattermapbox": [
           {
            "marker": {
             "colorbar": {
              "outlinewidth": 0,
              "ticks": ""
             }
            },
            "type": "scattermapbox"
           }
          ],
          "scatterpolar": [
           {
            "marker": {
             "colorbar": {
              "outlinewidth": 0,
              "ticks": ""
             }
            },
            "type": "scatterpolar"
           }
          ],
          "scatterpolargl": [
           {
            "marker": {
             "colorbar": {
              "outlinewidth": 0,
              "ticks": ""
             }
            },
            "type": "scatterpolargl"
           }
          ],
          "scatterternary": [
           {
            "marker": {
             "colorbar": {
              "outlinewidth": 0,
              "ticks": ""
             }
            },
            "type": "scatterternary"
           }
          ],
          "surface": [
           {
            "colorbar": {
             "outlinewidth": 0,
             "ticks": ""
            },
            "colorscale": [
             [
              0,
              "#0d0887"
             ],
             [
              0.1111111111111111,
              "#46039f"
             ],
             [
              0.2222222222222222,
              "#7201a8"
             ],
             [
              0.3333333333333333,
              "#9c179e"
             ],
             [
              0.4444444444444444,
              "#bd3786"
             ],
             [
              0.5555555555555556,
              "#d8576b"
             ],
             [
              0.6666666666666666,
              "#ed7953"
             ],
             [
              0.7777777777777778,
              "#fb9f3a"
             ],
             [
              0.8888888888888888,
              "#fdca26"
             ],
             [
              1,
              "#f0f921"
             ]
            ],
            "type": "surface"
           }
          ],
          "table": [
           {
            "cells": {
             "fill": {
              "color": "#EBF0F8"
             },
             "line": {
              "color": "white"
             }
            },
            "header": {
             "fill": {
              "color": "#C8D4E3"
             },
             "line": {
              "color": "white"
             }
            },
            "type": "table"
           }
          ]
         },
         "layout": {
          "annotationdefaults": {
           "arrowcolor": "#2a3f5f",
           "arrowhead": 0,
           "arrowwidth": 1
          },
          "autotypenumbers": "strict",
          "coloraxis": {
           "colorbar": {
            "outlinewidth": 0,
            "ticks": ""
           }
          },
          "colorscale": {
           "diverging": [
            [
             0,
             "#8e0152"
            ],
            [
             0.1,
             "#c51b7d"
            ],
            [
             0.2,
             "#de77ae"
            ],
            [
             0.3,
             "#f1b6da"
            ],
            [
             0.4,
             "#fde0ef"
            ],
            [
             0.5,
             "#f7f7f7"
            ],
            [
             0.6,
             "#e6f5d0"
            ],
            [
             0.7,
             "#b8e186"
            ],
            [
             0.8,
             "#7fbc41"
            ],
            [
             0.9,
             "#4d9221"
            ],
            [
             1,
             "#276419"
            ]
           ],
           "sequential": [
            [
             0,
             "#0d0887"
            ],
            [
             0.1111111111111111,
             "#46039f"
            ],
            [
             0.2222222222222222,
             "#7201a8"
            ],
            [
             0.3333333333333333,
             "#9c179e"
            ],
            [
             0.4444444444444444,
             "#bd3786"
            ],
            [
             0.5555555555555556,
             "#d8576b"
            ],
            [
             0.6666666666666666,
             "#ed7953"
            ],
            [
             0.7777777777777778,
             "#fb9f3a"
            ],
            [
             0.8888888888888888,
             "#fdca26"
            ],
            [
             1,
             "#f0f921"
            ]
           ],
           "sequentialminus": [
            [
             0,
             "#0d0887"
            ],
            [
             0.1111111111111111,
             "#46039f"
            ],
            [
             0.2222222222222222,
             "#7201a8"
            ],
            [
             0.3333333333333333,
             "#9c179e"
            ],
            [
             0.4444444444444444,
             "#bd3786"
            ],
            [
             0.5555555555555556,
             "#d8576b"
            ],
            [
             0.6666666666666666,
             "#ed7953"
            ],
            [
             0.7777777777777778,
             "#fb9f3a"
            ],
            [
             0.8888888888888888,
             "#fdca26"
            ],
            [
             1,
             "#f0f921"
            ]
           ]
          },
          "colorway": [
           "#636efa",
           "#EF553B",
           "#00cc96",
           "#ab63fa",
           "#FFA15A",
           "#19d3f3",
           "#FF6692",
           "#B6E880",
           "#FF97FF",
           "#FECB52"
          ],
          "font": {
           "color": "#2a3f5f"
          },
          "geo": {
           "bgcolor": "white",
           "lakecolor": "white",
           "landcolor": "#E5ECF6",
           "showlakes": true,
           "showland": true,
           "subunitcolor": "white"
          },
          "hoverlabel": {
           "align": "left"
          },
          "hovermode": "closest",
          "mapbox": {
           "style": "light"
          },
          "paper_bgcolor": "white",
          "plot_bgcolor": "#E5ECF6",
          "polar": {
           "angularaxis": {
            "gridcolor": "white",
            "linecolor": "white",
            "ticks": ""
           },
           "bgcolor": "#E5ECF6",
           "radialaxis": {
            "gridcolor": "white",
            "linecolor": "white",
            "ticks": ""
           }
          },
          "scene": {
           "xaxis": {
            "backgroundcolor": "#E5ECF6",
            "gridcolor": "white",
            "gridwidth": 2,
            "linecolor": "white",
            "showbackground": true,
            "ticks": "",
            "zerolinecolor": "white"
           },
           "yaxis": {
            "backgroundcolor": "#E5ECF6",
            "gridcolor": "white",
            "gridwidth": 2,
            "linecolor": "white",
            "showbackground": true,
            "ticks": "",
            "zerolinecolor": "white"
           },
           "zaxis": {
            "backgroundcolor": "#E5ECF6",
            "gridcolor": "white",
            "gridwidth": 2,
            "linecolor": "white",
            "showbackground": true,
            "ticks": "",
            "zerolinecolor": "white"
           }
          },
          "shapedefaults": {
           "line": {
            "color": "#2a3f5f"
           }
          },
          "ternary": {
           "aaxis": {
            "gridcolor": "white",
            "linecolor": "white",
            "ticks": ""
           },
           "baxis": {
            "gridcolor": "white",
            "linecolor": "white",
            "ticks": ""
           },
           "bgcolor": "#E5ECF6",
           "caxis": {
            "gridcolor": "white",
            "linecolor": "white",
            "ticks": ""
           }
          },
          "title": {
           "x": 0.05
          },
          "xaxis": {
           "automargin": true,
           "gridcolor": "white",
           "linecolor": "white",
           "ticks": "",
           "title": {
            "standoff": 15
           },
           "zerolinecolor": "white",
           "zerolinewidth": 2
          },
          "yaxis": {
           "automargin": true,
           "gridcolor": "white",
           "linecolor": "white",
           "ticks": "",
           "title": {
            "standoff": 15
           },
           "zerolinecolor": "white",
           "zerolinewidth": 2
          }
         }
        },
        "title": {
         "font": {
          "color": "#4D5663"
         }
        },
        "xaxis": {
         "gridcolor": "#E1E5ED",
         "showgrid": true,
         "tickfont": {
          "color": "#4D5663"
         },
         "title": {
          "font": {
           "color": "#4D5663"
          },
          "text": ""
         },
         "zerolinecolor": "#E1E5ED"
        },
        "yaxis": {
         "gridcolor": "#E1E5ED",
         "showgrid": true,
         "tickfont": {
          "color": "#4D5663"
         },
         "title": {
          "font": {
           "color": "#4D5663"
          },
          "text": ""
         },
         "zerolinecolor": "#E1E5ED"
        }
       }
      },
      "text/html": [
       "<div>                            <div id=\"c3af9184-890c-481d-8b31-e151cd20db4a\" class=\"plotly-graph-div\" style=\"height:525px; width:100%;\"></div>            <script type=\"text/javascript\">                require([\"plotly\"], function(Plotly) {                    window.PLOTLYENV=window.PLOTLYENV || {};\n",
       "                    window.PLOTLYENV.BASE_URL='https://plot.ly';                                    if (document.getElementById(\"c3af9184-890c-481d-8b31-e151cd20db4a\")) {                    Plotly.newPlot(                        \"c3af9184-890c-481d-8b31-e151cd20db4a\",                        [{\"histfunc\": \"count\", \"histnorm\": \"\", \"marker\": {\"color\": \"rgba(255, 153, 51, 1.0)\", \"line\": {\"color\": \"#4D5663\", \"width\": 1.3}}, \"name\": \"A\", \"nbinsx\": 25, \"opacity\": 0.8, \"orientation\": \"v\", \"type\": \"histogram\", \"x\": [0.5543778778007974, 1.305477680709373, -0.024430440104519096, -2.215780260803809, 2.0311597958353804, -0.4640646961126891, 0.8170695248510517, -0.7028901071685868, -1.3491332354884638, -0.6161054436764591, -0.9280833246496767, -0.202066973522514, -0.21977179427645022, -1.0499809344704083, -0.5538206199663367, 0.2265782866540906, -1.281844393909573, 1.2908776366987078, 0.18933031627514868, 1.3223490944050604, -0.6917365578725994, -0.5431131287020351, -0.2909553413115204, 1.0750396385991803, 0.7429454183000217, 0.22129435093050254, -0.8614967063028686, -1.1268504523534668, 0.7849954275435155, -2.0462048630969756, -0.008315388606309645, -0.18690885675627897, -0.7438181606657309, 0.15288541099547315, 0.014475441184176124, 0.14950478033843956, -0.8196188460104581, 0.6817811904730309, -1.2529214477062713, 0.9734419093151444, 0.46920101432825234, -1.8738939153410312, -1.0442171806553078, -0.38907289675682377, 0.3414085214985565, -0.12856373579884875, 0.7687266580761056, -1.054510339601767, -1.3749782443374008, 0.08569403027435128, -0.5857738419042354, -1.7400601235515123, -0.03888180835654369, 1.5662535457997817, -1.135373142936974, -1.1788653754026897, 0.9584474836768704, 0.8452506568614417, 1.4097083184823593, 1.380708985476826, -1.3203287612461103, -0.38364821453678444, -0.9971480233412237, 0.3380732888858674, 0.16534288637466557, -1.8140009513685151, 0.9591220114764414, -0.7781011149097469, -0.9474226100958619, 1.2943556874594229, 0.1767544740810032, 0.16052773335204457, -0.015433744952918096, -0.396594278243572, 0.0392082424630884, -0.27494729328742556, 0.8543890775430171, -0.17733028237964166, -1.0041492512236738, -0.3683532174905001, -0.4573037611863631, 0.40586150069244475, 0.7486343120609291, -1.009040149912704, -1.0528459653868723, -0.7337506006203001, 0.8784811637364917, -1.2029475450319733, 0.5139496552971384, 0.016740108317212347, 1.504783869463037, 0.26307969919951585, 0.732239718818574, 0.12788599762890387, 0.28310262019622595, 0.37445293983738454, -0.802281753308722, -0.3215480974218836, 0.030026716197300258, 0.8956302931209041]}],                        {\"barmode\": \"overlay\", \"legend\": {\"bgcolor\": \"#F5F6F9\", \"font\": {\"color\": \"#4D5663\"}}, \"paper_bgcolor\": \"#F5F6F9\", \"plot_bgcolor\": \"#F5F6F9\", \"template\": {\"data\": {\"bar\": [{\"error_x\": {\"color\": \"#2a3f5f\"}, \"error_y\": {\"color\": \"#2a3f5f\"}, \"marker\": {\"line\": {\"color\": \"#E5ECF6\", \"width\": 0.5}}, \"type\": \"bar\"}], \"barpolar\": [{\"marker\": {\"line\": {\"color\": \"#E5ECF6\", \"width\": 0.5}}, \"type\": \"barpolar\"}], \"carpet\": [{\"aaxis\": {\"endlinecolor\": \"#2a3f5f\", \"gridcolor\": \"white\", \"linecolor\": \"white\", \"minorgridcolor\": \"white\", \"startlinecolor\": \"#2a3f5f\"}, \"baxis\": {\"endlinecolor\": \"#2a3f5f\", \"gridcolor\": \"white\", \"linecolor\": \"white\", \"minorgridcolor\": \"white\", \"startlinecolor\": \"#2a3f5f\"}, \"type\": \"carpet\"}], \"choropleth\": [{\"colorbar\": {\"outlinewidth\": 0, \"ticks\": \"\"}, \"type\": \"choropleth\"}], \"contour\": [{\"colorbar\": {\"outlinewidth\": 0, \"ticks\": \"\"}, \"colorscale\": [[0.0, \"#0d0887\"], [0.1111111111111111, \"#46039f\"], [0.2222222222222222, \"#7201a8\"], [0.3333333333333333, \"#9c179e\"], [0.4444444444444444, \"#bd3786\"], [0.5555555555555556, \"#d8576b\"], [0.6666666666666666, \"#ed7953\"], [0.7777777777777778, \"#fb9f3a\"], [0.8888888888888888, \"#fdca26\"], [1.0, \"#f0f921\"]], \"type\": \"contour\"}], \"contourcarpet\": [{\"colorbar\": {\"outlinewidth\": 0, \"ticks\": \"\"}, \"type\": \"contourcarpet\"}], \"heatmap\": [{\"colorbar\": {\"outlinewidth\": 0, \"ticks\": \"\"}, \"colorscale\": [[0.0, \"#0d0887\"], [0.1111111111111111, \"#46039f\"], [0.2222222222222222, \"#7201a8\"], [0.3333333333333333, \"#9c179e\"], [0.4444444444444444, \"#bd3786\"], [0.5555555555555556, \"#d8576b\"], [0.6666666666666666, \"#ed7953\"], [0.7777777777777778, \"#fb9f3a\"], [0.8888888888888888, \"#fdca26\"], [1.0, \"#f0f921\"]], \"type\": \"heatmap\"}], \"heatmapgl\": [{\"colorbar\": {\"outlinewidth\": 0, \"ticks\": \"\"}, \"colorscale\": [[0.0, \"#0d0887\"], [0.1111111111111111, \"#46039f\"], [0.2222222222222222, \"#7201a8\"], [0.3333333333333333, \"#9c179e\"], [0.4444444444444444, \"#bd3786\"], [0.5555555555555556, \"#d8576b\"], [0.6666666666666666, \"#ed7953\"], [0.7777777777777778, \"#fb9f3a\"], [0.8888888888888888, \"#fdca26\"], [1.0, \"#f0f921\"]], \"type\": \"heatmapgl\"}], \"histogram\": [{\"marker\": {\"colorbar\": {\"outlinewidth\": 0, \"ticks\": \"\"}}, \"type\": \"histogram\"}], \"histogram2d\": [{\"colorbar\": {\"outlinewidth\": 0, \"ticks\": \"\"}, \"colorscale\": [[0.0, \"#0d0887\"], [0.1111111111111111, \"#46039f\"], [0.2222222222222222, \"#7201a8\"], [0.3333333333333333, \"#9c179e\"], [0.4444444444444444, \"#bd3786\"], [0.5555555555555556, \"#d8576b\"], [0.6666666666666666, \"#ed7953\"], [0.7777777777777778, \"#fb9f3a\"], [0.8888888888888888, \"#fdca26\"], [1.0, \"#f0f921\"]], \"type\": \"histogram2d\"}], \"histogram2dcontour\": [{\"colorbar\": {\"outlinewidth\": 0, \"ticks\": \"\"}, \"colorscale\": [[0.0, \"#0d0887\"], [0.1111111111111111, \"#46039f\"], [0.2222222222222222, \"#7201a8\"], [0.3333333333333333, \"#9c179e\"], [0.4444444444444444, \"#bd3786\"], [0.5555555555555556, \"#d8576b\"], [0.6666666666666666, \"#ed7953\"], [0.7777777777777778, \"#fb9f3a\"], [0.8888888888888888, \"#fdca26\"], [1.0, \"#f0f921\"]], \"type\": \"histogram2dcontour\"}], \"mesh3d\": [{\"colorbar\": {\"outlinewidth\": 0, \"ticks\": \"\"}, \"type\": \"mesh3d\"}], \"parcoords\": [{\"line\": {\"colorbar\": {\"outlinewidth\": 0, \"ticks\": \"\"}}, \"type\": \"parcoords\"}], \"pie\": [{\"automargin\": true, \"type\": \"pie\"}], \"scatter\": [{\"marker\": {\"colorbar\": {\"outlinewidth\": 0, \"ticks\": \"\"}}, \"type\": \"scatter\"}], \"scatter3d\": [{\"line\": {\"colorbar\": {\"outlinewidth\": 0, \"ticks\": \"\"}}, \"marker\": {\"colorbar\": {\"outlinewidth\": 0, \"ticks\": \"\"}}, \"type\": \"scatter3d\"}], \"scattercarpet\": [{\"marker\": {\"colorbar\": {\"outlinewidth\": 0, \"ticks\": \"\"}}, \"type\": \"scattercarpet\"}], \"scattergeo\": [{\"marker\": {\"colorbar\": {\"outlinewidth\": 0, \"ticks\": \"\"}}, \"type\": \"scattergeo\"}], \"scattergl\": [{\"marker\": {\"colorbar\": {\"outlinewidth\": 0, \"ticks\": \"\"}}, \"type\": \"scattergl\"}], \"scattermapbox\": [{\"marker\": {\"colorbar\": {\"outlinewidth\": 0, \"ticks\": \"\"}}, \"type\": \"scattermapbox\"}], \"scatterpolar\": [{\"marker\": {\"colorbar\": {\"outlinewidth\": 0, \"ticks\": \"\"}}, \"type\": \"scatterpolar\"}], \"scatterpolargl\": [{\"marker\": {\"colorbar\": {\"outlinewidth\": 0, \"ticks\": \"\"}}, \"type\": \"scatterpolargl\"}], \"scatterternary\": [{\"marker\": {\"colorbar\": {\"outlinewidth\": 0, \"ticks\": \"\"}}, \"type\": \"scatterternary\"}], \"surface\": [{\"colorbar\": {\"outlinewidth\": 0, \"ticks\": \"\"}, \"colorscale\": [[0.0, \"#0d0887\"], [0.1111111111111111, \"#46039f\"], [0.2222222222222222, \"#7201a8\"], [0.3333333333333333, \"#9c179e\"], [0.4444444444444444, \"#bd3786\"], [0.5555555555555556, \"#d8576b\"], [0.6666666666666666, \"#ed7953\"], [0.7777777777777778, \"#fb9f3a\"], [0.8888888888888888, \"#fdca26\"], [1.0, \"#f0f921\"]], \"type\": \"surface\"}], \"table\": [{\"cells\": {\"fill\": {\"color\": \"#EBF0F8\"}, \"line\": {\"color\": \"white\"}}, \"header\": {\"fill\": {\"color\": \"#C8D4E3\"}, \"line\": {\"color\": \"white\"}}, \"type\": \"table\"}]}, \"layout\": {\"annotationdefaults\": {\"arrowcolor\": \"#2a3f5f\", \"arrowhead\": 0, \"arrowwidth\": 1}, \"autotypenumbers\": \"strict\", \"coloraxis\": {\"colorbar\": {\"outlinewidth\": 0, \"ticks\": \"\"}}, \"colorscale\": {\"diverging\": [[0, \"#8e0152\"], [0.1, \"#c51b7d\"], [0.2, \"#de77ae\"], [0.3, \"#f1b6da\"], [0.4, \"#fde0ef\"], [0.5, \"#f7f7f7\"], [0.6, \"#e6f5d0\"], [0.7, \"#b8e186\"], [0.8, \"#7fbc41\"], [0.9, \"#4d9221\"], [1, \"#276419\"]], \"sequential\": [[0.0, \"#0d0887\"], [0.1111111111111111, \"#46039f\"], [0.2222222222222222, \"#7201a8\"], [0.3333333333333333, \"#9c179e\"], [0.4444444444444444, \"#bd3786\"], [0.5555555555555556, \"#d8576b\"], [0.6666666666666666, \"#ed7953\"], [0.7777777777777778, \"#fb9f3a\"], [0.8888888888888888, \"#fdca26\"], [1.0, \"#f0f921\"]], \"sequentialminus\": [[0.0, \"#0d0887\"], [0.1111111111111111, \"#46039f\"], [0.2222222222222222, \"#7201a8\"], [0.3333333333333333, \"#9c179e\"], [0.4444444444444444, \"#bd3786\"], [0.5555555555555556, \"#d8576b\"], [0.6666666666666666, \"#ed7953\"], [0.7777777777777778, \"#fb9f3a\"], [0.8888888888888888, \"#fdca26\"], [1.0, \"#f0f921\"]]}, \"colorway\": [\"#636efa\", \"#EF553B\", \"#00cc96\", \"#ab63fa\", \"#FFA15A\", \"#19d3f3\", \"#FF6692\", \"#B6E880\", \"#FF97FF\", \"#FECB52\"], \"font\": {\"color\": \"#2a3f5f\"}, \"geo\": {\"bgcolor\": \"white\", \"lakecolor\": \"white\", \"landcolor\": \"#E5ECF6\", \"showlakes\": true, \"showland\": true, \"subunitcolor\": \"white\"}, \"hoverlabel\": {\"align\": \"left\"}, \"hovermode\": \"closest\", \"mapbox\": {\"style\": \"light\"}, \"paper_bgcolor\": \"white\", \"plot_bgcolor\": \"#E5ECF6\", \"polar\": {\"angularaxis\": {\"gridcolor\": \"white\", \"linecolor\": \"white\", \"ticks\": \"\"}, \"bgcolor\": \"#E5ECF6\", \"radialaxis\": {\"gridcolor\": \"white\", \"linecolor\": \"white\", \"ticks\": \"\"}}, \"scene\": {\"xaxis\": {\"backgroundcolor\": \"#E5ECF6\", \"gridcolor\": \"white\", \"gridwidth\": 2, \"linecolor\": \"white\", \"showbackground\": true, \"ticks\": \"\", \"zerolinecolor\": \"white\"}, \"yaxis\": {\"backgroundcolor\": \"#E5ECF6\", \"gridcolor\": \"white\", \"gridwidth\": 2, \"linecolor\": \"white\", \"showbackground\": true, \"ticks\": \"\", \"zerolinecolor\": \"white\"}, \"zaxis\": {\"backgroundcolor\": \"#E5ECF6\", \"gridcolor\": \"white\", \"gridwidth\": 2, \"linecolor\": \"white\", \"showbackground\": true, \"ticks\": \"\", \"zerolinecolor\": \"white\"}}, \"shapedefaults\": {\"line\": {\"color\": \"#2a3f5f\"}}, \"ternary\": {\"aaxis\": {\"gridcolor\": \"white\", \"linecolor\": \"white\", \"ticks\": \"\"}, \"baxis\": {\"gridcolor\": \"white\", \"linecolor\": \"white\", \"ticks\": \"\"}, \"bgcolor\": \"#E5ECF6\", \"caxis\": {\"gridcolor\": \"white\", \"linecolor\": \"white\", \"ticks\": \"\"}}, \"title\": {\"x\": 0.05}, \"xaxis\": {\"automargin\": true, \"gridcolor\": \"white\", \"linecolor\": \"white\", \"ticks\": \"\", \"title\": {\"standoff\": 15}, \"zerolinecolor\": \"white\", \"zerolinewidth\": 2}, \"yaxis\": {\"automargin\": true, \"gridcolor\": \"white\", \"linecolor\": \"white\", \"ticks\": \"\", \"title\": {\"standoff\": 15}, \"zerolinecolor\": \"white\", \"zerolinewidth\": 2}}}, \"title\": {\"font\": {\"color\": \"#4D5663\"}}, \"xaxis\": {\"gridcolor\": \"#E1E5ED\", \"showgrid\": true, \"tickfont\": {\"color\": \"#4D5663\"}, \"title\": {\"font\": {\"color\": \"#4D5663\"}, \"text\": \"\"}, \"zerolinecolor\": \"#E1E5ED\"}, \"yaxis\": {\"gridcolor\": \"#E1E5ED\", \"showgrid\": true, \"tickfont\": {\"color\": \"#4D5663\"}, \"title\": {\"font\": {\"color\": \"#4D5663\"}, \"text\": \"\"}, \"zerolinecolor\": \"#E1E5ED\"}},                        {\"showLink\": true, \"linkText\": \"Export to plot.ly\", \"plotlyServerURL\": \"https://plot.ly\", \"responsive\": true}                    ).then(function(){\n",
       "                            \n",
       "var gd = document.getElementById('c3af9184-890c-481d-8b31-e151cd20db4a');\n",
       "var x = new MutationObserver(function (mutations, observer) {{\n",
       "        var display = window.getComputedStyle(gd).display;\n",
       "        if (!display || display === 'none') {{\n",
       "            console.log([gd, 'removed!']);\n",
       "            Plotly.purge(gd);\n",
       "            observer.disconnect();\n",
       "        }}\n",
       "}});\n",
       "\n",
       "// Listen for the removal of the full notebook cells\n",
       "var notebookContainer = gd.closest('#notebook-container');\n",
       "if (notebookContainer) {{\n",
       "    x.observe(notebookContainer, {childList: true});\n",
       "}}\n",
       "\n",
       "// Listen for the clearing of the current output cell\n",
       "var outputEl = gd.closest('.output');\n",
       "if (outputEl) {{\n",
       "    x.observe(outputEl, {childList: true});\n",
       "}}\n",
       "\n",
       "                        })                };                });            </script>        </div>"
      ]
     },
     "metadata": {},
     "output_type": "display_data"
    }
   ],
   "source": [
    "df['A'].iplot(kind='hist',bins=25)"
   ]
  },
  {
   "cell_type": "code",
   "execution_count": 19,
   "metadata": {},
   "outputs": [
    {
     "data": {
      "application/vnd.plotly.v1+json": {
       "config": {
        "linkText": "Export to plot.ly",
        "plotlyServerURL": "https://plot.ly",
        "showLink": true
       },
       "data": [
        {
         "marker": {
          "color": [
           "rgb(255, 153, 51)",
           "rgb(55, 128, 191)",
           "rgb(50, 171, 96)",
           "rgb(128, 0, 128)",
           "rgb(219, 64, 82)",
           "rgb(0, 128, 128)",
           "rgb(255, 255, 51)",
           "rgb(128, 128, 0)",
           "rgb(251, 128, 114)",
           "rgb(128, 177, 211)"
          ],
          "line": {
           "width": 1.3
          },
          "size": [
           67,
           25,
           38,
           49,
           38,
           46,
           68,
           67,
           50,
           97,
           57,
           47,
           64,
           75,
           61,
           51,
           26,
           13,
           41,
           37,
           40,
           75,
           44,
           67,
           66,
           56,
           79,
           56,
           30,
           51,
           98,
           76,
           61,
           67,
           72,
           16,
           56,
           91,
           71,
           50,
           58,
           66,
           71,
           34,
           47,
           46,
           36,
           55,
           17,
           56,
           37,
           18,
           67,
           52,
           61,
           65,
           63,
           77,
           67,
           77,
           47,
           35,
           96,
           78,
           37,
           57,
           68,
           30,
           44,
           25,
           46,
           84,
           46,
           77,
           66,
           55,
           55,
           68,
           35,
           87,
           112,
           26,
           34,
           68,
           35,
           71,
           53,
           72,
           33,
           68,
           44,
           39,
           39,
           64,
           50,
           43,
           48,
           12,
           25,
           44
          ],
          "symbol": "circle"
         },
         "mode": "markers",
         "text": "",
         "type": "scatter",
         "x": [
          0.5543778778007974,
          1.305477680709373,
          -0.024430440104519096,
          -2.215780260803809,
          2.0311597958353804,
          -0.4640646961126891,
          0.8170695248510517,
          -0.7028901071685868,
          -1.3491332354884638,
          -0.6161054436764591,
          -0.9280833246496767,
          -0.202066973522514,
          -0.21977179427645022,
          -1.0499809344704083,
          -0.5538206199663367,
          0.2265782866540906,
          -1.281844393909573,
          1.2908776366987078,
          0.18933031627514868,
          1.3223490944050604,
          -0.6917365578725994,
          -0.5431131287020351,
          -0.2909553413115204,
          1.0750396385991803,
          0.7429454183000217,
          0.22129435093050254,
          -0.8614967063028686,
          -1.1268504523534668,
          0.7849954275435155,
          -2.0462048630969756,
          -0.008315388606309645,
          -0.18690885675627897,
          -0.7438181606657309,
          0.15288541099547315,
          0.014475441184176124,
          0.14950478033843956,
          -0.8196188460104581,
          0.6817811904730309,
          -1.2529214477062713,
          0.9734419093151444,
          0.46920101432825234,
          -1.8738939153410312,
          -1.0442171806553078,
          -0.38907289675682377,
          0.3414085214985565,
          -0.12856373579884875,
          0.7687266580761056,
          -1.054510339601767,
          -1.3749782443374008,
          0.08569403027435128,
          -0.5857738419042354,
          -1.7400601235515123,
          -0.03888180835654369,
          1.5662535457997817,
          -1.135373142936974,
          -1.1788653754026897,
          0.9584474836768704,
          0.8452506568614417,
          1.4097083184823593,
          1.380708985476826,
          -1.3203287612461103,
          -0.38364821453678444,
          -0.9971480233412237,
          0.3380732888858674,
          0.16534288637466557,
          -1.8140009513685151,
          0.9591220114764414,
          -0.7781011149097469,
          -0.9474226100958619,
          1.2943556874594229,
          0.1767544740810032,
          0.16052773335204457,
          -0.015433744952918096,
          -0.396594278243572,
          0.0392082424630884,
          -0.27494729328742556,
          0.8543890775430171,
          -0.17733028237964166,
          -1.0041492512236738,
          -0.3683532174905001,
          -0.4573037611863631,
          0.40586150069244475,
          0.7486343120609291,
          -1.009040149912704,
          -1.0528459653868723,
          -0.7337506006203001,
          0.8784811637364917,
          -1.2029475450319733,
          0.5139496552971384,
          0.016740108317212347,
          1.504783869463037,
          0.26307969919951585,
          0.732239718818574,
          0.12788599762890387,
          0.28310262019622595,
          0.37445293983738454,
          -0.802281753308722,
          -0.3215480974218836,
          0.030026716197300258,
          0.8956302931209041
         ],
         "y": [
          0.6573420948764968,
          0.10927452064301324,
          -1.1693955571656995,
          0.27038277765157015,
          -0.6334428219861441,
          -0.7310049423608668,
          -0.9061497273341353,
          -0.17952398194820196,
          0.5290628366347644,
          -0.3277282850274606,
          0.4805066939717914,
          0.4305331075124773,
          1.5367349716397587,
          0.9288429958501185,
          -0.13154094045274825,
          -0.008054556044534996,
          -0.3549430884093958,
          -0.5518746001809784,
          -0.3744331900872491,
          -1.1466740102851765,
          0.42116918545774723,
          -1.2433821954666222,
          0.5342388046341497,
          -1.2576208065547367,
          -0.22244895651178917,
          1.3712309698798104,
          -0.5502388311820707,
          -1.5928047353411585,
          0.13055640769860827,
          0.9981990385975217,
          -0.7336616425525483,
          0.4351102368339564,
          -0.32225790472622995,
          0.7413449967439579,
          0.3721174073425647,
          0.512721239719747,
          -0.740110741950452,
          0.6957972672159145,
          0.830729579395018,
          0.3887161572657043,
          0.6150346953707452,
          -0.5082427724892878,
          -0.49489182061779347,
          -0.01716986251555328,
          2.3602710200722505,
          -0.8218874927980011,
          0.22427309131500953,
          -0.29005880893778097,
          1.1779260056622485,
          -0.11748454801166518,
          0.3402397024055858,
          -0.35552836385523023,
          -0.16451996357588944,
          0.7034108409217701,
          0.477435014841578,
          1.1923449016301306,
          0.2965107406624185,
          0.46063736138339956,
          -1.0508179558055617,
          0.9783239970892182,
          -0.6237161393238063,
          -0.9411186378701619,
          0.8606564080610469,
          -0.8956632154241032,
          -0.0014160494534910955,
          -2.7962656734900455,
          -1.11910796542192,
          -1.2596609578746518,
          -0.1491127134080697,
          -1.824555021548616,
          -0.4624946856160559,
          -0.36554135435135815,
          1.2474035413162488,
          0.5151989771478599,
          -0.48799114484926626,
          0.9900683597616949,
          -0.32106797524051484,
          -0.9560897765749078,
          1.0444631985284405,
          0.1693601699087248,
          -0.1770841413625548,
          0.7422150630812716,
          0.0691231084306441,
          1.6744750921176692,
          -0.49391613899722053,
          -1.1450714835966944,
          1.8517986856387725,
          -0.3470835160544637,
          0.017777108580660606,
          0.6695030039630508,
          0.9362583269580034,
          -0.007334188774526295,
          -2.110221712510784,
          0.22241278040537338,
          0.07030621148623364,
          -0.9278741288272946,
          -0.5190491244263271,
          0.49593328011174986,
          -1.5689689364140202,
          1.638871879947243
         ]
        }
       ],
       "layout": {
        "legend": {
         "bgcolor": "#F5F6F9",
         "font": {
          "color": "#4D5663"
         }
        },
        "paper_bgcolor": "#F5F6F9",
        "plot_bgcolor": "#F5F6F9",
        "template": {
         "data": {
          "bar": [
           {
            "error_x": {
             "color": "#2a3f5f"
            },
            "error_y": {
             "color": "#2a3f5f"
            },
            "marker": {
             "line": {
              "color": "#E5ECF6",
              "width": 0.5
             }
            },
            "type": "bar"
           }
          ],
          "barpolar": [
           {
            "marker": {
             "line": {
              "color": "#E5ECF6",
              "width": 0.5
             }
            },
            "type": "barpolar"
           }
          ],
          "carpet": [
           {
            "aaxis": {
             "endlinecolor": "#2a3f5f",
             "gridcolor": "white",
             "linecolor": "white",
             "minorgridcolor": "white",
             "startlinecolor": "#2a3f5f"
            },
            "baxis": {
             "endlinecolor": "#2a3f5f",
             "gridcolor": "white",
             "linecolor": "white",
             "minorgridcolor": "white",
             "startlinecolor": "#2a3f5f"
            },
            "type": "carpet"
           }
          ],
          "choropleth": [
           {
            "colorbar": {
             "outlinewidth": 0,
             "ticks": ""
            },
            "type": "choropleth"
           }
          ],
          "contour": [
           {
            "colorbar": {
             "outlinewidth": 0,
             "ticks": ""
            },
            "colorscale": [
             [
              0,
              "#0d0887"
             ],
             [
              0.1111111111111111,
              "#46039f"
             ],
             [
              0.2222222222222222,
              "#7201a8"
             ],
             [
              0.3333333333333333,
              "#9c179e"
             ],
             [
              0.4444444444444444,
              "#bd3786"
             ],
             [
              0.5555555555555556,
              "#d8576b"
             ],
             [
              0.6666666666666666,
              "#ed7953"
             ],
             [
              0.7777777777777778,
              "#fb9f3a"
             ],
             [
              0.8888888888888888,
              "#fdca26"
             ],
             [
              1,
              "#f0f921"
             ]
            ],
            "type": "contour"
           }
          ],
          "contourcarpet": [
           {
            "colorbar": {
             "outlinewidth": 0,
             "ticks": ""
            },
            "type": "contourcarpet"
           }
          ],
          "heatmap": [
           {
            "colorbar": {
             "outlinewidth": 0,
             "ticks": ""
            },
            "colorscale": [
             [
              0,
              "#0d0887"
             ],
             [
              0.1111111111111111,
              "#46039f"
             ],
             [
              0.2222222222222222,
              "#7201a8"
             ],
             [
              0.3333333333333333,
              "#9c179e"
             ],
             [
              0.4444444444444444,
              "#bd3786"
             ],
             [
              0.5555555555555556,
              "#d8576b"
             ],
             [
              0.6666666666666666,
              "#ed7953"
             ],
             [
              0.7777777777777778,
              "#fb9f3a"
             ],
             [
              0.8888888888888888,
              "#fdca26"
             ],
             [
              1,
              "#f0f921"
             ]
            ],
            "type": "heatmap"
           }
          ],
          "heatmapgl": [
           {
            "colorbar": {
             "outlinewidth": 0,
             "ticks": ""
            },
            "colorscale": [
             [
              0,
              "#0d0887"
             ],
             [
              0.1111111111111111,
              "#46039f"
             ],
             [
              0.2222222222222222,
              "#7201a8"
             ],
             [
              0.3333333333333333,
              "#9c179e"
             ],
             [
              0.4444444444444444,
              "#bd3786"
             ],
             [
              0.5555555555555556,
              "#d8576b"
             ],
             [
              0.6666666666666666,
              "#ed7953"
             ],
             [
              0.7777777777777778,
              "#fb9f3a"
             ],
             [
              0.8888888888888888,
              "#fdca26"
             ],
             [
              1,
              "#f0f921"
             ]
            ],
            "type": "heatmapgl"
           }
          ],
          "histogram": [
           {
            "marker": {
             "colorbar": {
              "outlinewidth": 0,
              "ticks": ""
             }
            },
            "type": "histogram"
           }
          ],
          "histogram2d": [
           {
            "colorbar": {
             "outlinewidth": 0,
             "ticks": ""
            },
            "colorscale": [
             [
              0,
              "#0d0887"
             ],
             [
              0.1111111111111111,
              "#46039f"
             ],
             [
              0.2222222222222222,
              "#7201a8"
             ],
             [
              0.3333333333333333,
              "#9c179e"
             ],
             [
              0.4444444444444444,
              "#bd3786"
             ],
             [
              0.5555555555555556,
              "#d8576b"
             ],
             [
              0.6666666666666666,
              "#ed7953"
             ],
             [
              0.7777777777777778,
              "#fb9f3a"
             ],
             [
              0.8888888888888888,
              "#fdca26"
             ],
             [
              1,
              "#f0f921"
             ]
            ],
            "type": "histogram2d"
           }
          ],
          "histogram2dcontour": [
           {
            "colorbar": {
             "outlinewidth": 0,
             "ticks": ""
            },
            "colorscale": [
             [
              0,
              "#0d0887"
             ],
             [
              0.1111111111111111,
              "#46039f"
             ],
             [
              0.2222222222222222,
              "#7201a8"
             ],
             [
              0.3333333333333333,
              "#9c179e"
             ],
             [
              0.4444444444444444,
              "#bd3786"
             ],
             [
              0.5555555555555556,
              "#d8576b"
             ],
             [
              0.6666666666666666,
              "#ed7953"
             ],
             [
              0.7777777777777778,
              "#fb9f3a"
             ],
             [
              0.8888888888888888,
              "#fdca26"
             ],
             [
              1,
              "#f0f921"
             ]
            ],
            "type": "histogram2dcontour"
           }
          ],
          "mesh3d": [
           {
            "colorbar": {
             "outlinewidth": 0,
             "ticks": ""
            },
            "type": "mesh3d"
           }
          ],
          "parcoords": [
           {
            "line": {
             "colorbar": {
              "outlinewidth": 0,
              "ticks": ""
             }
            },
            "type": "parcoords"
           }
          ],
          "pie": [
           {
            "automargin": true,
            "type": "pie"
           }
          ],
          "scatter": [
           {
            "marker": {
             "colorbar": {
              "outlinewidth": 0,
              "ticks": ""
             }
            },
            "type": "scatter"
           }
          ],
          "scatter3d": [
           {
            "line": {
             "colorbar": {
              "outlinewidth": 0,
              "ticks": ""
             }
            },
            "marker": {
             "colorbar": {
              "outlinewidth": 0,
              "ticks": ""
             }
            },
            "type": "scatter3d"
           }
          ],
          "scattercarpet": [
           {
            "marker": {
             "colorbar": {
              "outlinewidth": 0,
              "ticks": ""
             }
            },
            "type": "scattercarpet"
           }
          ],
          "scattergeo": [
           {
            "marker": {
             "colorbar": {
              "outlinewidth": 0,
              "ticks": ""
             }
            },
            "type": "scattergeo"
           }
          ],
          "scattergl": [
           {
            "marker": {
             "colorbar": {
              "outlinewidth": 0,
              "ticks": ""
             }
            },
            "type": "scattergl"
           }
          ],
          "scattermapbox": [
           {
            "marker": {
             "colorbar": {
              "outlinewidth": 0,
              "ticks": ""
             }
            },
            "type": "scattermapbox"
           }
          ],
          "scatterpolar": [
           {
            "marker": {
             "colorbar": {
              "outlinewidth": 0,
              "ticks": ""
             }
            },
            "type": "scatterpolar"
           }
          ],
          "scatterpolargl": [
           {
            "marker": {
             "colorbar": {
              "outlinewidth": 0,
              "ticks": ""
             }
            },
            "type": "scatterpolargl"
           }
          ],
          "scatterternary": [
           {
            "marker": {
             "colorbar": {
              "outlinewidth": 0,
              "ticks": ""
             }
            },
            "type": "scatterternary"
           }
          ],
          "surface": [
           {
            "colorbar": {
             "outlinewidth": 0,
             "ticks": ""
            },
            "colorscale": [
             [
              0,
              "#0d0887"
             ],
             [
              0.1111111111111111,
              "#46039f"
             ],
             [
              0.2222222222222222,
              "#7201a8"
             ],
             [
              0.3333333333333333,
              "#9c179e"
             ],
             [
              0.4444444444444444,
              "#bd3786"
             ],
             [
              0.5555555555555556,
              "#d8576b"
             ],
             [
              0.6666666666666666,
              "#ed7953"
             ],
             [
              0.7777777777777778,
              "#fb9f3a"
             ],
             [
              0.8888888888888888,
              "#fdca26"
             ],
             [
              1,
              "#f0f921"
             ]
            ],
            "type": "surface"
           }
          ],
          "table": [
           {
            "cells": {
             "fill": {
              "color": "#EBF0F8"
             },
             "line": {
              "color": "white"
             }
            },
            "header": {
             "fill": {
              "color": "#C8D4E3"
             },
             "line": {
              "color": "white"
             }
            },
            "type": "table"
           }
          ]
         },
         "layout": {
          "annotationdefaults": {
           "arrowcolor": "#2a3f5f",
           "arrowhead": 0,
           "arrowwidth": 1
          },
          "autotypenumbers": "strict",
          "coloraxis": {
           "colorbar": {
            "outlinewidth": 0,
            "ticks": ""
           }
          },
          "colorscale": {
           "diverging": [
            [
             0,
             "#8e0152"
            ],
            [
             0.1,
             "#c51b7d"
            ],
            [
             0.2,
             "#de77ae"
            ],
            [
             0.3,
             "#f1b6da"
            ],
            [
             0.4,
             "#fde0ef"
            ],
            [
             0.5,
             "#f7f7f7"
            ],
            [
             0.6,
             "#e6f5d0"
            ],
            [
             0.7,
             "#b8e186"
            ],
            [
             0.8,
             "#7fbc41"
            ],
            [
             0.9,
             "#4d9221"
            ],
            [
             1,
             "#276419"
            ]
           ],
           "sequential": [
            [
             0,
             "#0d0887"
            ],
            [
             0.1111111111111111,
             "#46039f"
            ],
            [
             0.2222222222222222,
             "#7201a8"
            ],
            [
             0.3333333333333333,
             "#9c179e"
            ],
            [
             0.4444444444444444,
             "#bd3786"
            ],
            [
             0.5555555555555556,
             "#d8576b"
            ],
            [
             0.6666666666666666,
             "#ed7953"
            ],
            [
             0.7777777777777778,
             "#fb9f3a"
            ],
            [
             0.8888888888888888,
             "#fdca26"
            ],
            [
             1,
             "#f0f921"
            ]
           ],
           "sequentialminus": [
            [
             0,
             "#0d0887"
            ],
            [
             0.1111111111111111,
             "#46039f"
            ],
            [
             0.2222222222222222,
             "#7201a8"
            ],
            [
             0.3333333333333333,
             "#9c179e"
            ],
            [
             0.4444444444444444,
             "#bd3786"
            ],
            [
             0.5555555555555556,
             "#d8576b"
            ],
            [
             0.6666666666666666,
             "#ed7953"
            ],
            [
             0.7777777777777778,
             "#fb9f3a"
            ],
            [
             0.8888888888888888,
             "#fdca26"
            ],
            [
             1,
             "#f0f921"
            ]
           ]
          },
          "colorway": [
           "#636efa",
           "#EF553B",
           "#00cc96",
           "#ab63fa",
           "#FFA15A",
           "#19d3f3",
           "#FF6692",
           "#B6E880",
           "#FF97FF",
           "#FECB52"
          ],
          "font": {
           "color": "#2a3f5f"
          },
          "geo": {
           "bgcolor": "white",
           "lakecolor": "white",
           "landcolor": "#E5ECF6",
           "showlakes": true,
           "showland": true,
           "subunitcolor": "white"
          },
          "hoverlabel": {
           "align": "left"
          },
          "hovermode": "closest",
          "mapbox": {
           "style": "light"
          },
          "paper_bgcolor": "white",
          "plot_bgcolor": "#E5ECF6",
          "polar": {
           "angularaxis": {
            "gridcolor": "white",
            "linecolor": "white",
            "ticks": ""
           },
           "bgcolor": "#E5ECF6",
           "radialaxis": {
            "gridcolor": "white",
            "linecolor": "white",
            "ticks": ""
           }
          },
          "scene": {
           "xaxis": {
            "backgroundcolor": "#E5ECF6",
            "gridcolor": "white",
            "gridwidth": 2,
            "linecolor": "white",
            "showbackground": true,
            "ticks": "",
            "zerolinecolor": "white"
           },
           "yaxis": {
            "backgroundcolor": "#E5ECF6",
            "gridcolor": "white",
            "gridwidth": 2,
            "linecolor": "white",
            "showbackground": true,
            "ticks": "",
            "zerolinecolor": "white"
           },
           "zaxis": {
            "backgroundcolor": "#E5ECF6",
            "gridcolor": "white",
            "gridwidth": 2,
            "linecolor": "white",
            "showbackground": true,
            "ticks": "",
            "zerolinecolor": "white"
           }
          },
          "shapedefaults": {
           "line": {
            "color": "#2a3f5f"
           }
          },
          "ternary": {
           "aaxis": {
            "gridcolor": "white",
            "linecolor": "white",
            "ticks": ""
           },
           "baxis": {
            "gridcolor": "white",
            "linecolor": "white",
            "ticks": ""
           },
           "bgcolor": "#E5ECF6",
           "caxis": {
            "gridcolor": "white",
            "linecolor": "white",
            "ticks": ""
           }
          },
          "title": {
           "x": 0.05
          },
          "xaxis": {
           "automargin": true,
           "gridcolor": "white",
           "linecolor": "white",
           "ticks": "",
           "title": {
            "standoff": 15
           },
           "zerolinecolor": "white",
           "zerolinewidth": 2
          },
          "yaxis": {
           "automargin": true,
           "gridcolor": "white",
           "linecolor": "white",
           "ticks": "",
           "title": {
            "standoff": 15
           },
           "zerolinecolor": "white",
           "zerolinewidth": 2
          }
         }
        },
        "title": {
         "font": {
          "color": "#4D5663"
         }
        },
        "xaxis": {
         "gridcolor": "#E1E5ED",
         "showgrid": true,
         "tickfont": {
          "color": "#4D5663"
         },
         "title": {
          "font": {
           "color": "#4D5663"
          },
          "text": ""
         },
         "zerolinecolor": "#E1E5ED"
        },
        "yaxis": {
         "gridcolor": "#E1E5ED",
         "showgrid": true,
         "tickfont": {
          "color": "#4D5663"
         },
         "title": {
          "font": {
           "color": "#4D5663"
          },
          "text": ""
         },
         "zerolinecolor": "#E1E5ED"
        }
       }
      },
      "text/html": [
       "<div>                            <div id=\"b485c0a4-e136-4f4c-8aed-96c82d491644\" class=\"plotly-graph-div\" style=\"height:525px; width:100%;\"></div>            <script type=\"text/javascript\">                require([\"plotly\"], function(Plotly) {                    window.PLOTLYENV=window.PLOTLYENV || {};\n",
       "                    window.PLOTLYENV.BASE_URL='https://plot.ly';                                    if (document.getElementById(\"b485c0a4-e136-4f4c-8aed-96c82d491644\")) {                    Plotly.newPlot(                        \"b485c0a4-e136-4f4c-8aed-96c82d491644\",                        [{\"marker\": {\"color\": [\"rgb(255, 153, 51)\", \"rgb(55, 128, 191)\", \"rgb(50, 171, 96)\", \"rgb(128, 0, 128)\", \"rgb(219, 64, 82)\", \"rgb(0, 128, 128)\", \"rgb(255, 255, 51)\", \"rgb(128, 128, 0)\", \"rgb(251, 128, 114)\", \"rgb(128, 177, 211)\"], \"line\": {\"width\": 1.3}, \"size\": [67, 25, 38, 49, 38, 46, 68, 67, 50, 97, 57, 47, 64, 75, 61, 51, 26, 13, 41, 37, 40, 75, 44, 67, 66, 56, 79, 56, 30, 51, 98, 76, 61, 67, 72, 16, 56, 91, 71, 50, 58, 66, 71, 34, 47, 46, 36, 55, 17, 56, 37, 18, 67, 52, 61, 65, 63, 77, 67, 77, 47, 35, 96, 78, 37, 57, 68, 30, 44, 25, 46, 84, 46, 77, 66, 55, 55, 68, 35, 87, 112, 26, 34, 68, 35, 71, 53, 72, 33, 68, 44, 39, 39, 64, 50, 43, 48, 12, 25, 44], \"symbol\": \"circle\"}, \"mode\": \"markers\", \"text\": \"\", \"type\": \"scatter\", \"x\": [0.5543778778007974, 1.305477680709373, -0.024430440104519096, -2.215780260803809, 2.0311597958353804, -0.4640646961126891, 0.8170695248510517, -0.7028901071685868, -1.3491332354884638, -0.6161054436764591, -0.9280833246496767, -0.202066973522514, -0.21977179427645022, -1.0499809344704083, -0.5538206199663367, 0.2265782866540906, -1.281844393909573, 1.2908776366987078, 0.18933031627514868, 1.3223490944050604, -0.6917365578725994, -0.5431131287020351, -0.2909553413115204, 1.0750396385991803, 0.7429454183000217, 0.22129435093050254, -0.8614967063028686, -1.1268504523534668, 0.7849954275435155, -2.0462048630969756, -0.008315388606309645, -0.18690885675627897, -0.7438181606657309, 0.15288541099547315, 0.014475441184176124, 0.14950478033843956, -0.8196188460104581, 0.6817811904730309, -1.2529214477062713, 0.9734419093151444, 0.46920101432825234, -1.8738939153410312, -1.0442171806553078, -0.38907289675682377, 0.3414085214985565, -0.12856373579884875, 0.7687266580761056, -1.054510339601767, -1.3749782443374008, 0.08569403027435128, -0.5857738419042354, -1.7400601235515123, -0.03888180835654369, 1.5662535457997817, -1.135373142936974, -1.1788653754026897, 0.9584474836768704, 0.8452506568614417, 1.4097083184823593, 1.380708985476826, -1.3203287612461103, -0.38364821453678444, -0.9971480233412237, 0.3380732888858674, 0.16534288637466557, -1.8140009513685151, 0.9591220114764414, -0.7781011149097469, -0.9474226100958619, 1.2943556874594229, 0.1767544740810032, 0.16052773335204457, -0.015433744952918096, -0.396594278243572, 0.0392082424630884, -0.27494729328742556, 0.8543890775430171, -0.17733028237964166, -1.0041492512236738, -0.3683532174905001, -0.4573037611863631, 0.40586150069244475, 0.7486343120609291, -1.009040149912704, -1.0528459653868723, -0.7337506006203001, 0.8784811637364917, -1.2029475450319733, 0.5139496552971384, 0.016740108317212347, 1.504783869463037, 0.26307969919951585, 0.732239718818574, 0.12788599762890387, 0.28310262019622595, 0.37445293983738454, -0.802281753308722, -0.3215480974218836, 0.030026716197300258, 0.8956302931209041], \"y\": [0.6573420948764968, 0.10927452064301324, -1.1693955571656995, 0.27038277765157015, -0.6334428219861441, -0.7310049423608668, -0.9061497273341353, -0.17952398194820196, 0.5290628366347644, -0.3277282850274606, 0.4805066939717914, 0.4305331075124773, 1.5367349716397587, 0.9288429958501185, -0.13154094045274825, -0.008054556044534996, -0.3549430884093958, -0.5518746001809784, -0.3744331900872491, -1.1466740102851765, 0.42116918545774723, -1.2433821954666222, 0.5342388046341497, -1.2576208065547367, -0.22244895651178917, 1.3712309698798104, -0.5502388311820707, -1.5928047353411585, 0.13055640769860827, 0.9981990385975217, -0.7336616425525483, 0.4351102368339564, -0.32225790472622995, 0.7413449967439579, 0.3721174073425647, 0.512721239719747, -0.740110741950452, 0.6957972672159145, 0.830729579395018, 0.3887161572657043, 0.6150346953707452, -0.5082427724892878, -0.49489182061779347, -0.01716986251555328, 2.3602710200722505, -0.8218874927980011, 0.22427309131500953, -0.29005880893778097, 1.1779260056622485, -0.11748454801166518, 0.3402397024055858, -0.35552836385523023, -0.16451996357588944, 0.7034108409217701, 0.477435014841578, 1.1923449016301306, 0.2965107406624185, 0.46063736138339956, -1.0508179558055617, 0.9783239970892182, -0.6237161393238063, -0.9411186378701619, 0.8606564080610469, -0.8956632154241032, -0.0014160494534910955, -2.7962656734900455, -1.11910796542192, -1.2596609578746518, -0.1491127134080697, -1.824555021548616, -0.4624946856160559, -0.36554135435135815, 1.2474035413162488, 0.5151989771478599, -0.48799114484926626, 0.9900683597616949, -0.32106797524051484, -0.9560897765749078, 1.0444631985284405, 0.1693601699087248, -0.1770841413625548, 0.7422150630812716, 0.0691231084306441, 1.6744750921176692, -0.49391613899722053, -1.1450714835966944, 1.8517986856387725, -0.3470835160544637, 0.017777108580660606, 0.6695030039630508, 0.9362583269580034, -0.007334188774526295, -2.110221712510784, 0.22241278040537338, 0.07030621148623364, -0.9278741288272946, -0.5190491244263271, 0.49593328011174986, -1.5689689364140202, 1.638871879947243]}],                        {\"legend\": {\"bgcolor\": \"#F5F6F9\", \"font\": {\"color\": \"#4D5663\"}}, \"paper_bgcolor\": \"#F5F6F9\", \"plot_bgcolor\": \"#F5F6F9\", \"template\": {\"data\": {\"bar\": [{\"error_x\": {\"color\": \"#2a3f5f\"}, \"error_y\": {\"color\": \"#2a3f5f\"}, \"marker\": {\"line\": {\"color\": \"#E5ECF6\", \"width\": 0.5}}, \"type\": \"bar\"}], \"barpolar\": [{\"marker\": {\"line\": {\"color\": \"#E5ECF6\", \"width\": 0.5}}, \"type\": \"barpolar\"}], \"carpet\": [{\"aaxis\": {\"endlinecolor\": \"#2a3f5f\", \"gridcolor\": \"white\", \"linecolor\": \"white\", \"minorgridcolor\": \"white\", \"startlinecolor\": \"#2a3f5f\"}, \"baxis\": {\"endlinecolor\": \"#2a3f5f\", \"gridcolor\": \"white\", \"linecolor\": \"white\", \"minorgridcolor\": \"white\", \"startlinecolor\": \"#2a3f5f\"}, \"type\": \"carpet\"}], \"choropleth\": [{\"colorbar\": {\"outlinewidth\": 0, \"ticks\": \"\"}, \"type\": \"choropleth\"}], \"contour\": [{\"colorbar\": {\"outlinewidth\": 0, \"ticks\": \"\"}, \"colorscale\": [[0.0, \"#0d0887\"], [0.1111111111111111, \"#46039f\"], [0.2222222222222222, \"#7201a8\"], [0.3333333333333333, \"#9c179e\"], [0.4444444444444444, \"#bd3786\"], [0.5555555555555556, \"#d8576b\"], [0.6666666666666666, \"#ed7953\"], [0.7777777777777778, \"#fb9f3a\"], [0.8888888888888888, \"#fdca26\"], [1.0, \"#f0f921\"]], \"type\": \"contour\"}], \"contourcarpet\": [{\"colorbar\": {\"outlinewidth\": 0, \"ticks\": \"\"}, \"type\": \"contourcarpet\"}], \"heatmap\": [{\"colorbar\": {\"outlinewidth\": 0, \"ticks\": \"\"}, \"colorscale\": [[0.0, \"#0d0887\"], [0.1111111111111111, \"#46039f\"], [0.2222222222222222, \"#7201a8\"], [0.3333333333333333, \"#9c179e\"], [0.4444444444444444, \"#bd3786\"], [0.5555555555555556, \"#d8576b\"], [0.6666666666666666, \"#ed7953\"], [0.7777777777777778, \"#fb9f3a\"], [0.8888888888888888, \"#fdca26\"], [1.0, \"#f0f921\"]], \"type\": \"heatmap\"}], \"heatmapgl\": [{\"colorbar\": {\"outlinewidth\": 0, \"ticks\": \"\"}, \"colorscale\": [[0.0, \"#0d0887\"], [0.1111111111111111, \"#46039f\"], [0.2222222222222222, \"#7201a8\"], [0.3333333333333333, \"#9c179e\"], [0.4444444444444444, \"#bd3786\"], [0.5555555555555556, \"#d8576b\"], [0.6666666666666666, \"#ed7953\"], [0.7777777777777778, \"#fb9f3a\"], [0.8888888888888888, \"#fdca26\"], [1.0, \"#f0f921\"]], \"type\": \"heatmapgl\"}], \"histogram\": [{\"marker\": {\"colorbar\": {\"outlinewidth\": 0, \"ticks\": \"\"}}, \"type\": \"histogram\"}], \"histogram2d\": [{\"colorbar\": {\"outlinewidth\": 0, \"ticks\": \"\"}, \"colorscale\": [[0.0, \"#0d0887\"], [0.1111111111111111, \"#46039f\"], [0.2222222222222222, \"#7201a8\"], [0.3333333333333333, \"#9c179e\"], [0.4444444444444444, \"#bd3786\"], [0.5555555555555556, \"#d8576b\"], [0.6666666666666666, \"#ed7953\"], [0.7777777777777778, \"#fb9f3a\"], [0.8888888888888888, \"#fdca26\"], [1.0, \"#f0f921\"]], \"type\": \"histogram2d\"}], \"histogram2dcontour\": [{\"colorbar\": {\"outlinewidth\": 0, \"ticks\": \"\"}, \"colorscale\": [[0.0, \"#0d0887\"], [0.1111111111111111, \"#46039f\"], [0.2222222222222222, \"#7201a8\"], [0.3333333333333333, \"#9c179e\"], [0.4444444444444444, \"#bd3786\"], [0.5555555555555556, \"#d8576b\"], [0.6666666666666666, \"#ed7953\"], [0.7777777777777778, \"#fb9f3a\"], [0.8888888888888888, \"#fdca26\"], [1.0, \"#f0f921\"]], \"type\": \"histogram2dcontour\"}], \"mesh3d\": [{\"colorbar\": {\"outlinewidth\": 0, \"ticks\": \"\"}, \"type\": \"mesh3d\"}], \"parcoords\": [{\"line\": {\"colorbar\": {\"outlinewidth\": 0, \"ticks\": \"\"}}, \"type\": \"parcoords\"}], \"pie\": [{\"automargin\": true, \"type\": \"pie\"}], \"scatter\": [{\"marker\": {\"colorbar\": {\"outlinewidth\": 0, \"ticks\": \"\"}}, \"type\": \"scatter\"}], \"scatter3d\": [{\"line\": {\"colorbar\": {\"outlinewidth\": 0, \"ticks\": \"\"}}, \"marker\": {\"colorbar\": {\"outlinewidth\": 0, \"ticks\": \"\"}}, \"type\": \"scatter3d\"}], \"scattercarpet\": [{\"marker\": {\"colorbar\": {\"outlinewidth\": 0, \"ticks\": \"\"}}, \"type\": \"scattercarpet\"}], \"scattergeo\": [{\"marker\": {\"colorbar\": {\"outlinewidth\": 0, \"ticks\": \"\"}}, \"type\": \"scattergeo\"}], \"scattergl\": [{\"marker\": {\"colorbar\": {\"outlinewidth\": 0, \"ticks\": \"\"}}, \"type\": \"scattergl\"}], \"scattermapbox\": [{\"marker\": {\"colorbar\": {\"outlinewidth\": 0, \"ticks\": \"\"}}, \"type\": \"scattermapbox\"}], \"scatterpolar\": [{\"marker\": {\"colorbar\": {\"outlinewidth\": 0, \"ticks\": \"\"}}, \"type\": \"scatterpolar\"}], \"scatterpolargl\": [{\"marker\": {\"colorbar\": {\"outlinewidth\": 0, \"ticks\": \"\"}}, \"type\": \"scatterpolargl\"}], \"scatterternary\": [{\"marker\": {\"colorbar\": {\"outlinewidth\": 0, \"ticks\": \"\"}}, \"type\": \"scatterternary\"}], \"surface\": [{\"colorbar\": {\"outlinewidth\": 0, \"ticks\": \"\"}, \"colorscale\": [[0.0, \"#0d0887\"], [0.1111111111111111, \"#46039f\"], [0.2222222222222222, \"#7201a8\"], [0.3333333333333333, \"#9c179e\"], [0.4444444444444444, \"#bd3786\"], [0.5555555555555556, \"#d8576b\"], [0.6666666666666666, \"#ed7953\"], [0.7777777777777778, \"#fb9f3a\"], [0.8888888888888888, \"#fdca26\"], [1.0, \"#f0f921\"]], \"type\": \"surface\"}], \"table\": [{\"cells\": {\"fill\": {\"color\": \"#EBF0F8\"}, \"line\": {\"color\": \"white\"}}, \"header\": {\"fill\": {\"color\": \"#C8D4E3\"}, \"line\": {\"color\": \"white\"}}, \"type\": \"table\"}]}, \"layout\": {\"annotationdefaults\": {\"arrowcolor\": \"#2a3f5f\", \"arrowhead\": 0, \"arrowwidth\": 1}, \"autotypenumbers\": \"strict\", \"coloraxis\": {\"colorbar\": {\"outlinewidth\": 0, \"ticks\": \"\"}}, \"colorscale\": {\"diverging\": [[0, \"#8e0152\"], [0.1, \"#c51b7d\"], [0.2, \"#de77ae\"], [0.3, \"#f1b6da\"], [0.4, \"#fde0ef\"], [0.5, \"#f7f7f7\"], [0.6, \"#e6f5d0\"], [0.7, \"#b8e186\"], [0.8, \"#7fbc41\"], [0.9, \"#4d9221\"], [1, \"#276419\"]], \"sequential\": [[0.0, \"#0d0887\"], [0.1111111111111111, \"#46039f\"], [0.2222222222222222, \"#7201a8\"], [0.3333333333333333, \"#9c179e\"], [0.4444444444444444, \"#bd3786\"], [0.5555555555555556, \"#d8576b\"], [0.6666666666666666, \"#ed7953\"], [0.7777777777777778, \"#fb9f3a\"], [0.8888888888888888, \"#fdca26\"], [1.0, \"#f0f921\"]], \"sequentialminus\": [[0.0, \"#0d0887\"], [0.1111111111111111, \"#46039f\"], [0.2222222222222222, \"#7201a8\"], [0.3333333333333333, \"#9c179e\"], [0.4444444444444444, \"#bd3786\"], [0.5555555555555556, \"#d8576b\"], [0.6666666666666666, \"#ed7953\"], [0.7777777777777778, \"#fb9f3a\"], [0.8888888888888888, \"#fdca26\"], [1.0, \"#f0f921\"]]}, \"colorway\": [\"#636efa\", \"#EF553B\", \"#00cc96\", \"#ab63fa\", \"#FFA15A\", \"#19d3f3\", \"#FF6692\", \"#B6E880\", \"#FF97FF\", \"#FECB52\"], \"font\": {\"color\": \"#2a3f5f\"}, \"geo\": {\"bgcolor\": \"white\", \"lakecolor\": \"white\", \"landcolor\": \"#E5ECF6\", \"showlakes\": true, \"showland\": true, \"subunitcolor\": \"white\"}, \"hoverlabel\": {\"align\": \"left\"}, \"hovermode\": \"closest\", \"mapbox\": {\"style\": \"light\"}, \"paper_bgcolor\": \"white\", \"plot_bgcolor\": \"#E5ECF6\", \"polar\": {\"angularaxis\": {\"gridcolor\": \"white\", \"linecolor\": \"white\", \"ticks\": \"\"}, \"bgcolor\": \"#E5ECF6\", \"radialaxis\": {\"gridcolor\": \"white\", \"linecolor\": \"white\", \"ticks\": \"\"}}, \"scene\": {\"xaxis\": {\"backgroundcolor\": \"#E5ECF6\", \"gridcolor\": \"white\", \"gridwidth\": 2, \"linecolor\": \"white\", \"showbackground\": true, \"ticks\": \"\", \"zerolinecolor\": \"white\"}, \"yaxis\": {\"backgroundcolor\": \"#E5ECF6\", \"gridcolor\": \"white\", \"gridwidth\": 2, \"linecolor\": \"white\", \"showbackground\": true, \"ticks\": \"\", \"zerolinecolor\": \"white\"}, \"zaxis\": {\"backgroundcolor\": \"#E5ECF6\", \"gridcolor\": \"white\", \"gridwidth\": 2, \"linecolor\": \"white\", \"showbackground\": true, \"ticks\": \"\", \"zerolinecolor\": \"white\"}}, \"shapedefaults\": {\"line\": {\"color\": \"#2a3f5f\"}}, \"ternary\": {\"aaxis\": {\"gridcolor\": \"white\", \"linecolor\": \"white\", \"ticks\": \"\"}, \"baxis\": {\"gridcolor\": \"white\", \"linecolor\": \"white\", \"ticks\": \"\"}, \"bgcolor\": \"#E5ECF6\", \"caxis\": {\"gridcolor\": \"white\", \"linecolor\": \"white\", \"ticks\": \"\"}}, \"title\": {\"x\": 0.05}, \"xaxis\": {\"automargin\": true, \"gridcolor\": \"white\", \"linecolor\": \"white\", \"ticks\": \"\", \"title\": {\"standoff\": 15}, \"zerolinecolor\": \"white\", \"zerolinewidth\": 2}, \"yaxis\": {\"automargin\": true, \"gridcolor\": \"white\", \"linecolor\": \"white\", \"ticks\": \"\", \"title\": {\"standoff\": 15}, \"zerolinecolor\": \"white\", \"zerolinewidth\": 2}}}, \"title\": {\"font\": {\"color\": \"#4D5663\"}}, \"xaxis\": {\"gridcolor\": \"#E1E5ED\", \"showgrid\": true, \"tickfont\": {\"color\": \"#4D5663\"}, \"title\": {\"font\": {\"color\": \"#4D5663\"}, \"text\": \"\"}, \"zerolinecolor\": \"#E1E5ED\"}, \"yaxis\": {\"gridcolor\": \"#E1E5ED\", \"showgrid\": true, \"tickfont\": {\"color\": \"#4D5663\"}, \"title\": {\"font\": {\"color\": \"#4D5663\"}, \"text\": \"\"}, \"zerolinecolor\": \"#E1E5ED\"}},                        {\"showLink\": true, \"linkText\": \"Export to plot.ly\", \"plotlyServerURL\": \"https://plot.ly\", \"responsive\": true}                    ).then(function(){\n",
       "                            \n",
       "var gd = document.getElementById('b485c0a4-e136-4f4c-8aed-96c82d491644');\n",
       "var x = new MutationObserver(function (mutations, observer) {{\n",
       "        var display = window.getComputedStyle(gd).display;\n",
       "        if (!display || display === 'none') {{\n",
       "            console.log([gd, 'removed!']);\n",
       "            Plotly.purge(gd);\n",
       "            observer.disconnect();\n",
       "        }}\n",
       "}});\n",
       "\n",
       "// Listen for the removal of the full notebook cells\n",
       "var notebookContainer = gd.closest('#notebook-container');\n",
       "if (notebookContainer) {{\n",
       "    x.observe(notebookContainer, {childList: true});\n",
       "}}\n",
       "\n",
       "// Listen for the clearing of the current output cell\n",
       "var outputEl = gd.closest('.output');\n",
       "if (outputEl) {{\n",
       "    x.observe(outputEl, {childList: true});\n",
       "}}\n",
       "\n",
       "                        })                };                });            </script>        </div>"
      ]
     },
     "metadata": {},
     "output_type": "display_data"
    }
   ],
   "source": [
    "df.iplot(kind='bubble',x='A',y='B',size='C')"
   ]
  },
  {
   "cell_type": "markdown",
   "metadata": {},
   "source": [
    "## scatter_matrix()\n",
    "\n",
    "Similar to sns.pairplot()"
   ]
  },
  {
   "cell_type": "code",
   "execution_count": 20,
   "metadata": {},
   "outputs": [
    {
     "data": {
      "application/vnd.plotly.v1+json": {
       "config": {
        "linkText": "Export to plot.ly",
        "plotlyServerURL": "https://plot.ly",
        "showLink": true
       },
       "data": [
        {
         "histfunc": "count",
         "histnorm": "",
         "marker": {
          "color": "rgba(255, 153, 51, 1.0)",
          "line": {
           "color": "#4D5663",
           "width": 1.3
          }
         },
         "name": "A",
         "nbinsx": 10,
         "opacity": 0.8,
         "orientation": "v",
         "type": "histogram",
         "x": [
          0.5543778778007974,
          1.305477680709373,
          -0.024430440104519096,
          -2.215780260803809,
          2.0311597958353804,
          -0.4640646961126891,
          0.8170695248510517,
          -0.7028901071685868,
          -1.3491332354884638,
          -0.6161054436764591,
          -0.9280833246496767,
          -0.202066973522514,
          -0.21977179427645022,
          -1.0499809344704083,
          -0.5538206199663367,
          0.2265782866540906,
          -1.281844393909573,
          1.2908776366987078,
          0.18933031627514868,
          1.3223490944050604,
          -0.6917365578725994,
          -0.5431131287020351,
          -0.2909553413115204,
          1.0750396385991803,
          0.7429454183000217,
          0.22129435093050254,
          -0.8614967063028686,
          -1.1268504523534668,
          0.7849954275435155,
          -2.0462048630969756,
          -0.008315388606309645,
          -0.18690885675627897,
          -0.7438181606657309,
          0.15288541099547315,
          0.014475441184176124,
          0.14950478033843956,
          -0.8196188460104581,
          0.6817811904730309,
          -1.2529214477062713,
          0.9734419093151444,
          0.46920101432825234,
          -1.8738939153410312,
          -1.0442171806553078,
          -0.38907289675682377,
          0.3414085214985565,
          -0.12856373579884875,
          0.7687266580761056,
          -1.054510339601767,
          -1.3749782443374008,
          0.08569403027435128,
          -0.5857738419042354,
          -1.7400601235515123,
          -0.03888180835654369,
          1.5662535457997817,
          -1.135373142936974,
          -1.1788653754026897,
          0.9584474836768704,
          0.8452506568614417,
          1.4097083184823593,
          1.380708985476826,
          -1.3203287612461103,
          -0.38364821453678444,
          -0.9971480233412237,
          0.3380732888858674,
          0.16534288637466557,
          -1.8140009513685151,
          0.9591220114764414,
          -0.7781011149097469,
          -0.9474226100958619,
          1.2943556874594229,
          0.1767544740810032,
          0.16052773335204457,
          -0.015433744952918096,
          -0.396594278243572,
          0.0392082424630884,
          -0.27494729328742556,
          0.8543890775430171,
          -0.17733028237964166,
          -1.0041492512236738,
          -0.3683532174905001,
          -0.4573037611863631,
          0.40586150069244475,
          0.7486343120609291,
          -1.009040149912704,
          -1.0528459653868723,
          -0.7337506006203001,
          0.8784811637364917,
          -1.2029475450319733,
          0.5139496552971384,
          0.016740108317212347,
          1.504783869463037,
          0.26307969919951585,
          0.732239718818574,
          0.12788599762890387,
          0.28310262019622595,
          0.37445293983738454,
          -0.802281753308722,
          -0.3215480974218836,
          0.030026716197300258,
          0.8956302931209041
         ],
         "xaxis": "x",
         "yaxis": "y"
        },
        {
         "line": {
          "color": "rgba(128, 128, 128, 1.0)",
          "dash": "solid",
          "shape": "linear",
          "width": 1.3
         },
         "marker": {
          "size": 2,
          "symbol": "circle"
         },
         "mode": "markers",
         "name": "A",
         "text": "",
         "type": "scatter",
         "x": [
          0.6573420948764968,
          0.10927452064301324,
          -1.1693955571656995,
          0.27038277765157015,
          -0.6334428219861441,
          -0.7310049423608668,
          -0.9061497273341353,
          -0.17952398194820196,
          0.5290628366347644,
          -0.3277282850274606,
          0.4805066939717914,
          0.4305331075124773,
          1.5367349716397587,
          0.9288429958501185,
          -0.13154094045274825,
          -0.008054556044534996,
          -0.3549430884093958,
          -0.5518746001809784,
          -0.3744331900872491,
          -1.1466740102851765,
          0.42116918545774723,
          -1.2433821954666222,
          0.5342388046341497,
          -1.2576208065547367,
          -0.22244895651178917,
          1.3712309698798104,
          -0.5502388311820707,
          -1.5928047353411585,
          0.13055640769860827,
          0.9981990385975217,
          -0.7336616425525483,
          0.4351102368339564,
          -0.32225790472622995,
          0.7413449967439579,
          0.3721174073425647,
          0.512721239719747,
          -0.740110741950452,
          0.6957972672159145,
          0.830729579395018,
          0.3887161572657043,
          0.6150346953707452,
          -0.5082427724892878,
          -0.49489182061779347,
          -0.01716986251555328,
          2.3602710200722505,
          -0.8218874927980011,
          0.22427309131500953,
          -0.29005880893778097,
          1.1779260056622485,
          -0.11748454801166518,
          0.3402397024055858,
          -0.35552836385523023,
          -0.16451996357588944,
          0.7034108409217701,
          0.477435014841578,
          1.1923449016301306,
          0.2965107406624185,
          0.46063736138339956,
          -1.0508179558055617,
          0.9783239970892182,
          -0.6237161393238063,
          -0.9411186378701619,
          0.8606564080610469,
          -0.8956632154241032,
          -0.0014160494534910955,
          -2.7962656734900455,
          -1.11910796542192,
          -1.2596609578746518,
          -0.1491127134080697,
          -1.824555021548616,
          -0.4624946856160559,
          -0.36554135435135815,
          1.2474035413162488,
          0.5151989771478599,
          -0.48799114484926626,
          0.9900683597616949,
          -0.32106797524051484,
          -0.9560897765749078,
          1.0444631985284405,
          0.1693601699087248,
          -0.1770841413625548,
          0.7422150630812716,
          0.0691231084306441,
          1.6744750921176692,
          -0.49391613899722053,
          -1.1450714835966944,
          1.8517986856387725,
          -0.3470835160544637,
          0.017777108580660606,
          0.6695030039630508,
          0.9362583269580034,
          -0.007334188774526295,
          -2.110221712510784,
          0.22241278040537338,
          0.07030621148623364,
          -0.9278741288272946,
          -0.5190491244263271,
          0.49593328011174986,
          -1.5689689364140202,
          1.638871879947243
         ],
         "xaxis": "x2",
         "y": [
          0.5543778778007974,
          1.305477680709373,
          -0.024430440104519096,
          -2.215780260803809,
          2.0311597958353804,
          -0.4640646961126891,
          0.8170695248510517,
          -0.7028901071685868,
          -1.3491332354884638,
          -0.6161054436764591,
          -0.9280833246496767,
          -0.202066973522514,
          -0.21977179427645022,
          -1.0499809344704083,
          -0.5538206199663367,
          0.2265782866540906,
          -1.281844393909573,
          1.2908776366987078,
          0.18933031627514868,
          1.3223490944050604,
          -0.6917365578725994,
          -0.5431131287020351,
          -0.2909553413115204,
          1.0750396385991803,
          0.7429454183000217,
          0.22129435093050254,
          -0.8614967063028686,
          -1.1268504523534668,
          0.7849954275435155,
          -2.0462048630969756,
          -0.008315388606309645,
          -0.18690885675627897,
          -0.7438181606657309,
          0.15288541099547315,
          0.014475441184176124,
          0.14950478033843956,
          -0.8196188460104581,
          0.6817811904730309,
          -1.2529214477062713,
          0.9734419093151444,
          0.46920101432825234,
          -1.8738939153410312,
          -1.0442171806553078,
          -0.38907289675682377,
          0.3414085214985565,
          -0.12856373579884875,
          0.7687266580761056,
          -1.054510339601767,
          -1.3749782443374008,
          0.08569403027435128,
          -0.5857738419042354,
          -1.7400601235515123,
          -0.03888180835654369,
          1.5662535457997817,
          -1.135373142936974,
          -1.1788653754026897,
          0.9584474836768704,
          0.8452506568614417,
          1.4097083184823593,
          1.380708985476826,
          -1.3203287612461103,
          -0.38364821453678444,
          -0.9971480233412237,
          0.3380732888858674,
          0.16534288637466557,
          -1.8140009513685151,
          0.9591220114764414,
          -0.7781011149097469,
          -0.9474226100958619,
          1.2943556874594229,
          0.1767544740810032,
          0.16052773335204457,
          -0.015433744952918096,
          -0.396594278243572,
          0.0392082424630884,
          -0.27494729328742556,
          0.8543890775430171,
          -0.17733028237964166,
          -1.0041492512236738,
          -0.3683532174905001,
          -0.4573037611863631,
          0.40586150069244475,
          0.7486343120609291,
          -1.009040149912704,
          -1.0528459653868723,
          -0.7337506006203001,
          0.8784811637364917,
          -1.2029475450319733,
          0.5139496552971384,
          0.016740108317212347,
          1.504783869463037,
          0.26307969919951585,
          0.732239718818574,
          0.12788599762890387,
          0.28310262019622595,
          0.37445293983738454,
          -0.802281753308722,
          -0.3215480974218836,
          0.030026716197300258,
          0.8956302931209041
         ],
         "yaxis": "y2"
        },
        {
         "line": {
          "color": "rgba(128, 128, 128, 1.0)",
          "dash": "solid",
          "shape": "linear",
          "width": 1.3
         },
         "marker": {
          "size": 2,
          "symbol": "circle"
         },
         "mode": "markers",
         "name": "A",
         "text": "",
         "type": "scatter",
         "x": [
          0.7244304689755025,
          -1.533983970442844,
          -0.8551965324693319,
          -0.21842396186050003,
          -0.8532533117021437,
          -0.41166768307331203,
          0.7899538959392478,
          0.7390443968383061,
          -0.1650409867083505,
          2.3192654117931517,
          0.19235720643663545,
          -0.3527494759354997,
          0.5379148935264183,
          1.151835522011878,
          0.410395706493336,
          -0.11322677357340596,
          -1.46052207468903,
          -2.1648591394336982,
          -0.6525447916866529,
          -0.9100413446513409,
          -0.747466205750414,
          1.1475769101042284,
          -0.49641937662382046,
          0.7076411173739081,
          0.6912206026375171,
          0.11950304092223074,
          1.370187530388152,
          0.11643952252661999,
          -1.2336454589240649,
          -0.11690834690009214,
          2.3758572522107984,
          1.1843058184002344,
          0.3765039550324145,
          0.7198036996826873,
          0.9785538917325063,
          -2.016234657312846,
          0.10617672351885425,
          2.0123560844756794,
          0.9153310454913948,
          -0.18378483417770797,
          0.23969376760187158,
          0.6791877201714943,
          0.9573132623988388,
          -1.0464448050501058,
          -0.3449411634488827,
          -0.3926197060978508,
          -0.9426043186309948,
          0.09939814360656844,
          -1.954695379723464,
          0.14046890726213504,
          -0.8921357411717747,
          -1.9039040898333706,
          0.695723707567566,
          -0.10598952610412118,
          0.4169694256325223,
          0.635967656503169,
          0.4789638471760461,
          1.2734421046589668,
          0.7186745083012429,
          1.2563299081568011,
          -0.33214823963395507,
          -0.9656841776341377,
          2.289413173500102,
          1.3092990926850652,
          -0.892576509571412,
          0.20724766002262104,
          0.7764749480109313,
          -1.248379330337918,
          -0.5032037675966533,
          -1.5039078981565954,
          -0.4207475623140223,
          1.6036727162295665,
          -0.37639518481106476,
          1.239601224875782,
          0.6741355989888205,
          0.08936993933782973,
          0.10123310095520902,
          0.768381792319711,
          -0.9686989011246583,
          1.7946005838742298,
          3.0969375898602385,
          -1.4711474979283572,
          -1.0202609189901672,
          0.7648994507480035,
          -1.0125010975608562,
          0.9283353995832332,
          -0.03823273735705004,
          1.009838122694425,
          -1.1170490909926611,
          0.798685997086948,
          -0.49173757424374465,
          -0.7952774759570184,
          -0.7987505975547264,
          0.5358047436783937,
          -0.18837515610341052,
          -0.5430887201824659,
          -0.294189176186617,
          -2.24606624069467,
          -1.508441107667698,
          -0.5262834046440897
         ],
         "xaxis": "x3",
         "y": [
          0.5543778778007974,
          1.305477680709373,
          -0.024430440104519096,
          -2.215780260803809,
          2.0311597958353804,
          -0.4640646961126891,
          0.8170695248510517,
          -0.7028901071685868,
          -1.3491332354884638,
          -0.6161054436764591,
          -0.9280833246496767,
          -0.202066973522514,
          -0.21977179427645022,
          -1.0499809344704083,
          -0.5538206199663367,
          0.2265782866540906,
          -1.281844393909573,
          1.2908776366987078,
          0.18933031627514868,
          1.3223490944050604,
          -0.6917365578725994,
          -0.5431131287020351,
          -0.2909553413115204,
          1.0750396385991803,
          0.7429454183000217,
          0.22129435093050254,
          -0.8614967063028686,
          -1.1268504523534668,
          0.7849954275435155,
          -2.0462048630969756,
          -0.008315388606309645,
          -0.18690885675627897,
          -0.7438181606657309,
          0.15288541099547315,
          0.014475441184176124,
          0.14950478033843956,
          -0.8196188460104581,
          0.6817811904730309,
          -1.2529214477062713,
          0.9734419093151444,
          0.46920101432825234,
          -1.8738939153410312,
          -1.0442171806553078,
          -0.38907289675682377,
          0.3414085214985565,
          -0.12856373579884875,
          0.7687266580761056,
          -1.054510339601767,
          -1.3749782443374008,
          0.08569403027435128,
          -0.5857738419042354,
          -1.7400601235515123,
          -0.03888180835654369,
          1.5662535457997817,
          -1.135373142936974,
          -1.1788653754026897,
          0.9584474836768704,
          0.8452506568614417,
          1.4097083184823593,
          1.380708985476826,
          -1.3203287612461103,
          -0.38364821453678444,
          -0.9971480233412237,
          0.3380732888858674,
          0.16534288637466557,
          -1.8140009513685151,
          0.9591220114764414,
          -0.7781011149097469,
          -0.9474226100958619,
          1.2943556874594229,
          0.1767544740810032,
          0.16052773335204457,
          -0.015433744952918096,
          -0.396594278243572,
          0.0392082424630884,
          -0.27494729328742556,
          0.8543890775430171,
          -0.17733028237964166,
          -1.0041492512236738,
          -0.3683532174905001,
          -0.4573037611863631,
          0.40586150069244475,
          0.7486343120609291,
          -1.009040149912704,
          -1.0528459653868723,
          -0.7337506006203001,
          0.8784811637364917,
          -1.2029475450319733,
          0.5139496552971384,
          0.016740108317212347,
          1.504783869463037,
          0.26307969919951585,
          0.732239718818574,
          0.12788599762890387,
          0.28310262019622595,
          0.37445293983738454,
          -0.802281753308722,
          -0.3215480974218836,
          0.030026716197300258,
          0.8956302931209041
         ],
         "yaxis": "y3"
        },
        {
         "line": {
          "color": "rgba(128, 128, 128, 1.0)",
          "dash": "solid",
          "shape": "linear",
          "width": 1.3
         },
         "marker": {
          "size": 2,
          "symbol": "circle"
         },
         "mode": "markers",
         "name": "A",
         "text": "",
         "type": "scatter",
         "x": [
          1.3372397297971201,
          -0.4239591565658293,
          -0.04566719693012255,
          -0.6338615398074309,
          1.1059869163631222,
          1.8042419566854349,
          -0.24881889324433362,
          0.2607699178118119,
          0.02341678852797691,
          -2.159594375405308,
          2.0797364103026155,
          -1.6157114222770763,
          0.6098428782924017,
          0.5431891448450611,
          -0.10894230792445356,
          1.784299612239051,
          0.678682894159494,
          -0.398063553637055,
          0.43304685945250826,
          0.712177085232851,
          -1.893397794540836,
          0.2926069391483394,
          2.709939056186151,
          -0.8496608247163772,
          0.12646113627954034,
          -0.5997649116260788,
          -1.4117130705440308,
          -0.702625003571693,
          0.6757784449777456,
          1.0448164740450137,
          1.155383021285753,
          1.1111111902223914,
          0.24668935610102122,
          -1.7836251190447499,
          0.07330848506865163,
          0.4273459843453372,
          0.2516215632532902,
          -0.16793153037302008,
          -0.2000992425317462,
          -0.7850705490039983,
          0.46437895752502273,
          -0.3288488640935351,
          0.8962441284165542,
          -0.8336462068189796,
          0.7827381799073114,
          -0.08882544028654762,
          -0.5216291721770336,
          0.46088055365299213,
          0.7418478067740597,
          -0.2606875309478886,
          -0.5708560445284009,
          0.846139874600263,
          0.43890639741737797,
          -0.9034997729015851,
          -1.4106766674539206,
          1.0362046866218027,
          0.5116404533941629,
          -0.13689059577645113,
          -0.7987242743683536,
          -0.5015358701748261,
          -0.09854051256516917,
          0.8210305538185133,
          -0.5903394526588178,
          -0.2338492678262089,
          0.6433892315972654,
          -0.9566945702143193,
          0.7228124520441599,
          0.5212823204776359,
          -0.4894967549680151,
          -0.5061085403869342,
          0.8827859704308412,
          2.181521214758214,
          -0.22250483103476248,
          -1.9421970407362354,
          0.14512083275490079,
          0.6014447674404136,
          0.6316564277278254,
          0.4863855977607956,
          0.6449654222902111,
          0.720886499996344,
          0.46705598497826933,
          -0.012490643623810055,
          0.5959626629484281,
          0.0301433968987179,
          -1.4804705709374957,
          0.08518040652594563,
          1.1387552565936325,
          0.8996644682564086,
          -0.6720457439718555,
          0.5333882648621263,
          0.673055497441797,
          2.0372985174545204,
          1.2247631980944775,
          -1.0900822923249098,
          1.3031183441348042,
          -2.3977857657732726,
          0.2604034295760553,
          0.0036178012856307694,
          -0.5409273384744031,
          -0.7529943354725642
         ],
         "xaxis": "x4",
         "y": [
          0.5543778778007974,
          1.305477680709373,
          -0.024430440104519096,
          -2.215780260803809,
          2.0311597958353804,
          -0.4640646961126891,
          0.8170695248510517,
          -0.7028901071685868,
          -1.3491332354884638,
          -0.6161054436764591,
          -0.9280833246496767,
          -0.202066973522514,
          -0.21977179427645022,
          -1.0499809344704083,
          -0.5538206199663367,
          0.2265782866540906,
          -1.281844393909573,
          1.2908776366987078,
          0.18933031627514868,
          1.3223490944050604,
          -0.6917365578725994,
          -0.5431131287020351,
          -0.2909553413115204,
          1.0750396385991803,
          0.7429454183000217,
          0.22129435093050254,
          -0.8614967063028686,
          -1.1268504523534668,
          0.7849954275435155,
          -2.0462048630969756,
          -0.008315388606309645,
          -0.18690885675627897,
          -0.7438181606657309,
          0.15288541099547315,
          0.014475441184176124,
          0.14950478033843956,
          -0.8196188460104581,
          0.6817811904730309,
          -1.2529214477062713,
          0.9734419093151444,
          0.46920101432825234,
          -1.8738939153410312,
          -1.0442171806553078,
          -0.38907289675682377,
          0.3414085214985565,
          -0.12856373579884875,
          0.7687266580761056,
          -1.054510339601767,
          -1.3749782443374008,
          0.08569403027435128,
          -0.5857738419042354,
          -1.7400601235515123,
          -0.03888180835654369,
          1.5662535457997817,
          -1.135373142936974,
          -1.1788653754026897,
          0.9584474836768704,
          0.8452506568614417,
          1.4097083184823593,
          1.380708985476826,
          -1.3203287612461103,
          -0.38364821453678444,
          -0.9971480233412237,
          0.3380732888858674,
          0.16534288637466557,
          -1.8140009513685151,
          0.9591220114764414,
          -0.7781011149097469,
          -0.9474226100958619,
          1.2943556874594229,
          0.1767544740810032,
          0.16052773335204457,
          -0.015433744952918096,
          -0.396594278243572,
          0.0392082424630884,
          -0.27494729328742556,
          0.8543890775430171,
          -0.17733028237964166,
          -1.0041492512236738,
          -0.3683532174905001,
          -0.4573037611863631,
          0.40586150069244475,
          0.7486343120609291,
          -1.009040149912704,
          -1.0528459653868723,
          -0.7337506006203001,
          0.8784811637364917,
          -1.2029475450319733,
          0.5139496552971384,
          0.016740108317212347,
          1.504783869463037,
          0.26307969919951585,
          0.732239718818574,
          0.12788599762890387,
          0.28310262019622595,
          0.37445293983738454,
          -0.802281753308722,
          -0.3215480974218836,
          0.030026716197300258,
          0.8956302931209041
         ],
         "yaxis": "y4"
        },
        {
         "line": {
          "color": "rgba(128, 128, 128, 1.0)",
          "dash": "solid",
          "shape": "linear",
          "width": 1.3
         },
         "marker": {
          "size": 2,
          "symbol": "circle"
         },
         "mode": "markers",
         "name": "B",
         "text": "",
         "type": "scatter",
         "x": [
          0.5543778778007974,
          1.305477680709373,
          -0.024430440104519096,
          -2.215780260803809,
          2.0311597958353804,
          -0.4640646961126891,
          0.8170695248510517,
          -0.7028901071685868,
          -1.3491332354884638,
          -0.6161054436764591,
          -0.9280833246496767,
          -0.202066973522514,
          -0.21977179427645022,
          -1.0499809344704083,
          -0.5538206199663367,
          0.2265782866540906,
          -1.281844393909573,
          1.2908776366987078,
          0.18933031627514868,
          1.3223490944050604,
          -0.6917365578725994,
          -0.5431131287020351,
          -0.2909553413115204,
          1.0750396385991803,
          0.7429454183000217,
          0.22129435093050254,
          -0.8614967063028686,
          -1.1268504523534668,
          0.7849954275435155,
          -2.0462048630969756,
          -0.008315388606309645,
          -0.18690885675627897,
          -0.7438181606657309,
          0.15288541099547315,
          0.014475441184176124,
          0.14950478033843956,
          -0.8196188460104581,
          0.6817811904730309,
          -1.2529214477062713,
          0.9734419093151444,
          0.46920101432825234,
          -1.8738939153410312,
          -1.0442171806553078,
          -0.38907289675682377,
          0.3414085214985565,
          -0.12856373579884875,
          0.7687266580761056,
          -1.054510339601767,
          -1.3749782443374008,
          0.08569403027435128,
          -0.5857738419042354,
          -1.7400601235515123,
          -0.03888180835654369,
          1.5662535457997817,
          -1.135373142936974,
          -1.1788653754026897,
          0.9584474836768704,
          0.8452506568614417,
          1.4097083184823593,
          1.380708985476826,
          -1.3203287612461103,
          -0.38364821453678444,
          -0.9971480233412237,
          0.3380732888858674,
          0.16534288637466557,
          -1.8140009513685151,
          0.9591220114764414,
          -0.7781011149097469,
          -0.9474226100958619,
          1.2943556874594229,
          0.1767544740810032,
          0.16052773335204457,
          -0.015433744952918096,
          -0.396594278243572,
          0.0392082424630884,
          -0.27494729328742556,
          0.8543890775430171,
          -0.17733028237964166,
          -1.0041492512236738,
          -0.3683532174905001,
          -0.4573037611863631,
          0.40586150069244475,
          0.7486343120609291,
          -1.009040149912704,
          -1.0528459653868723,
          -0.7337506006203001,
          0.8784811637364917,
          -1.2029475450319733,
          0.5139496552971384,
          0.016740108317212347,
          1.504783869463037,
          0.26307969919951585,
          0.732239718818574,
          0.12788599762890387,
          0.28310262019622595,
          0.37445293983738454,
          -0.802281753308722,
          -0.3215480974218836,
          0.030026716197300258,
          0.8956302931209041
         ],
         "xaxis": "x5",
         "y": [
          0.6573420948764968,
          0.10927452064301324,
          -1.1693955571656995,
          0.27038277765157015,
          -0.6334428219861441,
          -0.7310049423608668,
          -0.9061497273341353,
          -0.17952398194820196,
          0.5290628366347644,
          -0.3277282850274606,
          0.4805066939717914,
          0.4305331075124773,
          1.5367349716397587,
          0.9288429958501185,
          -0.13154094045274825,
          -0.008054556044534996,
          -0.3549430884093958,
          -0.5518746001809784,
          -0.3744331900872491,
          -1.1466740102851765,
          0.42116918545774723,
          -1.2433821954666222,
          0.5342388046341497,
          -1.2576208065547367,
          -0.22244895651178917,
          1.3712309698798104,
          -0.5502388311820707,
          -1.5928047353411585,
          0.13055640769860827,
          0.9981990385975217,
          -0.7336616425525483,
          0.4351102368339564,
          -0.32225790472622995,
          0.7413449967439579,
          0.3721174073425647,
          0.512721239719747,
          -0.740110741950452,
          0.6957972672159145,
          0.830729579395018,
          0.3887161572657043,
          0.6150346953707452,
          -0.5082427724892878,
          -0.49489182061779347,
          -0.01716986251555328,
          2.3602710200722505,
          -0.8218874927980011,
          0.22427309131500953,
          -0.29005880893778097,
          1.1779260056622485,
          -0.11748454801166518,
          0.3402397024055858,
          -0.35552836385523023,
          -0.16451996357588944,
          0.7034108409217701,
          0.477435014841578,
          1.1923449016301306,
          0.2965107406624185,
          0.46063736138339956,
          -1.0508179558055617,
          0.9783239970892182,
          -0.6237161393238063,
          -0.9411186378701619,
          0.8606564080610469,
          -0.8956632154241032,
          -0.0014160494534910955,
          -2.7962656734900455,
          -1.11910796542192,
          -1.2596609578746518,
          -0.1491127134080697,
          -1.824555021548616,
          -0.4624946856160559,
          -0.36554135435135815,
          1.2474035413162488,
          0.5151989771478599,
          -0.48799114484926626,
          0.9900683597616949,
          -0.32106797524051484,
          -0.9560897765749078,
          1.0444631985284405,
          0.1693601699087248,
          -0.1770841413625548,
          0.7422150630812716,
          0.0691231084306441,
          1.6744750921176692,
          -0.49391613899722053,
          -1.1450714835966944,
          1.8517986856387725,
          -0.3470835160544637,
          0.017777108580660606,
          0.6695030039630508,
          0.9362583269580034,
          -0.007334188774526295,
          -2.110221712510784,
          0.22241278040537338,
          0.07030621148623364,
          -0.9278741288272946,
          -0.5190491244263271,
          0.49593328011174986,
          -1.5689689364140202,
          1.638871879947243
         ],
         "yaxis": "y5"
        },
        {
         "histfunc": "count",
         "histnorm": "",
         "marker": {
          "color": "rgba(55, 128, 191, 1.0)",
          "line": {
           "color": "#4D5663",
           "width": 1.3
          }
         },
         "name": "B",
         "nbinsx": 10,
         "opacity": 0.8,
         "orientation": "v",
         "type": "histogram",
         "x": [
          0.6573420948764968,
          0.10927452064301324,
          -1.1693955571656995,
          0.27038277765157015,
          -0.6334428219861441,
          -0.7310049423608668,
          -0.9061497273341353,
          -0.17952398194820196,
          0.5290628366347644,
          -0.3277282850274606,
          0.4805066939717914,
          0.4305331075124773,
          1.5367349716397587,
          0.9288429958501185,
          -0.13154094045274825,
          -0.008054556044534996,
          -0.3549430884093958,
          -0.5518746001809784,
          -0.3744331900872491,
          -1.1466740102851765,
          0.42116918545774723,
          -1.2433821954666222,
          0.5342388046341497,
          -1.2576208065547367,
          -0.22244895651178917,
          1.3712309698798104,
          -0.5502388311820707,
          -1.5928047353411585,
          0.13055640769860827,
          0.9981990385975217,
          -0.7336616425525483,
          0.4351102368339564,
          -0.32225790472622995,
          0.7413449967439579,
          0.3721174073425647,
          0.512721239719747,
          -0.740110741950452,
          0.6957972672159145,
          0.830729579395018,
          0.3887161572657043,
          0.6150346953707452,
          -0.5082427724892878,
          -0.49489182061779347,
          -0.01716986251555328,
          2.3602710200722505,
          -0.8218874927980011,
          0.22427309131500953,
          -0.29005880893778097,
          1.1779260056622485,
          -0.11748454801166518,
          0.3402397024055858,
          -0.35552836385523023,
          -0.16451996357588944,
          0.7034108409217701,
          0.477435014841578,
          1.1923449016301306,
          0.2965107406624185,
          0.46063736138339956,
          -1.0508179558055617,
          0.9783239970892182,
          -0.6237161393238063,
          -0.9411186378701619,
          0.8606564080610469,
          -0.8956632154241032,
          -0.0014160494534910955,
          -2.7962656734900455,
          -1.11910796542192,
          -1.2596609578746518,
          -0.1491127134080697,
          -1.824555021548616,
          -0.4624946856160559,
          -0.36554135435135815,
          1.2474035413162488,
          0.5151989771478599,
          -0.48799114484926626,
          0.9900683597616949,
          -0.32106797524051484,
          -0.9560897765749078,
          1.0444631985284405,
          0.1693601699087248,
          -0.1770841413625548,
          0.7422150630812716,
          0.0691231084306441,
          1.6744750921176692,
          -0.49391613899722053,
          -1.1450714835966944,
          1.8517986856387725,
          -0.3470835160544637,
          0.017777108580660606,
          0.6695030039630508,
          0.9362583269580034,
          -0.007334188774526295,
          -2.110221712510784,
          0.22241278040537338,
          0.07030621148623364,
          -0.9278741288272946,
          -0.5190491244263271,
          0.49593328011174986,
          -1.5689689364140202,
          1.638871879947243
         ],
         "xaxis": "x6",
         "yaxis": "y6"
        },
        {
         "line": {
          "color": "rgba(128, 128, 128, 1.0)",
          "dash": "solid",
          "shape": "linear",
          "width": 1.3
         },
         "marker": {
          "size": 2,
          "symbol": "circle"
         },
         "mode": "markers",
         "name": "B",
         "text": "",
         "type": "scatter",
         "x": [
          0.7244304689755025,
          -1.533983970442844,
          -0.8551965324693319,
          -0.21842396186050003,
          -0.8532533117021437,
          -0.41166768307331203,
          0.7899538959392478,
          0.7390443968383061,
          -0.1650409867083505,
          2.3192654117931517,
          0.19235720643663545,
          -0.3527494759354997,
          0.5379148935264183,
          1.151835522011878,
          0.410395706493336,
          -0.11322677357340596,
          -1.46052207468903,
          -2.1648591394336982,
          -0.6525447916866529,
          -0.9100413446513409,
          -0.747466205750414,
          1.1475769101042284,
          -0.49641937662382046,
          0.7076411173739081,
          0.6912206026375171,
          0.11950304092223074,
          1.370187530388152,
          0.11643952252661999,
          -1.2336454589240649,
          -0.11690834690009214,
          2.3758572522107984,
          1.1843058184002344,
          0.3765039550324145,
          0.7198036996826873,
          0.9785538917325063,
          -2.016234657312846,
          0.10617672351885425,
          2.0123560844756794,
          0.9153310454913948,
          -0.18378483417770797,
          0.23969376760187158,
          0.6791877201714943,
          0.9573132623988388,
          -1.0464448050501058,
          -0.3449411634488827,
          -0.3926197060978508,
          -0.9426043186309948,
          0.09939814360656844,
          -1.954695379723464,
          0.14046890726213504,
          -0.8921357411717747,
          -1.9039040898333706,
          0.695723707567566,
          -0.10598952610412118,
          0.4169694256325223,
          0.635967656503169,
          0.4789638471760461,
          1.2734421046589668,
          0.7186745083012429,
          1.2563299081568011,
          -0.33214823963395507,
          -0.9656841776341377,
          2.289413173500102,
          1.3092990926850652,
          -0.892576509571412,
          0.20724766002262104,
          0.7764749480109313,
          -1.248379330337918,
          -0.5032037675966533,
          -1.5039078981565954,
          -0.4207475623140223,
          1.6036727162295665,
          -0.37639518481106476,
          1.239601224875782,
          0.6741355989888205,
          0.08936993933782973,
          0.10123310095520902,
          0.768381792319711,
          -0.9686989011246583,
          1.7946005838742298,
          3.0969375898602385,
          -1.4711474979283572,
          -1.0202609189901672,
          0.7648994507480035,
          -1.0125010975608562,
          0.9283353995832332,
          -0.03823273735705004,
          1.009838122694425,
          -1.1170490909926611,
          0.798685997086948,
          -0.49173757424374465,
          -0.7952774759570184,
          -0.7987505975547264,
          0.5358047436783937,
          -0.18837515610341052,
          -0.5430887201824659,
          -0.294189176186617,
          -2.24606624069467,
          -1.508441107667698,
          -0.5262834046440897
         ],
         "xaxis": "x7",
         "y": [
          0.6573420948764968,
          0.10927452064301324,
          -1.1693955571656995,
          0.27038277765157015,
          -0.6334428219861441,
          -0.7310049423608668,
          -0.9061497273341353,
          -0.17952398194820196,
          0.5290628366347644,
          -0.3277282850274606,
          0.4805066939717914,
          0.4305331075124773,
          1.5367349716397587,
          0.9288429958501185,
          -0.13154094045274825,
          -0.008054556044534996,
          -0.3549430884093958,
          -0.5518746001809784,
          -0.3744331900872491,
          -1.1466740102851765,
          0.42116918545774723,
          -1.2433821954666222,
          0.5342388046341497,
          -1.2576208065547367,
          -0.22244895651178917,
          1.3712309698798104,
          -0.5502388311820707,
          -1.5928047353411585,
          0.13055640769860827,
          0.9981990385975217,
          -0.7336616425525483,
          0.4351102368339564,
          -0.32225790472622995,
          0.7413449967439579,
          0.3721174073425647,
          0.512721239719747,
          -0.740110741950452,
          0.6957972672159145,
          0.830729579395018,
          0.3887161572657043,
          0.6150346953707452,
          -0.5082427724892878,
          -0.49489182061779347,
          -0.01716986251555328,
          2.3602710200722505,
          -0.8218874927980011,
          0.22427309131500953,
          -0.29005880893778097,
          1.1779260056622485,
          -0.11748454801166518,
          0.3402397024055858,
          -0.35552836385523023,
          -0.16451996357588944,
          0.7034108409217701,
          0.477435014841578,
          1.1923449016301306,
          0.2965107406624185,
          0.46063736138339956,
          -1.0508179558055617,
          0.9783239970892182,
          -0.6237161393238063,
          -0.9411186378701619,
          0.8606564080610469,
          -0.8956632154241032,
          -0.0014160494534910955,
          -2.7962656734900455,
          -1.11910796542192,
          -1.2596609578746518,
          -0.1491127134080697,
          -1.824555021548616,
          -0.4624946856160559,
          -0.36554135435135815,
          1.2474035413162488,
          0.5151989771478599,
          -0.48799114484926626,
          0.9900683597616949,
          -0.32106797524051484,
          -0.9560897765749078,
          1.0444631985284405,
          0.1693601699087248,
          -0.1770841413625548,
          0.7422150630812716,
          0.0691231084306441,
          1.6744750921176692,
          -0.49391613899722053,
          -1.1450714835966944,
          1.8517986856387725,
          -0.3470835160544637,
          0.017777108580660606,
          0.6695030039630508,
          0.9362583269580034,
          -0.007334188774526295,
          -2.110221712510784,
          0.22241278040537338,
          0.07030621148623364,
          -0.9278741288272946,
          -0.5190491244263271,
          0.49593328011174986,
          -1.5689689364140202,
          1.638871879947243
         ],
         "yaxis": "y7"
        },
        {
         "line": {
          "color": "rgba(128, 128, 128, 1.0)",
          "dash": "solid",
          "shape": "linear",
          "width": 1.3
         },
         "marker": {
          "size": 2,
          "symbol": "circle"
         },
         "mode": "markers",
         "name": "B",
         "text": "",
         "type": "scatter",
         "x": [
          1.3372397297971201,
          -0.4239591565658293,
          -0.04566719693012255,
          -0.6338615398074309,
          1.1059869163631222,
          1.8042419566854349,
          -0.24881889324433362,
          0.2607699178118119,
          0.02341678852797691,
          -2.159594375405308,
          2.0797364103026155,
          -1.6157114222770763,
          0.6098428782924017,
          0.5431891448450611,
          -0.10894230792445356,
          1.784299612239051,
          0.678682894159494,
          -0.398063553637055,
          0.43304685945250826,
          0.712177085232851,
          -1.893397794540836,
          0.2926069391483394,
          2.709939056186151,
          -0.8496608247163772,
          0.12646113627954034,
          -0.5997649116260788,
          -1.4117130705440308,
          -0.702625003571693,
          0.6757784449777456,
          1.0448164740450137,
          1.155383021285753,
          1.1111111902223914,
          0.24668935610102122,
          -1.7836251190447499,
          0.07330848506865163,
          0.4273459843453372,
          0.2516215632532902,
          -0.16793153037302008,
          -0.2000992425317462,
          -0.7850705490039983,
          0.46437895752502273,
          -0.3288488640935351,
          0.8962441284165542,
          -0.8336462068189796,
          0.7827381799073114,
          -0.08882544028654762,
          -0.5216291721770336,
          0.46088055365299213,
          0.7418478067740597,
          -0.2606875309478886,
          -0.5708560445284009,
          0.846139874600263,
          0.43890639741737797,
          -0.9034997729015851,
          -1.4106766674539206,
          1.0362046866218027,
          0.5116404533941629,
          -0.13689059577645113,
          -0.7987242743683536,
          -0.5015358701748261,
          -0.09854051256516917,
          0.8210305538185133,
          -0.5903394526588178,
          -0.2338492678262089,
          0.6433892315972654,
          -0.9566945702143193,
          0.7228124520441599,
          0.5212823204776359,
          -0.4894967549680151,
          -0.5061085403869342,
          0.8827859704308412,
          2.181521214758214,
          -0.22250483103476248,
          -1.9421970407362354,
          0.14512083275490079,
          0.6014447674404136,
          0.6316564277278254,
          0.4863855977607956,
          0.6449654222902111,
          0.720886499996344,
          0.46705598497826933,
          -0.012490643623810055,
          0.5959626629484281,
          0.0301433968987179,
          -1.4804705709374957,
          0.08518040652594563,
          1.1387552565936325,
          0.8996644682564086,
          -0.6720457439718555,
          0.5333882648621263,
          0.673055497441797,
          2.0372985174545204,
          1.2247631980944775,
          -1.0900822923249098,
          1.3031183441348042,
          -2.3977857657732726,
          0.2604034295760553,
          0.0036178012856307694,
          -0.5409273384744031,
          -0.7529943354725642
         ],
         "xaxis": "x8",
         "y": [
          0.6573420948764968,
          0.10927452064301324,
          -1.1693955571656995,
          0.27038277765157015,
          -0.6334428219861441,
          -0.7310049423608668,
          -0.9061497273341353,
          -0.17952398194820196,
          0.5290628366347644,
          -0.3277282850274606,
          0.4805066939717914,
          0.4305331075124773,
          1.5367349716397587,
          0.9288429958501185,
          -0.13154094045274825,
          -0.008054556044534996,
          -0.3549430884093958,
          -0.5518746001809784,
          -0.3744331900872491,
          -1.1466740102851765,
          0.42116918545774723,
          -1.2433821954666222,
          0.5342388046341497,
          -1.2576208065547367,
          -0.22244895651178917,
          1.3712309698798104,
          -0.5502388311820707,
          -1.5928047353411585,
          0.13055640769860827,
          0.9981990385975217,
          -0.7336616425525483,
          0.4351102368339564,
          -0.32225790472622995,
          0.7413449967439579,
          0.3721174073425647,
          0.512721239719747,
          -0.740110741950452,
          0.6957972672159145,
          0.830729579395018,
          0.3887161572657043,
          0.6150346953707452,
          -0.5082427724892878,
          -0.49489182061779347,
          -0.01716986251555328,
          2.3602710200722505,
          -0.8218874927980011,
          0.22427309131500953,
          -0.29005880893778097,
          1.1779260056622485,
          -0.11748454801166518,
          0.3402397024055858,
          -0.35552836385523023,
          -0.16451996357588944,
          0.7034108409217701,
          0.477435014841578,
          1.1923449016301306,
          0.2965107406624185,
          0.46063736138339956,
          -1.0508179558055617,
          0.9783239970892182,
          -0.6237161393238063,
          -0.9411186378701619,
          0.8606564080610469,
          -0.8956632154241032,
          -0.0014160494534910955,
          -2.7962656734900455,
          -1.11910796542192,
          -1.2596609578746518,
          -0.1491127134080697,
          -1.824555021548616,
          -0.4624946856160559,
          -0.36554135435135815,
          1.2474035413162488,
          0.5151989771478599,
          -0.48799114484926626,
          0.9900683597616949,
          -0.32106797524051484,
          -0.9560897765749078,
          1.0444631985284405,
          0.1693601699087248,
          -0.1770841413625548,
          0.7422150630812716,
          0.0691231084306441,
          1.6744750921176692,
          -0.49391613899722053,
          -1.1450714835966944,
          1.8517986856387725,
          -0.3470835160544637,
          0.017777108580660606,
          0.6695030039630508,
          0.9362583269580034,
          -0.007334188774526295,
          -2.110221712510784,
          0.22241278040537338,
          0.07030621148623364,
          -0.9278741288272946,
          -0.5190491244263271,
          0.49593328011174986,
          -1.5689689364140202,
          1.638871879947243
         ],
         "yaxis": "y8"
        },
        {
         "line": {
          "color": "rgba(128, 128, 128, 1.0)",
          "dash": "solid",
          "shape": "linear",
          "width": 1.3
         },
         "marker": {
          "size": 2,
          "symbol": "circle"
         },
         "mode": "markers",
         "name": "C",
         "text": "",
         "type": "scatter",
         "x": [
          0.5543778778007974,
          1.305477680709373,
          -0.024430440104519096,
          -2.215780260803809,
          2.0311597958353804,
          -0.4640646961126891,
          0.8170695248510517,
          -0.7028901071685868,
          -1.3491332354884638,
          -0.6161054436764591,
          -0.9280833246496767,
          -0.202066973522514,
          -0.21977179427645022,
          -1.0499809344704083,
          -0.5538206199663367,
          0.2265782866540906,
          -1.281844393909573,
          1.2908776366987078,
          0.18933031627514868,
          1.3223490944050604,
          -0.6917365578725994,
          -0.5431131287020351,
          -0.2909553413115204,
          1.0750396385991803,
          0.7429454183000217,
          0.22129435093050254,
          -0.8614967063028686,
          -1.1268504523534668,
          0.7849954275435155,
          -2.0462048630969756,
          -0.008315388606309645,
          -0.18690885675627897,
          -0.7438181606657309,
          0.15288541099547315,
          0.014475441184176124,
          0.14950478033843956,
          -0.8196188460104581,
          0.6817811904730309,
          -1.2529214477062713,
          0.9734419093151444,
          0.46920101432825234,
          -1.8738939153410312,
          -1.0442171806553078,
          -0.38907289675682377,
          0.3414085214985565,
          -0.12856373579884875,
          0.7687266580761056,
          -1.054510339601767,
          -1.3749782443374008,
          0.08569403027435128,
          -0.5857738419042354,
          -1.7400601235515123,
          -0.03888180835654369,
          1.5662535457997817,
          -1.135373142936974,
          -1.1788653754026897,
          0.9584474836768704,
          0.8452506568614417,
          1.4097083184823593,
          1.380708985476826,
          -1.3203287612461103,
          -0.38364821453678444,
          -0.9971480233412237,
          0.3380732888858674,
          0.16534288637466557,
          -1.8140009513685151,
          0.9591220114764414,
          -0.7781011149097469,
          -0.9474226100958619,
          1.2943556874594229,
          0.1767544740810032,
          0.16052773335204457,
          -0.015433744952918096,
          -0.396594278243572,
          0.0392082424630884,
          -0.27494729328742556,
          0.8543890775430171,
          -0.17733028237964166,
          -1.0041492512236738,
          -0.3683532174905001,
          -0.4573037611863631,
          0.40586150069244475,
          0.7486343120609291,
          -1.009040149912704,
          -1.0528459653868723,
          -0.7337506006203001,
          0.8784811637364917,
          -1.2029475450319733,
          0.5139496552971384,
          0.016740108317212347,
          1.504783869463037,
          0.26307969919951585,
          0.732239718818574,
          0.12788599762890387,
          0.28310262019622595,
          0.37445293983738454,
          -0.802281753308722,
          -0.3215480974218836,
          0.030026716197300258,
          0.8956302931209041
         ],
         "xaxis": "x9",
         "y": [
          0.7244304689755025,
          -1.533983970442844,
          -0.8551965324693319,
          -0.21842396186050003,
          -0.8532533117021437,
          -0.41166768307331203,
          0.7899538959392478,
          0.7390443968383061,
          -0.1650409867083505,
          2.3192654117931517,
          0.19235720643663545,
          -0.3527494759354997,
          0.5379148935264183,
          1.151835522011878,
          0.410395706493336,
          -0.11322677357340596,
          -1.46052207468903,
          -2.1648591394336982,
          -0.6525447916866529,
          -0.9100413446513409,
          -0.747466205750414,
          1.1475769101042284,
          -0.49641937662382046,
          0.7076411173739081,
          0.6912206026375171,
          0.11950304092223074,
          1.370187530388152,
          0.11643952252661999,
          -1.2336454589240649,
          -0.11690834690009214,
          2.3758572522107984,
          1.1843058184002344,
          0.3765039550324145,
          0.7198036996826873,
          0.9785538917325063,
          -2.016234657312846,
          0.10617672351885425,
          2.0123560844756794,
          0.9153310454913948,
          -0.18378483417770797,
          0.23969376760187158,
          0.6791877201714943,
          0.9573132623988388,
          -1.0464448050501058,
          -0.3449411634488827,
          -0.3926197060978508,
          -0.9426043186309948,
          0.09939814360656844,
          -1.954695379723464,
          0.14046890726213504,
          -0.8921357411717747,
          -1.9039040898333706,
          0.695723707567566,
          -0.10598952610412118,
          0.4169694256325223,
          0.635967656503169,
          0.4789638471760461,
          1.2734421046589668,
          0.7186745083012429,
          1.2563299081568011,
          -0.33214823963395507,
          -0.9656841776341377,
          2.289413173500102,
          1.3092990926850652,
          -0.892576509571412,
          0.20724766002262104,
          0.7764749480109313,
          -1.248379330337918,
          -0.5032037675966533,
          -1.5039078981565954,
          -0.4207475623140223,
          1.6036727162295665,
          -0.37639518481106476,
          1.239601224875782,
          0.6741355989888205,
          0.08936993933782973,
          0.10123310095520902,
          0.768381792319711,
          -0.9686989011246583,
          1.7946005838742298,
          3.0969375898602385,
          -1.4711474979283572,
          -1.0202609189901672,
          0.7648994507480035,
          -1.0125010975608562,
          0.9283353995832332,
          -0.03823273735705004,
          1.009838122694425,
          -1.1170490909926611,
          0.798685997086948,
          -0.49173757424374465,
          -0.7952774759570184,
          -0.7987505975547264,
          0.5358047436783937,
          -0.18837515610341052,
          -0.5430887201824659,
          -0.294189176186617,
          -2.24606624069467,
          -1.508441107667698,
          -0.5262834046440897
         ],
         "yaxis": "y9"
        },
        {
         "line": {
          "color": "rgba(128, 128, 128, 1.0)",
          "dash": "solid",
          "shape": "linear",
          "width": 1.3
         },
         "marker": {
          "size": 2,
          "symbol": "circle"
         },
         "mode": "markers",
         "name": "C",
         "text": "",
         "type": "scatter",
         "x": [
          0.6573420948764968,
          0.10927452064301324,
          -1.1693955571656995,
          0.27038277765157015,
          -0.6334428219861441,
          -0.7310049423608668,
          -0.9061497273341353,
          -0.17952398194820196,
          0.5290628366347644,
          -0.3277282850274606,
          0.4805066939717914,
          0.4305331075124773,
          1.5367349716397587,
          0.9288429958501185,
          -0.13154094045274825,
          -0.008054556044534996,
          -0.3549430884093958,
          -0.5518746001809784,
          -0.3744331900872491,
          -1.1466740102851765,
          0.42116918545774723,
          -1.2433821954666222,
          0.5342388046341497,
          -1.2576208065547367,
          -0.22244895651178917,
          1.3712309698798104,
          -0.5502388311820707,
          -1.5928047353411585,
          0.13055640769860827,
          0.9981990385975217,
          -0.7336616425525483,
          0.4351102368339564,
          -0.32225790472622995,
          0.7413449967439579,
          0.3721174073425647,
          0.512721239719747,
          -0.740110741950452,
          0.6957972672159145,
          0.830729579395018,
          0.3887161572657043,
          0.6150346953707452,
          -0.5082427724892878,
          -0.49489182061779347,
          -0.01716986251555328,
          2.3602710200722505,
          -0.8218874927980011,
          0.22427309131500953,
          -0.29005880893778097,
          1.1779260056622485,
          -0.11748454801166518,
          0.3402397024055858,
          -0.35552836385523023,
          -0.16451996357588944,
          0.7034108409217701,
          0.477435014841578,
          1.1923449016301306,
          0.2965107406624185,
          0.46063736138339956,
          -1.0508179558055617,
          0.9783239970892182,
          -0.6237161393238063,
          -0.9411186378701619,
          0.8606564080610469,
          -0.8956632154241032,
          -0.0014160494534910955,
          -2.7962656734900455,
          -1.11910796542192,
          -1.2596609578746518,
          -0.1491127134080697,
          -1.824555021548616,
          -0.4624946856160559,
          -0.36554135435135815,
          1.2474035413162488,
          0.5151989771478599,
          -0.48799114484926626,
          0.9900683597616949,
          -0.32106797524051484,
          -0.9560897765749078,
          1.0444631985284405,
          0.1693601699087248,
          -0.1770841413625548,
          0.7422150630812716,
          0.0691231084306441,
          1.6744750921176692,
          -0.49391613899722053,
          -1.1450714835966944,
          1.8517986856387725,
          -0.3470835160544637,
          0.017777108580660606,
          0.6695030039630508,
          0.9362583269580034,
          -0.007334188774526295,
          -2.110221712510784,
          0.22241278040537338,
          0.07030621148623364,
          -0.9278741288272946,
          -0.5190491244263271,
          0.49593328011174986,
          -1.5689689364140202,
          1.638871879947243
         ],
         "xaxis": "x10",
         "y": [
          0.7244304689755025,
          -1.533983970442844,
          -0.8551965324693319,
          -0.21842396186050003,
          -0.8532533117021437,
          -0.41166768307331203,
          0.7899538959392478,
          0.7390443968383061,
          -0.1650409867083505,
          2.3192654117931517,
          0.19235720643663545,
          -0.3527494759354997,
          0.5379148935264183,
          1.151835522011878,
          0.410395706493336,
          -0.11322677357340596,
          -1.46052207468903,
          -2.1648591394336982,
          -0.6525447916866529,
          -0.9100413446513409,
          -0.747466205750414,
          1.1475769101042284,
          -0.49641937662382046,
          0.7076411173739081,
          0.6912206026375171,
          0.11950304092223074,
          1.370187530388152,
          0.11643952252661999,
          -1.2336454589240649,
          -0.11690834690009214,
          2.3758572522107984,
          1.1843058184002344,
          0.3765039550324145,
          0.7198036996826873,
          0.9785538917325063,
          -2.016234657312846,
          0.10617672351885425,
          2.0123560844756794,
          0.9153310454913948,
          -0.18378483417770797,
          0.23969376760187158,
          0.6791877201714943,
          0.9573132623988388,
          -1.0464448050501058,
          -0.3449411634488827,
          -0.3926197060978508,
          -0.9426043186309948,
          0.09939814360656844,
          -1.954695379723464,
          0.14046890726213504,
          -0.8921357411717747,
          -1.9039040898333706,
          0.695723707567566,
          -0.10598952610412118,
          0.4169694256325223,
          0.635967656503169,
          0.4789638471760461,
          1.2734421046589668,
          0.7186745083012429,
          1.2563299081568011,
          -0.33214823963395507,
          -0.9656841776341377,
          2.289413173500102,
          1.3092990926850652,
          -0.892576509571412,
          0.20724766002262104,
          0.7764749480109313,
          -1.248379330337918,
          -0.5032037675966533,
          -1.5039078981565954,
          -0.4207475623140223,
          1.6036727162295665,
          -0.37639518481106476,
          1.239601224875782,
          0.6741355989888205,
          0.08936993933782973,
          0.10123310095520902,
          0.768381792319711,
          -0.9686989011246583,
          1.7946005838742298,
          3.0969375898602385,
          -1.4711474979283572,
          -1.0202609189901672,
          0.7648994507480035,
          -1.0125010975608562,
          0.9283353995832332,
          -0.03823273735705004,
          1.009838122694425,
          -1.1170490909926611,
          0.798685997086948,
          -0.49173757424374465,
          -0.7952774759570184,
          -0.7987505975547264,
          0.5358047436783937,
          -0.18837515610341052,
          -0.5430887201824659,
          -0.294189176186617,
          -2.24606624069467,
          -1.508441107667698,
          -0.5262834046440897
         ],
         "yaxis": "y10"
        },
        {
         "histfunc": "count",
         "histnorm": "",
         "marker": {
          "color": "rgba(50, 171, 96, 1.0)",
          "line": {
           "color": "#4D5663",
           "width": 1.3
          }
         },
         "name": "C",
         "nbinsx": 10,
         "opacity": 0.8,
         "orientation": "v",
         "type": "histogram",
         "x": [
          0.7244304689755025,
          -1.533983970442844,
          -0.8551965324693319,
          -0.21842396186050003,
          -0.8532533117021437,
          -0.41166768307331203,
          0.7899538959392478,
          0.7390443968383061,
          -0.1650409867083505,
          2.3192654117931517,
          0.19235720643663545,
          -0.3527494759354997,
          0.5379148935264183,
          1.151835522011878,
          0.410395706493336,
          -0.11322677357340596,
          -1.46052207468903,
          -2.1648591394336982,
          -0.6525447916866529,
          -0.9100413446513409,
          -0.747466205750414,
          1.1475769101042284,
          -0.49641937662382046,
          0.7076411173739081,
          0.6912206026375171,
          0.11950304092223074,
          1.370187530388152,
          0.11643952252661999,
          -1.2336454589240649,
          -0.11690834690009214,
          2.3758572522107984,
          1.1843058184002344,
          0.3765039550324145,
          0.7198036996826873,
          0.9785538917325063,
          -2.016234657312846,
          0.10617672351885425,
          2.0123560844756794,
          0.9153310454913948,
          -0.18378483417770797,
          0.23969376760187158,
          0.6791877201714943,
          0.9573132623988388,
          -1.0464448050501058,
          -0.3449411634488827,
          -0.3926197060978508,
          -0.9426043186309948,
          0.09939814360656844,
          -1.954695379723464,
          0.14046890726213504,
          -0.8921357411717747,
          -1.9039040898333706,
          0.695723707567566,
          -0.10598952610412118,
          0.4169694256325223,
          0.635967656503169,
          0.4789638471760461,
          1.2734421046589668,
          0.7186745083012429,
          1.2563299081568011,
          -0.33214823963395507,
          -0.9656841776341377,
          2.289413173500102,
          1.3092990926850652,
          -0.892576509571412,
          0.20724766002262104,
          0.7764749480109313,
          -1.248379330337918,
          -0.5032037675966533,
          -1.5039078981565954,
          -0.4207475623140223,
          1.6036727162295665,
          -0.37639518481106476,
          1.239601224875782,
          0.6741355989888205,
          0.08936993933782973,
          0.10123310095520902,
          0.768381792319711,
          -0.9686989011246583,
          1.7946005838742298,
          3.0969375898602385,
          -1.4711474979283572,
          -1.0202609189901672,
          0.7648994507480035,
          -1.0125010975608562,
          0.9283353995832332,
          -0.03823273735705004,
          1.009838122694425,
          -1.1170490909926611,
          0.798685997086948,
          -0.49173757424374465,
          -0.7952774759570184,
          -0.7987505975547264,
          0.5358047436783937,
          -0.18837515610341052,
          -0.5430887201824659,
          -0.294189176186617,
          -2.24606624069467,
          -1.508441107667698,
          -0.5262834046440897
         ],
         "xaxis": "x11",
         "yaxis": "y11"
        },
        {
         "line": {
          "color": "rgba(128, 128, 128, 1.0)",
          "dash": "solid",
          "shape": "linear",
          "width": 1.3
         },
         "marker": {
          "size": 2,
          "symbol": "circle"
         },
         "mode": "markers",
         "name": "C",
         "text": "",
         "type": "scatter",
         "x": [
          1.3372397297971201,
          -0.4239591565658293,
          -0.04566719693012255,
          -0.6338615398074309,
          1.1059869163631222,
          1.8042419566854349,
          -0.24881889324433362,
          0.2607699178118119,
          0.02341678852797691,
          -2.159594375405308,
          2.0797364103026155,
          -1.6157114222770763,
          0.6098428782924017,
          0.5431891448450611,
          -0.10894230792445356,
          1.784299612239051,
          0.678682894159494,
          -0.398063553637055,
          0.43304685945250826,
          0.712177085232851,
          -1.893397794540836,
          0.2926069391483394,
          2.709939056186151,
          -0.8496608247163772,
          0.12646113627954034,
          -0.5997649116260788,
          -1.4117130705440308,
          -0.702625003571693,
          0.6757784449777456,
          1.0448164740450137,
          1.155383021285753,
          1.1111111902223914,
          0.24668935610102122,
          -1.7836251190447499,
          0.07330848506865163,
          0.4273459843453372,
          0.2516215632532902,
          -0.16793153037302008,
          -0.2000992425317462,
          -0.7850705490039983,
          0.46437895752502273,
          -0.3288488640935351,
          0.8962441284165542,
          -0.8336462068189796,
          0.7827381799073114,
          -0.08882544028654762,
          -0.5216291721770336,
          0.46088055365299213,
          0.7418478067740597,
          -0.2606875309478886,
          -0.5708560445284009,
          0.846139874600263,
          0.43890639741737797,
          -0.9034997729015851,
          -1.4106766674539206,
          1.0362046866218027,
          0.5116404533941629,
          -0.13689059577645113,
          -0.7987242743683536,
          -0.5015358701748261,
          -0.09854051256516917,
          0.8210305538185133,
          -0.5903394526588178,
          -0.2338492678262089,
          0.6433892315972654,
          -0.9566945702143193,
          0.7228124520441599,
          0.5212823204776359,
          -0.4894967549680151,
          -0.5061085403869342,
          0.8827859704308412,
          2.181521214758214,
          -0.22250483103476248,
          -1.9421970407362354,
          0.14512083275490079,
          0.6014447674404136,
          0.6316564277278254,
          0.4863855977607956,
          0.6449654222902111,
          0.720886499996344,
          0.46705598497826933,
          -0.012490643623810055,
          0.5959626629484281,
          0.0301433968987179,
          -1.4804705709374957,
          0.08518040652594563,
          1.1387552565936325,
          0.8996644682564086,
          -0.6720457439718555,
          0.5333882648621263,
          0.673055497441797,
          2.0372985174545204,
          1.2247631980944775,
          -1.0900822923249098,
          1.3031183441348042,
          -2.3977857657732726,
          0.2604034295760553,
          0.0036178012856307694,
          -0.5409273384744031,
          -0.7529943354725642
         ],
         "xaxis": "x12",
         "y": [
          0.7244304689755025,
          -1.533983970442844,
          -0.8551965324693319,
          -0.21842396186050003,
          -0.8532533117021437,
          -0.41166768307331203,
          0.7899538959392478,
          0.7390443968383061,
          -0.1650409867083505,
          2.3192654117931517,
          0.19235720643663545,
          -0.3527494759354997,
          0.5379148935264183,
          1.151835522011878,
          0.410395706493336,
          -0.11322677357340596,
          -1.46052207468903,
          -2.1648591394336982,
          -0.6525447916866529,
          -0.9100413446513409,
          -0.747466205750414,
          1.1475769101042284,
          -0.49641937662382046,
          0.7076411173739081,
          0.6912206026375171,
          0.11950304092223074,
          1.370187530388152,
          0.11643952252661999,
          -1.2336454589240649,
          -0.11690834690009214,
          2.3758572522107984,
          1.1843058184002344,
          0.3765039550324145,
          0.7198036996826873,
          0.9785538917325063,
          -2.016234657312846,
          0.10617672351885425,
          2.0123560844756794,
          0.9153310454913948,
          -0.18378483417770797,
          0.23969376760187158,
          0.6791877201714943,
          0.9573132623988388,
          -1.0464448050501058,
          -0.3449411634488827,
          -0.3926197060978508,
          -0.9426043186309948,
          0.09939814360656844,
          -1.954695379723464,
          0.14046890726213504,
          -0.8921357411717747,
          -1.9039040898333706,
          0.695723707567566,
          -0.10598952610412118,
          0.4169694256325223,
          0.635967656503169,
          0.4789638471760461,
          1.2734421046589668,
          0.7186745083012429,
          1.2563299081568011,
          -0.33214823963395507,
          -0.9656841776341377,
          2.289413173500102,
          1.3092990926850652,
          -0.892576509571412,
          0.20724766002262104,
          0.7764749480109313,
          -1.248379330337918,
          -0.5032037675966533,
          -1.5039078981565954,
          -0.4207475623140223,
          1.6036727162295665,
          -0.37639518481106476,
          1.239601224875782,
          0.6741355989888205,
          0.08936993933782973,
          0.10123310095520902,
          0.768381792319711,
          -0.9686989011246583,
          1.7946005838742298,
          3.0969375898602385,
          -1.4711474979283572,
          -1.0202609189901672,
          0.7648994507480035,
          -1.0125010975608562,
          0.9283353995832332,
          -0.03823273735705004,
          1.009838122694425,
          -1.1170490909926611,
          0.798685997086948,
          -0.49173757424374465,
          -0.7952774759570184,
          -0.7987505975547264,
          0.5358047436783937,
          -0.18837515610341052,
          -0.5430887201824659,
          -0.294189176186617,
          -2.24606624069467,
          -1.508441107667698,
          -0.5262834046440897
         ],
         "yaxis": "y12"
        },
        {
         "line": {
          "color": "rgba(128, 128, 128, 1.0)",
          "dash": "solid",
          "shape": "linear",
          "width": 1.3
         },
         "marker": {
          "size": 2,
          "symbol": "circle"
         },
         "mode": "markers",
         "name": "D",
         "text": "",
         "type": "scatter",
         "x": [
          0.5543778778007974,
          1.305477680709373,
          -0.024430440104519096,
          -2.215780260803809,
          2.0311597958353804,
          -0.4640646961126891,
          0.8170695248510517,
          -0.7028901071685868,
          -1.3491332354884638,
          -0.6161054436764591,
          -0.9280833246496767,
          -0.202066973522514,
          -0.21977179427645022,
          -1.0499809344704083,
          -0.5538206199663367,
          0.2265782866540906,
          -1.281844393909573,
          1.2908776366987078,
          0.18933031627514868,
          1.3223490944050604,
          -0.6917365578725994,
          -0.5431131287020351,
          -0.2909553413115204,
          1.0750396385991803,
          0.7429454183000217,
          0.22129435093050254,
          -0.8614967063028686,
          -1.1268504523534668,
          0.7849954275435155,
          -2.0462048630969756,
          -0.008315388606309645,
          -0.18690885675627897,
          -0.7438181606657309,
          0.15288541099547315,
          0.014475441184176124,
          0.14950478033843956,
          -0.8196188460104581,
          0.6817811904730309,
          -1.2529214477062713,
          0.9734419093151444,
          0.46920101432825234,
          -1.8738939153410312,
          -1.0442171806553078,
          -0.38907289675682377,
          0.3414085214985565,
          -0.12856373579884875,
          0.7687266580761056,
          -1.054510339601767,
          -1.3749782443374008,
          0.08569403027435128,
          -0.5857738419042354,
          -1.7400601235515123,
          -0.03888180835654369,
          1.5662535457997817,
          -1.135373142936974,
          -1.1788653754026897,
          0.9584474836768704,
          0.8452506568614417,
          1.4097083184823593,
          1.380708985476826,
          -1.3203287612461103,
          -0.38364821453678444,
          -0.9971480233412237,
          0.3380732888858674,
          0.16534288637466557,
          -1.8140009513685151,
          0.9591220114764414,
          -0.7781011149097469,
          -0.9474226100958619,
          1.2943556874594229,
          0.1767544740810032,
          0.16052773335204457,
          -0.015433744952918096,
          -0.396594278243572,
          0.0392082424630884,
          -0.27494729328742556,
          0.8543890775430171,
          -0.17733028237964166,
          -1.0041492512236738,
          -0.3683532174905001,
          -0.4573037611863631,
          0.40586150069244475,
          0.7486343120609291,
          -1.009040149912704,
          -1.0528459653868723,
          -0.7337506006203001,
          0.8784811637364917,
          -1.2029475450319733,
          0.5139496552971384,
          0.016740108317212347,
          1.504783869463037,
          0.26307969919951585,
          0.732239718818574,
          0.12788599762890387,
          0.28310262019622595,
          0.37445293983738454,
          -0.802281753308722,
          -0.3215480974218836,
          0.030026716197300258,
          0.8956302931209041
         ],
         "xaxis": "x13",
         "y": [
          1.3372397297971201,
          -0.4239591565658293,
          -0.04566719693012255,
          -0.6338615398074309,
          1.1059869163631222,
          1.8042419566854349,
          -0.24881889324433362,
          0.2607699178118119,
          0.02341678852797691,
          -2.159594375405308,
          2.0797364103026155,
          -1.6157114222770763,
          0.6098428782924017,
          0.5431891448450611,
          -0.10894230792445356,
          1.784299612239051,
          0.678682894159494,
          -0.398063553637055,
          0.43304685945250826,
          0.712177085232851,
          -1.893397794540836,
          0.2926069391483394,
          2.709939056186151,
          -0.8496608247163772,
          0.12646113627954034,
          -0.5997649116260788,
          -1.4117130705440308,
          -0.702625003571693,
          0.6757784449777456,
          1.0448164740450137,
          1.155383021285753,
          1.1111111902223914,
          0.24668935610102122,
          -1.7836251190447499,
          0.07330848506865163,
          0.4273459843453372,
          0.2516215632532902,
          -0.16793153037302008,
          -0.2000992425317462,
          -0.7850705490039983,
          0.46437895752502273,
          -0.3288488640935351,
          0.8962441284165542,
          -0.8336462068189796,
          0.7827381799073114,
          -0.08882544028654762,
          -0.5216291721770336,
          0.46088055365299213,
          0.7418478067740597,
          -0.2606875309478886,
          -0.5708560445284009,
          0.846139874600263,
          0.43890639741737797,
          -0.9034997729015851,
          -1.4106766674539206,
          1.0362046866218027,
          0.5116404533941629,
          -0.13689059577645113,
          -0.7987242743683536,
          -0.5015358701748261,
          -0.09854051256516917,
          0.8210305538185133,
          -0.5903394526588178,
          -0.2338492678262089,
          0.6433892315972654,
          -0.9566945702143193,
          0.7228124520441599,
          0.5212823204776359,
          -0.4894967549680151,
          -0.5061085403869342,
          0.8827859704308412,
          2.181521214758214,
          -0.22250483103476248,
          -1.9421970407362354,
          0.14512083275490079,
          0.6014447674404136,
          0.6316564277278254,
          0.4863855977607956,
          0.6449654222902111,
          0.720886499996344,
          0.46705598497826933,
          -0.012490643623810055,
          0.5959626629484281,
          0.0301433968987179,
          -1.4804705709374957,
          0.08518040652594563,
          1.1387552565936325,
          0.8996644682564086,
          -0.6720457439718555,
          0.5333882648621263,
          0.673055497441797,
          2.0372985174545204,
          1.2247631980944775,
          -1.0900822923249098,
          1.3031183441348042,
          -2.3977857657732726,
          0.2604034295760553,
          0.0036178012856307694,
          -0.5409273384744031,
          -0.7529943354725642
         ],
         "yaxis": "y13"
        },
        {
         "line": {
          "color": "rgba(128, 128, 128, 1.0)",
          "dash": "solid",
          "shape": "linear",
          "width": 1.3
         },
         "marker": {
          "size": 2,
          "symbol": "circle"
         },
         "mode": "markers",
         "name": "D",
         "text": "",
         "type": "scatter",
         "x": [
          0.6573420948764968,
          0.10927452064301324,
          -1.1693955571656995,
          0.27038277765157015,
          -0.6334428219861441,
          -0.7310049423608668,
          -0.9061497273341353,
          -0.17952398194820196,
          0.5290628366347644,
          -0.3277282850274606,
          0.4805066939717914,
          0.4305331075124773,
          1.5367349716397587,
          0.9288429958501185,
          -0.13154094045274825,
          -0.008054556044534996,
          -0.3549430884093958,
          -0.5518746001809784,
          -0.3744331900872491,
          -1.1466740102851765,
          0.42116918545774723,
          -1.2433821954666222,
          0.5342388046341497,
          -1.2576208065547367,
          -0.22244895651178917,
          1.3712309698798104,
          -0.5502388311820707,
          -1.5928047353411585,
          0.13055640769860827,
          0.9981990385975217,
          -0.7336616425525483,
          0.4351102368339564,
          -0.32225790472622995,
          0.7413449967439579,
          0.3721174073425647,
          0.512721239719747,
          -0.740110741950452,
          0.6957972672159145,
          0.830729579395018,
          0.3887161572657043,
          0.6150346953707452,
          -0.5082427724892878,
          -0.49489182061779347,
          -0.01716986251555328,
          2.3602710200722505,
          -0.8218874927980011,
          0.22427309131500953,
          -0.29005880893778097,
          1.1779260056622485,
          -0.11748454801166518,
          0.3402397024055858,
          -0.35552836385523023,
          -0.16451996357588944,
          0.7034108409217701,
          0.477435014841578,
          1.1923449016301306,
          0.2965107406624185,
          0.46063736138339956,
          -1.0508179558055617,
          0.9783239970892182,
          -0.6237161393238063,
          -0.9411186378701619,
          0.8606564080610469,
          -0.8956632154241032,
          -0.0014160494534910955,
          -2.7962656734900455,
          -1.11910796542192,
          -1.2596609578746518,
          -0.1491127134080697,
          -1.824555021548616,
          -0.4624946856160559,
          -0.36554135435135815,
          1.2474035413162488,
          0.5151989771478599,
          -0.48799114484926626,
          0.9900683597616949,
          -0.32106797524051484,
          -0.9560897765749078,
          1.0444631985284405,
          0.1693601699087248,
          -0.1770841413625548,
          0.7422150630812716,
          0.0691231084306441,
          1.6744750921176692,
          -0.49391613899722053,
          -1.1450714835966944,
          1.8517986856387725,
          -0.3470835160544637,
          0.017777108580660606,
          0.6695030039630508,
          0.9362583269580034,
          -0.007334188774526295,
          -2.110221712510784,
          0.22241278040537338,
          0.07030621148623364,
          -0.9278741288272946,
          -0.5190491244263271,
          0.49593328011174986,
          -1.5689689364140202,
          1.638871879947243
         ],
         "xaxis": "x14",
         "y": [
          1.3372397297971201,
          -0.4239591565658293,
          -0.04566719693012255,
          -0.6338615398074309,
          1.1059869163631222,
          1.8042419566854349,
          -0.24881889324433362,
          0.2607699178118119,
          0.02341678852797691,
          -2.159594375405308,
          2.0797364103026155,
          -1.6157114222770763,
          0.6098428782924017,
          0.5431891448450611,
          -0.10894230792445356,
          1.784299612239051,
          0.678682894159494,
          -0.398063553637055,
          0.43304685945250826,
          0.712177085232851,
          -1.893397794540836,
          0.2926069391483394,
          2.709939056186151,
          -0.8496608247163772,
          0.12646113627954034,
          -0.5997649116260788,
          -1.4117130705440308,
          -0.702625003571693,
          0.6757784449777456,
          1.0448164740450137,
          1.155383021285753,
          1.1111111902223914,
          0.24668935610102122,
          -1.7836251190447499,
          0.07330848506865163,
          0.4273459843453372,
          0.2516215632532902,
          -0.16793153037302008,
          -0.2000992425317462,
          -0.7850705490039983,
          0.46437895752502273,
          -0.3288488640935351,
          0.8962441284165542,
          -0.8336462068189796,
          0.7827381799073114,
          -0.08882544028654762,
          -0.5216291721770336,
          0.46088055365299213,
          0.7418478067740597,
          -0.2606875309478886,
          -0.5708560445284009,
          0.846139874600263,
          0.43890639741737797,
          -0.9034997729015851,
          -1.4106766674539206,
          1.0362046866218027,
          0.5116404533941629,
          -0.13689059577645113,
          -0.7987242743683536,
          -0.5015358701748261,
          -0.09854051256516917,
          0.8210305538185133,
          -0.5903394526588178,
          -0.2338492678262089,
          0.6433892315972654,
          -0.9566945702143193,
          0.7228124520441599,
          0.5212823204776359,
          -0.4894967549680151,
          -0.5061085403869342,
          0.8827859704308412,
          2.181521214758214,
          -0.22250483103476248,
          -1.9421970407362354,
          0.14512083275490079,
          0.6014447674404136,
          0.6316564277278254,
          0.4863855977607956,
          0.6449654222902111,
          0.720886499996344,
          0.46705598497826933,
          -0.012490643623810055,
          0.5959626629484281,
          0.0301433968987179,
          -1.4804705709374957,
          0.08518040652594563,
          1.1387552565936325,
          0.8996644682564086,
          -0.6720457439718555,
          0.5333882648621263,
          0.673055497441797,
          2.0372985174545204,
          1.2247631980944775,
          -1.0900822923249098,
          1.3031183441348042,
          -2.3977857657732726,
          0.2604034295760553,
          0.0036178012856307694,
          -0.5409273384744031,
          -0.7529943354725642
         ],
         "yaxis": "y14"
        },
        {
         "line": {
          "color": "rgba(128, 128, 128, 1.0)",
          "dash": "solid",
          "shape": "linear",
          "width": 1.3
         },
         "marker": {
          "size": 2,
          "symbol": "circle"
         },
         "mode": "markers",
         "name": "D",
         "text": "",
         "type": "scatter",
         "x": [
          0.7244304689755025,
          -1.533983970442844,
          -0.8551965324693319,
          -0.21842396186050003,
          -0.8532533117021437,
          -0.41166768307331203,
          0.7899538959392478,
          0.7390443968383061,
          -0.1650409867083505,
          2.3192654117931517,
          0.19235720643663545,
          -0.3527494759354997,
          0.5379148935264183,
          1.151835522011878,
          0.410395706493336,
          -0.11322677357340596,
          -1.46052207468903,
          -2.1648591394336982,
          -0.6525447916866529,
          -0.9100413446513409,
          -0.747466205750414,
          1.1475769101042284,
          -0.49641937662382046,
          0.7076411173739081,
          0.6912206026375171,
          0.11950304092223074,
          1.370187530388152,
          0.11643952252661999,
          -1.2336454589240649,
          -0.11690834690009214,
          2.3758572522107984,
          1.1843058184002344,
          0.3765039550324145,
          0.7198036996826873,
          0.9785538917325063,
          -2.016234657312846,
          0.10617672351885425,
          2.0123560844756794,
          0.9153310454913948,
          -0.18378483417770797,
          0.23969376760187158,
          0.6791877201714943,
          0.9573132623988388,
          -1.0464448050501058,
          -0.3449411634488827,
          -0.3926197060978508,
          -0.9426043186309948,
          0.09939814360656844,
          -1.954695379723464,
          0.14046890726213504,
          -0.8921357411717747,
          -1.9039040898333706,
          0.695723707567566,
          -0.10598952610412118,
          0.4169694256325223,
          0.635967656503169,
          0.4789638471760461,
          1.2734421046589668,
          0.7186745083012429,
          1.2563299081568011,
          -0.33214823963395507,
          -0.9656841776341377,
          2.289413173500102,
          1.3092990926850652,
          -0.892576509571412,
          0.20724766002262104,
          0.7764749480109313,
          -1.248379330337918,
          -0.5032037675966533,
          -1.5039078981565954,
          -0.4207475623140223,
          1.6036727162295665,
          -0.37639518481106476,
          1.239601224875782,
          0.6741355989888205,
          0.08936993933782973,
          0.10123310095520902,
          0.768381792319711,
          -0.9686989011246583,
          1.7946005838742298,
          3.0969375898602385,
          -1.4711474979283572,
          -1.0202609189901672,
          0.7648994507480035,
          -1.0125010975608562,
          0.9283353995832332,
          -0.03823273735705004,
          1.009838122694425,
          -1.1170490909926611,
          0.798685997086948,
          -0.49173757424374465,
          -0.7952774759570184,
          -0.7987505975547264,
          0.5358047436783937,
          -0.18837515610341052,
          -0.5430887201824659,
          -0.294189176186617,
          -2.24606624069467,
          -1.508441107667698,
          -0.5262834046440897
         ],
         "xaxis": "x15",
         "y": [
          1.3372397297971201,
          -0.4239591565658293,
          -0.04566719693012255,
          -0.6338615398074309,
          1.1059869163631222,
          1.8042419566854349,
          -0.24881889324433362,
          0.2607699178118119,
          0.02341678852797691,
          -2.159594375405308,
          2.0797364103026155,
          -1.6157114222770763,
          0.6098428782924017,
          0.5431891448450611,
          -0.10894230792445356,
          1.784299612239051,
          0.678682894159494,
          -0.398063553637055,
          0.43304685945250826,
          0.712177085232851,
          -1.893397794540836,
          0.2926069391483394,
          2.709939056186151,
          -0.8496608247163772,
          0.12646113627954034,
          -0.5997649116260788,
          -1.4117130705440308,
          -0.702625003571693,
          0.6757784449777456,
          1.0448164740450137,
          1.155383021285753,
          1.1111111902223914,
          0.24668935610102122,
          -1.7836251190447499,
          0.07330848506865163,
          0.4273459843453372,
          0.2516215632532902,
          -0.16793153037302008,
          -0.2000992425317462,
          -0.7850705490039983,
          0.46437895752502273,
          -0.3288488640935351,
          0.8962441284165542,
          -0.8336462068189796,
          0.7827381799073114,
          -0.08882544028654762,
          -0.5216291721770336,
          0.46088055365299213,
          0.7418478067740597,
          -0.2606875309478886,
          -0.5708560445284009,
          0.846139874600263,
          0.43890639741737797,
          -0.9034997729015851,
          -1.4106766674539206,
          1.0362046866218027,
          0.5116404533941629,
          -0.13689059577645113,
          -0.7987242743683536,
          -0.5015358701748261,
          -0.09854051256516917,
          0.8210305538185133,
          -0.5903394526588178,
          -0.2338492678262089,
          0.6433892315972654,
          -0.9566945702143193,
          0.7228124520441599,
          0.5212823204776359,
          -0.4894967549680151,
          -0.5061085403869342,
          0.8827859704308412,
          2.181521214758214,
          -0.22250483103476248,
          -1.9421970407362354,
          0.14512083275490079,
          0.6014447674404136,
          0.6316564277278254,
          0.4863855977607956,
          0.6449654222902111,
          0.720886499996344,
          0.46705598497826933,
          -0.012490643623810055,
          0.5959626629484281,
          0.0301433968987179,
          -1.4804705709374957,
          0.08518040652594563,
          1.1387552565936325,
          0.8996644682564086,
          -0.6720457439718555,
          0.5333882648621263,
          0.673055497441797,
          2.0372985174545204,
          1.2247631980944775,
          -1.0900822923249098,
          1.3031183441348042,
          -2.3977857657732726,
          0.2604034295760553,
          0.0036178012856307694,
          -0.5409273384744031,
          -0.7529943354725642
         ],
         "yaxis": "y15"
        },
        {
         "histfunc": "count",
         "histnorm": "",
         "marker": {
          "color": "rgba(128, 0, 128, 1.0)",
          "line": {
           "color": "#4D5663",
           "width": 1.3
          }
         },
         "name": "D",
         "nbinsx": 10,
         "opacity": 0.8,
         "orientation": "v",
         "type": "histogram",
         "x": [
          1.3372397297971201,
          -0.4239591565658293,
          -0.04566719693012255,
          -0.6338615398074309,
          1.1059869163631222,
          1.8042419566854349,
          -0.24881889324433362,
          0.2607699178118119,
          0.02341678852797691,
          -2.159594375405308,
          2.0797364103026155,
          -1.6157114222770763,
          0.6098428782924017,
          0.5431891448450611,
          -0.10894230792445356,
          1.784299612239051,
          0.678682894159494,
          -0.398063553637055,
          0.43304685945250826,
          0.712177085232851,
          -1.893397794540836,
          0.2926069391483394,
          2.709939056186151,
          -0.8496608247163772,
          0.12646113627954034,
          -0.5997649116260788,
          -1.4117130705440308,
          -0.702625003571693,
          0.6757784449777456,
          1.0448164740450137,
          1.155383021285753,
          1.1111111902223914,
          0.24668935610102122,
          -1.7836251190447499,
          0.07330848506865163,
          0.4273459843453372,
          0.2516215632532902,
          -0.16793153037302008,
          -0.2000992425317462,
          -0.7850705490039983,
          0.46437895752502273,
          -0.3288488640935351,
          0.8962441284165542,
          -0.8336462068189796,
          0.7827381799073114,
          -0.08882544028654762,
          -0.5216291721770336,
          0.46088055365299213,
          0.7418478067740597,
          -0.2606875309478886,
          -0.5708560445284009,
          0.846139874600263,
          0.43890639741737797,
          -0.9034997729015851,
          -1.4106766674539206,
          1.0362046866218027,
          0.5116404533941629,
          -0.13689059577645113,
          -0.7987242743683536,
          -0.5015358701748261,
          -0.09854051256516917,
          0.8210305538185133,
          -0.5903394526588178,
          -0.2338492678262089,
          0.6433892315972654,
          -0.9566945702143193,
          0.7228124520441599,
          0.5212823204776359,
          -0.4894967549680151,
          -0.5061085403869342,
          0.8827859704308412,
          2.181521214758214,
          -0.22250483103476248,
          -1.9421970407362354,
          0.14512083275490079,
          0.6014447674404136,
          0.6316564277278254,
          0.4863855977607956,
          0.6449654222902111,
          0.720886499996344,
          0.46705598497826933,
          -0.012490643623810055,
          0.5959626629484281,
          0.0301433968987179,
          -1.4804705709374957,
          0.08518040652594563,
          1.1387552565936325,
          0.8996644682564086,
          -0.6720457439718555,
          0.5333882648621263,
          0.673055497441797,
          2.0372985174545204,
          1.2247631980944775,
          -1.0900822923249098,
          1.3031183441348042,
          -2.3977857657732726,
          0.2604034295760553,
          0.0036178012856307694,
          -0.5409273384744031,
          -0.7529943354725642
         ],
         "xaxis": "x16",
         "yaxis": "y16"
        }
       ],
       "layout": {
        "bargap": 0.02,
        "legend": {
         "bgcolor": "#F5F6F9",
         "font": {
          "color": "#4D5663"
         }
        },
        "paper_bgcolor": "#F5F6F9",
        "plot_bgcolor": "#F5F6F9",
        "showlegend": false,
        "template": {
         "data": {
          "bar": [
           {
            "error_x": {
             "color": "#2a3f5f"
            },
            "error_y": {
             "color": "#2a3f5f"
            },
            "marker": {
             "line": {
              "color": "#E5ECF6",
              "width": 0.5
             }
            },
            "type": "bar"
           }
          ],
          "barpolar": [
           {
            "marker": {
             "line": {
              "color": "#E5ECF6",
              "width": 0.5
             }
            },
            "type": "barpolar"
           }
          ],
          "carpet": [
           {
            "aaxis": {
             "endlinecolor": "#2a3f5f",
             "gridcolor": "white",
             "linecolor": "white",
             "minorgridcolor": "white",
             "startlinecolor": "#2a3f5f"
            },
            "baxis": {
             "endlinecolor": "#2a3f5f",
             "gridcolor": "white",
             "linecolor": "white",
             "minorgridcolor": "white",
             "startlinecolor": "#2a3f5f"
            },
            "type": "carpet"
           }
          ],
          "choropleth": [
           {
            "colorbar": {
             "outlinewidth": 0,
             "ticks": ""
            },
            "type": "choropleth"
           }
          ],
          "contour": [
           {
            "colorbar": {
             "outlinewidth": 0,
             "ticks": ""
            },
            "colorscale": [
             [
              0,
              "#0d0887"
             ],
             [
              0.1111111111111111,
              "#46039f"
             ],
             [
              0.2222222222222222,
              "#7201a8"
             ],
             [
              0.3333333333333333,
              "#9c179e"
             ],
             [
              0.4444444444444444,
              "#bd3786"
             ],
             [
              0.5555555555555556,
              "#d8576b"
             ],
             [
              0.6666666666666666,
              "#ed7953"
             ],
             [
              0.7777777777777778,
              "#fb9f3a"
             ],
             [
              0.8888888888888888,
              "#fdca26"
             ],
             [
              1,
              "#f0f921"
             ]
            ],
            "type": "contour"
           }
          ],
          "contourcarpet": [
           {
            "colorbar": {
             "outlinewidth": 0,
             "ticks": ""
            },
            "type": "contourcarpet"
           }
          ],
          "heatmap": [
           {
            "colorbar": {
             "outlinewidth": 0,
             "ticks": ""
            },
            "colorscale": [
             [
              0,
              "#0d0887"
             ],
             [
              0.1111111111111111,
              "#46039f"
             ],
             [
              0.2222222222222222,
              "#7201a8"
             ],
             [
              0.3333333333333333,
              "#9c179e"
             ],
             [
              0.4444444444444444,
              "#bd3786"
             ],
             [
              0.5555555555555556,
              "#d8576b"
             ],
             [
              0.6666666666666666,
              "#ed7953"
             ],
             [
              0.7777777777777778,
              "#fb9f3a"
             ],
             [
              0.8888888888888888,
              "#fdca26"
             ],
             [
              1,
              "#f0f921"
             ]
            ],
            "type": "heatmap"
           }
          ],
          "heatmapgl": [
           {
            "colorbar": {
             "outlinewidth": 0,
             "ticks": ""
            },
            "colorscale": [
             [
              0,
              "#0d0887"
             ],
             [
              0.1111111111111111,
              "#46039f"
             ],
             [
              0.2222222222222222,
              "#7201a8"
             ],
             [
              0.3333333333333333,
              "#9c179e"
             ],
             [
              0.4444444444444444,
              "#bd3786"
             ],
             [
              0.5555555555555556,
              "#d8576b"
             ],
             [
              0.6666666666666666,
              "#ed7953"
             ],
             [
              0.7777777777777778,
              "#fb9f3a"
             ],
             [
              0.8888888888888888,
              "#fdca26"
             ],
             [
              1,
              "#f0f921"
             ]
            ],
            "type": "heatmapgl"
           }
          ],
          "histogram": [
           {
            "marker": {
             "colorbar": {
              "outlinewidth": 0,
              "ticks": ""
             }
            },
            "type": "histogram"
           }
          ],
          "histogram2d": [
           {
            "colorbar": {
             "outlinewidth": 0,
             "ticks": ""
            },
            "colorscale": [
             [
              0,
              "#0d0887"
             ],
             [
              0.1111111111111111,
              "#46039f"
             ],
             [
              0.2222222222222222,
              "#7201a8"
             ],
             [
              0.3333333333333333,
              "#9c179e"
             ],
             [
              0.4444444444444444,
              "#bd3786"
             ],
             [
              0.5555555555555556,
              "#d8576b"
             ],
             [
              0.6666666666666666,
              "#ed7953"
             ],
             [
              0.7777777777777778,
              "#fb9f3a"
             ],
             [
              0.8888888888888888,
              "#fdca26"
             ],
             [
              1,
              "#f0f921"
             ]
            ],
            "type": "histogram2d"
           }
          ],
          "histogram2dcontour": [
           {
            "colorbar": {
             "outlinewidth": 0,
             "ticks": ""
            },
            "colorscale": [
             [
              0,
              "#0d0887"
             ],
             [
              0.1111111111111111,
              "#46039f"
             ],
             [
              0.2222222222222222,
              "#7201a8"
             ],
             [
              0.3333333333333333,
              "#9c179e"
             ],
             [
              0.4444444444444444,
              "#bd3786"
             ],
             [
              0.5555555555555556,
              "#d8576b"
             ],
             [
              0.6666666666666666,
              "#ed7953"
             ],
             [
              0.7777777777777778,
              "#fb9f3a"
             ],
             [
              0.8888888888888888,
              "#fdca26"
             ],
             [
              1,
              "#f0f921"
             ]
            ],
            "type": "histogram2dcontour"
           }
          ],
          "mesh3d": [
           {
            "colorbar": {
             "outlinewidth": 0,
             "ticks": ""
            },
            "type": "mesh3d"
           }
          ],
          "parcoords": [
           {
            "line": {
             "colorbar": {
              "outlinewidth": 0,
              "ticks": ""
             }
            },
            "type": "parcoords"
           }
          ],
          "pie": [
           {
            "automargin": true,
            "type": "pie"
           }
          ],
          "scatter": [
           {
            "marker": {
             "colorbar": {
              "outlinewidth": 0,
              "ticks": ""
             }
            },
            "type": "scatter"
           }
          ],
          "scatter3d": [
           {
            "line": {
             "colorbar": {
              "outlinewidth": 0,
              "ticks": ""
             }
            },
            "marker": {
             "colorbar": {
              "outlinewidth": 0,
              "ticks": ""
             }
            },
            "type": "scatter3d"
           }
          ],
          "scattercarpet": [
           {
            "marker": {
             "colorbar": {
              "outlinewidth": 0,
              "ticks": ""
             }
            },
            "type": "scattercarpet"
           }
          ],
          "scattergeo": [
           {
            "marker": {
             "colorbar": {
              "outlinewidth": 0,
              "ticks": ""
             }
            },
            "type": "scattergeo"
           }
          ],
          "scattergl": [
           {
            "marker": {
             "colorbar": {
              "outlinewidth": 0,
              "ticks": ""
             }
            },
            "type": "scattergl"
           }
          ],
          "scattermapbox": [
           {
            "marker": {
             "colorbar": {
              "outlinewidth": 0,
              "ticks": ""
             }
            },
            "type": "scattermapbox"
           }
          ],
          "scatterpolar": [
           {
            "marker": {
             "colorbar": {
              "outlinewidth": 0,
              "ticks": ""
             }
            },
            "type": "scatterpolar"
           }
          ],
          "scatterpolargl": [
           {
            "marker": {
             "colorbar": {
              "outlinewidth": 0,
              "ticks": ""
             }
            },
            "type": "scatterpolargl"
           }
          ],
          "scatterternary": [
           {
            "marker": {
             "colorbar": {
              "outlinewidth": 0,
              "ticks": ""
             }
            },
            "type": "scatterternary"
           }
          ],
          "surface": [
           {
            "colorbar": {
             "outlinewidth": 0,
             "ticks": ""
            },
            "colorscale": [
             [
              0,
              "#0d0887"
             ],
             [
              0.1111111111111111,
              "#46039f"
             ],
             [
              0.2222222222222222,
              "#7201a8"
             ],
             [
              0.3333333333333333,
              "#9c179e"
             ],
             [
              0.4444444444444444,
              "#bd3786"
             ],
             [
              0.5555555555555556,
              "#d8576b"
             ],
             [
              0.6666666666666666,
              "#ed7953"
             ],
             [
              0.7777777777777778,
              "#fb9f3a"
             ],
             [
              0.8888888888888888,
              "#fdca26"
             ],
             [
              1,
              "#f0f921"
             ]
            ],
            "type": "surface"
           }
          ],
          "table": [
           {
            "cells": {
             "fill": {
              "color": "#EBF0F8"
             },
             "line": {
              "color": "white"
             }
            },
            "header": {
             "fill": {
              "color": "#C8D4E3"
             },
             "line": {
              "color": "white"
             }
            },
            "type": "table"
           }
          ]
         },
         "layout": {
          "annotationdefaults": {
           "arrowcolor": "#2a3f5f",
           "arrowhead": 0,
           "arrowwidth": 1
          },
          "autotypenumbers": "strict",
          "coloraxis": {
           "colorbar": {
            "outlinewidth": 0,
            "ticks": ""
           }
          },
          "colorscale": {
           "diverging": [
            [
             0,
             "#8e0152"
            ],
            [
             0.1,
             "#c51b7d"
            ],
            [
             0.2,
             "#de77ae"
            ],
            [
             0.3,
             "#f1b6da"
            ],
            [
             0.4,
             "#fde0ef"
            ],
            [
             0.5,
             "#f7f7f7"
            ],
            [
             0.6,
             "#e6f5d0"
            ],
            [
             0.7,
             "#b8e186"
            ],
            [
             0.8,
             "#7fbc41"
            ],
            [
             0.9,
             "#4d9221"
            ],
            [
             1,
             "#276419"
            ]
           ],
           "sequential": [
            [
             0,
             "#0d0887"
            ],
            [
             0.1111111111111111,
             "#46039f"
            ],
            [
             0.2222222222222222,
             "#7201a8"
            ],
            [
             0.3333333333333333,
             "#9c179e"
            ],
            [
             0.4444444444444444,
             "#bd3786"
            ],
            [
             0.5555555555555556,
             "#d8576b"
            ],
            [
             0.6666666666666666,
             "#ed7953"
            ],
            [
             0.7777777777777778,
             "#fb9f3a"
            ],
            [
             0.8888888888888888,
             "#fdca26"
            ],
            [
             1,
             "#f0f921"
            ]
           ],
           "sequentialminus": [
            [
             0,
             "#0d0887"
            ],
            [
             0.1111111111111111,
             "#46039f"
            ],
            [
             0.2222222222222222,
             "#7201a8"
            ],
            [
             0.3333333333333333,
             "#9c179e"
            ],
            [
             0.4444444444444444,
             "#bd3786"
            ],
            [
             0.5555555555555556,
             "#d8576b"
            ],
            [
             0.6666666666666666,
             "#ed7953"
            ],
            [
             0.7777777777777778,
             "#fb9f3a"
            ],
            [
             0.8888888888888888,
             "#fdca26"
            ],
            [
             1,
             "#f0f921"
            ]
           ]
          },
          "colorway": [
           "#636efa",
           "#EF553B",
           "#00cc96",
           "#ab63fa",
           "#FFA15A",
           "#19d3f3",
           "#FF6692",
           "#B6E880",
           "#FF97FF",
           "#FECB52"
          ],
          "font": {
           "color": "#2a3f5f"
          },
          "geo": {
           "bgcolor": "white",
           "lakecolor": "white",
           "landcolor": "#E5ECF6",
           "showlakes": true,
           "showland": true,
           "subunitcolor": "white"
          },
          "hoverlabel": {
           "align": "left"
          },
          "hovermode": "closest",
          "mapbox": {
           "style": "light"
          },
          "paper_bgcolor": "white",
          "plot_bgcolor": "#E5ECF6",
          "polar": {
           "angularaxis": {
            "gridcolor": "white",
            "linecolor": "white",
            "ticks": ""
           },
           "bgcolor": "#E5ECF6",
           "radialaxis": {
            "gridcolor": "white",
            "linecolor": "white",
            "ticks": ""
           }
          },
          "scene": {
           "xaxis": {
            "backgroundcolor": "#E5ECF6",
            "gridcolor": "white",
            "gridwidth": 2,
            "linecolor": "white",
            "showbackground": true,
            "ticks": "",
            "zerolinecolor": "white"
           },
           "yaxis": {
            "backgroundcolor": "#E5ECF6",
            "gridcolor": "white",
            "gridwidth": 2,
            "linecolor": "white",
            "showbackground": true,
            "ticks": "",
            "zerolinecolor": "white"
           },
           "zaxis": {
            "backgroundcolor": "#E5ECF6",
            "gridcolor": "white",
            "gridwidth": 2,
            "linecolor": "white",
            "showbackground": true,
            "ticks": "",
            "zerolinecolor": "white"
           }
          },
          "shapedefaults": {
           "line": {
            "color": "#2a3f5f"
           }
          },
          "ternary": {
           "aaxis": {
            "gridcolor": "white",
            "linecolor": "white",
            "ticks": ""
           },
           "baxis": {
            "gridcolor": "white",
            "linecolor": "white",
            "ticks": ""
           },
           "bgcolor": "#E5ECF6",
           "caxis": {
            "gridcolor": "white",
            "linecolor": "white",
            "ticks": ""
           }
          },
          "title": {
           "x": 0.05
          },
          "xaxis": {
           "automargin": true,
           "gridcolor": "white",
           "linecolor": "white",
           "ticks": "",
           "title": {
            "standoff": 15
           },
           "zerolinecolor": "white",
           "zerolinewidth": 2
          },
          "yaxis": {
           "automargin": true,
           "gridcolor": "white",
           "linecolor": "white",
           "ticks": "",
           "title": {
            "standoff": 15
           },
           "zerolinecolor": "white",
           "zerolinewidth": 2
          }
         }
        },
        "title": {
         "font": {
          "color": "#4D5663"
         }
        },
        "xaxis": {
         "anchor": "y",
         "domain": [
          0,
          0.2125
         ],
         "gridcolor": "#E1E5ED",
         "showgrid": false,
         "tickfont": {
          "color": "#4D5663"
         },
         "title": {
          "font": {
           "color": "#4D5663"
          },
          "text": ""
         },
         "zerolinecolor": "#E1E5ED"
        },
        "xaxis10": {
         "anchor": "y10",
         "domain": [
          0.2625,
          0.475
         ],
         "gridcolor": "#E1E5ED",
         "showgrid": false,
         "tickfont": {
          "color": "#4D5663"
         },
         "title": {
          "font": {
           "color": "#4D5663"
          },
          "text": ""
         },
         "zerolinecolor": "#E1E5ED"
        },
        "xaxis11": {
         "anchor": "y11",
         "domain": [
          0.525,
          0.7375
         ],
         "gridcolor": "#E1E5ED",
         "showgrid": false,
         "tickfont": {
          "color": "#4D5663"
         },
         "title": {
          "font": {
           "color": "#4D5663"
          },
          "text": ""
         },
         "zerolinecolor": "#E1E5ED"
        },
        "xaxis12": {
         "anchor": "y12",
         "domain": [
          0.7875,
          1
         ],
         "gridcolor": "#E1E5ED",
         "showgrid": false,
         "tickfont": {
          "color": "#4D5663"
         },
         "title": {
          "font": {
           "color": "#4D5663"
          },
          "text": ""
         },
         "zerolinecolor": "#E1E5ED"
        },
        "xaxis13": {
         "anchor": "y13",
         "domain": [
          0,
          0.2125
         ],
         "gridcolor": "#E1E5ED",
         "showgrid": false,
         "tickfont": {
          "color": "#4D5663"
         },
         "title": {
          "font": {
           "color": "#4D5663"
          },
          "text": ""
         },
         "zerolinecolor": "#E1E5ED"
        },
        "xaxis14": {
         "anchor": "y14",
         "domain": [
          0.2625,
          0.475
         ],
         "gridcolor": "#E1E5ED",
         "showgrid": false,
         "tickfont": {
          "color": "#4D5663"
         },
         "title": {
          "font": {
           "color": "#4D5663"
          },
          "text": ""
         },
         "zerolinecolor": "#E1E5ED"
        },
        "xaxis15": {
         "anchor": "y15",
         "domain": [
          0.525,
          0.7375
         ],
         "gridcolor": "#E1E5ED",
         "showgrid": false,
         "tickfont": {
          "color": "#4D5663"
         },
         "title": {
          "font": {
           "color": "#4D5663"
          },
          "text": ""
         },
         "zerolinecolor": "#E1E5ED"
        },
        "xaxis16": {
         "anchor": "y16",
         "domain": [
          0.7875,
          1
         ],
         "gridcolor": "#E1E5ED",
         "showgrid": false,
         "tickfont": {
          "color": "#4D5663"
         },
         "title": {
          "font": {
           "color": "#4D5663"
          },
          "text": ""
         },
         "zerolinecolor": "#E1E5ED"
        },
        "xaxis2": {
         "anchor": "y2",
         "domain": [
          0.2625,
          0.475
         ],
         "gridcolor": "#E1E5ED",
         "showgrid": false,
         "tickfont": {
          "color": "#4D5663"
         },
         "title": {
          "font": {
           "color": "#4D5663"
          },
          "text": ""
         },
         "zerolinecolor": "#E1E5ED"
        },
        "xaxis3": {
         "anchor": "y3",
         "domain": [
          0.525,
          0.7375
         ],
         "gridcolor": "#E1E5ED",
         "showgrid": false,
         "tickfont": {
          "color": "#4D5663"
         },
         "title": {
          "font": {
           "color": "#4D5663"
          },
          "text": ""
         },
         "zerolinecolor": "#E1E5ED"
        },
        "xaxis4": {
         "anchor": "y4",
         "domain": [
          0.7875,
          1
         ],
         "gridcolor": "#E1E5ED",
         "showgrid": false,
         "tickfont": {
          "color": "#4D5663"
         },
         "title": {
          "font": {
           "color": "#4D5663"
          },
          "text": ""
         },
         "zerolinecolor": "#E1E5ED"
        },
        "xaxis5": {
         "anchor": "y5",
         "domain": [
          0,
          0.2125
         ],
         "gridcolor": "#E1E5ED",
         "showgrid": false,
         "tickfont": {
          "color": "#4D5663"
         },
         "title": {
          "font": {
           "color": "#4D5663"
          },
          "text": ""
         },
         "zerolinecolor": "#E1E5ED"
        },
        "xaxis6": {
         "anchor": "y6",
         "domain": [
          0.2625,
          0.475
         ],
         "gridcolor": "#E1E5ED",
         "showgrid": false,
         "tickfont": {
          "color": "#4D5663"
         },
         "title": {
          "font": {
           "color": "#4D5663"
          },
          "text": ""
         },
         "zerolinecolor": "#E1E5ED"
        },
        "xaxis7": {
         "anchor": "y7",
         "domain": [
          0.525,
          0.7375
         ],
         "gridcolor": "#E1E5ED",
         "showgrid": false,
         "tickfont": {
          "color": "#4D5663"
         },
         "title": {
          "font": {
           "color": "#4D5663"
          },
          "text": ""
         },
         "zerolinecolor": "#E1E5ED"
        },
        "xaxis8": {
         "anchor": "y8",
         "domain": [
          0.7875,
          1
         ],
         "gridcolor": "#E1E5ED",
         "showgrid": false,
         "tickfont": {
          "color": "#4D5663"
         },
         "title": {
          "font": {
           "color": "#4D5663"
          },
          "text": ""
         },
         "zerolinecolor": "#E1E5ED"
        },
        "xaxis9": {
         "anchor": "y9",
         "domain": [
          0,
          0.2125
         ],
         "gridcolor": "#E1E5ED",
         "showgrid": false,
         "tickfont": {
          "color": "#4D5663"
         },
         "title": {
          "font": {
           "color": "#4D5663"
          },
          "text": ""
         },
         "zerolinecolor": "#E1E5ED"
        },
        "yaxis": {
         "anchor": "x",
         "domain": [
          0.8025,
          1
         ],
         "gridcolor": "#E1E5ED",
         "showgrid": false,
         "tickfont": {
          "color": "#4D5663"
         },
         "title": {
          "font": {
           "color": "#4D5663"
          },
          "text": ""
         },
         "zerolinecolor": "#E1E5ED"
        },
        "yaxis10": {
         "anchor": "x10",
         "domain": [
          0.2675,
          0.465
         ],
         "gridcolor": "#E1E5ED",
         "showgrid": false,
         "tickfont": {
          "color": "#4D5663"
         },
         "title": {
          "font": {
           "color": "#4D5663"
          },
          "text": ""
         },
         "zerolinecolor": "#E1E5ED"
        },
        "yaxis11": {
         "anchor": "x11",
         "domain": [
          0.2675,
          0.465
         ],
         "gridcolor": "#E1E5ED",
         "showgrid": false,
         "tickfont": {
          "color": "#4D5663"
         },
         "title": {
          "font": {
           "color": "#4D5663"
          },
          "text": ""
         },
         "zerolinecolor": "#E1E5ED"
        },
        "yaxis12": {
         "anchor": "x12",
         "domain": [
          0.2675,
          0.465
         ],
         "gridcolor": "#E1E5ED",
         "showgrid": false,
         "tickfont": {
          "color": "#4D5663"
         },
         "title": {
          "font": {
           "color": "#4D5663"
          },
          "text": ""
         },
         "zerolinecolor": "#E1E5ED"
        },
        "yaxis13": {
         "anchor": "x13",
         "domain": [
          0,
          0.1975
         ],
         "gridcolor": "#E1E5ED",
         "showgrid": false,
         "tickfont": {
          "color": "#4D5663"
         },
         "title": {
          "font": {
           "color": "#4D5663"
          },
          "text": ""
         },
         "zerolinecolor": "#E1E5ED"
        },
        "yaxis14": {
         "anchor": "x14",
         "domain": [
          0,
          0.1975
         ],
         "gridcolor": "#E1E5ED",
         "showgrid": false,
         "tickfont": {
          "color": "#4D5663"
         },
         "title": {
          "font": {
           "color": "#4D5663"
          },
          "text": ""
         },
         "zerolinecolor": "#E1E5ED"
        },
        "yaxis15": {
         "anchor": "x15",
         "domain": [
          0,
          0.1975
         ],
         "gridcolor": "#E1E5ED",
         "showgrid": false,
         "tickfont": {
          "color": "#4D5663"
         },
         "title": {
          "font": {
           "color": "#4D5663"
          },
          "text": ""
         },
         "zerolinecolor": "#E1E5ED"
        },
        "yaxis16": {
         "anchor": "x16",
         "domain": [
          0,
          0.1975
         ],
         "gridcolor": "#E1E5ED",
         "showgrid": false,
         "tickfont": {
          "color": "#4D5663"
         },
         "title": {
          "font": {
           "color": "#4D5663"
          },
          "text": ""
         },
         "zerolinecolor": "#E1E5ED"
        },
        "yaxis2": {
         "anchor": "x2",
         "domain": [
          0.8025,
          1
         ],
         "gridcolor": "#E1E5ED",
         "showgrid": false,
         "tickfont": {
          "color": "#4D5663"
         },
         "title": {
          "font": {
           "color": "#4D5663"
          },
          "text": ""
         },
         "zerolinecolor": "#E1E5ED"
        },
        "yaxis3": {
         "anchor": "x3",
         "domain": [
          0.8025,
          1
         ],
         "gridcolor": "#E1E5ED",
         "showgrid": false,
         "tickfont": {
          "color": "#4D5663"
         },
         "title": {
          "font": {
           "color": "#4D5663"
          },
          "text": ""
         },
         "zerolinecolor": "#E1E5ED"
        },
        "yaxis4": {
         "anchor": "x4",
         "domain": [
          0.8025,
          1
         ],
         "gridcolor": "#E1E5ED",
         "showgrid": false,
         "tickfont": {
          "color": "#4D5663"
         },
         "title": {
          "font": {
           "color": "#4D5663"
          },
          "text": ""
         },
         "zerolinecolor": "#E1E5ED"
        },
        "yaxis5": {
         "anchor": "x5",
         "domain": [
          0.535,
          0.7325
         ],
         "gridcolor": "#E1E5ED",
         "showgrid": false,
         "tickfont": {
          "color": "#4D5663"
         },
         "title": {
          "font": {
           "color": "#4D5663"
          },
          "text": ""
         },
         "zerolinecolor": "#E1E5ED"
        },
        "yaxis6": {
         "anchor": "x6",
         "domain": [
          0.535,
          0.7325
         ],
         "gridcolor": "#E1E5ED",
         "showgrid": false,
         "tickfont": {
          "color": "#4D5663"
         },
         "title": {
          "font": {
           "color": "#4D5663"
          },
          "text": ""
         },
         "zerolinecolor": "#E1E5ED"
        },
        "yaxis7": {
         "anchor": "x7",
         "domain": [
          0.535,
          0.7325
         ],
         "gridcolor": "#E1E5ED",
         "showgrid": false,
         "tickfont": {
          "color": "#4D5663"
         },
         "title": {
          "font": {
           "color": "#4D5663"
          },
          "text": ""
         },
         "zerolinecolor": "#E1E5ED"
        },
        "yaxis8": {
         "anchor": "x8",
         "domain": [
          0.535,
          0.7325
         ],
         "gridcolor": "#E1E5ED",
         "showgrid": false,
         "tickfont": {
          "color": "#4D5663"
         },
         "title": {
          "font": {
           "color": "#4D5663"
          },
          "text": ""
         },
         "zerolinecolor": "#E1E5ED"
        },
        "yaxis9": {
         "anchor": "x9",
         "domain": [
          0.2675,
          0.465
         ],
         "gridcolor": "#E1E5ED",
         "showgrid": false,
         "tickfont": {
          "color": "#4D5663"
         },
         "title": {
          "font": {
           "color": "#4D5663"
          },
          "text": ""
         },
         "zerolinecolor": "#E1E5ED"
        }
       }
      },
      "text/html": [
       "<div>                            <div id=\"031c661c-db39-4ef1-a72c-895636c3705b\" class=\"plotly-graph-div\" style=\"height:525px; width:100%;\"></div>            <script type=\"text/javascript\">                require([\"plotly\"], function(Plotly) {                    window.PLOTLYENV=window.PLOTLYENV || {};\n",
       "                    window.PLOTLYENV.BASE_URL='https://plot.ly';                                    if (document.getElementById(\"031c661c-db39-4ef1-a72c-895636c3705b\")) {                    Plotly.newPlot(                        \"031c661c-db39-4ef1-a72c-895636c3705b\",                        [{\"histfunc\": \"count\", \"histnorm\": \"\", \"marker\": {\"color\": \"rgba(255, 153, 51, 1.0)\", \"line\": {\"color\": \"#4D5663\", \"width\": 1.3}}, \"name\": \"A\", \"nbinsx\": 10, \"opacity\": 0.8, \"orientation\": \"v\", \"type\": \"histogram\", \"x\": [0.5543778778007974, 1.305477680709373, -0.024430440104519096, -2.215780260803809, 2.0311597958353804, -0.4640646961126891, 0.8170695248510517, -0.7028901071685868, -1.3491332354884638, -0.6161054436764591, -0.9280833246496767, -0.202066973522514, -0.21977179427645022, -1.0499809344704083, -0.5538206199663367, 0.2265782866540906, -1.281844393909573, 1.2908776366987078, 0.18933031627514868, 1.3223490944050604, -0.6917365578725994, -0.5431131287020351, -0.2909553413115204, 1.0750396385991803, 0.7429454183000217, 0.22129435093050254, -0.8614967063028686, -1.1268504523534668, 0.7849954275435155, -2.0462048630969756, -0.008315388606309645, -0.18690885675627897, -0.7438181606657309, 0.15288541099547315, 0.014475441184176124, 0.14950478033843956, -0.8196188460104581, 0.6817811904730309, -1.2529214477062713, 0.9734419093151444, 0.46920101432825234, -1.8738939153410312, -1.0442171806553078, -0.38907289675682377, 0.3414085214985565, -0.12856373579884875, 0.7687266580761056, -1.054510339601767, -1.3749782443374008, 0.08569403027435128, -0.5857738419042354, -1.7400601235515123, -0.03888180835654369, 1.5662535457997817, -1.135373142936974, -1.1788653754026897, 0.9584474836768704, 0.8452506568614417, 1.4097083184823593, 1.380708985476826, -1.3203287612461103, -0.38364821453678444, -0.9971480233412237, 0.3380732888858674, 0.16534288637466557, -1.8140009513685151, 0.9591220114764414, -0.7781011149097469, -0.9474226100958619, 1.2943556874594229, 0.1767544740810032, 0.16052773335204457, -0.015433744952918096, -0.396594278243572, 0.0392082424630884, -0.27494729328742556, 0.8543890775430171, -0.17733028237964166, -1.0041492512236738, -0.3683532174905001, -0.4573037611863631, 0.40586150069244475, 0.7486343120609291, -1.009040149912704, -1.0528459653868723, -0.7337506006203001, 0.8784811637364917, -1.2029475450319733, 0.5139496552971384, 0.016740108317212347, 1.504783869463037, 0.26307969919951585, 0.732239718818574, 0.12788599762890387, 0.28310262019622595, 0.37445293983738454, -0.802281753308722, -0.3215480974218836, 0.030026716197300258, 0.8956302931209041], \"xaxis\": \"x\", \"yaxis\": \"y\"}, {\"line\": {\"color\": \"rgba(128, 128, 128, 1.0)\", \"dash\": \"solid\", \"shape\": \"linear\", \"width\": 1.3}, \"marker\": {\"size\": 2, \"symbol\": \"circle\"}, \"mode\": \"markers\", \"name\": \"A\", \"text\": \"\", \"type\": \"scatter\", \"x\": [0.6573420948764968, 0.10927452064301324, -1.1693955571656995, 0.27038277765157015, -0.6334428219861441, -0.7310049423608668, -0.9061497273341353, -0.17952398194820196, 0.5290628366347644, -0.3277282850274606, 0.4805066939717914, 0.4305331075124773, 1.5367349716397587, 0.9288429958501185, -0.13154094045274825, -0.008054556044534996, -0.3549430884093958, -0.5518746001809784, -0.3744331900872491, -1.1466740102851765, 0.42116918545774723, -1.2433821954666222, 0.5342388046341497, -1.2576208065547367, -0.22244895651178917, 1.3712309698798104, -0.5502388311820707, -1.5928047353411585, 0.13055640769860827, 0.9981990385975217, -0.7336616425525483, 0.4351102368339564, -0.32225790472622995, 0.7413449967439579, 0.3721174073425647, 0.512721239719747, -0.740110741950452, 0.6957972672159145, 0.830729579395018, 0.3887161572657043, 0.6150346953707452, -0.5082427724892878, -0.49489182061779347, -0.01716986251555328, 2.3602710200722505, -0.8218874927980011, 0.22427309131500953, -0.29005880893778097, 1.1779260056622485, -0.11748454801166518, 0.3402397024055858, -0.35552836385523023, -0.16451996357588944, 0.7034108409217701, 0.477435014841578, 1.1923449016301306, 0.2965107406624185, 0.46063736138339956, -1.0508179558055617, 0.9783239970892182, -0.6237161393238063, -0.9411186378701619, 0.8606564080610469, -0.8956632154241032, -0.0014160494534910955, -2.7962656734900455, -1.11910796542192, -1.2596609578746518, -0.1491127134080697, -1.824555021548616, -0.4624946856160559, -0.36554135435135815, 1.2474035413162488, 0.5151989771478599, -0.48799114484926626, 0.9900683597616949, -0.32106797524051484, -0.9560897765749078, 1.0444631985284405, 0.1693601699087248, -0.1770841413625548, 0.7422150630812716, 0.0691231084306441, 1.6744750921176692, -0.49391613899722053, -1.1450714835966944, 1.8517986856387725, -0.3470835160544637, 0.017777108580660606, 0.6695030039630508, 0.9362583269580034, -0.007334188774526295, -2.110221712510784, 0.22241278040537338, 0.07030621148623364, -0.9278741288272946, -0.5190491244263271, 0.49593328011174986, -1.5689689364140202, 1.638871879947243], \"xaxis\": \"x2\", \"y\": [0.5543778778007974, 1.305477680709373, -0.024430440104519096, -2.215780260803809, 2.0311597958353804, -0.4640646961126891, 0.8170695248510517, -0.7028901071685868, -1.3491332354884638, -0.6161054436764591, -0.9280833246496767, -0.202066973522514, -0.21977179427645022, -1.0499809344704083, -0.5538206199663367, 0.2265782866540906, -1.281844393909573, 1.2908776366987078, 0.18933031627514868, 1.3223490944050604, -0.6917365578725994, -0.5431131287020351, -0.2909553413115204, 1.0750396385991803, 0.7429454183000217, 0.22129435093050254, -0.8614967063028686, -1.1268504523534668, 0.7849954275435155, -2.0462048630969756, -0.008315388606309645, -0.18690885675627897, -0.7438181606657309, 0.15288541099547315, 0.014475441184176124, 0.14950478033843956, -0.8196188460104581, 0.6817811904730309, -1.2529214477062713, 0.9734419093151444, 0.46920101432825234, -1.8738939153410312, -1.0442171806553078, -0.38907289675682377, 0.3414085214985565, -0.12856373579884875, 0.7687266580761056, -1.054510339601767, -1.3749782443374008, 0.08569403027435128, -0.5857738419042354, -1.7400601235515123, -0.03888180835654369, 1.5662535457997817, -1.135373142936974, -1.1788653754026897, 0.9584474836768704, 0.8452506568614417, 1.4097083184823593, 1.380708985476826, -1.3203287612461103, -0.38364821453678444, -0.9971480233412237, 0.3380732888858674, 0.16534288637466557, -1.8140009513685151, 0.9591220114764414, -0.7781011149097469, -0.9474226100958619, 1.2943556874594229, 0.1767544740810032, 0.16052773335204457, -0.015433744952918096, -0.396594278243572, 0.0392082424630884, -0.27494729328742556, 0.8543890775430171, -0.17733028237964166, -1.0041492512236738, -0.3683532174905001, -0.4573037611863631, 0.40586150069244475, 0.7486343120609291, -1.009040149912704, -1.0528459653868723, -0.7337506006203001, 0.8784811637364917, -1.2029475450319733, 0.5139496552971384, 0.016740108317212347, 1.504783869463037, 0.26307969919951585, 0.732239718818574, 0.12788599762890387, 0.28310262019622595, 0.37445293983738454, -0.802281753308722, -0.3215480974218836, 0.030026716197300258, 0.8956302931209041], \"yaxis\": \"y2\"}, {\"line\": {\"color\": \"rgba(128, 128, 128, 1.0)\", \"dash\": \"solid\", \"shape\": \"linear\", \"width\": 1.3}, \"marker\": {\"size\": 2, \"symbol\": \"circle\"}, \"mode\": \"markers\", \"name\": \"A\", \"text\": \"\", \"type\": \"scatter\", \"x\": [0.7244304689755025, -1.533983970442844, -0.8551965324693319, -0.21842396186050003, -0.8532533117021437, -0.41166768307331203, 0.7899538959392478, 0.7390443968383061, -0.1650409867083505, 2.3192654117931517, 0.19235720643663545, -0.3527494759354997, 0.5379148935264183, 1.151835522011878, 0.410395706493336, -0.11322677357340596, -1.46052207468903, -2.1648591394336982, -0.6525447916866529, -0.9100413446513409, -0.747466205750414, 1.1475769101042284, -0.49641937662382046, 0.7076411173739081, 0.6912206026375171, 0.11950304092223074, 1.370187530388152, 0.11643952252661999, -1.2336454589240649, -0.11690834690009214, 2.3758572522107984, 1.1843058184002344, 0.3765039550324145, 0.7198036996826873, 0.9785538917325063, -2.016234657312846, 0.10617672351885425, 2.0123560844756794, 0.9153310454913948, -0.18378483417770797, 0.23969376760187158, 0.6791877201714943, 0.9573132623988388, -1.0464448050501058, -0.3449411634488827, -0.3926197060978508, -0.9426043186309948, 0.09939814360656844, -1.954695379723464, 0.14046890726213504, -0.8921357411717747, -1.9039040898333706, 0.695723707567566, -0.10598952610412118, 0.4169694256325223, 0.635967656503169, 0.4789638471760461, 1.2734421046589668, 0.7186745083012429, 1.2563299081568011, -0.33214823963395507, -0.9656841776341377, 2.289413173500102, 1.3092990926850652, -0.892576509571412, 0.20724766002262104, 0.7764749480109313, -1.248379330337918, -0.5032037675966533, -1.5039078981565954, -0.4207475623140223, 1.6036727162295665, -0.37639518481106476, 1.239601224875782, 0.6741355989888205, 0.08936993933782973, 0.10123310095520902, 0.768381792319711, -0.9686989011246583, 1.7946005838742298, 3.0969375898602385, -1.4711474979283572, -1.0202609189901672, 0.7648994507480035, -1.0125010975608562, 0.9283353995832332, -0.03823273735705004, 1.009838122694425, -1.1170490909926611, 0.798685997086948, -0.49173757424374465, -0.7952774759570184, -0.7987505975547264, 0.5358047436783937, -0.18837515610341052, -0.5430887201824659, -0.294189176186617, -2.24606624069467, -1.508441107667698, -0.5262834046440897], \"xaxis\": \"x3\", \"y\": [0.5543778778007974, 1.305477680709373, -0.024430440104519096, -2.215780260803809, 2.0311597958353804, -0.4640646961126891, 0.8170695248510517, -0.7028901071685868, -1.3491332354884638, -0.6161054436764591, -0.9280833246496767, -0.202066973522514, -0.21977179427645022, -1.0499809344704083, -0.5538206199663367, 0.2265782866540906, -1.281844393909573, 1.2908776366987078, 0.18933031627514868, 1.3223490944050604, -0.6917365578725994, -0.5431131287020351, -0.2909553413115204, 1.0750396385991803, 0.7429454183000217, 0.22129435093050254, -0.8614967063028686, -1.1268504523534668, 0.7849954275435155, -2.0462048630969756, -0.008315388606309645, -0.18690885675627897, -0.7438181606657309, 0.15288541099547315, 0.014475441184176124, 0.14950478033843956, -0.8196188460104581, 0.6817811904730309, -1.2529214477062713, 0.9734419093151444, 0.46920101432825234, -1.8738939153410312, -1.0442171806553078, -0.38907289675682377, 0.3414085214985565, -0.12856373579884875, 0.7687266580761056, -1.054510339601767, -1.3749782443374008, 0.08569403027435128, -0.5857738419042354, -1.7400601235515123, -0.03888180835654369, 1.5662535457997817, -1.135373142936974, -1.1788653754026897, 0.9584474836768704, 0.8452506568614417, 1.4097083184823593, 1.380708985476826, -1.3203287612461103, -0.38364821453678444, -0.9971480233412237, 0.3380732888858674, 0.16534288637466557, -1.8140009513685151, 0.9591220114764414, -0.7781011149097469, -0.9474226100958619, 1.2943556874594229, 0.1767544740810032, 0.16052773335204457, -0.015433744952918096, -0.396594278243572, 0.0392082424630884, -0.27494729328742556, 0.8543890775430171, -0.17733028237964166, -1.0041492512236738, -0.3683532174905001, -0.4573037611863631, 0.40586150069244475, 0.7486343120609291, -1.009040149912704, -1.0528459653868723, -0.7337506006203001, 0.8784811637364917, -1.2029475450319733, 0.5139496552971384, 0.016740108317212347, 1.504783869463037, 0.26307969919951585, 0.732239718818574, 0.12788599762890387, 0.28310262019622595, 0.37445293983738454, -0.802281753308722, -0.3215480974218836, 0.030026716197300258, 0.8956302931209041], \"yaxis\": \"y3\"}, {\"line\": {\"color\": \"rgba(128, 128, 128, 1.0)\", \"dash\": \"solid\", \"shape\": \"linear\", \"width\": 1.3}, \"marker\": {\"size\": 2, \"symbol\": \"circle\"}, \"mode\": \"markers\", \"name\": \"A\", \"text\": \"\", \"type\": \"scatter\", \"x\": [1.3372397297971201, -0.4239591565658293, -0.04566719693012255, -0.6338615398074309, 1.1059869163631222, 1.8042419566854349, -0.24881889324433362, 0.2607699178118119, 0.02341678852797691, -2.159594375405308, 2.0797364103026155, -1.6157114222770763, 0.6098428782924017, 0.5431891448450611, -0.10894230792445356, 1.784299612239051, 0.678682894159494, -0.398063553637055, 0.43304685945250826, 0.712177085232851, -1.893397794540836, 0.2926069391483394, 2.709939056186151, -0.8496608247163772, 0.12646113627954034, -0.5997649116260788, -1.4117130705440308, -0.702625003571693, 0.6757784449777456, 1.0448164740450137, 1.155383021285753, 1.1111111902223914, 0.24668935610102122, -1.7836251190447499, 0.07330848506865163, 0.4273459843453372, 0.2516215632532902, -0.16793153037302008, -0.2000992425317462, -0.7850705490039983, 0.46437895752502273, -0.3288488640935351, 0.8962441284165542, -0.8336462068189796, 0.7827381799073114, -0.08882544028654762, -0.5216291721770336, 0.46088055365299213, 0.7418478067740597, -0.2606875309478886, -0.5708560445284009, 0.846139874600263, 0.43890639741737797, -0.9034997729015851, -1.4106766674539206, 1.0362046866218027, 0.5116404533941629, -0.13689059577645113, -0.7987242743683536, -0.5015358701748261, -0.09854051256516917, 0.8210305538185133, -0.5903394526588178, -0.2338492678262089, 0.6433892315972654, -0.9566945702143193, 0.7228124520441599, 0.5212823204776359, -0.4894967549680151, -0.5061085403869342, 0.8827859704308412, 2.181521214758214, -0.22250483103476248, -1.9421970407362354, 0.14512083275490079, 0.6014447674404136, 0.6316564277278254, 0.4863855977607956, 0.6449654222902111, 0.720886499996344, 0.46705598497826933, -0.012490643623810055, 0.5959626629484281, 0.0301433968987179, -1.4804705709374957, 0.08518040652594563, 1.1387552565936325, 0.8996644682564086, -0.6720457439718555, 0.5333882648621263, 0.673055497441797, 2.0372985174545204, 1.2247631980944775, -1.0900822923249098, 1.3031183441348042, -2.3977857657732726, 0.2604034295760553, 0.0036178012856307694, -0.5409273384744031, -0.7529943354725642], \"xaxis\": \"x4\", \"y\": [0.5543778778007974, 1.305477680709373, -0.024430440104519096, -2.215780260803809, 2.0311597958353804, -0.4640646961126891, 0.8170695248510517, -0.7028901071685868, -1.3491332354884638, -0.6161054436764591, -0.9280833246496767, -0.202066973522514, -0.21977179427645022, -1.0499809344704083, -0.5538206199663367, 0.2265782866540906, -1.281844393909573, 1.2908776366987078, 0.18933031627514868, 1.3223490944050604, -0.6917365578725994, -0.5431131287020351, -0.2909553413115204, 1.0750396385991803, 0.7429454183000217, 0.22129435093050254, -0.8614967063028686, -1.1268504523534668, 0.7849954275435155, -2.0462048630969756, -0.008315388606309645, -0.18690885675627897, -0.7438181606657309, 0.15288541099547315, 0.014475441184176124, 0.14950478033843956, -0.8196188460104581, 0.6817811904730309, -1.2529214477062713, 0.9734419093151444, 0.46920101432825234, -1.8738939153410312, -1.0442171806553078, -0.38907289675682377, 0.3414085214985565, -0.12856373579884875, 0.7687266580761056, -1.054510339601767, -1.3749782443374008, 0.08569403027435128, -0.5857738419042354, -1.7400601235515123, -0.03888180835654369, 1.5662535457997817, -1.135373142936974, -1.1788653754026897, 0.9584474836768704, 0.8452506568614417, 1.4097083184823593, 1.380708985476826, -1.3203287612461103, -0.38364821453678444, -0.9971480233412237, 0.3380732888858674, 0.16534288637466557, -1.8140009513685151, 0.9591220114764414, -0.7781011149097469, -0.9474226100958619, 1.2943556874594229, 0.1767544740810032, 0.16052773335204457, -0.015433744952918096, -0.396594278243572, 0.0392082424630884, -0.27494729328742556, 0.8543890775430171, -0.17733028237964166, -1.0041492512236738, -0.3683532174905001, -0.4573037611863631, 0.40586150069244475, 0.7486343120609291, -1.009040149912704, -1.0528459653868723, -0.7337506006203001, 0.8784811637364917, -1.2029475450319733, 0.5139496552971384, 0.016740108317212347, 1.504783869463037, 0.26307969919951585, 0.732239718818574, 0.12788599762890387, 0.28310262019622595, 0.37445293983738454, -0.802281753308722, -0.3215480974218836, 0.030026716197300258, 0.8956302931209041], \"yaxis\": \"y4\"}, {\"line\": {\"color\": \"rgba(128, 128, 128, 1.0)\", \"dash\": \"solid\", \"shape\": \"linear\", \"width\": 1.3}, \"marker\": {\"size\": 2, \"symbol\": \"circle\"}, \"mode\": \"markers\", \"name\": \"B\", \"text\": \"\", \"type\": \"scatter\", \"x\": [0.5543778778007974, 1.305477680709373, -0.024430440104519096, -2.215780260803809, 2.0311597958353804, -0.4640646961126891, 0.8170695248510517, -0.7028901071685868, -1.3491332354884638, -0.6161054436764591, -0.9280833246496767, -0.202066973522514, -0.21977179427645022, -1.0499809344704083, -0.5538206199663367, 0.2265782866540906, -1.281844393909573, 1.2908776366987078, 0.18933031627514868, 1.3223490944050604, -0.6917365578725994, -0.5431131287020351, -0.2909553413115204, 1.0750396385991803, 0.7429454183000217, 0.22129435093050254, -0.8614967063028686, -1.1268504523534668, 0.7849954275435155, -2.0462048630969756, -0.008315388606309645, -0.18690885675627897, -0.7438181606657309, 0.15288541099547315, 0.014475441184176124, 0.14950478033843956, -0.8196188460104581, 0.6817811904730309, -1.2529214477062713, 0.9734419093151444, 0.46920101432825234, -1.8738939153410312, -1.0442171806553078, -0.38907289675682377, 0.3414085214985565, -0.12856373579884875, 0.7687266580761056, -1.054510339601767, -1.3749782443374008, 0.08569403027435128, -0.5857738419042354, -1.7400601235515123, -0.03888180835654369, 1.5662535457997817, -1.135373142936974, -1.1788653754026897, 0.9584474836768704, 0.8452506568614417, 1.4097083184823593, 1.380708985476826, -1.3203287612461103, -0.38364821453678444, -0.9971480233412237, 0.3380732888858674, 0.16534288637466557, -1.8140009513685151, 0.9591220114764414, -0.7781011149097469, -0.9474226100958619, 1.2943556874594229, 0.1767544740810032, 0.16052773335204457, -0.015433744952918096, -0.396594278243572, 0.0392082424630884, -0.27494729328742556, 0.8543890775430171, -0.17733028237964166, -1.0041492512236738, -0.3683532174905001, -0.4573037611863631, 0.40586150069244475, 0.7486343120609291, -1.009040149912704, -1.0528459653868723, -0.7337506006203001, 0.8784811637364917, -1.2029475450319733, 0.5139496552971384, 0.016740108317212347, 1.504783869463037, 0.26307969919951585, 0.732239718818574, 0.12788599762890387, 0.28310262019622595, 0.37445293983738454, -0.802281753308722, -0.3215480974218836, 0.030026716197300258, 0.8956302931209041], \"xaxis\": \"x5\", \"y\": [0.6573420948764968, 0.10927452064301324, -1.1693955571656995, 0.27038277765157015, -0.6334428219861441, -0.7310049423608668, -0.9061497273341353, -0.17952398194820196, 0.5290628366347644, -0.3277282850274606, 0.4805066939717914, 0.4305331075124773, 1.5367349716397587, 0.9288429958501185, -0.13154094045274825, -0.008054556044534996, -0.3549430884093958, -0.5518746001809784, -0.3744331900872491, -1.1466740102851765, 0.42116918545774723, -1.2433821954666222, 0.5342388046341497, -1.2576208065547367, -0.22244895651178917, 1.3712309698798104, -0.5502388311820707, -1.5928047353411585, 0.13055640769860827, 0.9981990385975217, -0.7336616425525483, 0.4351102368339564, -0.32225790472622995, 0.7413449967439579, 0.3721174073425647, 0.512721239719747, -0.740110741950452, 0.6957972672159145, 0.830729579395018, 0.3887161572657043, 0.6150346953707452, -0.5082427724892878, -0.49489182061779347, -0.01716986251555328, 2.3602710200722505, -0.8218874927980011, 0.22427309131500953, -0.29005880893778097, 1.1779260056622485, -0.11748454801166518, 0.3402397024055858, -0.35552836385523023, -0.16451996357588944, 0.7034108409217701, 0.477435014841578, 1.1923449016301306, 0.2965107406624185, 0.46063736138339956, -1.0508179558055617, 0.9783239970892182, -0.6237161393238063, -0.9411186378701619, 0.8606564080610469, -0.8956632154241032, -0.0014160494534910955, -2.7962656734900455, -1.11910796542192, -1.2596609578746518, -0.1491127134080697, -1.824555021548616, -0.4624946856160559, -0.36554135435135815, 1.2474035413162488, 0.5151989771478599, -0.48799114484926626, 0.9900683597616949, -0.32106797524051484, -0.9560897765749078, 1.0444631985284405, 0.1693601699087248, -0.1770841413625548, 0.7422150630812716, 0.0691231084306441, 1.6744750921176692, -0.49391613899722053, -1.1450714835966944, 1.8517986856387725, -0.3470835160544637, 0.017777108580660606, 0.6695030039630508, 0.9362583269580034, -0.007334188774526295, -2.110221712510784, 0.22241278040537338, 0.07030621148623364, -0.9278741288272946, -0.5190491244263271, 0.49593328011174986, -1.5689689364140202, 1.638871879947243], \"yaxis\": \"y5\"}, {\"histfunc\": \"count\", \"histnorm\": \"\", \"marker\": {\"color\": \"rgba(55, 128, 191, 1.0)\", \"line\": {\"color\": \"#4D5663\", \"width\": 1.3}}, \"name\": \"B\", \"nbinsx\": 10, \"opacity\": 0.8, \"orientation\": \"v\", \"type\": \"histogram\", \"x\": [0.6573420948764968, 0.10927452064301324, -1.1693955571656995, 0.27038277765157015, -0.6334428219861441, -0.7310049423608668, -0.9061497273341353, -0.17952398194820196, 0.5290628366347644, -0.3277282850274606, 0.4805066939717914, 0.4305331075124773, 1.5367349716397587, 0.9288429958501185, -0.13154094045274825, -0.008054556044534996, -0.3549430884093958, -0.5518746001809784, -0.3744331900872491, -1.1466740102851765, 0.42116918545774723, -1.2433821954666222, 0.5342388046341497, -1.2576208065547367, -0.22244895651178917, 1.3712309698798104, -0.5502388311820707, -1.5928047353411585, 0.13055640769860827, 0.9981990385975217, -0.7336616425525483, 0.4351102368339564, -0.32225790472622995, 0.7413449967439579, 0.3721174073425647, 0.512721239719747, -0.740110741950452, 0.6957972672159145, 0.830729579395018, 0.3887161572657043, 0.6150346953707452, -0.5082427724892878, -0.49489182061779347, -0.01716986251555328, 2.3602710200722505, -0.8218874927980011, 0.22427309131500953, -0.29005880893778097, 1.1779260056622485, -0.11748454801166518, 0.3402397024055858, -0.35552836385523023, -0.16451996357588944, 0.7034108409217701, 0.477435014841578, 1.1923449016301306, 0.2965107406624185, 0.46063736138339956, -1.0508179558055617, 0.9783239970892182, -0.6237161393238063, -0.9411186378701619, 0.8606564080610469, -0.8956632154241032, -0.0014160494534910955, -2.7962656734900455, -1.11910796542192, -1.2596609578746518, -0.1491127134080697, -1.824555021548616, -0.4624946856160559, -0.36554135435135815, 1.2474035413162488, 0.5151989771478599, -0.48799114484926626, 0.9900683597616949, -0.32106797524051484, -0.9560897765749078, 1.0444631985284405, 0.1693601699087248, -0.1770841413625548, 0.7422150630812716, 0.0691231084306441, 1.6744750921176692, -0.49391613899722053, -1.1450714835966944, 1.8517986856387725, -0.3470835160544637, 0.017777108580660606, 0.6695030039630508, 0.9362583269580034, -0.007334188774526295, -2.110221712510784, 0.22241278040537338, 0.07030621148623364, -0.9278741288272946, -0.5190491244263271, 0.49593328011174986, -1.5689689364140202, 1.638871879947243], \"xaxis\": \"x6\", \"yaxis\": \"y6\"}, {\"line\": {\"color\": \"rgba(128, 128, 128, 1.0)\", \"dash\": \"solid\", \"shape\": \"linear\", \"width\": 1.3}, \"marker\": {\"size\": 2, \"symbol\": \"circle\"}, \"mode\": \"markers\", \"name\": \"B\", \"text\": \"\", \"type\": \"scatter\", \"x\": [0.7244304689755025, -1.533983970442844, -0.8551965324693319, -0.21842396186050003, -0.8532533117021437, -0.41166768307331203, 0.7899538959392478, 0.7390443968383061, -0.1650409867083505, 2.3192654117931517, 0.19235720643663545, -0.3527494759354997, 0.5379148935264183, 1.151835522011878, 0.410395706493336, -0.11322677357340596, -1.46052207468903, -2.1648591394336982, -0.6525447916866529, -0.9100413446513409, -0.747466205750414, 1.1475769101042284, -0.49641937662382046, 0.7076411173739081, 0.6912206026375171, 0.11950304092223074, 1.370187530388152, 0.11643952252661999, -1.2336454589240649, -0.11690834690009214, 2.3758572522107984, 1.1843058184002344, 0.3765039550324145, 0.7198036996826873, 0.9785538917325063, -2.016234657312846, 0.10617672351885425, 2.0123560844756794, 0.9153310454913948, -0.18378483417770797, 0.23969376760187158, 0.6791877201714943, 0.9573132623988388, -1.0464448050501058, -0.3449411634488827, -0.3926197060978508, -0.9426043186309948, 0.09939814360656844, -1.954695379723464, 0.14046890726213504, -0.8921357411717747, -1.9039040898333706, 0.695723707567566, -0.10598952610412118, 0.4169694256325223, 0.635967656503169, 0.4789638471760461, 1.2734421046589668, 0.7186745083012429, 1.2563299081568011, -0.33214823963395507, -0.9656841776341377, 2.289413173500102, 1.3092990926850652, -0.892576509571412, 0.20724766002262104, 0.7764749480109313, -1.248379330337918, -0.5032037675966533, -1.5039078981565954, -0.4207475623140223, 1.6036727162295665, -0.37639518481106476, 1.239601224875782, 0.6741355989888205, 0.08936993933782973, 0.10123310095520902, 0.768381792319711, -0.9686989011246583, 1.7946005838742298, 3.0969375898602385, -1.4711474979283572, -1.0202609189901672, 0.7648994507480035, -1.0125010975608562, 0.9283353995832332, -0.03823273735705004, 1.009838122694425, -1.1170490909926611, 0.798685997086948, -0.49173757424374465, -0.7952774759570184, -0.7987505975547264, 0.5358047436783937, -0.18837515610341052, -0.5430887201824659, -0.294189176186617, -2.24606624069467, -1.508441107667698, -0.5262834046440897], \"xaxis\": \"x7\", \"y\": [0.6573420948764968, 0.10927452064301324, -1.1693955571656995, 0.27038277765157015, -0.6334428219861441, -0.7310049423608668, -0.9061497273341353, -0.17952398194820196, 0.5290628366347644, -0.3277282850274606, 0.4805066939717914, 0.4305331075124773, 1.5367349716397587, 0.9288429958501185, -0.13154094045274825, -0.008054556044534996, -0.3549430884093958, -0.5518746001809784, -0.3744331900872491, -1.1466740102851765, 0.42116918545774723, -1.2433821954666222, 0.5342388046341497, -1.2576208065547367, -0.22244895651178917, 1.3712309698798104, -0.5502388311820707, -1.5928047353411585, 0.13055640769860827, 0.9981990385975217, -0.7336616425525483, 0.4351102368339564, -0.32225790472622995, 0.7413449967439579, 0.3721174073425647, 0.512721239719747, -0.740110741950452, 0.6957972672159145, 0.830729579395018, 0.3887161572657043, 0.6150346953707452, -0.5082427724892878, -0.49489182061779347, -0.01716986251555328, 2.3602710200722505, -0.8218874927980011, 0.22427309131500953, -0.29005880893778097, 1.1779260056622485, -0.11748454801166518, 0.3402397024055858, -0.35552836385523023, -0.16451996357588944, 0.7034108409217701, 0.477435014841578, 1.1923449016301306, 0.2965107406624185, 0.46063736138339956, -1.0508179558055617, 0.9783239970892182, -0.6237161393238063, -0.9411186378701619, 0.8606564080610469, -0.8956632154241032, -0.0014160494534910955, -2.7962656734900455, -1.11910796542192, -1.2596609578746518, -0.1491127134080697, -1.824555021548616, -0.4624946856160559, -0.36554135435135815, 1.2474035413162488, 0.5151989771478599, -0.48799114484926626, 0.9900683597616949, -0.32106797524051484, -0.9560897765749078, 1.0444631985284405, 0.1693601699087248, -0.1770841413625548, 0.7422150630812716, 0.0691231084306441, 1.6744750921176692, -0.49391613899722053, -1.1450714835966944, 1.8517986856387725, -0.3470835160544637, 0.017777108580660606, 0.6695030039630508, 0.9362583269580034, -0.007334188774526295, -2.110221712510784, 0.22241278040537338, 0.07030621148623364, -0.9278741288272946, -0.5190491244263271, 0.49593328011174986, -1.5689689364140202, 1.638871879947243], \"yaxis\": \"y7\"}, {\"line\": {\"color\": \"rgba(128, 128, 128, 1.0)\", \"dash\": \"solid\", \"shape\": \"linear\", \"width\": 1.3}, \"marker\": {\"size\": 2, \"symbol\": \"circle\"}, \"mode\": \"markers\", \"name\": \"B\", \"text\": \"\", \"type\": \"scatter\", \"x\": [1.3372397297971201, -0.4239591565658293, -0.04566719693012255, -0.6338615398074309, 1.1059869163631222, 1.8042419566854349, -0.24881889324433362, 0.2607699178118119, 0.02341678852797691, -2.159594375405308, 2.0797364103026155, -1.6157114222770763, 0.6098428782924017, 0.5431891448450611, -0.10894230792445356, 1.784299612239051, 0.678682894159494, -0.398063553637055, 0.43304685945250826, 0.712177085232851, -1.893397794540836, 0.2926069391483394, 2.709939056186151, -0.8496608247163772, 0.12646113627954034, -0.5997649116260788, -1.4117130705440308, -0.702625003571693, 0.6757784449777456, 1.0448164740450137, 1.155383021285753, 1.1111111902223914, 0.24668935610102122, -1.7836251190447499, 0.07330848506865163, 0.4273459843453372, 0.2516215632532902, -0.16793153037302008, -0.2000992425317462, -0.7850705490039983, 0.46437895752502273, -0.3288488640935351, 0.8962441284165542, -0.8336462068189796, 0.7827381799073114, -0.08882544028654762, -0.5216291721770336, 0.46088055365299213, 0.7418478067740597, -0.2606875309478886, -0.5708560445284009, 0.846139874600263, 0.43890639741737797, -0.9034997729015851, -1.4106766674539206, 1.0362046866218027, 0.5116404533941629, -0.13689059577645113, -0.7987242743683536, -0.5015358701748261, -0.09854051256516917, 0.8210305538185133, -0.5903394526588178, -0.2338492678262089, 0.6433892315972654, -0.9566945702143193, 0.7228124520441599, 0.5212823204776359, -0.4894967549680151, -0.5061085403869342, 0.8827859704308412, 2.181521214758214, -0.22250483103476248, -1.9421970407362354, 0.14512083275490079, 0.6014447674404136, 0.6316564277278254, 0.4863855977607956, 0.6449654222902111, 0.720886499996344, 0.46705598497826933, -0.012490643623810055, 0.5959626629484281, 0.0301433968987179, -1.4804705709374957, 0.08518040652594563, 1.1387552565936325, 0.8996644682564086, -0.6720457439718555, 0.5333882648621263, 0.673055497441797, 2.0372985174545204, 1.2247631980944775, -1.0900822923249098, 1.3031183441348042, -2.3977857657732726, 0.2604034295760553, 0.0036178012856307694, -0.5409273384744031, -0.7529943354725642], \"xaxis\": \"x8\", \"y\": [0.6573420948764968, 0.10927452064301324, -1.1693955571656995, 0.27038277765157015, -0.6334428219861441, -0.7310049423608668, -0.9061497273341353, -0.17952398194820196, 0.5290628366347644, -0.3277282850274606, 0.4805066939717914, 0.4305331075124773, 1.5367349716397587, 0.9288429958501185, -0.13154094045274825, -0.008054556044534996, -0.3549430884093958, -0.5518746001809784, -0.3744331900872491, -1.1466740102851765, 0.42116918545774723, -1.2433821954666222, 0.5342388046341497, -1.2576208065547367, -0.22244895651178917, 1.3712309698798104, -0.5502388311820707, -1.5928047353411585, 0.13055640769860827, 0.9981990385975217, -0.7336616425525483, 0.4351102368339564, -0.32225790472622995, 0.7413449967439579, 0.3721174073425647, 0.512721239719747, -0.740110741950452, 0.6957972672159145, 0.830729579395018, 0.3887161572657043, 0.6150346953707452, -0.5082427724892878, -0.49489182061779347, -0.01716986251555328, 2.3602710200722505, -0.8218874927980011, 0.22427309131500953, -0.29005880893778097, 1.1779260056622485, -0.11748454801166518, 0.3402397024055858, -0.35552836385523023, -0.16451996357588944, 0.7034108409217701, 0.477435014841578, 1.1923449016301306, 0.2965107406624185, 0.46063736138339956, -1.0508179558055617, 0.9783239970892182, -0.6237161393238063, -0.9411186378701619, 0.8606564080610469, -0.8956632154241032, -0.0014160494534910955, -2.7962656734900455, -1.11910796542192, -1.2596609578746518, -0.1491127134080697, -1.824555021548616, -0.4624946856160559, -0.36554135435135815, 1.2474035413162488, 0.5151989771478599, -0.48799114484926626, 0.9900683597616949, -0.32106797524051484, -0.9560897765749078, 1.0444631985284405, 0.1693601699087248, -0.1770841413625548, 0.7422150630812716, 0.0691231084306441, 1.6744750921176692, -0.49391613899722053, -1.1450714835966944, 1.8517986856387725, -0.3470835160544637, 0.017777108580660606, 0.6695030039630508, 0.9362583269580034, -0.007334188774526295, -2.110221712510784, 0.22241278040537338, 0.07030621148623364, -0.9278741288272946, -0.5190491244263271, 0.49593328011174986, -1.5689689364140202, 1.638871879947243], \"yaxis\": \"y8\"}, {\"line\": {\"color\": \"rgba(128, 128, 128, 1.0)\", \"dash\": \"solid\", \"shape\": \"linear\", \"width\": 1.3}, \"marker\": {\"size\": 2, \"symbol\": \"circle\"}, \"mode\": \"markers\", \"name\": \"C\", \"text\": \"\", \"type\": \"scatter\", \"x\": [0.5543778778007974, 1.305477680709373, -0.024430440104519096, -2.215780260803809, 2.0311597958353804, -0.4640646961126891, 0.8170695248510517, -0.7028901071685868, -1.3491332354884638, -0.6161054436764591, -0.9280833246496767, -0.202066973522514, -0.21977179427645022, -1.0499809344704083, -0.5538206199663367, 0.2265782866540906, -1.281844393909573, 1.2908776366987078, 0.18933031627514868, 1.3223490944050604, -0.6917365578725994, -0.5431131287020351, -0.2909553413115204, 1.0750396385991803, 0.7429454183000217, 0.22129435093050254, -0.8614967063028686, -1.1268504523534668, 0.7849954275435155, -2.0462048630969756, -0.008315388606309645, -0.18690885675627897, -0.7438181606657309, 0.15288541099547315, 0.014475441184176124, 0.14950478033843956, -0.8196188460104581, 0.6817811904730309, -1.2529214477062713, 0.9734419093151444, 0.46920101432825234, -1.8738939153410312, -1.0442171806553078, -0.38907289675682377, 0.3414085214985565, -0.12856373579884875, 0.7687266580761056, -1.054510339601767, -1.3749782443374008, 0.08569403027435128, -0.5857738419042354, -1.7400601235515123, -0.03888180835654369, 1.5662535457997817, -1.135373142936974, -1.1788653754026897, 0.9584474836768704, 0.8452506568614417, 1.4097083184823593, 1.380708985476826, -1.3203287612461103, -0.38364821453678444, -0.9971480233412237, 0.3380732888858674, 0.16534288637466557, -1.8140009513685151, 0.9591220114764414, -0.7781011149097469, -0.9474226100958619, 1.2943556874594229, 0.1767544740810032, 0.16052773335204457, -0.015433744952918096, -0.396594278243572, 0.0392082424630884, -0.27494729328742556, 0.8543890775430171, -0.17733028237964166, -1.0041492512236738, -0.3683532174905001, -0.4573037611863631, 0.40586150069244475, 0.7486343120609291, -1.009040149912704, -1.0528459653868723, -0.7337506006203001, 0.8784811637364917, -1.2029475450319733, 0.5139496552971384, 0.016740108317212347, 1.504783869463037, 0.26307969919951585, 0.732239718818574, 0.12788599762890387, 0.28310262019622595, 0.37445293983738454, -0.802281753308722, -0.3215480974218836, 0.030026716197300258, 0.8956302931209041], \"xaxis\": \"x9\", \"y\": [0.7244304689755025, -1.533983970442844, -0.8551965324693319, -0.21842396186050003, -0.8532533117021437, -0.41166768307331203, 0.7899538959392478, 0.7390443968383061, -0.1650409867083505, 2.3192654117931517, 0.19235720643663545, -0.3527494759354997, 0.5379148935264183, 1.151835522011878, 0.410395706493336, -0.11322677357340596, -1.46052207468903, -2.1648591394336982, -0.6525447916866529, -0.9100413446513409, -0.747466205750414, 1.1475769101042284, -0.49641937662382046, 0.7076411173739081, 0.6912206026375171, 0.11950304092223074, 1.370187530388152, 0.11643952252661999, -1.2336454589240649, -0.11690834690009214, 2.3758572522107984, 1.1843058184002344, 0.3765039550324145, 0.7198036996826873, 0.9785538917325063, -2.016234657312846, 0.10617672351885425, 2.0123560844756794, 0.9153310454913948, -0.18378483417770797, 0.23969376760187158, 0.6791877201714943, 0.9573132623988388, -1.0464448050501058, -0.3449411634488827, -0.3926197060978508, -0.9426043186309948, 0.09939814360656844, -1.954695379723464, 0.14046890726213504, -0.8921357411717747, -1.9039040898333706, 0.695723707567566, -0.10598952610412118, 0.4169694256325223, 0.635967656503169, 0.4789638471760461, 1.2734421046589668, 0.7186745083012429, 1.2563299081568011, -0.33214823963395507, -0.9656841776341377, 2.289413173500102, 1.3092990926850652, -0.892576509571412, 0.20724766002262104, 0.7764749480109313, -1.248379330337918, -0.5032037675966533, -1.5039078981565954, -0.4207475623140223, 1.6036727162295665, -0.37639518481106476, 1.239601224875782, 0.6741355989888205, 0.08936993933782973, 0.10123310095520902, 0.768381792319711, -0.9686989011246583, 1.7946005838742298, 3.0969375898602385, -1.4711474979283572, -1.0202609189901672, 0.7648994507480035, -1.0125010975608562, 0.9283353995832332, -0.03823273735705004, 1.009838122694425, -1.1170490909926611, 0.798685997086948, -0.49173757424374465, -0.7952774759570184, -0.7987505975547264, 0.5358047436783937, -0.18837515610341052, -0.5430887201824659, -0.294189176186617, -2.24606624069467, -1.508441107667698, -0.5262834046440897], \"yaxis\": \"y9\"}, {\"line\": {\"color\": \"rgba(128, 128, 128, 1.0)\", \"dash\": \"solid\", \"shape\": \"linear\", \"width\": 1.3}, \"marker\": {\"size\": 2, \"symbol\": \"circle\"}, \"mode\": \"markers\", \"name\": \"C\", \"text\": \"\", \"type\": \"scatter\", \"x\": [0.6573420948764968, 0.10927452064301324, -1.1693955571656995, 0.27038277765157015, -0.6334428219861441, -0.7310049423608668, -0.9061497273341353, -0.17952398194820196, 0.5290628366347644, -0.3277282850274606, 0.4805066939717914, 0.4305331075124773, 1.5367349716397587, 0.9288429958501185, -0.13154094045274825, -0.008054556044534996, -0.3549430884093958, -0.5518746001809784, -0.3744331900872491, -1.1466740102851765, 0.42116918545774723, -1.2433821954666222, 0.5342388046341497, -1.2576208065547367, -0.22244895651178917, 1.3712309698798104, -0.5502388311820707, -1.5928047353411585, 0.13055640769860827, 0.9981990385975217, -0.7336616425525483, 0.4351102368339564, -0.32225790472622995, 0.7413449967439579, 0.3721174073425647, 0.512721239719747, -0.740110741950452, 0.6957972672159145, 0.830729579395018, 0.3887161572657043, 0.6150346953707452, -0.5082427724892878, -0.49489182061779347, -0.01716986251555328, 2.3602710200722505, -0.8218874927980011, 0.22427309131500953, -0.29005880893778097, 1.1779260056622485, -0.11748454801166518, 0.3402397024055858, -0.35552836385523023, -0.16451996357588944, 0.7034108409217701, 0.477435014841578, 1.1923449016301306, 0.2965107406624185, 0.46063736138339956, -1.0508179558055617, 0.9783239970892182, -0.6237161393238063, -0.9411186378701619, 0.8606564080610469, -0.8956632154241032, -0.0014160494534910955, -2.7962656734900455, -1.11910796542192, -1.2596609578746518, -0.1491127134080697, -1.824555021548616, -0.4624946856160559, -0.36554135435135815, 1.2474035413162488, 0.5151989771478599, -0.48799114484926626, 0.9900683597616949, -0.32106797524051484, -0.9560897765749078, 1.0444631985284405, 0.1693601699087248, -0.1770841413625548, 0.7422150630812716, 0.0691231084306441, 1.6744750921176692, -0.49391613899722053, -1.1450714835966944, 1.8517986856387725, -0.3470835160544637, 0.017777108580660606, 0.6695030039630508, 0.9362583269580034, -0.007334188774526295, -2.110221712510784, 0.22241278040537338, 0.07030621148623364, -0.9278741288272946, -0.5190491244263271, 0.49593328011174986, -1.5689689364140202, 1.638871879947243], \"xaxis\": \"x10\", \"y\": [0.7244304689755025, -1.533983970442844, -0.8551965324693319, -0.21842396186050003, -0.8532533117021437, -0.41166768307331203, 0.7899538959392478, 0.7390443968383061, -0.1650409867083505, 2.3192654117931517, 0.19235720643663545, -0.3527494759354997, 0.5379148935264183, 1.151835522011878, 0.410395706493336, -0.11322677357340596, -1.46052207468903, -2.1648591394336982, -0.6525447916866529, -0.9100413446513409, -0.747466205750414, 1.1475769101042284, -0.49641937662382046, 0.7076411173739081, 0.6912206026375171, 0.11950304092223074, 1.370187530388152, 0.11643952252661999, -1.2336454589240649, -0.11690834690009214, 2.3758572522107984, 1.1843058184002344, 0.3765039550324145, 0.7198036996826873, 0.9785538917325063, -2.016234657312846, 0.10617672351885425, 2.0123560844756794, 0.9153310454913948, -0.18378483417770797, 0.23969376760187158, 0.6791877201714943, 0.9573132623988388, -1.0464448050501058, -0.3449411634488827, -0.3926197060978508, -0.9426043186309948, 0.09939814360656844, -1.954695379723464, 0.14046890726213504, -0.8921357411717747, -1.9039040898333706, 0.695723707567566, -0.10598952610412118, 0.4169694256325223, 0.635967656503169, 0.4789638471760461, 1.2734421046589668, 0.7186745083012429, 1.2563299081568011, -0.33214823963395507, -0.9656841776341377, 2.289413173500102, 1.3092990926850652, -0.892576509571412, 0.20724766002262104, 0.7764749480109313, -1.248379330337918, -0.5032037675966533, -1.5039078981565954, -0.4207475623140223, 1.6036727162295665, -0.37639518481106476, 1.239601224875782, 0.6741355989888205, 0.08936993933782973, 0.10123310095520902, 0.768381792319711, -0.9686989011246583, 1.7946005838742298, 3.0969375898602385, -1.4711474979283572, -1.0202609189901672, 0.7648994507480035, -1.0125010975608562, 0.9283353995832332, -0.03823273735705004, 1.009838122694425, -1.1170490909926611, 0.798685997086948, -0.49173757424374465, -0.7952774759570184, -0.7987505975547264, 0.5358047436783937, -0.18837515610341052, -0.5430887201824659, -0.294189176186617, -2.24606624069467, -1.508441107667698, -0.5262834046440897], \"yaxis\": \"y10\"}, {\"histfunc\": \"count\", \"histnorm\": \"\", \"marker\": {\"color\": \"rgba(50, 171, 96, 1.0)\", \"line\": {\"color\": \"#4D5663\", \"width\": 1.3}}, \"name\": \"C\", \"nbinsx\": 10, \"opacity\": 0.8, \"orientation\": \"v\", \"type\": \"histogram\", \"x\": [0.7244304689755025, -1.533983970442844, -0.8551965324693319, -0.21842396186050003, -0.8532533117021437, -0.41166768307331203, 0.7899538959392478, 0.7390443968383061, -0.1650409867083505, 2.3192654117931517, 0.19235720643663545, -0.3527494759354997, 0.5379148935264183, 1.151835522011878, 0.410395706493336, -0.11322677357340596, -1.46052207468903, -2.1648591394336982, -0.6525447916866529, -0.9100413446513409, -0.747466205750414, 1.1475769101042284, -0.49641937662382046, 0.7076411173739081, 0.6912206026375171, 0.11950304092223074, 1.370187530388152, 0.11643952252661999, -1.2336454589240649, -0.11690834690009214, 2.3758572522107984, 1.1843058184002344, 0.3765039550324145, 0.7198036996826873, 0.9785538917325063, -2.016234657312846, 0.10617672351885425, 2.0123560844756794, 0.9153310454913948, -0.18378483417770797, 0.23969376760187158, 0.6791877201714943, 0.9573132623988388, -1.0464448050501058, -0.3449411634488827, -0.3926197060978508, -0.9426043186309948, 0.09939814360656844, -1.954695379723464, 0.14046890726213504, -0.8921357411717747, -1.9039040898333706, 0.695723707567566, -0.10598952610412118, 0.4169694256325223, 0.635967656503169, 0.4789638471760461, 1.2734421046589668, 0.7186745083012429, 1.2563299081568011, -0.33214823963395507, -0.9656841776341377, 2.289413173500102, 1.3092990926850652, -0.892576509571412, 0.20724766002262104, 0.7764749480109313, -1.248379330337918, -0.5032037675966533, -1.5039078981565954, -0.4207475623140223, 1.6036727162295665, -0.37639518481106476, 1.239601224875782, 0.6741355989888205, 0.08936993933782973, 0.10123310095520902, 0.768381792319711, -0.9686989011246583, 1.7946005838742298, 3.0969375898602385, -1.4711474979283572, -1.0202609189901672, 0.7648994507480035, -1.0125010975608562, 0.9283353995832332, -0.03823273735705004, 1.009838122694425, -1.1170490909926611, 0.798685997086948, -0.49173757424374465, -0.7952774759570184, -0.7987505975547264, 0.5358047436783937, -0.18837515610341052, -0.5430887201824659, -0.294189176186617, -2.24606624069467, -1.508441107667698, -0.5262834046440897], \"xaxis\": \"x11\", \"yaxis\": \"y11\"}, {\"line\": {\"color\": \"rgba(128, 128, 128, 1.0)\", \"dash\": \"solid\", \"shape\": \"linear\", \"width\": 1.3}, \"marker\": {\"size\": 2, \"symbol\": \"circle\"}, \"mode\": \"markers\", \"name\": \"C\", \"text\": \"\", \"type\": \"scatter\", \"x\": [1.3372397297971201, -0.4239591565658293, -0.04566719693012255, -0.6338615398074309, 1.1059869163631222, 1.8042419566854349, -0.24881889324433362, 0.2607699178118119, 0.02341678852797691, -2.159594375405308, 2.0797364103026155, -1.6157114222770763, 0.6098428782924017, 0.5431891448450611, -0.10894230792445356, 1.784299612239051, 0.678682894159494, -0.398063553637055, 0.43304685945250826, 0.712177085232851, -1.893397794540836, 0.2926069391483394, 2.709939056186151, -0.8496608247163772, 0.12646113627954034, -0.5997649116260788, -1.4117130705440308, -0.702625003571693, 0.6757784449777456, 1.0448164740450137, 1.155383021285753, 1.1111111902223914, 0.24668935610102122, -1.7836251190447499, 0.07330848506865163, 0.4273459843453372, 0.2516215632532902, -0.16793153037302008, -0.2000992425317462, -0.7850705490039983, 0.46437895752502273, -0.3288488640935351, 0.8962441284165542, -0.8336462068189796, 0.7827381799073114, -0.08882544028654762, -0.5216291721770336, 0.46088055365299213, 0.7418478067740597, -0.2606875309478886, -0.5708560445284009, 0.846139874600263, 0.43890639741737797, -0.9034997729015851, -1.4106766674539206, 1.0362046866218027, 0.5116404533941629, -0.13689059577645113, -0.7987242743683536, -0.5015358701748261, -0.09854051256516917, 0.8210305538185133, -0.5903394526588178, -0.2338492678262089, 0.6433892315972654, -0.9566945702143193, 0.7228124520441599, 0.5212823204776359, -0.4894967549680151, -0.5061085403869342, 0.8827859704308412, 2.181521214758214, -0.22250483103476248, -1.9421970407362354, 0.14512083275490079, 0.6014447674404136, 0.6316564277278254, 0.4863855977607956, 0.6449654222902111, 0.720886499996344, 0.46705598497826933, -0.012490643623810055, 0.5959626629484281, 0.0301433968987179, -1.4804705709374957, 0.08518040652594563, 1.1387552565936325, 0.8996644682564086, -0.6720457439718555, 0.5333882648621263, 0.673055497441797, 2.0372985174545204, 1.2247631980944775, -1.0900822923249098, 1.3031183441348042, -2.3977857657732726, 0.2604034295760553, 0.0036178012856307694, -0.5409273384744031, -0.7529943354725642], \"xaxis\": \"x12\", \"y\": [0.7244304689755025, -1.533983970442844, -0.8551965324693319, -0.21842396186050003, -0.8532533117021437, -0.41166768307331203, 0.7899538959392478, 0.7390443968383061, -0.1650409867083505, 2.3192654117931517, 0.19235720643663545, -0.3527494759354997, 0.5379148935264183, 1.151835522011878, 0.410395706493336, -0.11322677357340596, -1.46052207468903, -2.1648591394336982, -0.6525447916866529, -0.9100413446513409, -0.747466205750414, 1.1475769101042284, -0.49641937662382046, 0.7076411173739081, 0.6912206026375171, 0.11950304092223074, 1.370187530388152, 0.11643952252661999, -1.2336454589240649, -0.11690834690009214, 2.3758572522107984, 1.1843058184002344, 0.3765039550324145, 0.7198036996826873, 0.9785538917325063, -2.016234657312846, 0.10617672351885425, 2.0123560844756794, 0.9153310454913948, -0.18378483417770797, 0.23969376760187158, 0.6791877201714943, 0.9573132623988388, -1.0464448050501058, -0.3449411634488827, -0.3926197060978508, -0.9426043186309948, 0.09939814360656844, -1.954695379723464, 0.14046890726213504, -0.8921357411717747, -1.9039040898333706, 0.695723707567566, -0.10598952610412118, 0.4169694256325223, 0.635967656503169, 0.4789638471760461, 1.2734421046589668, 0.7186745083012429, 1.2563299081568011, -0.33214823963395507, -0.9656841776341377, 2.289413173500102, 1.3092990926850652, -0.892576509571412, 0.20724766002262104, 0.7764749480109313, -1.248379330337918, -0.5032037675966533, -1.5039078981565954, -0.4207475623140223, 1.6036727162295665, -0.37639518481106476, 1.239601224875782, 0.6741355989888205, 0.08936993933782973, 0.10123310095520902, 0.768381792319711, -0.9686989011246583, 1.7946005838742298, 3.0969375898602385, -1.4711474979283572, -1.0202609189901672, 0.7648994507480035, -1.0125010975608562, 0.9283353995832332, -0.03823273735705004, 1.009838122694425, -1.1170490909926611, 0.798685997086948, -0.49173757424374465, -0.7952774759570184, -0.7987505975547264, 0.5358047436783937, -0.18837515610341052, -0.5430887201824659, -0.294189176186617, -2.24606624069467, -1.508441107667698, -0.5262834046440897], \"yaxis\": \"y12\"}, {\"line\": {\"color\": \"rgba(128, 128, 128, 1.0)\", \"dash\": \"solid\", \"shape\": \"linear\", \"width\": 1.3}, \"marker\": {\"size\": 2, \"symbol\": \"circle\"}, \"mode\": \"markers\", \"name\": \"D\", \"text\": \"\", \"type\": \"scatter\", \"x\": [0.5543778778007974, 1.305477680709373, -0.024430440104519096, -2.215780260803809, 2.0311597958353804, -0.4640646961126891, 0.8170695248510517, -0.7028901071685868, -1.3491332354884638, -0.6161054436764591, -0.9280833246496767, -0.202066973522514, -0.21977179427645022, -1.0499809344704083, -0.5538206199663367, 0.2265782866540906, -1.281844393909573, 1.2908776366987078, 0.18933031627514868, 1.3223490944050604, -0.6917365578725994, -0.5431131287020351, -0.2909553413115204, 1.0750396385991803, 0.7429454183000217, 0.22129435093050254, -0.8614967063028686, -1.1268504523534668, 0.7849954275435155, -2.0462048630969756, -0.008315388606309645, -0.18690885675627897, -0.7438181606657309, 0.15288541099547315, 0.014475441184176124, 0.14950478033843956, -0.8196188460104581, 0.6817811904730309, -1.2529214477062713, 0.9734419093151444, 0.46920101432825234, -1.8738939153410312, -1.0442171806553078, -0.38907289675682377, 0.3414085214985565, -0.12856373579884875, 0.7687266580761056, -1.054510339601767, -1.3749782443374008, 0.08569403027435128, -0.5857738419042354, -1.7400601235515123, -0.03888180835654369, 1.5662535457997817, -1.135373142936974, -1.1788653754026897, 0.9584474836768704, 0.8452506568614417, 1.4097083184823593, 1.380708985476826, -1.3203287612461103, -0.38364821453678444, -0.9971480233412237, 0.3380732888858674, 0.16534288637466557, -1.8140009513685151, 0.9591220114764414, -0.7781011149097469, -0.9474226100958619, 1.2943556874594229, 0.1767544740810032, 0.16052773335204457, -0.015433744952918096, -0.396594278243572, 0.0392082424630884, -0.27494729328742556, 0.8543890775430171, -0.17733028237964166, -1.0041492512236738, -0.3683532174905001, -0.4573037611863631, 0.40586150069244475, 0.7486343120609291, -1.009040149912704, -1.0528459653868723, -0.7337506006203001, 0.8784811637364917, -1.2029475450319733, 0.5139496552971384, 0.016740108317212347, 1.504783869463037, 0.26307969919951585, 0.732239718818574, 0.12788599762890387, 0.28310262019622595, 0.37445293983738454, -0.802281753308722, -0.3215480974218836, 0.030026716197300258, 0.8956302931209041], \"xaxis\": \"x13\", \"y\": [1.3372397297971201, -0.4239591565658293, -0.04566719693012255, -0.6338615398074309, 1.1059869163631222, 1.8042419566854349, -0.24881889324433362, 0.2607699178118119, 0.02341678852797691, -2.159594375405308, 2.0797364103026155, -1.6157114222770763, 0.6098428782924017, 0.5431891448450611, -0.10894230792445356, 1.784299612239051, 0.678682894159494, -0.398063553637055, 0.43304685945250826, 0.712177085232851, -1.893397794540836, 0.2926069391483394, 2.709939056186151, -0.8496608247163772, 0.12646113627954034, -0.5997649116260788, -1.4117130705440308, -0.702625003571693, 0.6757784449777456, 1.0448164740450137, 1.155383021285753, 1.1111111902223914, 0.24668935610102122, -1.7836251190447499, 0.07330848506865163, 0.4273459843453372, 0.2516215632532902, -0.16793153037302008, -0.2000992425317462, -0.7850705490039983, 0.46437895752502273, -0.3288488640935351, 0.8962441284165542, -0.8336462068189796, 0.7827381799073114, -0.08882544028654762, -0.5216291721770336, 0.46088055365299213, 0.7418478067740597, -0.2606875309478886, -0.5708560445284009, 0.846139874600263, 0.43890639741737797, -0.9034997729015851, -1.4106766674539206, 1.0362046866218027, 0.5116404533941629, -0.13689059577645113, -0.7987242743683536, -0.5015358701748261, -0.09854051256516917, 0.8210305538185133, -0.5903394526588178, -0.2338492678262089, 0.6433892315972654, -0.9566945702143193, 0.7228124520441599, 0.5212823204776359, -0.4894967549680151, -0.5061085403869342, 0.8827859704308412, 2.181521214758214, -0.22250483103476248, -1.9421970407362354, 0.14512083275490079, 0.6014447674404136, 0.6316564277278254, 0.4863855977607956, 0.6449654222902111, 0.720886499996344, 0.46705598497826933, -0.012490643623810055, 0.5959626629484281, 0.0301433968987179, -1.4804705709374957, 0.08518040652594563, 1.1387552565936325, 0.8996644682564086, -0.6720457439718555, 0.5333882648621263, 0.673055497441797, 2.0372985174545204, 1.2247631980944775, -1.0900822923249098, 1.3031183441348042, -2.3977857657732726, 0.2604034295760553, 0.0036178012856307694, -0.5409273384744031, -0.7529943354725642], \"yaxis\": \"y13\"}, {\"line\": {\"color\": \"rgba(128, 128, 128, 1.0)\", \"dash\": \"solid\", \"shape\": \"linear\", \"width\": 1.3}, \"marker\": {\"size\": 2, \"symbol\": \"circle\"}, \"mode\": \"markers\", \"name\": \"D\", \"text\": \"\", \"type\": \"scatter\", \"x\": [0.6573420948764968, 0.10927452064301324, -1.1693955571656995, 0.27038277765157015, -0.6334428219861441, -0.7310049423608668, -0.9061497273341353, -0.17952398194820196, 0.5290628366347644, -0.3277282850274606, 0.4805066939717914, 0.4305331075124773, 1.5367349716397587, 0.9288429958501185, -0.13154094045274825, -0.008054556044534996, -0.3549430884093958, -0.5518746001809784, -0.3744331900872491, -1.1466740102851765, 0.42116918545774723, -1.2433821954666222, 0.5342388046341497, -1.2576208065547367, -0.22244895651178917, 1.3712309698798104, -0.5502388311820707, -1.5928047353411585, 0.13055640769860827, 0.9981990385975217, -0.7336616425525483, 0.4351102368339564, -0.32225790472622995, 0.7413449967439579, 0.3721174073425647, 0.512721239719747, -0.740110741950452, 0.6957972672159145, 0.830729579395018, 0.3887161572657043, 0.6150346953707452, -0.5082427724892878, -0.49489182061779347, -0.01716986251555328, 2.3602710200722505, -0.8218874927980011, 0.22427309131500953, -0.29005880893778097, 1.1779260056622485, -0.11748454801166518, 0.3402397024055858, -0.35552836385523023, -0.16451996357588944, 0.7034108409217701, 0.477435014841578, 1.1923449016301306, 0.2965107406624185, 0.46063736138339956, -1.0508179558055617, 0.9783239970892182, -0.6237161393238063, -0.9411186378701619, 0.8606564080610469, -0.8956632154241032, -0.0014160494534910955, -2.7962656734900455, -1.11910796542192, -1.2596609578746518, -0.1491127134080697, -1.824555021548616, -0.4624946856160559, -0.36554135435135815, 1.2474035413162488, 0.5151989771478599, -0.48799114484926626, 0.9900683597616949, -0.32106797524051484, -0.9560897765749078, 1.0444631985284405, 0.1693601699087248, -0.1770841413625548, 0.7422150630812716, 0.0691231084306441, 1.6744750921176692, -0.49391613899722053, -1.1450714835966944, 1.8517986856387725, -0.3470835160544637, 0.017777108580660606, 0.6695030039630508, 0.9362583269580034, -0.007334188774526295, -2.110221712510784, 0.22241278040537338, 0.07030621148623364, -0.9278741288272946, -0.5190491244263271, 0.49593328011174986, -1.5689689364140202, 1.638871879947243], \"xaxis\": \"x14\", \"y\": [1.3372397297971201, -0.4239591565658293, -0.04566719693012255, -0.6338615398074309, 1.1059869163631222, 1.8042419566854349, -0.24881889324433362, 0.2607699178118119, 0.02341678852797691, -2.159594375405308, 2.0797364103026155, -1.6157114222770763, 0.6098428782924017, 0.5431891448450611, -0.10894230792445356, 1.784299612239051, 0.678682894159494, -0.398063553637055, 0.43304685945250826, 0.712177085232851, -1.893397794540836, 0.2926069391483394, 2.709939056186151, -0.8496608247163772, 0.12646113627954034, -0.5997649116260788, -1.4117130705440308, -0.702625003571693, 0.6757784449777456, 1.0448164740450137, 1.155383021285753, 1.1111111902223914, 0.24668935610102122, -1.7836251190447499, 0.07330848506865163, 0.4273459843453372, 0.2516215632532902, -0.16793153037302008, -0.2000992425317462, -0.7850705490039983, 0.46437895752502273, -0.3288488640935351, 0.8962441284165542, -0.8336462068189796, 0.7827381799073114, -0.08882544028654762, -0.5216291721770336, 0.46088055365299213, 0.7418478067740597, -0.2606875309478886, -0.5708560445284009, 0.846139874600263, 0.43890639741737797, -0.9034997729015851, -1.4106766674539206, 1.0362046866218027, 0.5116404533941629, -0.13689059577645113, -0.7987242743683536, -0.5015358701748261, -0.09854051256516917, 0.8210305538185133, -0.5903394526588178, -0.2338492678262089, 0.6433892315972654, -0.9566945702143193, 0.7228124520441599, 0.5212823204776359, -0.4894967549680151, -0.5061085403869342, 0.8827859704308412, 2.181521214758214, -0.22250483103476248, -1.9421970407362354, 0.14512083275490079, 0.6014447674404136, 0.6316564277278254, 0.4863855977607956, 0.6449654222902111, 0.720886499996344, 0.46705598497826933, -0.012490643623810055, 0.5959626629484281, 0.0301433968987179, -1.4804705709374957, 0.08518040652594563, 1.1387552565936325, 0.8996644682564086, -0.6720457439718555, 0.5333882648621263, 0.673055497441797, 2.0372985174545204, 1.2247631980944775, -1.0900822923249098, 1.3031183441348042, -2.3977857657732726, 0.2604034295760553, 0.0036178012856307694, -0.5409273384744031, -0.7529943354725642], \"yaxis\": \"y14\"}, {\"line\": {\"color\": \"rgba(128, 128, 128, 1.0)\", \"dash\": \"solid\", \"shape\": \"linear\", \"width\": 1.3}, \"marker\": {\"size\": 2, \"symbol\": \"circle\"}, \"mode\": \"markers\", \"name\": \"D\", \"text\": \"\", \"type\": \"scatter\", \"x\": [0.7244304689755025, -1.533983970442844, -0.8551965324693319, -0.21842396186050003, -0.8532533117021437, -0.41166768307331203, 0.7899538959392478, 0.7390443968383061, -0.1650409867083505, 2.3192654117931517, 0.19235720643663545, -0.3527494759354997, 0.5379148935264183, 1.151835522011878, 0.410395706493336, -0.11322677357340596, -1.46052207468903, -2.1648591394336982, -0.6525447916866529, -0.9100413446513409, -0.747466205750414, 1.1475769101042284, -0.49641937662382046, 0.7076411173739081, 0.6912206026375171, 0.11950304092223074, 1.370187530388152, 0.11643952252661999, -1.2336454589240649, -0.11690834690009214, 2.3758572522107984, 1.1843058184002344, 0.3765039550324145, 0.7198036996826873, 0.9785538917325063, -2.016234657312846, 0.10617672351885425, 2.0123560844756794, 0.9153310454913948, -0.18378483417770797, 0.23969376760187158, 0.6791877201714943, 0.9573132623988388, -1.0464448050501058, -0.3449411634488827, -0.3926197060978508, -0.9426043186309948, 0.09939814360656844, -1.954695379723464, 0.14046890726213504, -0.8921357411717747, -1.9039040898333706, 0.695723707567566, -0.10598952610412118, 0.4169694256325223, 0.635967656503169, 0.4789638471760461, 1.2734421046589668, 0.7186745083012429, 1.2563299081568011, -0.33214823963395507, -0.9656841776341377, 2.289413173500102, 1.3092990926850652, -0.892576509571412, 0.20724766002262104, 0.7764749480109313, -1.248379330337918, -0.5032037675966533, -1.5039078981565954, -0.4207475623140223, 1.6036727162295665, -0.37639518481106476, 1.239601224875782, 0.6741355989888205, 0.08936993933782973, 0.10123310095520902, 0.768381792319711, -0.9686989011246583, 1.7946005838742298, 3.0969375898602385, -1.4711474979283572, -1.0202609189901672, 0.7648994507480035, -1.0125010975608562, 0.9283353995832332, -0.03823273735705004, 1.009838122694425, -1.1170490909926611, 0.798685997086948, -0.49173757424374465, -0.7952774759570184, -0.7987505975547264, 0.5358047436783937, -0.18837515610341052, -0.5430887201824659, -0.294189176186617, -2.24606624069467, -1.508441107667698, -0.5262834046440897], \"xaxis\": \"x15\", \"y\": [1.3372397297971201, -0.4239591565658293, -0.04566719693012255, -0.6338615398074309, 1.1059869163631222, 1.8042419566854349, -0.24881889324433362, 0.2607699178118119, 0.02341678852797691, -2.159594375405308, 2.0797364103026155, -1.6157114222770763, 0.6098428782924017, 0.5431891448450611, -0.10894230792445356, 1.784299612239051, 0.678682894159494, -0.398063553637055, 0.43304685945250826, 0.712177085232851, -1.893397794540836, 0.2926069391483394, 2.709939056186151, -0.8496608247163772, 0.12646113627954034, -0.5997649116260788, -1.4117130705440308, -0.702625003571693, 0.6757784449777456, 1.0448164740450137, 1.155383021285753, 1.1111111902223914, 0.24668935610102122, -1.7836251190447499, 0.07330848506865163, 0.4273459843453372, 0.2516215632532902, -0.16793153037302008, -0.2000992425317462, -0.7850705490039983, 0.46437895752502273, -0.3288488640935351, 0.8962441284165542, -0.8336462068189796, 0.7827381799073114, -0.08882544028654762, -0.5216291721770336, 0.46088055365299213, 0.7418478067740597, -0.2606875309478886, -0.5708560445284009, 0.846139874600263, 0.43890639741737797, -0.9034997729015851, -1.4106766674539206, 1.0362046866218027, 0.5116404533941629, -0.13689059577645113, -0.7987242743683536, -0.5015358701748261, -0.09854051256516917, 0.8210305538185133, -0.5903394526588178, -0.2338492678262089, 0.6433892315972654, -0.9566945702143193, 0.7228124520441599, 0.5212823204776359, -0.4894967549680151, -0.5061085403869342, 0.8827859704308412, 2.181521214758214, -0.22250483103476248, -1.9421970407362354, 0.14512083275490079, 0.6014447674404136, 0.6316564277278254, 0.4863855977607956, 0.6449654222902111, 0.720886499996344, 0.46705598497826933, -0.012490643623810055, 0.5959626629484281, 0.0301433968987179, -1.4804705709374957, 0.08518040652594563, 1.1387552565936325, 0.8996644682564086, -0.6720457439718555, 0.5333882648621263, 0.673055497441797, 2.0372985174545204, 1.2247631980944775, -1.0900822923249098, 1.3031183441348042, -2.3977857657732726, 0.2604034295760553, 0.0036178012856307694, -0.5409273384744031, -0.7529943354725642], \"yaxis\": \"y15\"}, {\"histfunc\": \"count\", \"histnorm\": \"\", \"marker\": {\"color\": \"rgba(128, 0, 128, 1.0)\", \"line\": {\"color\": \"#4D5663\", \"width\": 1.3}}, \"name\": \"D\", \"nbinsx\": 10, \"opacity\": 0.8, \"orientation\": \"v\", \"type\": \"histogram\", \"x\": [1.3372397297971201, -0.4239591565658293, -0.04566719693012255, -0.6338615398074309, 1.1059869163631222, 1.8042419566854349, -0.24881889324433362, 0.2607699178118119, 0.02341678852797691, -2.159594375405308, 2.0797364103026155, -1.6157114222770763, 0.6098428782924017, 0.5431891448450611, -0.10894230792445356, 1.784299612239051, 0.678682894159494, -0.398063553637055, 0.43304685945250826, 0.712177085232851, -1.893397794540836, 0.2926069391483394, 2.709939056186151, -0.8496608247163772, 0.12646113627954034, -0.5997649116260788, -1.4117130705440308, -0.702625003571693, 0.6757784449777456, 1.0448164740450137, 1.155383021285753, 1.1111111902223914, 0.24668935610102122, -1.7836251190447499, 0.07330848506865163, 0.4273459843453372, 0.2516215632532902, -0.16793153037302008, -0.2000992425317462, -0.7850705490039983, 0.46437895752502273, -0.3288488640935351, 0.8962441284165542, -0.8336462068189796, 0.7827381799073114, -0.08882544028654762, -0.5216291721770336, 0.46088055365299213, 0.7418478067740597, -0.2606875309478886, -0.5708560445284009, 0.846139874600263, 0.43890639741737797, -0.9034997729015851, -1.4106766674539206, 1.0362046866218027, 0.5116404533941629, -0.13689059577645113, -0.7987242743683536, -0.5015358701748261, -0.09854051256516917, 0.8210305538185133, -0.5903394526588178, -0.2338492678262089, 0.6433892315972654, -0.9566945702143193, 0.7228124520441599, 0.5212823204776359, -0.4894967549680151, -0.5061085403869342, 0.8827859704308412, 2.181521214758214, -0.22250483103476248, -1.9421970407362354, 0.14512083275490079, 0.6014447674404136, 0.6316564277278254, 0.4863855977607956, 0.6449654222902111, 0.720886499996344, 0.46705598497826933, -0.012490643623810055, 0.5959626629484281, 0.0301433968987179, -1.4804705709374957, 0.08518040652594563, 1.1387552565936325, 0.8996644682564086, -0.6720457439718555, 0.5333882648621263, 0.673055497441797, 2.0372985174545204, 1.2247631980944775, -1.0900822923249098, 1.3031183441348042, -2.3977857657732726, 0.2604034295760553, 0.0036178012856307694, -0.5409273384744031, -0.7529943354725642], \"xaxis\": \"x16\", \"yaxis\": \"y16\"}],                        {\"bargap\": 0.02, \"legend\": {\"bgcolor\": \"#F5F6F9\", \"font\": {\"color\": \"#4D5663\"}}, \"paper_bgcolor\": \"#F5F6F9\", \"plot_bgcolor\": \"#F5F6F9\", \"showlegend\": false, \"template\": {\"data\": {\"bar\": [{\"error_x\": {\"color\": \"#2a3f5f\"}, \"error_y\": {\"color\": \"#2a3f5f\"}, \"marker\": {\"line\": {\"color\": \"#E5ECF6\", \"width\": 0.5}}, \"type\": \"bar\"}], \"barpolar\": [{\"marker\": {\"line\": {\"color\": \"#E5ECF6\", \"width\": 0.5}}, \"type\": \"barpolar\"}], \"carpet\": [{\"aaxis\": {\"endlinecolor\": \"#2a3f5f\", \"gridcolor\": \"white\", \"linecolor\": \"white\", \"minorgridcolor\": \"white\", \"startlinecolor\": \"#2a3f5f\"}, \"baxis\": {\"endlinecolor\": \"#2a3f5f\", \"gridcolor\": \"white\", \"linecolor\": \"white\", \"minorgridcolor\": \"white\", \"startlinecolor\": \"#2a3f5f\"}, \"type\": \"carpet\"}], \"choropleth\": [{\"colorbar\": {\"outlinewidth\": 0, \"ticks\": \"\"}, \"type\": \"choropleth\"}], \"contour\": [{\"colorbar\": {\"outlinewidth\": 0, \"ticks\": \"\"}, \"colorscale\": [[0.0, \"#0d0887\"], [0.1111111111111111, \"#46039f\"], [0.2222222222222222, \"#7201a8\"], [0.3333333333333333, \"#9c179e\"], [0.4444444444444444, \"#bd3786\"], [0.5555555555555556, \"#d8576b\"], [0.6666666666666666, \"#ed7953\"], [0.7777777777777778, \"#fb9f3a\"], [0.8888888888888888, \"#fdca26\"], [1.0, \"#f0f921\"]], \"type\": \"contour\"}], \"contourcarpet\": [{\"colorbar\": {\"outlinewidth\": 0, \"ticks\": \"\"}, \"type\": \"contourcarpet\"}], \"heatmap\": [{\"colorbar\": {\"outlinewidth\": 0, \"ticks\": \"\"}, \"colorscale\": [[0.0, \"#0d0887\"], [0.1111111111111111, \"#46039f\"], [0.2222222222222222, \"#7201a8\"], [0.3333333333333333, \"#9c179e\"], [0.4444444444444444, \"#bd3786\"], [0.5555555555555556, \"#d8576b\"], [0.6666666666666666, \"#ed7953\"], [0.7777777777777778, \"#fb9f3a\"], [0.8888888888888888, \"#fdca26\"], [1.0, \"#f0f921\"]], \"type\": \"heatmap\"}], \"heatmapgl\": [{\"colorbar\": {\"outlinewidth\": 0, \"ticks\": \"\"}, \"colorscale\": [[0.0, \"#0d0887\"], [0.1111111111111111, \"#46039f\"], [0.2222222222222222, \"#7201a8\"], [0.3333333333333333, \"#9c179e\"], [0.4444444444444444, \"#bd3786\"], [0.5555555555555556, \"#d8576b\"], [0.6666666666666666, \"#ed7953\"], [0.7777777777777778, \"#fb9f3a\"], [0.8888888888888888, \"#fdca26\"], [1.0, \"#f0f921\"]], \"type\": \"heatmapgl\"}], \"histogram\": [{\"marker\": {\"colorbar\": {\"outlinewidth\": 0, \"ticks\": \"\"}}, \"type\": \"histogram\"}], \"histogram2d\": [{\"colorbar\": {\"outlinewidth\": 0, \"ticks\": \"\"}, \"colorscale\": [[0.0, \"#0d0887\"], [0.1111111111111111, \"#46039f\"], [0.2222222222222222, \"#7201a8\"], [0.3333333333333333, \"#9c179e\"], [0.4444444444444444, \"#bd3786\"], [0.5555555555555556, \"#d8576b\"], [0.6666666666666666, \"#ed7953\"], [0.7777777777777778, \"#fb9f3a\"], [0.8888888888888888, \"#fdca26\"], [1.0, \"#f0f921\"]], \"type\": \"histogram2d\"}], \"histogram2dcontour\": [{\"colorbar\": {\"outlinewidth\": 0, \"ticks\": \"\"}, \"colorscale\": [[0.0, \"#0d0887\"], [0.1111111111111111, \"#46039f\"], [0.2222222222222222, \"#7201a8\"], [0.3333333333333333, \"#9c179e\"], [0.4444444444444444, \"#bd3786\"], [0.5555555555555556, \"#d8576b\"], [0.6666666666666666, \"#ed7953\"], [0.7777777777777778, \"#fb9f3a\"], [0.8888888888888888, \"#fdca26\"], [1.0, \"#f0f921\"]], \"type\": \"histogram2dcontour\"}], \"mesh3d\": [{\"colorbar\": {\"outlinewidth\": 0, \"ticks\": \"\"}, \"type\": \"mesh3d\"}], \"parcoords\": [{\"line\": {\"colorbar\": {\"outlinewidth\": 0, \"ticks\": \"\"}}, \"type\": \"parcoords\"}], \"pie\": [{\"automargin\": true, \"type\": \"pie\"}], \"scatter\": [{\"marker\": {\"colorbar\": {\"outlinewidth\": 0, \"ticks\": \"\"}}, \"type\": \"scatter\"}], \"scatter3d\": [{\"line\": {\"colorbar\": {\"outlinewidth\": 0, \"ticks\": \"\"}}, \"marker\": {\"colorbar\": {\"outlinewidth\": 0, \"ticks\": \"\"}}, \"type\": \"scatter3d\"}], \"scattercarpet\": [{\"marker\": {\"colorbar\": {\"outlinewidth\": 0, \"ticks\": \"\"}}, \"type\": \"scattercarpet\"}], \"scattergeo\": [{\"marker\": {\"colorbar\": {\"outlinewidth\": 0, \"ticks\": \"\"}}, \"type\": \"scattergeo\"}], \"scattergl\": [{\"marker\": {\"colorbar\": {\"outlinewidth\": 0, \"ticks\": \"\"}}, \"type\": \"scattergl\"}], \"scattermapbox\": [{\"marker\": {\"colorbar\": {\"outlinewidth\": 0, \"ticks\": \"\"}}, \"type\": \"scattermapbox\"}], \"scatterpolar\": [{\"marker\": {\"colorbar\": {\"outlinewidth\": 0, \"ticks\": \"\"}}, \"type\": \"scatterpolar\"}], \"scatterpolargl\": [{\"marker\": {\"colorbar\": {\"outlinewidth\": 0, \"ticks\": \"\"}}, \"type\": \"scatterpolargl\"}], \"scatterternary\": [{\"marker\": {\"colorbar\": {\"outlinewidth\": 0, \"ticks\": \"\"}}, \"type\": \"scatterternary\"}], \"surface\": [{\"colorbar\": {\"outlinewidth\": 0, \"ticks\": \"\"}, \"colorscale\": [[0.0, \"#0d0887\"], [0.1111111111111111, \"#46039f\"], [0.2222222222222222, \"#7201a8\"], [0.3333333333333333, \"#9c179e\"], [0.4444444444444444, \"#bd3786\"], [0.5555555555555556, \"#d8576b\"], [0.6666666666666666, \"#ed7953\"], [0.7777777777777778, \"#fb9f3a\"], [0.8888888888888888, \"#fdca26\"], [1.0, \"#f0f921\"]], \"type\": \"surface\"}], \"table\": [{\"cells\": {\"fill\": {\"color\": \"#EBF0F8\"}, \"line\": {\"color\": \"white\"}}, \"header\": {\"fill\": {\"color\": \"#C8D4E3\"}, \"line\": {\"color\": \"white\"}}, \"type\": \"table\"}]}, \"layout\": {\"annotationdefaults\": {\"arrowcolor\": \"#2a3f5f\", \"arrowhead\": 0, \"arrowwidth\": 1}, \"autotypenumbers\": \"strict\", \"coloraxis\": {\"colorbar\": {\"outlinewidth\": 0, \"ticks\": \"\"}}, \"colorscale\": {\"diverging\": [[0, \"#8e0152\"], [0.1, \"#c51b7d\"], [0.2, \"#de77ae\"], [0.3, \"#f1b6da\"], [0.4, \"#fde0ef\"], [0.5, \"#f7f7f7\"], [0.6, \"#e6f5d0\"], [0.7, \"#b8e186\"], [0.8, \"#7fbc41\"], [0.9, \"#4d9221\"], [1, \"#276419\"]], \"sequential\": [[0.0, \"#0d0887\"], [0.1111111111111111, \"#46039f\"], [0.2222222222222222, \"#7201a8\"], [0.3333333333333333, \"#9c179e\"], [0.4444444444444444, \"#bd3786\"], [0.5555555555555556, \"#d8576b\"], [0.6666666666666666, \"#ed7953\"], [0.7777777777777778, \"#fb9f3a\"], [0.8888888888888888, \"#fdca26\"], [1.0, \"#f0f921\"]], \"sequentialminus\": [[0.0, \"#0d0887\"], [0.1111111111111111, \"#46039f\"], [0.2222222222222222, \"#7201a8\"], [0.3333333333333333, \"#9c179e\"], [0.4444444444444444, \"#bd3786\"], [0.5555555555555556, \"#d8576b\"], [0.6666666666666666, \"#ed7953\"], [0.7777777777777778, \"#fb9f3a\"], [0.8888888888888888, \"#fdca26\"], [1.0, \"#f0f921\"]]}, \"colorway\": [\"#636efa\", \"#EF553B\", \"#00cc96\", \"#ab63fa\", \"#FFA15A\", \"#19d3f3\", \"#FF6692\", \"#B6E880\", \"#FF97FF\", \"#FECB52\"], \"font\": {\"color\": \"#2a3f5f\"}, \"geo\": {\"bgcolor\": \"white\", \"lakecolor\": \"white\", \"landcolor\": \"#E5ECF6\", \"showlakes\": true, \"showland\": true, \"subunitcolor\": \"white\"}, \"hoverlabel\": {\"align\": \"left\"}, \"hovermode\": \"closest\", \"mapbox\": {\"style\": \"light\"}, \"paper_bgcolor\": \"white\", \"plot_bgcolor\": \"#E5ECF6\", \"polar\": {\"angularaxis\": {\"gridcolor\": \"white\", \"linecolor\": \"white\", \"ticks\": \"\"}, \"bgcolor\": \"#E5ECF6\", \"radialaxis\": {\"gridcolor\": \"white\", \"linecolor\": \"white\", \"ticks\": \"\"}}, \"scene\": {\"xaxis\": {\"backgroundcolor\": \"#E5ECF6\", \"gridcolor\": \"white\", \"gridwidth\": 2, \"linecolor\": \"white\", \"showbackground\": true, \"ticks\": \"\", \"zerolinecolor\": \"white\"}, \"yaxis\": {\"backgroundcolor\": \"#E5ECF6\", \"gridcolor\": \"white\", \"gridwidth\": 2, \"linecolor\": \"white\", \"showbackground\": true, \"ticks\": \"\", \"zerolinecolor\": \"white\"}, \"zaxis\": {\"backgroundcolor\": \"#E5ECF6\", \"gridcolor\": \"white\", \"gridwidth\": 2, \"linecolor\": \"white\", \"showbackground\": true, \"ticks\": \"\", \"zerolinecolor\": \"white\"}}, \"shapedefaults\": {\"line\": {\"color\": \"#2a3f5f\"}}, \"ternary\": {\"aaxis\": {\"gridcolor\": \"white\", \"linecolor\": \"white\", \"ticks\": \"\"}, \"baxis\": {\"gridcolor\": \"white\", \"linecolor\": \"white\", \"ticks\": \"\"}, \"bgcolor\": \"#E5ECF6\", \"caxis\": {\"gridcolor\": \"white\", \"linecolor\": \"white\", \"ticks\": \"\"}}, \"title\": {\"x\": 0.05}, \"xaxis\": {\"automargin\": true, \"gridcolor\": \"white\", \"linecolor\": \"white\", \"ticks\": \"\", \"title\": {\"standoff\": 15}, \"zerolinecolor\": \"white\", \"zerolinewidth\": 2}, \"yaxis\": {\"automargin\": true, \"gridcolor\": \"white\", \"linecolor\": \"white\", \"ticks\": \"\", \"title\": {\"standoff\": 15}, \"zerolinecolor\": \"white\", \"zerolinewidth\": 2}}}, \"title\": {\"font\": {\"color\": \"#4D5663\"}}, \"xaxis\": {\"anchor\": \"y\", \"domain\": [0.0, 0.2125], \"gridcolor\": \"#E1E5ED\", \"showgrid\": false, \"tickfont\": {\"color\": \"#4D5663\"}, \"title\": {\"font\": {\"color\": \"#4D5663\"}, \"text\": \"\"}, \"zerolinecolor\": \"#E1E5ED\"}, \"xaxis10\": {\"anchor\": \"y10\", \"domain\": [0.2625, 0.475], \"gridcolor\": \"#E1E5ED\", \"showgrid\": false, \"tickfont\": {\"color\": \"#4D5663\"}, \"title\": {\"font\": {\"color\": \"#4D5663\"}, \"text\": \"\"}, \"zerolinecolor\": \"#E1E5ED\"}, \"xaxis11\": {\"anchor\": \"y11\", \"domain\": [0.525, 0.7375], \"gridcolor\": \"#E1E5ED\", \"showgrid\": false, \"tickfont\": {\"color\": \"#4D5663\"}, \"title\": {\"font\": {\"color\": \"#4D5663\"}, \"text\": \"\"}, \"zerolinecolor\": \"#E1E5ED\"}, \"xaxis12\": {\"anchor\": \"y12\", \"domain\": [0.7875, 1.0], \"gridcolor\": \"#E1E5ED\", \"showgrid\": false, \"tickfont\": {\"color\": \"#4D5663\"}, \"title\": {\"font\": {\"color\": \"#4D5663\"}, \"text\": \"\"}, \"zerolinecolor\": \"#E1E5ED\"}, \"xaxis13\": {\"anchor\": \"y13\", \"domain\": [0.0, 0.2125], \"gridcolor\": \"#E1E5ED\", \"showgrid\": false, \"tickfont\": {\"color\": \"#4D5663\"}, \"title\": {\"font\": {\"color\": \"#4D5663\"}, \"text\": \"\"}, \"zerolinecolor\": \"#E1E5ED\"}, \"xaxis14\": {\"anchor\": \"y14\", \"domain\": [0.2625, 0.475], \"gridcolor\": \"#E1E5ED\", \"showgrid\": false, \"tickfont\": {\"color\": \"#4D5663\"}, \"title\": {\"font\": {\"color\": \"#4D5663\"}, \"text\": \"\"}, \"zerolinecolor\": \"#E1E5ED\"}, \"xaxis15\": {\"anchor\": \"y15\", \"domain\": [0.525, 0.7375], \"gridcolor\": \"#E1E5ED\", \"showgrid\": false, \"tickfont\": {\"color\": \"#4D5663\"}, \"title\": {\"font\": {\"color\": \"#4D5663\"}, \"text\": \"\"}, \"zerolinecolor\": \"#E1E5ED\"}, \"xaxis16\": {\"anchor\": \"y16\", \"domain\": [0.7875, 1.0], \"gridcolor\": \"#E1E5ED\", \"showgrid\": false, \"tickfont\": {\"color\": \"#4D5663\"}, \"title\": {\"font\": {\"color\": \"#4D5663\"}, \"text\": \"\"}, \"zerolinecolor\": \"#E1E5ED\"}, \"xaxis2\": {\"anchor\": \"y2\", \"domain\": [0.2625, 0.475], \"gridcolor\": \"#E1E5ED\", \"showgrid\": false, \"tickfont\": {\"color\": \"#4D5663\"}, \"title\": {\"font\": {\"color\": \"#4D5663\"}, \"text\": \"\"}, \"zerolinecolor\": \"#E1E5ED\"}, \"xaxis3\": {\"anchor\": \"y3\", \"domain\": [0.525, 0.7375], \"gridcolor\": \"#E1E5ED\", \"showgrid\": false, \"tickfont\": {\"color\": \"#4D5663\"}, \"title\": {\"font\": {\"color\": \"#4D5663\"}, \"text\": \"\"}, \"zerolinecolor\": \"#E1E5ED\"}, \"xaxis4\": {\"anchor\": \"y4\", \"domain\": [0.7875, 1.0], \"gridcolor\": \"#E1E5ED\", \"showgrid\": false, \"tickfont\": {\"color\": \"#4D5663\"}, \"title\": {\"font\": {\"color\": \"#4D5663\"}, \"text\": \"\"}, \"zerolinecolor\": \"#E1E5ED\"}, \"xaxis5\": {\"anchor\": \"y5\", \"domain\": [0.0, 0.2125], \"gridcolor\": \"#E1E5ED\", \"showgrid\": false, \"tickfont\": {\"color\": \"#4D5663\"}, \"title\": {\"font\": {\"color\": \"#4D5663\"}, \"text\": \"\"}, \"zerolinecolor\": \"#E1E5ED\"}, \"xaxis6\": {\"anchor\": \"y6\", \"domain\": [0.2625, 0.475], \"gridcolor\": \"#E1E5ED\", \"showgrid\": false, \"tickfont\": {\"color\": \"#4D5663\"}, \"title\": {\"font\": {\"color\": \"#4D5663\"}, \"text\": \"\"}, \"zerolinecolor\": \"#E1E5ED\"}, \"xaxis7\": {\"anchor\": \"y7\", \"domain\": [0.525, 0.7375], \"gridcolor\": \"#E1E5ED\", \"showgrid\": false, \"tickfont\": {\"color\": \"#4D5663\"}, \"title\": {\"font\": {\"color\": \"#4D5663\"}, \"text\": \"\"}, \"zerolinecolor\": \"#E1E5ED\"}, \"xaxis8\": {\"anchor\": \"y8\", \"domain\": [0.7875, 1.0], \"gridcolor\": \"#E1E5ED\", \"showgrid\": false, \"tickfont\": {\"color\": \"#4D5663\"}, \"title\": {\"font\": {\"color\": \"#4D5663\"}, \"text\": \"\"}, \"zerolinecolor\": \"#E1E5ED\"}, \"xaxis9\": {\"anchor\": \"y9\", \"domain\": [0.0, 0.2125], \"gridcolor\": \"#E1E5ED\", \"showgrid\": false, \"tickfont\": {\"color\": \"#4D5663\"}, \"title\": {\"font\": {\"color\": \"#4D5663\"}, \"text\": \"\"}, \"zerolinecolor\": \"#E1E5ED\"}, \"yaxis\": {\"anchor\": \"x\", \"domain\": [0.8025, 1.0], \"gridcolor\": \"#E1E5ED\", \"showgrid\": false, \"tickfont\": {\"color\": \"#4D5663\"}, \"title\": {\"font\": {\"color\": \"#4D5663\"}, \"text\": \"\"}, \"zerolinecolor\": \"#E1E5ED\"}, \"yaxis10\": {\"anchor\": \"x10\", \"domain\": [0.2675, 0.465], \"gridcolor\": \"#E1E5ED\", \"showgrid\": false, \"tickfont\": {\"color\": \"#4D5663\"}, \"title\": {\"font\": {\"color\": \"#4D5663\"}, \"text\": \"\"}, \"zerolinecolor\": \"#E1E5ED\"}, \"yaxis11\": {\"anchor\": \"x11\", \"domain\": [0.2675, 0.465], \"gridcolor\": \"#E1E5ED\", \"showgrid\": false, \"tickfont\": {\"color\": \"#4D5663\"}, \"title\": {\"font\": {\"color\": \"#4D5663\"}, \"text\": \"\"}, \"zerolinecolor\": \"#E1E5ED\"}, \"yaxis12\": {\"anchor\": \"x12\", \"domain\": [0.2675, 0.465], \"gridcolor\": \"#E1E5ED\", \"showgrid\": false, \"tickfont\": {\"color\": \"#4D5663\"}, \"title\": {\"font\": {\"color\": \"#4D5663\"}, \"text\": \"\"}, \"zerolinecolor\": \"#E1E5ED\"}, \"yaxis13\": {\"anchor\": \"x13\", \"domain\": [0.0, 0.1975], \"gridcolor\": \"#E1E5ED\", \"showgrid\": false, \"tickfont\": {\"color\": \"#4D5663\"}, \"title\": {\"font\": {\"color\": \"#4D5663\"}, \"text\": \"\"}, \"zerolinecolor\": \"#E1E5ED\"}, \"yaxis14\": {\"anchor\": \"x14\", \"domain\": [0.0, 0.1975], \"gridcolor\": \"#E1E5ED\", \"showgrid\": false, \"tickfont\": {\"color\": \"#4D5663\"}, \"title\": {\"font\": {\"color\": \"#4D5663\"}, \"text\": \"\"}, \"zerolinecolor\": \"#E1E5ED\"}, \"yaxis15\": {\"anchor\": \"x15\", \"domain\": [0.0, 0.1975], \"gridcolor\": \"#E1E5ED\", \"showgrid\": false, \"tickfont\": {\"color\": \"#4D5663\"}, \"title\": {\"font\": {\"color\": \"#4D5663\"}, \"text\": \"\"}, \"zerolinecolor\": \"#E1E5ED\"}, \"yaxis16\": {\"anchor\": \"x16\", \"domain\": [0.0, 0.1975], \"gridcolor\": \"#E1E5ED\", \"showgrid\": false, \"tickfont\": {\"color\": \"#4D5663\"}, \"title\": {\"font\": {\"color\": \"#4D5663\"}, \"text\": \"\"}, \"zerolinecolor\": \"#E1E5ED\"}, \"yaxis2\": {\"anchor\": \"x2\", \"domain\": [0.8025, 1.0], \"gridcolor\": \"#E1E5ED\", \"showgrid\": false, \"tickfont\": {\"color\": \"#4D5663\"}, \"title\": {\"font\": {\"color\": \"#4D5663\"}, \"text\": \"\"}, \"zerolinecolor\": \"#E1E5ED\"}, \"yaxis3\": {\"anchor\": \"x3\", \"domain\": [0.8025, 1.0], \"gridcolor\": \"#E1E5ED\", \"showgrid\": false, \"tickfont\": {\"color\": \"#4D5663\"}, \"title\": {\"font\": {\"color\": \"#4D5663\"}, \"text\": \"\"}, \"zerolinecolor\": \"#E1E5ED\"}, \"yaxis4\": {\"anchor\": \"x4\", \"domain\": [0.8025, 1.0], \"gridcolor\": \"#E1E5ED\", \"showgrid\": false, \"tickfont\": {\"color\": \"#4D5663\"}, \"title\": {\"font\": {\"color\": \"#4D5663\"}, \"text\": \"\"}, \"zerolinecolor\": \"#E1E5ED\"}, \"yaxis5\": {\"anchor\": \"x5\", \"domain\": [0.535, 0.7325], \"gridcolor\": \"#E1E5ED\", \"showgrid\": false, \"tickfont\": {\"color\": \"#4D5663\"}, \"title\": {\"font\": {\"color\": \"#4D5663\"}, \"text\": \"\"}, \"zerolinecolor\": \"#E1E5ED\"}, \"yaxis6\": {\"anchor\": \"x6\", \"domain\": [0.535, 0.7325], \"gridcolor\": \"#E1E5ED\", \"showgrid\": false, \"tickfont\": {\"color\": \"#4D5663\"}, \"title\": {\"font\": {\"color\": \"#4D5663\"}, \"text\": \"\"}, \"zerolinecolor\": \"#E1E5ED\"}, \"yaxis7\": {\"anchor\": \"x7\", \"domain\": [0.535, 0.7325], \"gridcolor\": \"#E1E5ED\", \"showgrid\": false, \"tickfont\": {\"color\": \"#4D5663\"}, \"title\": {\"font\": {\"color\": \"#4D5663\"}, \"text\": \"\"}, \"zerolinecolor\": \"#E1E5ED\"}, \"yaxis8\": {\"anchor\": \"x8\", \"domain\": [0.535, 0.7325], \"gridcolor\": \"#E1E5ED\", \"showgrid\": false, \"tickfont\": {\"color\": \"#4D5663\"}, \"title\": {\"font\": {\"color\": \"#4D5663\"}, \"text\": \"\"}, \"zerolinecolor\": \"#E1E5ED\"}, \"yaxis9\": {\"anchor\": \"x9\", \"domain\": [0.2675, 0.465], \"gridcolor\": \"#E1E5ED\", \"showgrid\": false, \"tickfont\": {\"color\": \"#4D5663\"}, \"title\": {\"font\": {\"color\": \"#4D5663\"}, \"text\": \"\"}, \"zerolinecolor\": \"#E1E5ED\"}},                        {\"showLink\": true, \"linkText\": \"Export to plot.ly\", \"plotlyServerURL\": \"https://plot.ly\", \"responsive\": true}                    ).then(function(){\n",
       "                            \n",
       "var gd = document.getElementById('031c661c-db39-4ef1-a72c-895636c3705b');\n",
       "var x = new MutationObserver(function (mutations, observer) {{\n",
       "        var display = window.getComputedStyle(gd).display;\n",
       "        if (!display || display === 'none') {{\n",
       "            console.log([gd, 'removed!']);\n",
       "            Plotly.purge(gd);\n",
       "            observer.disconnect();\n",
       "        }}\n",
       "}});\n",
       "\n",
       "// Listen for the removal of the full notebook cells\n",
       "var notebookContainer = gd.closest('#notebook-container');\n",
       "if (notebookContainer) {{\n",
       "    x.observe(notebookContainer, {childList: true});\n",
       "}}\n",
       "\n",
       "// Listen for the clearing of the current output cell\n",
       "var outputEl = gd.closest('.output');\n",
       "if (outputEl) {{\n",
       "    x.observe(outputEl, {childList: true});\n",
       "}}\n",
       "\n",
       "                        })                };                });            </script>        </div>"
      ]
     },
     "metadata": {},
     "output_type": "display_data"
    }
   ],
   "source": [
    "df.scatter_matrix()"
   ]
  },
  {
   "cell_type": "markdown",
   "metadata": {
    "collapsed": true
   },
   "source": [
    "# Great Job!"
   ]
  }
 ],
 "metadata": {
  "kernelspec": {
   "display_name": "Python 3",
   "language": "python",
   "name": "python3"
  },
  "language_info": {
   "codemirror_mode": {
    "name": "ipython",
    "version": 3
   },
   "file_extension": ".py",
   "mimetype": "text/x-python",
   "name": "python",
   "nbconvert_exporter": "python",
   "pygments_lexer": "ipython3",
   "version": "3.8.3"
  }
 },
 "nbformat": 4,
 "nbformat_minor": 1
}
